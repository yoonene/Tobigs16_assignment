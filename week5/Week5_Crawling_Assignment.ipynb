{
 "cells": [
  {
   "cell_type": "markdown",
   "metadata": {},
   "source": [
    "Tobigs 16기 김윤혜"
   ]
  },
  {
   "cell_type": "markdown",
   "metadata": {
    "id": "7e9bea8d"
   },
   "source": [
    "## Tobigs 5주차 Crawling 과제\n",
    "- Selenium을 활용하여 학술연구정보서비스 RISS에서 주어진 키워드에 대한 **학위 논문**을 검색 후 **첫번째 페이지**에 존재하는 논문의 **URL**을 먼저 수집합니다. \n",
    "- 수집한 URL을 기반으로 접근하여 논문 정보 **1) 저자 2) 발행년도 3) 제목 4) 부가정보의 첫번째 항목**을 수집해주세요! \n",
    "- 주석을 읽고 주어진 코드 중간에 있는 ???와 공란을 채워주시면 됩니다!"
   ]
  },
  {
   "cell_type": "code",
   "execution_count": 1,
   "metadata": {
    "id": "c5821afb"
   },
   "outputs": [],
   "source": [
    "from selenium import webdriver\n",
    "from selenium.webdriver.common.keys import Keys\n",
    "from bs4 import BeautifulSoup\n",
    "from time import sleep\n",
    "import pandas as pd"
   ]
  },
  {
   "cell_type": "code",
   "execution_count": 2,
   "metadata": {
    "id": "723899e7"
   },
   "outputs": [],
   "source": [
    "keyword='코로나'  #검색용 키워드\n",
    "paper=[]  #결과 저장용 리스트"
   ]
  },
  {
   "cell_type": "markdown",
   "metadata": {
    "id": "ab8f2cca"
   },
   "source": [
    "#### 1. 드라이버 오픈 및 Riss로 이동"
   ]
  },
  {
   "cell_type": "code",
   "execution_count": 3,
   "metadata": {
    "id": "b95bd6c7"
   },
   "outputs": [],
   "source": [
    "driver = webdriver.Chrome('./chromedriver')  #드라이버 오픈\n",
    "driver.get('http://www.riss.kr/index.do')   #riss로 이동"
   ]
  },
  {
   "cell_type": "markdown",
   "metadata": {
    "id": "3e473c2b"
   },
   "source": [
    "#### 2. 검색창에 접근하여 검색용 키워드 입력 및 검색"
   ]
  },
  {
   "cell_type": "code",
   "execution_count": 4,
   "metadata": {},
   "outputs": [],
   "source": [
    "driver.find_element_by_id('query').send_keys(keyword)  # 검색창 접근 및 키워드 입력\n",
    "driver.find_element_by_id('query').submit()   # 검색창에 검색용 키워드 검색"
   ]
  },
  {
   "cell_type": "markdown",
   "metadata": {
    "id": "79cbd6cf"
   },
   "source": [
    "#### 3. 검색 화면 창에서 학위 논문 창으로 이동\n",
    "![image](https://user-images.githubusercontent.com/69336270/129825390-d270bcca-003c-46f4-8bfd-14e4f1ed3f87.png)\n",
    "  \n",
    "    방법 1. 상단의 학위 논문 탭 클릭  \n",
    "    방법 2. 검색 화면 창에서 학위논문 결과 옆 더보기 버튼 클릭"
   ]
  },
  {
   "cell_type": "code",
   "execution_count": 5,
   "metadata": {
    "id": "e809e87e"
   },
   "outputs": [],
   "source": [
    "driver.find_element_by_xpath('//*[@id=\"tabMenu\"]/div/ul/li[3]/a').send_keys(Keys.ENTER) "
   ]
  },
  {
   "cell_type": "markdown",
   "metadata": {
    "id": "0fc0cfdd"
   },
   "source": [
    "#### 4. 주어진 키워드로 검색했을 때 학위 논문의 전체 수 구하기\n",
    "\n",
    "![image](https://user-images.githubusercontent.com/69336270/129825100-89dd9681-4dd7-451a-804f-e0fbe437aeba.png)"
   ]
  },
  {
   "cell_type": "code",
   "execution_count": 6,
   "metadata": {},
   "outputs": [
    {
     "name": "stdout",
     "output_type": "stream",
     "text": [
      "2,367\n",
      "2367\n"
     ]
    }
   ],
   "source": [
    "import re\n",
    "total=driver.find_element_by_xpath('//*[@id=\"divContent\"]/div[2]/div/div[1]/dl/dd/span/span').text  #전체 논문수\n",
    "print(total)\n",
    "total = int(re.sub(',', '', total))\n",
    "print(total)"
   ]
  },
  {
   "cell_type": "markdown",
   "metadata": {
    "id": "1ec1f664"
   },
   "source": [
    "#### 5. 첫페이지에 존재하는 논문의 상세정보 url 수집"
   ]
  },
  {
   "cell_type": "code",
   "execution_count": 7,
   "metadata": {},
   "outputs": [
    {
     "name": "stdout",
     "output_type": "stream",
     "text": [
      "http://www.riss.kr/search/detail/DetailView.do?p_mat_type=be54d9b8bc7cdb09&control_no=07a507d34dcc4aabffe0bdc3ef48d419\n",
      "http://www.riss.kr/search/detail/DetailView.do?p_mat_type=be54d9b8bc7cdb09&control_no=eb289c1983bcc4d8ffe0bdc3ef48d419\n",
      "http://www.riss.kr/search/detail/DetailView.do?p_mat_type=be54d9b8bc7cdb09&control_no=01a2a13eadae0a77ffe0bdc3ef48d419\n",
      "http://www.riss.kr/search/detail/DetailView.do?p_mat_type=be54d9b8bc7cdb09&control_no=6d78e895b5d9eaf8ffe0bdc3ef48d419\n",
      "http://www.riss.kr/search/detail/DetailView.do?p_mat_type=be54d9b8bc7cdb09&control_no=e8feb59935e077b7ffe0bdc3ef48d419\n",
      "http://www.riss.kr/search/detail/DetailView.do?p_mat_type=be54d9b8bc7cdb09&control_no=2437b7913cc2d912ffe0bdc3ef48d419\n",
      "http://www.riss.kr/search/detail/DetailView.do?p_mat_type=be54d9b8bc7cdb09&control_no=9d66e341766dd66cffe0bdc3ef48d419\n",
      "http://www.riss.kr/search/detail/DetailView.do?p_mat_type=be54d9b8bc7cdb09&control_no=e155408b36263c5cffe0bdc3ef48d419\n",
      "http://www.riss.kr/search/detail/DetailView.do?p_mat_type=be54d9b8bc7cdb09&control_no=5adb94f9b8794cedffe0bdc3ef48d419\n",
      "http://www.riss.kr/search/detail/DetailView.do?p_mat_type=be54d9b8bc7cdb09&control_no=6ea66a8b57ca813effe0bdc3ef48d419\n"
     ]
    }
   ],
   "source": [
    "urls = []\n",
    "\n",
    "html = driver.page_source # 페이지 소스 저장\n",
    "\"\"\" html 소스코드를 BeautifulSoup을 이용해 파싱 \"\"\"\n",
    "\n",
    "if total < 10:\n",
    "    # 주어진 키워드로 검색 시 전체 논문 수가 10개 미만인 경우 - 논문 첫 페이지의 논문 수 = 전체 논문 수\n",
    "    for i in range(1, total+1):  \n",
    "        page = '/html/body/div[1]/div[2]/div[4]/div[2]/div/div[3]/div[2]/ul/li['+str(i)+']/div[2]/p[1]/a'\n",
    "        url=driver.find_element_by_xpath(page).get_attribute('href')\n",
    "        urls.append(url)\n",
    "        print(url)\n",
    "else:\n",
    "    # 주어진 키워드로 검색 시 전체 논문 수가 10개 이상인 경우 - 논문 첫 페이지의 논문 수 = 10개\n",
    "    for i in range(1, 11):\n",
    "        page = '/html/body/div[1]/div[2]/div[4]/div[2]/div/div[3]/div[2]/ul/li['+str(i)+']/div[2]/p[1]/a'\n",
    "        url=driver.find_element_by_xpath(page).get_attribute('href')\n",
    "        urls.append(url)\n",
    "        print(url)"
   ]
  },
  {
   "cell_type": "markdown",
   "metadata": {
    "id": "0b1846be"
   },
   "source": [
    "#### 6-1. 저자 정보 구하기 예제\n",
    "수집한 url 중 첫번째 링크의 저자 정보를 구해보자!"
   ]
  },
  {
   "cell_type": "code",
   "execution_count": 15,
   "metadata": {
    "id": "8515bde5"
   },
   "outputs": [],
   "source": [
    "data = []  # 수집한 정보 저장용 리스트\n",
    "driver.get(urls[0])   # 첫번째 링크로 이동"
   ]
  },
  {
   "cell_type": "code",
   "execution_count": 16,
   "metadata": {},
   "outputs": [
    {
     "name": "stdout",
     "output_type": "stream",
     "text": [
      "이상순\n"
     ]
    }
   ],
   "source": [
    "author=driver.find_element_by_xpath('//*[@id=\"thesisInfoDiv\"]/div[2]/div[1]/ul/li[1]/div/p/a').text  #전체 논문수\n",
    "data.append(author)\n",
    "print(author)"
   ]
  },
  {
   "cell_type": "markdown",
   "metadata": {
    "id": "ba05577d"
   },
   "source": [
    "#### 6-2. 연도 정보 구하기 예제\n",
    "수집한 url 중 첫번째 링크의 연도 정보를 구해보자!"
   ]
  },
  {
   "cell_type": "code",
   "execution_count": 17,
   "metadata": {},
   "outputs": [
    {
     "name": "stdout",
     "output_type": "stream",
     "text": [
      "2021\n"
     ]
    }
   ],
   "source": [
    "year=driver.find_element_by_xpath('//*[@id=\"thesisInfoDiv\"]/div[2]/div[1]/ul/li[4]/div/p').text\n",
    "data.append(year)\n",
    "print(year)"
   ]
  },
  {
   "cell_type": "markdown",
   "metadata": {
    "id": "9a9a5c48"
   },
   "source": [
    "#### 6-3. 제목 정보 구하기 예제\n",
    "수집한 url 중 첫번째 링크의 제목 정보를 구해보자!"
   ]
  },
  {
   "cell_type": "code",
   "execution_count": 18,
   "metadata": {},
   "outputs": [
    {
     "name": "stdout",
     "output_type": "stream",
     "text": [
      "코로나바이러스감염증-19와 보육교사의 심리적 스트레스에 관한 연구 = A Study on COVID-19 and Psychological Stress of Child Care Teachers\n"
     ]
    }
   ],
   "source": [
    "title=driver.find_element_by_xpath('//*[@id=\"thesisInfoDiv\"]/div[1]/h3').text\n",
    "data.append(title)\n",
    "print(title)"
   ]
  },
  {
   "cell_type": "markdown",
   "metadata": {
    "id": "61ae54a3"
   },
   "source": [
    "#### 6-4. 부가정보 정보 구하기 예제\n",
    "수집한 url 중 첫번째 링크의 부가정보 정보를 구해보자!\n",
    "\n",
    "![image](https://user-images.githubusercontent.com/69336270/129768125-b13b9554-7dba-44e0-aa27-07b901a7f50c.png)\n",
    "  \n",
    "부가정보에서 데이터를 수집하기 위해서는 우선 더보기 버튼을 클릭해주어야 한다. 이때, 더보기 버튼의 **클래스명**을 통해 클릭해주자!"
   ]
  },
  {
   "cell_type": "code",
   "execution_count": 19,
   "metadata": {
    "id": "170882a8"
   },
   "outputs": [],
   "source": [
    "# 부가정보 가져오기 - 더보기 버튼 클릭\n",
    "\n",
    "moreViews = driver.find_elements_by_class_name(\"moreView\")\n",
    "\n",
    "for moreView in moreViews:\n",
    "    moreView.send_keys(Keys.ENTER)\n",
    "    sleep(0.1)"
   ]
  },
  {
   "cell_type": "code",
   "execution_count": 20,
   "metadata": {},
   "outputs": [
    {
     "name": "stdout",
     "output_type": "stream",
     "text": [
      "코로나바이러스감염증-19가 확산되면서 우리나라를 비롯한 전 세계는 펜데믹(Pandemic)의 상황을 맞이하게 되었다. 감염병 위기는 어린이집의 환경에도 영향을 미치고 있으며, 특히 영유아의 성장 발달과정에서 중요한 역할을 담당하는 보육교사의 심리적인 스트레스에 중요한 원인이 되고 있다.\n",
      "본 연구는 코로나바이러스감염증-19 팬데믹 전과 후 보육교사의 심리적 스트레스를 살펴보고, 코로나바이러스감염증-19 팬데믹 후 보육교사의 심리적 스트레스에 감염위험지각, 고립감, 업무부담, 고용불안의 영향력을 살펴보고자 하였다. 코로나바이러스감염증-19 팬데믹을 경험하는 보육교사의 심리적 스트레스를 알아보기 위해 경험표집법(ESM)으로 두 차례에 걸쳐 조사를 진행 하였으며, 코로나바이러스감염증-19 팬데믹 선언 전 1차 조사를 기반으로 코로나바이러스감염증-19 팬데믹 선언 후 보육교사의 심리적 스트레스가 어떻게 변화하였는지 알아보고자 단기종단적인 연구방법을 적용하였다. 연구대상은 인천, 경기 소재의 어린이집의 보육교사를 대상으로 영아반, 유아반 보육교사를 편의표집 하였고, 온라인 설문조사와 경험표집법(ESM)으로 자료를 수집하였다. 수집된 자료는 SPSS 21.0 프로그램으로 분석하였으며, 주요 결과는 다음과 같다.\n",
      "첫째, 코로나바이러스감염증-19 팬데믹 전 보다 후 보육교사의 심리적 스트레스는 높게 나타났고, 오전보다 오후에 일관되게 높게 나타났다. 둘째, 코로나바이러스감염증-19 팬데믹 전과 후 각각 보육교사의 심리적 스트레스는 PWI-SF 점수 분류에 따라 잠재적 스트레스군, 건강군, 고위험군 으로 분류하였고, 비교적 잠재적 스트레스군의 분포가 높은 것을 확인할 수 있었다.\n",
      "셋째, 코로나바이러스감염증-19 팬데믹 후 측정한 감염위험지각, 고립감, 업무부담, 고용불안 중에서 감염위험지각의 심각성이 가장 높게 나타났고, 고립감이 가장 낮게 나타났다.\n",
      "넷째, 코로나바이러스감염증-19 팬데믹 후 심리적 스트레스와 감수성, 심각성, 감염위험지각 전체, 업무부담, 직무특성상실, 무력감, 고용불안 전체가 유의한 정적 상관을 나타내었다.\n",
      "다섯째, 코로나바이러스감염증-19 팬데믹 전 심리적 스트레스 통제하에 감염위험지각, 고립감, 업무부담, 고용불안이 코로나바이러스감염증-19 팬데믹 후 보육교사의 심리적 스트레스에 미치는 영향력을 살펴 본결과 고용불안의 하위요인인 무력감이 유의한 영향을 미치는 것을 알 수 있었다.\n",
      "이상의 분석결과와 조사내용의 비교를 통한 논의를 실시한 결과는 다음과 같다.\n",
      "첫째, 본 연구의 결과에서 코로나바이러스감염증-19 팬데믹전 보다 후 보육교사의 심리적 스트레스가 높아진 것으로 나타났다. 이러한 결과는 감염병의 확산이나 감염에 대한 걱정과 염려가 지속되면서 심리적 불안 또는 우울감이 증가하고 개인적 특성과 관련 있는 감염위험지각, 고립감과 직업적 특성과 관련 있는 업무부담, 고용불안이 스트레스 원으로 작용할 수 있음을 의미한다.\n",
      "둘째, 본 연구의 결과에서 볼 수 있듯이 코로나바이러스감염증-19 팬데믹 후 보육교사의 심리적 스트레스에 대한 주된 원인은 고용불안의 하위요인 중 하나인 무력감인 것으로 나타났다. 이러한 결과는 코로나바이러스감염증-19 팬데믹으로 근로환경의 불확실성 확산이 개인의 직업 선택 및 기회와 관련된 불안과 두려움을 증가시키며, 자신의 직업의 미래와 노동시장에 대한 불확실성에 맞닥뜨리면서 불안 수준이 증가할 수 있음을 의미한다.\n",
      "본 연구는 코로나바이러스감염증-19 팬데믹 선언 전 보육교사의 심리적 스트레스 측정을 하였고, 시간의 흐름에 따른 차이를 단기종단연구를 하였고, 보육교사의 심리적 스트레스를 있는 그대로 파악하기 위해 그 순간의 감정을 측정하는 경험표집법(ESM)을 사용하는데 의의가 있다.\n"
     ]
    }
   ],
   "source": [
    "# 부가정보 가져오기 - 첫번째 항목만 가져오기\n",
    "\n",
    "try:\n",
    "    \"\"\" 부가정보의 첫번째 항목을 xpath와 .text 메소드를 통해 구해주세요! \"\"\"\n",
    "    first_info=driver.find_element_by_xpath('//*[@id=\"additionalInfoDiv\"]/div/div[1]/div[3]/p').text\n",
    "    data.append(first_info)\n",
    "    print(first_info)\n",
    "except:\n",
    "    data.append(\"부가정보가 없습니다.\")"
   ]
  },
  {
   "cell_type": "markdown",
   "metadata": {
    "id": "79328be3"
   },
   "source": [
    "#### 6-5. 수집한 정보를 바탕으로 DataFrame 만들기"
   ]
  },
  {
   "cell_type": "code",
   "execution_count": 21,
   "metadata": {},
   "outputs": [
    {
     "data": {
      "text/html": [
       "<div>\n",
       "<style scoped>\n",
       "    .dataframe tbody tr th:only-of-type {\n",
       "        vertical-align: middle;\n",
       "    }\n",
       "\n",
       "    .dataframe tbody tr th {\n",
       "        vertical-align: top;\n",
       "    }\n",
       "\n",
       "    .dataframe thead th {\n",
       "        text-align: right;\n",
       "    }\n",
       "</style>\n",
       "<table border=\"1\" class=\"dataframe\">\n",
       "  <thead>\n",
       "    <tr style=\"text-align: right;\">\n",
       "      <th></th>\n",
       "      <th>저자</th>\n",
       "      <th>발행년도</th>\n",
       "      <th>제목</th>\n",
       "      <th>부가정보</th>\n",
       "      <th>Url</th>\n",
       "    </tr>\n",
       "  </thead>\n",
       "  <tbody>\n",
       "    <tr>\n",
       "      <th>0</th>\n",
       "      <td>이상순</td>\n",
       "      <td>2021</td>\n",
       "      <td>코로나바이러스감염증-19와 보육교사의 심리적 스트레스에 관한 연구 = A Study...</td>\n",
       "      <td>코로나바이러스감염증-19가 확산되면서 우리나라를 비롯한 전 세계는 펜데믹(Pande...</td>\n",
       "      <td>http://www.riss.kr/search/detail/DetailView.do...</td>\n",
       "    </tr>\n",
       "  </tbody>\n",
       "</table>\n",
       "</div>"
      ],
      "text/plain": [
       "    저자  발행년도                                                 제목  \\\n",
       "0  이상순  2021  코로나바이러스감염증-19와 보육교사의 심리적 스트레스에 관한 연구 = A Study...   \n",
       "\n",
       "                                                부가정보  \\\n",
       "0  코로나바이러스감염증-19가 확산되면서 우리나라를 비롯한 전 세계는 펜데믹(Pande...   \n",
       "\n",
       "                                                 Url  \n",
       "0  http://www.riss.kr/search/detail/DetailView.do...  "
      ]
     },
     "execution_count": 21,
     "metadata": {},
     "output_type": "execute_result"
    }
   ],
   "source": [
    "pd.DataFrame(data = {'저자':data[0], '발행년도':data[1], '제목':data[2], '부가정보':data[3], 'Url':urls[0]}, index = [0])"
   ]
  },
  {
   "cell_type": "markdown",
   "metadata": {
    "id": "d92a3a3f"
   },
   "source": [
    "#### 7. 논문 정보 수집 과정 함수화 하기\n",
    "앞선 예제를 기반으로 함수 속 ???와 공란을 채워주세요"
   ]
  },
  {
   "cell_type": "code",
   "execution_count": 23,
   "metadata": {
    "id": "988d5388"
   },
   "outputs": [],
   "source": [
    "def store(url):\n",
    "    data=[]  #빈 리스트\n",
    "    author=\"\"  #저자\n",
    "    year=\"\"  #연도\n",
    "    title=\"\"  #제목\n",
    "    first_info=\"\"  #부가정보\n",
    "        \n",
    "    #저자\n",
    "    \"\"\" 저자 정보의 첫번째 항목을 xpath와 .text 메소드를 통해 구해주세요! \"\"\"\n",
    "    author=driver.find_element_by_xpath('//*[@id=\"thesisInfoDiv\"]/div[2]/div[1]/ul/li[1]/div/p/a').text  #전체 논문수\n",
    "\n",
    "    #연도\n",
    "    \"\"\" 연도 정보의 첫번째 항목을 xpath와 .text 메소드를 통해 구해주세요! \"\"\"\n",
    "    year=driver.find_element_by_xpath('//*[@id=\"thesisInfoDiv\"]/div[2]/div[1]/ul/li[4]/div/p').text\n",
    "\n",
    "    #제목\n",
    "    \"\"\" 제목 정보의 첫번째 항목을 xpath와 .text 메소드를 통해 구해주세요! \"\"\"\n",
    "    title=driver.find_element_by_xpath('//*[@id=\"thesisInfoDiv\"]/div[1]/h3').text\n",
    "\n",
    "    #부가정보    \n",
    "    moreViews = driver.find_elements_by_class_name(\"moreView\")\n",
    "\n",
    "    for moreView in moreViews:\n",
    "        moreView.send_keys(Keys.ENTER)\n",
    "        sleep(0.1)\n",
    "\n",
    "    try:\n",
    "        \"\"\" 부가정보의 첫번째 항목을 xpath와 .text 메소드를 통해 구해주세요! \"\"\"\n",
    "        first_info=driver.find_element_by_xpath('//*[@id=\"additionalInfoDiv\"]/div/div[1]/div[3]/p').text\n",
    "\n",
    "    except:\n",
    "        first_info = \"부가정보가 없습니다.\"\n",
    "        \n",
    "    data.append(author)\n",
    "    data.append(year)\n",
    "    data.append(title)\n",
    "    data.append(first_info)\n",
    "    data.append(url)\n",
    "    paper.append(data)"
   ]
  },
  {
   "cell_type": "markdown",
   "metadata": {
    "id": "43c4079f"
   },
   "source": [
    "#### 8. 수집 및 저장\n",
    "해당 코드는 채점을 위한 코드로 수정하시면 안됩니다!"
   ]
  },
  {
   "cell_type": "code",
   "execution_count": 24,
   "metadata": {},
   "outputs": [
    {
     "data": {
      "text/html": [
       "<div>\n",
       "<style scoped>\n",
       "    .dataframe tbody tr th:only-of-type {\n",
       "        vertical-align: middle;\n",
       "    }\n",
       "\n",
       "    .dataframe tbody tr th {\n",
       "        vertical-align: top;\n",
       "    }\n",
       "\n",
       "    .dataframe thead th {\n",
       "        text-align: right;\n",
       "    }\n",
       "</style>\n",
       "<table border=\"1\" class=\"dataframe\">\n",
       "  <thead>\n",
       "    <tr style=\"text-align: right;\">\n",
       "      <th></th>\n",
       "      <th>저자</th>\n",
       "      <th>발행년도</th>\n",
       "      <th>제목</th>\n",
       "      <th>부가정보</th>\n",
       "      <th>Url</th>\n",
       "    </tr>\n",
       "  </thead>\n",
       "  <tbody>\n",
       "    <tr>\n",
       "      <th>0</th>\n",
       "      <td>이상순</td>\n",
       "      <td>2021</td>\n",
       "      <td>코로나바이러스감염증-19와 보육교사의 심리적 스트레스에 관한 연구 = A Study...</td>\n",
       "      <td>코로나바이러스감염증-19가 확산되면서 우리나라를 비롯한 전 세계는 펜데믹(Pande...</td>\n",
       "      <td>http://www.riss.kr/search/detail/DetailView.do...</td>\n",
       "    </tr>\n",
       "    <tr>\n",
       "      <th>1</th>\n",
       "      <td>이승윤</td>\n",
       "      <td>2021</td>\n",
       "      <td>코로나-19로 인한 호텔조리종사원의 근무스케줄 변화가 조직몰입에 미치는 영향 : 스...</td>\n",
       "      <td>현재 우리나라뿐만 아니라 전 세계가 코로나-19로 인한 감영병 사태로 인해 경제부문...</td>\n",
       "      <td>http://www.riss.kr/search/detail/DetailView.do...</td>\n",
       "    </tr>\n",
       "    <tr>\n",
       "      <th>2</th>\n",
       "      <td>김경주</td>\n",
       "      <td>2020</td>\n",
       "      <td>국가 재난의 위기 속에서 한국교회의 대응 방안에 관한 연구 : 소망교회의 코로나19...</td>\n",
       "      <td>부가정보가 없습니다.</td>\n",
       "      <td>http://www.riss.kr/search/detail/DetailView.do...</td>\n",
       "    </tr>\n",
       "    <tr>\n",
       "      <th>3</th>\n",
       "      <td>손희나</td>\n",
       "      <td>2020</td>\n",
       "      <td>코로나19(COVID-19)로 인한 어린이집원장의 어려움과 코로나19에 대한 대응방...</td>\n",
       "      <td>The purpose of this study was to find out the ...</td>\n",
       "      <td>http://www.riss.kr/search/detail/DetailView.do...</td>\n",
       "    </tr>\n",
       "    <tr>\n",
       "      <th>4</th>\n",
       "      <td>서신</td>\n",
       "      <td>2021</td>\n",
       "      <td>코로나19 대응정책에서 나타난 차별의 연구 : 이주노동자를 중심으로</td>\n",
       "      <td>이 연구는 한국정부의 이주노동자에 대한 방역대응과 재난지원 정책에 있어 차별적인 요...</td>\n",
       "      <td>http://www.riss.kr/search/detail/DetailView.do...</td>\n",
       "    </tr>\n",
       "    <tr>\n",
       "      <th>5</th>\n",
       "      <td>배은정</td>\n",
       "      <td>2021</td>\n",
       "      <td>코로나19 대유행에 따른 유아의 일상생활 변화와 어머니의 코로나19에 대한 걱정이 ...</td>\n",
       "      <td>The present study examined the effects the dai...</td>\n",
       "      <td>http://www.riss.kr/search/detail/DetailView.do...</td>\n",
       "    </tr>\n",
       "    <tr>\n",
       "      <th>6</th>\n",
       "      <td>박사랑</td>\n",
       "      <td>2021</td>\n",
       "      <td>코로나바이러스감염증-19(COVID-19)가 공연예술에 미친 영향과 대응 사례에 관...</td>\n",
       "      <td>본 연구는 코로나바이러스감염증-19 발생에 따른 공연예술 분야 피해와 변화를 파악하...</td>\n",
       "      <td>http://www.riss.kr/search/detail/DetailView.do...</td>\n",
       "    </tr>\n",
       "    <tr>\n",
       "      <th>7</th>\n",
       "      <td>Liu Jia-Qi</td>\n",
       "      <td>2021</td>\n",
       "      <td>코로나19 시대의 한국관광에 대한 중국인의 행태 고찰 = A Study on the...</td>\n",
       "      <td>As the risk of face-to-face contact with Covid...</td>\n",
       "      <td>http://www.riss.kr/search/detail/DetailView.do...</td>\n",
       "    </tr>\n",
       "    <tr>\n",
       "      <th>8</th>\n",
       "      <td>김희숙</td>\n",
       "      <td>2021</td>\n",
       "      <td>코로나 -19 대유행으로 인한 노인 정신건강과 신체활동 실태조사 = The Stud...</td>\n",
       "      <td>본 연구의 목적은 지역사회에 거주하는 65세 이상 노인의 정신건강에 코로나-19 대...</td>\n",
       "      <td>http://www.riss.kr/search/detail/DetailView.do...</td>\n",
       "    </tr>\n",
       "    <tr>\n",
       "      <th>9</th>\n",
       "      <td>박지원</td>\n",
       "      <td>2021</td>\n",
       "      <td>코로나19 상황에서의 미디어 이용과 미디어 신뢰가 코로나19 감염 가능성에 대한 낙...</td>\n",
       "      <td>부가정보가 없습니다.</td>\n",
       "      <td>http://www.riss.kr/search/detail/DetailView.do...</td>\n",
       "    </tr>\n",
       "  </tbody>\n",
       "</table>\n",
       "</div>"
      ],
      "text/plain": [
       "           저자  발행년도                                                 제목  \\\n",
       "0         이상순  2021  코로나바이러스감염증-19와 보육교사의 심리적 스트레스에 관한 연구 = A Study...   \n",
       "1         이승윤  2021  코로나-19로 인한 호텔조리종사원의 근무스케줄 변화가 조직몰입에 미치는 영향 : 스...   \n",
       "2         김경주  2020  국가 재난의 위기 속에서 한국교회의 대응 방안에 관한 연구 : 소망교회의 코로나19...   \n",
       "3         손희나  2020  코로나19(COVID-19)로 인한 어린이집원장의 어려움과 코로나19에 대한 대응방...   \n",
       "4          서신  2021              코로나19 대응정책에서 나타난 차별의 연구 : 이주노동자를 중심으로   \n",
       "5         배은정  2021  코로나19 대유행에 따른 유아의 일상생활 변화와 어머니의 코로나19에 대한 걱정이 ...   \n",
       "6         박사랑  2021  코로나바이러스감염증-19(COVID-19)가 공연예술에 미친 영향과 대응 사례에 관...   \n",
       "7  Liu Jia-Qi  2021  코로나19 시대의 한국관광에 대한 중국인의 행태 고찰 = A Study on the...   \n",
       "8         김희숙  2021  코로나 -19 대유행으로 인한 노인 정신건강과 신체활동 실태조사 = The Stud...   \n",
       "9         박지원  2021  코로나19 상황에서의 미디어 이용과 미디어 신뢰가 코로나19 감염 가능성에 대한 낙...   \n",
       "\n",
       "                                                부가정보  \\\n",
       "0  코로나바이러스감염증-19가 확산되면서 우리나라를 비롯한 전 세계는 펜데믹(Pande...   \n",
       "1  현재 우리나라뿐만 아니라 전 세계가 코로나-19로 인한 감영병 사태로 인해 경제부문...   \n",
       "2                                        부가정보가 없습니다.   \n",
       "3  The purpose of this study was to find out the ...   \n",
       "4  이 연구는 한국정부의 이주노동자에 대한 방역대응과 재난지원 정책에 있어 차별적인 요...   \n",
       "5  The present study examined the effects the dai...   \n",
       "6  본 연구는 코로나바이러스감염증-19 발생에 따른 공연예술 분야 피해와 변화를 파악하...   \n",
       "7  As the risk of face-to-face contact with Covid...   \n",
       "8  본 연구의 목적은 지역사회에 거주하는 65세 이상 노인의 정신건강에 코로나-19 대...   \n",
       "9                                        부가정보가 없습니다.   \n",
       "\n",
       "                                                 Url  \n",
       "0  http://www.riss.kr/search/detail/DetailView.do...  \n",
       "1  http://www.riss.kr/search/detail/DetailView.do...  \n",
       "2  http://www.riss.kr/search/detail/DetailView.do...  \n",
       "3  http://www.riss.kr/search/detail/DetailView.do...  \n",
       "4  http://www.riss.kr/search/detail/DetailView.do...  \n",
       "5  http://www.riss.kr/search/detail/DetailView.do...  \n",
       "6  http://www.riss.kr/search/detail/DetailView.do...  \n",
       "7  http://www.riss.kr/search/detail/DetailView.do...  \n",
       "8  http://www.riss.kr/search/detail/DetailView.do...  \n",
       "9  http://www.riss.kr/search/detail/DetailView.do...  "
      ]
     },
     "execution_count": 24,
     "metadata": {},
     "output_type": "execute_result"
    }
   ],
   "source": [
    "paper=[]\n",
    "for url in urls:\n",
    "    driver.get(url)\n",
    "    store(url)\n",
    "    sleep(1)\n",
    "\n",
    "driver.close()  # 드라이버 닫기\n",
    "\n",
    "paper_info = pd.DataFrame(paper, columns=['저자', '발행년도', '제목', '부가정보', 'Url'])\n",
    "paper_info.to_csv('./paper_info.csv', encoding='utf-8')\n",
    "paper_info"
   ]
  }
 ],
 "metadata": {
  "colab": {
   "name": "Week5_Crawling_Assignment.ipynb",
   "provenance": []
  },
  "kernelspec": {
   "display_name": "Python 3",
   "language": "python",
   "name": "python3"
  },
  "language_info": {
   "codemirror_mode": {
    "name": "ipython",
    "version": 3
   },
   "file_extension": ".py",
   "mimetype": "text/x-python",
   "name": "python",
   "nbconvert_exporter": "python",
   "pygments_lexer": "ipython3",
   "version": "3.8.3"
  }
 },
 "nbformat": 4,
 "nbformat_minor": 5
}
