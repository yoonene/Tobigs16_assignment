{
  "nbformat": 4,
  "nbformat_minor": 5,
  "metadata": {
    "kernelspec": {
      "display_name": "Python 3",
      "language": "python",
      "name": "python3"
    },
    "language_info": {
      "codemirror_mode": {
        "name": "ipython",
        "version": 3
      },
      "file_extension": ".py",
      "mimetype": "text/x-python",
      "name": "python",
      "nbconvert_exporter": "python",
      "pygments_lexer": "ipython3",
      "version": "3.8.8"
    },
    "colab": {
      "name": "SVM_assignment.ipynb",
      "provenance": [],
      "collapsed_sections": []
    }
  },
  "cells": [
    {
      "cell_type": "markdown",
      "metadata": {
        "id": "dMZuiSIe0F8t"
      },
      "source": [
        "**SVM 과제** <br>\n",
      ],
      "id": "dMZuiSIe0F8t"
    },
    {
      "cell_type": "markdown",
      "metadata": {
        "id": "9ad88f3e"
      },
      "source": [
        "# Multiclass SVM 구현\n",
        "* OVO"
      ],
      "id": "9ad88f3e"
    },
    {
      "cell_type": "code",
      "metadata": {
        "colab": {
          "base_uri": "https://localhost:8080/"
        },
        "id": "1ee53277",
        "outputId": "6c807d4d-2d25-4f12-b9a3-3c07829390b7"
      },
      "source": [
        "import numpy as np\n",
        "import pandas as pd\n",
        "import matplotlib.pyplot as plt\n",
        "import seaborn as sns\n",
        "from sklearn.svm import SVC\n",
        "from sklearn.model_selection import train_test_split\n",
        "from sklearn.pipeline import Pipeline\n",
        "from sklearn.preprocessing import StandardScaler\n",
        "from sklearn.metrics import accuracy_score\n",
        "\n",
        "#IRIS 데이터 로드\n",
        "iris =  sns.load_dataset('iris') \n",
        "X= iris.iloc[:,:4] #학습할데이터\n",
        "y = iris.iloc[:,-1] #타겟\n",
        "print(y)"
      ],
      "id": "1ee53277",
      "execution_count": 1,
      "outputs": [
        {
          "output_type": "stream",
          "text": [
            "0         setosa\n",
            "1         setosa\n",
            "2         setosa\n",
            "3         setosa\n",
            "4         setosa\n",
            "         ...    \n",
            "145    virginica\n",
            "146    virginica\n",
            "147    virginica\n",
            "148    virginica\n",
            "149    virginica\n",
            "Name: species, Length: 150, dtype: object\n"
          ],
          "name": "stdout"
        }
      ]
    },
    {
      "cell_type": "code",
      "metadata": {
        "id": "57c67bc8"
      },
      "source": [
        "X_train, X_test, y_train, y_test = train_test_split(X, y, test_size=0.2, random_state=48)"
      ],
      "id": "57c67bc8",
      "execution_count": 2,
      "outputs": []
    },
    {
      "cell_type": "code",
      "metadata": {
        "id": "88a4203d"
      },
      "source": [
        "def standardization(train, test):\n",
        "    scaler = StandardScaler()\n",
        "    train = scaler.fit_transform(train)\n",
        "    test = scaler.transform(test)\n",
        "    return train, test\n",
        "\n",
        "X_train, X_test = standardization(X_train, X_test)"
      ],
      "id": "88a4203d",
      "execution_count": null,
      "outputs": []
    },
    {
      "cell_type": "code",
      "metadata": {
        "colab": {
          "base_uri": "https://localhost:8080/"
        },
        "id": "403590f5",
        "outputId": "04598c0c-3a4b-403f-a19e-71151d667311"
      },
      "source": [
        "X_train"
      ],
      "id": "403590f5",
      "execution_count": null,
      "outputs": [
        {
          "output_type": "execute_result",
          "data": {
            "text/plain": [
              "array([[ 0.78522493,  0.32015325,  0.77221097,  1.04726529],\n",
              "       [-0.26563371, -1.29989934,  0.0982814 , -0.11996537],\n",
              "       [ 0.43493872,  0.78302542,  0.94069336,  1.43634218],\n",
              "       [-0.84944407,  0.78302542, -1.24957775, -1.28719604],\n",
              "       [-0.38239578, -1.7627715 ,  0.15444219,  0.13941922],\n",
              "       [ 0.55170079, -0.374155  ,  1.05301496,  0.7878807 ],\n",
              "       [ 0.31817664, -0.14271892,  0.65988937,  0.7878807 ],\n",
              "       [ 0.20141457, -0.374155  ,  0.43524618,  0.39880381],\n",
              "       [-1.66677857, -0.14271892, -1.36189934, -1.28719604],\n",
              "       [-0.14887164, -0.60559109,  0.21060299,  0.13941922],\n",
              "       [-0.14887164, -1.06846325, -0.12636179, -0.24965767],\n",
              "       [ 0.31817664, -0.60559109,  0.15444219,  0.13941922],\n",
              "       [ 0.66846286, -0.83702717,  0.88453256,  0.91757299],\n",
              "       [ 0.0846525 , -0.14271892,  0.77221097,  0.7878807 ],\n",
              "       [-0.49915786, -0.14271892,  0.43524618,  0.39880381],\n",
              "       [-0.26563371, -0.60559109,  0.65988937,  1.04726529],\n",
              "       [ 2.18636979,  1.70876975,  1.67078373,  1.30664988],\n",
              "       [-0.49915786,  1.94020584, -1.13725615, -1.02781144],\n",
              "       [-0.96620614,  1.0144615 , -1.36189934, -1.15750374],\n",
              "       [ 1.60255943,  0.32015325,  1.27765815,  0.7878807 ],\n",
              "       [-0.84944407,  1.70876975, -1.02493456, -1.02781144],\n",
              "       [ 0.901987  , -0.14271892,  0.37908538,  0.26911151],\n",
              "       [-1.19973028,  0.78302542, -1.02493456, -1.28719604],\n",
              "       [-0.61591993,  1.47733367, -1.24957775, -1.28719604],\n",
              "       [-0.49915786,  1.47733367, -1.24957775, -1.28719604],\n",
              "       [-0.03210957, -0.83702717,  0.77221097,  0.91757299],\n",
              "       [-1.31649236,  0.32015325, -1.19341695, -1.28719604],\n",
              "       [ 1.25227322,  0.08871717,  0.94069336,  1.17695758],\n",
              "       [-1.08296821,  0.08871717, -1.24957775, -1.41688833],\n",
              "       [-1.08296821, -1.29989934,  0.43524618,  0.6581884 ],\n",
              "       [ 0.43493872, -0.374155  ,  0.32292459,  0.13941922],\n",
              "       [ 1.60255943,  1.24589758,  1.33381894,  1.69572677],\n",
              "       [ 0.31817664, -0.374155  ,  0.54756778,  0.26911151],\n",
              "       [ 1.83608357, -0.60559109,  1.33381894,  0.91757299],\n",
              "       [-0.03210957, -0.83702717,  0.0982814 ,  0.00972692],\n",
              "       [ 0.20141457, -1.99420759,  0.71605017,  0.39880381],\n",
              "       [ 1.01874907,  0.08871717,  1.05301496,  1.56603447],\n",
              "       [-0.84944407,  1.0144615 , -1.30573855, -1.15750374],\n",
              "       [-0.14887164, -0.14271892,  0.26676379,  0.00972692],\n",
              "       [-0.38239578, -1.53133542,  0.0421206 , -0.11996537],\n",
              "       [ 0.55170079, -1.29989934,  0.71605017,  0.91757299],\n",
              "       [ 1.48579736, -0.14271892,  1.22149735,  1.17695758],\n",
              "       [-0.38239578, -1.06846325,  0.37908538,  0.00972692],\n",
              "       [-0.96620614, -1.7627715 , -0.23868339, -0.24965767],\n",
              "       [ 1.25227322,  0.08871717,  0.77221097,  1.43634218],\n",
              "       [ 0.66846286, -0.60559109,  1.05301496,  1.17695758],\n",
              "       [ 0.43493872, -1.99420759,  0.43524618,  0.39880381],\n",
              "       [-0.14887164, -0.60559109,  0.43524618,  0.13941922],\n",
              "       [-0.732682  , -0.83702717,  0.0982814 ,  0.26911151],\n",
              "       [ 2.06960772, -0.14271892,  1.61462293,  1.17695758],\n",
              "       [ 1.13551115, -0.60559109,  0.60372857,  0.26911151],\n",
              "       [-0.84944407, -1.29989934, -0.40716578, -0.11996537],\n",
              "       [-0.14887164, -1.29989934,  0.71605017,  1.04726529],\n",
              "       [ 0.66846286, -0.374155  ,  0.32292459,  0.13941922],\n",
              "       [ 1.01874907,  0.08871717,  0.37908538,  0.26911151],\n",
              "       [-0.26563371, -0.83702717,  0.26676379,  0.13941922],\n",
              "       [ 1.25227322,  0.08871717,  0.65988937,  0.39880381],\n",
              "       [-0.84944407,  0.55158933, -1.13725615, -0.89811915],\n",
              "       [-1.08296821, -0.14271892, -1.30573855, -1.28719604],\n",
              "       [ 0.20141457, -0.83702717,  0.77221097,  0.52849611],\n",
              "       [-1.08296821, -1.53133542, -0.23868339, -0.24965767],\n",
              "       [-0.03210957,  2.17164192, -1.41806014, -1.28719604],\n",
              "       [-0.96620614,  1.0144615 , -1.19341695, -0.76842685],\n",
              "       [ 0.55170079, -0.83702717,  0.65988937,  0.7878807 ],\n",
              "       [ 1.7193215 , -0.374155  ,  1.44614054,  0.7878807 ],\n",
              "       [-0.732682  ,  2.403078  , -1.24957775, -1.41688833],\n",
              "       [-0.14887164,  3.09738625, -1.24957775, -1.02781144],\n",
              "       [ 1.13551115, -0.14271892,  0.99685416,  1.17695758],\n",
              "       [-1.43325443,  0.08871717, -1.24957775, -1.28719604],\n",
              "       [-0.03210957, -0.83702717,  0.21060299, -0.24965767],\n",
              "       [ 1.01874907, -0.14271892,  0.82837177,  1.43634218],\n",
              "       [ 1.36903529,  0.32015325,  0.54756778,  0.26911151],\n",
              "       [-0.96620614,  0.32015325, -1.41806014, -1.28719604],\n",
              "       [-0.96620614,  0.78302542, -1.24957775, -1.28719604],\n",
              "       [ 0.55170079,  0.55158933,  1.27765815,  1.69572677],\n",
              "       [ 2.18636979, -0.60559109,  1.67078373,  1.04726529],\n",
              "       [ 0.0846525 , -0.14271892,  0.26676379,  0.39880381],\n",
              "       [-1.31649236,  0.32015325, -1.36189934, -1.28719604],\n",
              "       [ 0.66846286,  0.32015325,  0.88453256,  1.43634218],\n",
              "       [-0.96620614,  0.78302542, -1.19341695, -1.02781144],\n",
              "       [ 0.20141457,  0.78302542,  0.43524618,  0.52849611],\n",
              "       [-1.19973028, -0.14271892, -1.30573855, -1.41688833],\n",
              "       [ 1.01874907,  0.55158933,  1.10917575,  1.17695758],\n",
              "       [ 0.78522493, -0.60559109,  0.49140698,  0.39880381],\n",
              "       [-1.43325443,  1.24589758, -1.53038174, -1.28719604],\n",
              "       [-0.03210957, -0.60559109,  0.77221097,  1.56603447],\n",
              "       [-1.78354064, -0.14271892, -1.47422094, -1.41688833],\n",
              "       [ 1.01874907, -1.29989934,  1.16533655,  0.7878807 ],\n",
              "       [-1.08296821,  1.24589758, -1.30573855, -1.41688833],\n",
              "       [-0.49915786,  1.94020584, -1.36189934, -1.02781144],\n",
              "       [-1.43325443,  0.32015325, -1.30573855, -1.28719604],\n",
              "       [-0.03210957, -0.83702717,  0.77221097,  0.91757299],\n",
              "       [ 0.55170079, -0.60559109,  0.77221097,  0.39880381],\n",
              "       [-0.96620614,  0.55158933, -1.30573855, -1.28719604],\n",
              "       [ 2.41989393,  1.70876975,  1.50230134,  1.04726529],\n",
              "       [-1.66677857,  0.32015325, -1.36189934, -1.28719604],\n",
              "       [-1.19973028, -0.14271892, -1.30573855, -1.15750374],\n",
              "       [ 1.01874907,  0.55158933,  1.10917575,  1.69572677],\n",
              "       [-0.96620614, -2.45707976, -0.12636179, -0.24965767],\n",
              "       [-0.732682  ,  1.0144615 , -1.24957775, -1.28719604],\n",
              "       [ 2.18636979, -1.06846325,  1.78310533,  1.43634218],\n",
              "       [ 1.13551115,  0.32015325,  1.22149735,  1.43634218],\n",
              "       [-0.96620614, -0.14271892, -1.19341695, -1.28719604],\n",
              "       [-0.84944407,  1.47733367, -1.24957775, -1.02781144],\n",
              "       [ 2.18636979, -0.14271892,  1.33381894,  1.43634218],\n",
              "       [-0.14887164,  1.70876975, -1.13725615, -1.15750374],\n",
              "       [-0.26563371, -0.14271892,  0.43524618,  0.39880381],\n",
              "       [-1.19973028,  0.08871717, -1.19341695, -1.28719604],\n",
              "       [ 0.78522493, -0.14271892,  1.16533655,  1.30664988],\n",
              "       [ 0.901987  , -0.374155  ,  0.49140698,  0.13941922],\n",
              "       [-0.732682  ,  0.78302542, -1.30573855, -1.28719604],\n",
              "       [-0.84944407,  1.70876975, -1.19341695, -1.28719604],\n",
              "       [-1.43325443,  0.78302542, -1.30573855, -1.15750374],\n",
              "       [-0.03210957, -1.06846325,  0.15444219,  0.00972692],\n",
              "       [-1.08296821,  0.08871717, -1.24957775, -1.28719604],\n",
              "       [-0.26563371, -0.374155  , -0.070201  ,  0.13941922],\n",
              "       [ 0.31817664, -0.14271892,  0.49140698,  0.26911151],\n",
              "       [-0.38239578, -1.53133542, -0.0140402 , -0.24965767],\n",
              "       [ 0.66846286,  0.32015325,  0.43524618,  0.39880381],\n",
              "       [-0.84944407,  1.0144615 , -1.30573855, -1.28719604]])"
            ]
          },
          "metadata": {
            "tags": []
          },
          "execution_count": 4
        }
      ]
    },
    {
      "cell_type": "code",
      "metadata": {
        "colab": {
          "base_uri": "https://localhost:8080/"
        },
        "id": "9861d8a6",
        "outputId": "6efb68b7-29be-4cd5-aeb9-17ff0268357d"
      },
      "source": [
        "X_test"
      ],
      "id": "9861d8a6",
      "execution_count": null,
      "outputs": [
        {
          "output_type": "execute_result",
          "data": {
            "text/plain": [
              "array([[-0.14887164, -0.374155  ,  0.26676379,  0.13941922],\n",
              "       [ 0.31817664, -0.60559109,  0.54756778,  0.00972692],\n",
              "       [ 0.31817664, -1.06846325,  1.05301496,  0.26911151],\n",
              "       [-1.5500165 , -1.7627715 , -1.36189934, -1.15750374],\n",
              "       [ 0.0846525 ,  0.32015325,  0.60372857,  0.7878807 ],\n",
              "       [ 0.78522493, -0.14271892,  0.99685416,  0.7878807 ],\n",
              "       [-0.84944407,  1.70876975, -1.24957775, -1.15750374],\n",
              "       [ 0.20141457, -0.14271892,  0.60372857,  0.7878807 ],\n",
              "       [-0.38239578,  2.63451409, -1.30573855, -1.28719604],\n",
              "       [-0.38239578, -1.29989934,  0.15444219,  0.13941922],\n",
              "       [ 0.66846286,  0.08871717,  0.99685416,  0.7878807 ],\n",
              "       [-0.38239578,  1.0144615 , -1.36189934, -1.28719604],\n",
              "       [-0.49915786,  0.78302542, -1.13725615, -1.28719604],\n",
              "       [ 0.43493872, -0.60559109,  0.60372857,  0.7878807 ],\n",
              "       [ 0.55170079, -1.7627715 ,  0.37908538,  0.13941922],\n",
              "       [ 0.55170079,  0.55158933,  0.54756778,  0.52849611],\n",
              "       [-1.19973028,  0.78302542, -1.19341695, -1.28719604],\n",
              "       [ 0.20141457, -1.99420759,  0.15444219, -0.24965767],\n",
              "       [ 0.55170079, -1.29989934,  0.65988937,  0.39880381],\n",
              "       [ 1.25227322,  0.32015325,  1.10917575,  1.43634218],\n",
              "       [-1.66677857, -0.374155  , -1.30573855, -1.28719604],\n",
              "       [ 0.78522493, -0.14271892,  0.82837177,  1.04726529],\n",
              "       [ 1.01874907, -0.14271892,  0.71605017,  0.6581884 ],\n",
              "       [ 1.01874907,  0.08871717,  0.54756778,  0.39880381],\n",
              "       [ 1.60255943, -0.14271892,  1.16533655,  0.52849611],\n",
              "       [-0.96620614,  1.24589758, -1.30573855, -1.28719604],\n",
              "       [-0.49915786,  0.78302542, -1.24957775, -1.02781144],\n",
              "       [ 0.55170079,  0.78302542,  1.05301496,  1.56603447],\n",
              "       [ 0.66846286, -0.60559109,  1.05301496,  1.30664988],\n",
              "       [-0.26563371, -0.14271892,  0.21060299,  0.13941922]])"
            ]
          },
          "metadata": {
            "tags": []
          },
          "execution_count": 5
        }
      ]
    },
    {
      "cell_type": "markdown",
      "metadata": {
        "id": "7_npUTJGW3EA"
      },
      "source": [
        "# OVO"
      ],
      "id": "7_npUTJGW3EA"
    },
    {
      "cell_type": "code",
      "metadata": {
        "id": "GaQttb2aYp53"
      },
      "source": [
        "X_train, X_test, y_train, y_test = train_test_split(X, y, test_size=0.2, random_state=48)"
      ],
      "id": "GaQttb2aYp53",
      "execution_count": null,
      "outputs": []
    },
    {
      "cell_type": "code",
      "metadata": {
        "id": "kSCw1-nUww2F"
      },
      "source": [
        "X_train, X_test = standardization(X_train, X_test)"
      ],
      "id": "kSCw1-nUww2F",
      "execution_count": null,
      "outputs": []
    },
    {
      "cell_type": "code",
      "metadata": {
        "id": "wtVfUhfkVTi0"
      },
      "source": [
        "# setosa / versicolor\n",
        "X_set_ver = X_train[y_train != 'virginica']\n",
        "y_set_ver = y_train[y_train != 'virginica']\n",
        "\n",
        "X_test_set_ver = X_test[y_test != 'virginica']\n",
        "y_test_set_ver = y_test[y_test != 'virginica']\n",
        "\n",
        "# setosa / virginica\n",
        "X_set_vir = X_train[y_train != 'versicolor']\n",
        "y_set_vir = y_train[y_train != 'versicolor']\n",
        "\n",
        "X_test_set_vir = X_test[y_test != 'versicolor']\n",
        "y_test_set_vir = y_test[y_test != 'versicolor']\n",
        "\n",
        "# versicolor / virginica\n",
        "X_ver_vir = X_train[y_train != 'setosa']\n",
        "y_ver_vir = y_train[y_train != 'setosa']\n",
        "\n",
        "X_test_ver_vir = X_test[y_test != 'setosa']\n",
        "y_test_ver_vir = y_test[y_test != 'setosa']"
      ],
      "id": "wtVfUhfkVTi0",
      "execution_count": null,
      "outputs": []
    },
    {
      "cell_type": "markdown",
      "metadata": {
        "id": "COjQiX5HVefN"
      },
      "source": [
        "#### One-Hot Encoding"
      ],
      "id": "COjQiX5HVefN"
    },
    {
      "cell_type": "code",
      "metadata": {
        "id": "C9EBPEb_X3JC"
      },
      "source": [
        "# setosa / versicolor\n",
        "y_set_ver = pd.get_dummies(y_set_ver, drop_first=True)\n",
        "y_test_set_ver = pd.get_dummies(y_test_set_ver, drop_first=True)\n",
        "\n",
        "# setosa / virginica\n",
        "y_set_vir = pd.get_dummies(y_set_vir, drop_first=True)\n",
        "y_test_set_vir = pd.get_dummies(y_test_set_vir, drop_first=True)\n",
        "\n",
        "# versicolor / virginica\n",
        "y_ver_vir = pd.get_dummies(y_ver_vir, drop_first=True)\n",
        "y_test_ver_vir = pd.get_dummies(y_test_ver_vir, drop_first=True)"
      ],
      "id": "C9EBPEb_X3JC",
      "execution_count": null,
      "outputs": []
    },
    {
      "cell_type": "code",
      "metadata": {
        "colab": {
          "base_uri": "https://localhost:8080/"
        },
        "id": "_jSh7Z22aqgy",
        "outputId": "9fc44f86-0e84-4934-e43a-3943a220d17d"
      },
      "source": [
        "print('Train set Flag')\n",
        "print(y_set_ver.columns[0]) # versicolor: 1, setosa: 0\n",
        "print(y_set_vir.columns[0]) # virginica: 1, setosa: 0\n",
        "print(y_ver_vir.columns[0]) # virginica: 1, versicolor: 0\n",
        "print('\\n')\n",
        "print('Test set Flag')\n",
        "print(y_test_set_ver.columns[0]) # versicolor: 1, setosa: 0\n",
        "print(y_test_set_vir.columns[0]) # virginica: 1, setosa: 0\n",
        "print(y_test_ver_vir.columns[0]) # virginica: 1, versicolor: 0"
      ],
      "id": "_jSh7Z22aqgy",
      "execution_count": null,
      "outputs": [
        {
          "output_type": "stream",
          "text": [
            "Train set Flag\n",
            "versicolor\n",
            "virginica\n",
            "virginica\n",
            "\n",
            "\n",
            "Test set Flag\n",
            "versicolor\n",
            "virginica\n",
            "virginica\n"
          ],
          "name": "stdout"
        }
      ]
    },
    {
      "cell_type": "markdown",
      "metadata": {
        "id": "ky0iv4DBcGL2"
      },
      "source": [
        "#### binary SVM"
      ],
      "id": "ky0iv4DBcGL2"
    },
    {
      "cell_type": "code",
      "metadata": {
        "id": "2iOElQUOehcR"
      },
      "source": [
        "def svc(X_train, y_train, X_test, y_test, kernel, C, gamma):\n",
        "  svc = SVC(kernel=kernel, C=C, gamma = gamma)\n",
        "  svc.fit(X_train, y_train)\n",
        "\n",
        "  print(\"Accuracy on training set: {:.3f}\".format(svc.score(X_train, y_train)))\n",
        "  print(\"Accuracy on test set: {:.3f}\".format(svc.score(X_test, y_test)))"
      ],
      "id": "2iOElQUOehcR",
      "execution_count": null,
      "outputs": []
    },
    {
      "cell_type": "markdown",
      "metadata": {
        "id": "YnkyMYcijblB"
      },
      "source": [
        "### Tuning parameters"
      ],
      "id": "YnkyMYcijblB"
    },
    {
      "cell_type": "code",
      "metadata": {
        "colab": {
          "base_uri": "https://localhost:8080/"
        },
        "id": "Fxh_4isZe8QM",
        "outputId": "c39d3af5-5545-4505-8e82-878468c18f18"
      },
      "source": [
        "# set / ver\n",
        "for C in range(1, 10, 3):\n",
        "  for gamma in range(1, 10, 3):\n",
        "    print('C: %d, gamma: %d' %(C, gamma))\n",
        "    svc(X_set_ver, y_set_ver,X_test_set_ver, y_test_set_ver,'rbf', C, gamma)"
      ],
      "id": "Fxh_4isZe8QM",
      "execution_count": null,
      "outputs": [
        {
          "output_type": "stream",
          "text": [
            "C: 1, gamma: 1\n",
            "Accuracy on training set: 1.000\n",
            "Accuracy on test set: 1.000\n",
            "C: 1, gamma: 4\n",
            "Accuracy on training set: 1.000\n",
            "Accuracy on test set: 0.950\n",
            "C: 1, gamma: 7\n",
            "Accuracy on training set: 1.000\n",
            "Accuracy on test set: 0.950\n",
            "C: 4, gamma: 1\n",
            "Accuracy on training set: 1.000\n",
            "Accuracy on test set: 1.000\n",
            "C: 4, gamma: 4\n",
            "Accuracy on training set: 1.000\n",
            "Accuracy on test set: 0.950\n",
            "C: 4, gamma: 7\n",
            "Accuracy on training set: 1.000\n",
            "Accuracy on test set: 0.950\n",
            "C: 7, gamma: 1\n",
            "Accuracy on training set: 1.000\n",
            "Accuracy on test set: 1.000\n",
            "C: 7, gamma: 4\n",
            "Accuracy on training set: 1.000\n",
            "Accuracy on test set: 0.950\n",
            "C: 7, gamma: 7\n",
            "Accuracy on training set: 1.000\n",
            "Accuracy on test set: 0.950\n"
          ],
          "name": "stdout"
        },
        {
          "output_type": "stream",
          "text": [
            "/usr/local/lib/python3.7/dist-packages/sklearn/utils/validation.py:760: DataConversionWarning: A column-vector y was passed when a 1d array was expected. Please change the shape of y to (n_samples, ), for example using ravel().\n",
            "  y = column_or_1d(y, warn=True)\n",
            "/usr/local/lib/python3.7/dist-packages/sklearn/utils/validation.py:760: DataConversionWarning: A column-vector y was passed when a 1d array was expected. Please change the shape of y to (n_samples, ), for example using ravel().\n",
            "  y = column_or_1d(y, warn=True)\n",
            "/usr/local/lib/python3.7/dist-packages/sklearn/utils/validation.py:760: DataConversionWarning: A column-vector y was passed when a 1d array was expected. Please change the shape of y to (n_samples, ), for example using ravel().\n",
            "  y = column_or_1d(y, warn=True)\n",
            "/usr/local/lib/python3.7/dist-packages/sklearn/utils/validation.py:760: DataConversionWarning: A column-vector y was passed when a 1d array was expected. Please change the shape of y to (n_samples, ), for example using ravel().\n",
            "  y = column_or_1d(y, warn=True)\n",
            "/usr/local/lib/python3.7/dist-packages/sklearn/utils/validation.py:760: DataConversionWarning: A column-vector y was passed when a 1d array was expected. Please change the shape of y to (n_samples, ), for example using ravel().\n",
            "  y = column_or_1d(y, warn=True)\n",
            "/usr/local/lib/python3.7/dist-packages/sklearn/utils/validation.py:760: DataConversionWarning: A column-vector y was passed when a 1d array was expected. Please change the shape of y to (n_samples, ), for example using ravel().\n",
            "  y = column_or_1d(y, warn=True)\n",
            "/usr/local/lib/python3.7/dist-packages/sklearn/utils/validation.py:760: DataConversionWarning: A column-vector y was passed when a 1d array was expected. Please change the shape of y to (n_samples, ), for example using ravel().\n",
            "  y = column_or_1d(y, warn=True)\n",
            "/usr/local/lib/python3.7/dist-packages/sklearn/utils/validation.py:760: DataConversionWarning: A column-vector y was passed when a 1d array was expected. Please change the shape of y to (n_samples, ), for example using ravel().\n",
            "  y = column_or_1d(y, warn=True)\n",
            "/usr/local/lib/python3.7/dist-packages/sklearn/utils/validation.py:760: DataConversionWarning: A column-vector y was passed when a 1d array was expected. Please change the shape of y to (n_samples, ), for example using ravel().\n",
            "  y = column_or_1d(y, warn=True)\n"
          ],
          "name": "stderr"
        }
      ]
    },
    {
      "cell_type": "code",
      "metadata": {
        "colab": {
          "base_uri": "https://localhost:8080/"
        },
        "id": "VxqfSNbfhN52",
        "outputId": "df1a01c1-0025-447c-a934-f0153f63bbe0"
      },
      "source": [
        "# set / ver\n",
        "C_list = [0.1, 0.5, 1, 1.5, 2]\n",
        "gamma_list = C_list.copy()\n",
        "\n",
        "for C in C_list:\n",
        "  for gamma in gamma_list:\n",
        "    print('C: %f, gamma: %f' %(C, gamma))\n",
        "    svc(X_set_ver, y_set_ver,X_test_set_ver, y_test_set_ver,'rbf', C, gamma)"
      ],
      "id": "VxqfSNbfhN52",
      "execution_count": null,
      "outputs": [
        {
          "output_type": "stream",
          "text": [
            "C: 0.100000, gamma: 0.100000\n",
            "Accuracy on training set: 1.000\n",
            "Accuracy on test set: 1.000\n",
            "C: 0.100000, gamma: 0.500000\n",
            "Accuracy on training set: 1.000\n",
            "Accuracy on test set: 1.000\n",
            "C: 0.100000, gamma: 1.000000\n",
            "Accuracy on training set: 1.000\n",
            "Accuracy on test set: 1.000\n",
            "C: 0.100000, gamma: 1.500000\n",
            "Accuracy on training set: 1.000\n",
            "Accuracy on test set: 1.000\n",
            "C: 0.100000, gamma: 2.000000\n",
            "Accuracy on training set: 1.000\n",
            "Accuracy on test set: 1.000\n",
            "C: 0.500000, gamma: 0.100000\n",
            "Accuracy on training set: 1.000\n",
            "Accuracy on test set: 1.000\n",
            "C: 0.500000, gamma: 0.500000\n",
            "Accuracy on training set: 1.000\n",
            "Accuracy on test set: 1.000\n",
            "C: 0.500000, gamma: 1.000000\n",
            "Accuracy on training set: 1.000\n",
            "Accuracy on test set: 1.000\n",
            "C: 0.500000, gamma: 1.500000\n",
            "Accuracy on training set: 1.000\n",
            "Accuracy on test set: 1.000\n",
            "C: 0.500000, gamma: 2.000000\n",
            "Accuracy on training set: 1.000\n",
            "Accuracy on test set: 1.000\n",
            "C: 1.000000, gamma: 0.100000\n",
            "Accuracy on training set: 1.000\n",
            "Accuracy on test set: 1.000\n",
            "C: 1.000000, gamma: 0.500000\n",
            "Accuracy on training set: 1.000\n",
            "Accuracy on test set: 1.000\n",
            "C: 1.000000, gamma: 1.000000\n",
            "Accuracy on training set: 1.000\n",
            "Accuracy on test set: 1.000\n",
            "C: 1.000000, gamma: 1.500000\n",
            "Accuracy on training set: 1.000\n",
            "Accuracy on test set: 1.000\n",
            "C: 1.000000, gamma: 2.000000\n",
            "Accuracy on training set: 1.000\n",
            "Accuracy on test set: 1.000\n",
            "C: 1.500000, gamma: 0.100000\n",
            "Accuracy on training set: 1.000\n",
            "Accuracy on test set: 1.000\n",
            "C: 1.500000, gamma: 0.500000\n",
            "Accuracy on training set: 1.000\n",
            "Accuracy on test set: 1.000\n",
            "C: 1.500000, gamma: 1.000000\n",
            "Accuracy on training set: 1.000\n",
            "Accuracy on test set: 1.000\n",
            "C: 1.500000, gamma: 1.500000\n",
            "Accuracy on training set: 1.000\n",
            "Accuracy on test set: 1.000\n",
            "C: 1.500000, gamma: 2.000000\n",
            "Accuracy on training set: 1.000\n",
            "Accuracy on test set: 1.000\n",
            "C: 2.000000, gamma: 0.100000\n",
            "Accuracy on training set: 1.000\n",
            "Accuracy on test set: 1.000\n",
            "C: 2.000000, gamma: 0.500000\n",
            "Accuracy on training set: 1.000\n",
            "Accuracy on test set: 1.000\n",
            "C: 2.000000, gamma: 1.000000\n",
            "Accuracy on training set: 1.000\n",
            "Accuracy on test set: 1.000\n",
            "C: 2.000000, gamma: 1.500000\n",
            "Accuracy on training set: 1.000\n",
            "Accuracy on test set: 1.000\n",
            "C: 2.000000, gamma: 2.000000\n",
            "Accuracy on training set: 1.000\n",
            "Accuracy on test set: 1.000\n"
          ],
          "name": "stdout"
        },
        {
          "output_type": "stream",
          "text": [
            "/usr/local/lib/python3.7/dist-packages/sklearn/utils/validation.py:760: DataConversionWarning: A column-vector y was passed when a 1d array was expected. Please change the shape of y to (n_samples, ), for example using ravel().\n",
            "  y = column_or_1d(y, warn=True)\n",
            "/usr/local/lib/python3.7/dist-packages/sklearn/utils/validation.py:760: DataConversionWarning: A column-vector y was passed when a 1d array was expected. Please change the shape of y to (n_samples, ), for example using ravel().\n",
            "  y = column_or_1d(y, warn=True)\n",
            "/usr/local/lib/python3.7/dist-packages/sklearn/utils/validation.py:760: DataConversionWarning: A column-vector y was passed when a 1d array was expected. Please change the shape of y to (n_samples, ), for example using ravel().\n",
            "  y = column_or_1d(y, warn=True)\n",
            "/usr/local/lib/python3.7/dist-packages/sklearn/utils/validation.py:760: DataConversionWarning: A column-vector y was passed when a 1d array was expected. Please change the shape of y to (n_samples, ), for example using ravel().\n",
            "  y = column_or_1d(y, warn=True)\n",
            "/usr/local/lib/python3.7/dist-packages/sklearn/utils/validation.py:760: DataConversionWarning: A column-vector y was passed when a 1d array was expected. Please change the shape of y to (n_samples, ), for example using ravel().\n",
            "  y = column_or_1d(y, warn=True)\n",
            "/usr/local/lib/python3.7/dist-packages/sklearn/utils/validation.py:760: DataConversionWarning: A column-vector y was passed when a 1d array was expected. Please change the shape of y to (n_samples, ), for example using ravel().\n",
            "  y = column_or_1d(y, warn=True)\n",
            "/usr/local/lib/python3.7/dist-packages/sklearn/utils/validation.py:760: DataConversionWarning: A column-vector y was passed when a 1d array was expected. Please change the shape of y to (n_samples, ), for example using ravel().\n",
            "  y = column_or_1d(y, warn=True)\n",
            "/usr/local/lib/python3.7/dist-packages/sklearn/utils/validation.py:760: DataConversionWarning: A column-vector y was passed when a 1d array was expected. Please change the shape of y to (n_samples, ), for example using ravel().\n",
            "  y = column_or_1d(y, warn=True)\n",
            "/usr/local/lib/python3.7/dist-packages/sklearn/utils/validation.py:760: DataConversionWarning: A column-vector y was passed when a 1d array was expected. Please change the shape of y to (n_samples, ), for example using ravel().\n",
            "  y = column_or_1d(y, warn=True)\n",
            "/usr/local/lib/python3.7/dist-packages/sklearn/utils/validation.py:760: DataConversionWarning: A column-vector y was passed when a 1d array was expected. Please change the shape of y to (n_samples, ), for example using ravel().\n",
            "  y = column_or_1d(y, warn=True)\n",
            "/usr/local/lib/python3.7/dist-packages/sklearn/utils/validation.py:760: DataConversionWarning: A column-vector y was passed when a 1d array was expected. Please change the shape of y to (n_samples, ), for example using ravel().\n",
            "  y = column_or_1d(y, warn=True)\n",
            "/usr/local/lib/python3.7/dist-packages/sklearn/utils/validation.py:760: DataConversionWarning: A column-vector y was passed when a 1d array was expected. Please change the shape of y to (n_samples, ), for example using ravel().\n",
            "  y = column_or_1d(y, warn=True)\n",
            "/usr/local/lib/python3.7/dist-packages/sklearn/utils/validation.py:760: DataConversionWarning: A column-vector y was passed when a 1d array was expected. Please change the shape of y to (n_samples, ), for example using ravel().\n",
            "  y = column_or_1d(y, warn=True)\n",
            "/usr/local/lib/python3.7/dist-packages/sklearn/utils/validation.py:760: DataConversionWarning: A column-vector y was passed when a 1d array was expected. Please change the shape of y to (n_samples, ), for example using ravel().\n",
            "  y = column_or_1d(y, warn=True)\n",
            "/usr/local/lib/python3.7/dist-packages/sklearn/utils/validation.py:760: DataConversionWarning: A column-vector y was passed when a 1d array was expected. Please change the shape of y to (n_samples, ), for example using ravel().\n",
            "  y = column_or_1d(y, warn=True)\n",
            "/usr/local/lib/python3.7/dist-packages/sklearn/utils/validation.py:760: DataConversionWarning: A column-vector y was passed when a 1d array was expected. Please change the shape of y to (n_samples, ), for example using ravel().\n",
            "  y = column_or_1d(y, warn=True)\n",
            "/usr/local/lib/python3.7/dist-packages/sklearn/utils/validation.py:760: DataConversionWarning: A column-vector y was passed when a 1d array was expected. Please change the shape of y to (n_samples, ), for example using ravel().\n",
            "  y = column_or_1d(y, warn=True)\n",
            "/usr/local/lib/python3.7/dist-packages/sklearn/utils/validation.py:760: DataConversionWarning: A column-vector y was passed when a 1d array was expected. Please change the shape of y to (n_samples, ), for example using ravel().\n",
            "  y = column_or_1d(y, warn=True)\n",
            "/usr/local/lib/python3.7/dist-packages/sklearn/utils/validation.py:760: DataConversionWarning: A column-vector y was passed when a 1d array was expected. Please change the shape of y to (n_samples, ), for example using ravel().\n",
            "  y = column_or_1d(y, warn=True)\n",
            "/usr/local/lib/python3.7/dist-packages/sklearn/utils/validation.py:760: DataConversionWarning: A column-vector y was passed when a 1d array was expected. Please change the shape of y to (n_samples, ), for example using ravel().\n",
            "  y = column_or_1d(y, warn=True)\n",
            "/usr/local/lib/python3.7/dist-packages/sklearn/utils/validation.py:760: DataConversionWarning: A column-vector y was passed when a 1d array was expected. Please change the shape of y to (n_samples, ), for example using ravel().\n",
            "  y = column_or_1d(y, warn=True)\n",
            "/usr/local/lib/python3.7/dist-packages/sklearn/utils/validation.py:760: DataConversionWarning: A column-vector y was passed when a 1d array was expected. Please change the shape of y to (n_samples, ), for example using ravel().\n",
            "  y = column_or_1d(y, warn=True)\n",
            "/usr/local/lib/python3.7/dist-packages/sklearn/utils/validation.py:760: DataConversionWarning: A column-vector y was passed when a 1d array was expected. Please change the shape of y to (n_samples, ), for example using ravel().\n",
            "  y = column_or_1d(y, warn=True)\n",
            "/usr/local/lib/python3.7/dist-packages/sklearn/utils/validation.py:760: DataConversionWarning: A column-vector y was passed when a 1d array was expected. Please change the shape of y to (n_samples, ), for example using ravel().\n",
            "  y = column_or_1d(y, warn=True)\n",
            "/usr/local/lib/python3.7/dist-packages/sklearn/utils/validation.py:760: DataConversionWarning: A column-vector y was passed when a 1d array was expected. Please change the shape of y to (n_samples, ), for example using ravel().\n",
            "  y = column_or_1d(y, warn=True)\n"
          ],
          "name": "stderr"
        }
      ]
    },
    {
      "cell_type": "code",
      "metadata": {
        "colab": {
          "base_uri": "https://localhost:8080/"
        },
        "id": "v7eSIki_m0Zv",
        "outputId": "435b7f0e-7289-4d66-ebf6-57140ea1cb5a"
      },
      "source": [
        "# ver / vir\n",
        "for C in C_list:\n",
        "  for gamma in gamma_list:\n",
        "    print('C: %f, gamma: %f' %(C, gamma))\n",
        "    svc(X_ver_vir, y_ver_vir,X_test_ver_vir, y_test_ver_vir,'rbf', C, gamma)"
      ],
      "id": "v7eSIki_m0Zv",
      "execution_count": null,
      "outputs": [
        {
          "output_type": "stream",
          "text": [
            "C: 0.100000, gamma: 0.100000\n",
            "Accuracy on training set: 0.937\n",
            "Accuracy on test set: 0.857\n",
            "C: 0.100000, gamma: 0.500000\n",
            "Accuracy on training set: 0.975\n",
            "Accuracy on test set: 0.905\n",
            "C: 0.100000, gamma: 1.000000\n",
            "Accuracy on training set: 0.975\n",
            "Accuracy on test set: 0.905\n",
            "C: 0.100000, gamma: 1.500000\n",
            "Accuracy on training set: 0.987\n",
            "Accuracy on test set: 0.857\n",
            "C: 0.100000, gamma: 2.000000\n",
            "Accuracy on training set: 0.987\n",
            "Accuracy on test set: 0.857\n",
            "C: 0.500000, gamma: 0.100000\n",
            "Accuracy on training set: 0.975\n",
            "Accuracy on test set: 0.905\n",
            "C: 0.500000, gamma: 0.500000\n",
            "Accuracy on training set: 0.987\n",
            "Accuracy on test set: 0.905\n",
            "C: 0.500000, gamma: 1.000000\n",
            "Accuracy on training set: 0.987\n",
            "Accuracy on test set: 0.905\n",
            "C: 0.500000, gamma: 1.500000\n",
            "Accuracy on training set: 0.987\n",
            "Accuracy on test set: 0.857\n",
            "C: 0.500000, gamma: 2.000000\n",
            "Accuracy on training set: 0.987\n",
            "Accuracy on test set: 0.857\n",
            "C: 1.000000, gamma: 0.100000\n",
            "Accuracy on training set: 0.975\n",
            "Accuracy on test set: 0.905\n",
            "C: 1.000000, gamma: 0.500000\n",
            "Accuracy on training set: 0.987\n",
            "Accuracy on test set: 0.857\n",
            "C: 1.000000, gamma: 1.000000\n",
            "Accuracy on training set: 0.987\n",
            "Accuracy on test set: 0.905\n",
            "C: 1.000000, gamma: 1.500000\n",
            "Accuracy on training set: 0.987\n",
            "Accuracy on test set: 0.857\n",
            "C: 1.000000, gamma: 2.000000\n",
            "Accuracy on training set: 0.987\n",
            "Accuracy on test set: 0.857\n",
            "C: 1.500000, gamma: 0.100000\n",
            "Accuracy on training set: 0.987\n",
            "Accuracy on test set: 0.952\n",
            "C: 1.500000, gamma: 0.500000\n",
            "Accuracy on training set: 0.987\n",
            "Accuracy on test set: 0.905\n",
            "C: 1.500000, gamma: 1.000000\n",
            "Accuracy on training set: 0.987\n",
            "Accuracy on test set: 0.857\n",
            "C: 1.500000, gamma: 1.500000\n",
            "Accuracy on training set: 0.987\n",
            "Accuracy on test set: 0.857\n",
            "C: 1.500000, gamma: 2.000000\n",
            "Accuracy on training set: 0.987\n",
            "Accuracy on test set: 0.857\n",
            "C: 2.000000, gamma: 0.100000\n",
            "Accuracy on training set: 0.987\n",
            "Accuracy on test set: 0.952\n",
            "C: 2.000000, gamma: 0.500000\n",
            "Accuracy on training set: 0.987\n",
            "Accuracy on test set: 0.905\n",
            "C: 2.000000, gamma: 1.000000\n",
            "Accuracy on training set: 0.987\n",
            "Accuracy on test set: 0.857\n",
            "C: 2.000000, gamma: 1.500000\n",
            "Accuracy on training set: 0.987\n",
            "Accuracy on test set: 0.857\n",
            "C: 2.000000, gamma: 2.000000\n",
            "Accuracy on training set: 0.987\n",
            "Accuracy on test set: 0.857\n"
          ],
          "name": "stdout"
        },
        {
          "output_type": "stream",
          "text": [
            "/usr/local/lib/python3.7/dist-packages/sklearn/utils/validation.py:760: DataConversionWarning: A column-vector y was passed when a 1d array was expected. Please change the shape of y to (n_samples, ), for example using ravel().\n",
            "  y = column_or_1d(y, warn=True)\n",
            "/usr/local/lib/python3.7/dist-packages/sklearn/utils/validation.py:760: DataConversionWarning: A column-vector y was passed when a 1d array was expected. Please change the shape of y to (n_samples, ), for example using ravel().\n",
            "  y = column_or_1d(y, warn=True)\n",
            "/usr/local/lib/python3.7/dist-packages/sklearn/utils/validation.py:760: DataConversionWarning: A column-vector y was passed when a 1d array was expected. Please change the shape of y to (n_samples, ), for example using ravel().\n",
            "  y = column_or_1d(y, warn=True)\n",
            "/usr/local/lib/python3.7/dist-packages/sklearn/utils/validation.py:760: DataConversionWarning: A column-vector y was passed when a 1d array was expected. Please change the shape of y to (n_samples, ), for example using ravel().\n",
            "  y = column_or_1d(y, warn=True)\n",
            "/usr/local/lib/python3.7/dist-packages/sklearn/utils/validation.py:760: DataConversionWarning: A column-vector y was passed when a 1d array was expected. Please change the shape of y to (n_samples, ), for example using ravel().\n",
            "  y = column_or_1d(y, warn=True)\n",
            "/usr/local/lib/python3.7/dist-packages/sklearn/utils/validation.py:760: DataConversionWarning: A column-vector y was passed when a 1d array was expected. Please change the shape of y to (n_samples, ), for example using ravel().\n",
            "  y = column_or_1d(y, warn=True)\n",
            "/usr/local/lib/python3.7/dist-packages/sklearn/utils/validation.py:760: DataConversionWarning: A column-vector y was passed when a 1d array was expected. Please change the shape of y to (n_samples, ), for example using ravel().\n",
            "  y = column_or_1d(y, warn=True)\n",
            "/usr/local/lib/python3.7/dist-packages/sklearn/utils/validation.py:760: DataConversionWarning: A column-vector y was passed when a 1d array was expected. Please change the shape of y to (n_samples, ), for example using ravel().\n",
            "  y = column_or_1d(y, warn=True)\n",
            "/usr/local/lib/python3.7/dist-packages/sklearn/utils/validation.py:760: DataConversionWarning: A column-vector y was passed when a 1d array was expected. Please change the shape of y to (n_samples, ), for example using ravel().\n",
            "  y = column_or_1d(y, warn=True)\n",
            "/usr/local/lib/python3.7/dist-packages/sklearn/utils/validation.py:760: DataConversionWarning: A column-vector y was passed when a 1d array was expected. Please change the shape of y to (n_samples, ), for example using ravel().\n",
            "  y = column_or_1d(y, warn=True)\n",
            "/usr/local/lib/python3.7/dist-packages/sklearn/utils/validation.py:760: DataConversionWarning: A column-vector y was passed when a 1d array was expected. Please change the shape of y to (n_samples, ), for example using ravel().\n",
            "  y = column_or_1d(y, warn=True)\n",
            "/usr/local/lib/python3.7/dist-packages/sklearn/utils/validation.py:760: DataConversionWarning: A column-vector y was passed when a 1d array was expected. Please change the shape of y to (n_samples, ), for example using ravel().\n",
            "  y = column_or_1d(y, warn=True)\n",
            "/usr/local/lib/python3.7/dist-packages/sklearn/utils/validation.py:760: DataConversionWarning: A column-vector y was passed when a 1d array was expected. Please change the shape of y to (n_samples, ), for example using ravel().\n",
            "  y = column_or_1d(y, warn=True)\n",
            "/usr/local/lib/python3.7/dist-packages/sklearn/utils/validation.py:760: DataConversionWarning: A column-vector y was passed when a 1d array was expected. Please change the shape of y to (n_samples, ), for example using ravel().\n",
            "  y = column_or_1d(y, warn=True)\n",
            "/usr/local/lib/python3.7/dist-packages/sklearn/utils/validation.py:760: DataConversionWarning: A column-vector y was passed when a 1d array was expected. Please change the shape of y to (n_samples, ), for example using ravel().\n",
            "  y = column_or_1d(y, warn=True)\n",
            "/usr/local/lib/python3.7/dist-packages/sklearn/utils/validation.py:760: DataConversionWarning: A column-vector y was passed when a 1d array was expected. Please change the shape of y to (n_samples, ), for example using ravel().\n",
            "  y = column_or_1d(y, warn=True)\n",
            "/usr/local/lib/python3.7/dist-packages/sklearn/utils/validation.py:760: DataConversionWarning: A column-vector y was passed when a 1d array was expected. Please change the shape of y to (n_samples, ), for example using ravel().\n",
            "  y = column_or_1d(y, warn=True)\n",
            "/usr/local/lib/python3.7/dist-packages/sklearn/utils/validation.py:760: DataConversionWarning: A column-vector y was passed when a 1d array was expected. Please change the shape of y to (n_samples, ), for example using ravel().\n",
            "  y = column_or_1d(y, warn=True)\n",
            "/usr/local/lib/python3.7/dist-packages/sklearn/utils/validation.py:760: DataConversionWarning: A column-vector y was passed when a 1d array was expected. Please change the shape of y to (n_samples, ), for example using ravel().\n",
            "  y = column_or_1d(y, warn=True)\n",
            "/usr/local/lib/python3.7/dist-packages/sklearn/utils/validation.py:760: DataConversionWarning: A column-vector y was passed when a 1d array was expected. Please change the shape of y to (n_samples, ), for example using ravel().\n",
            "  y = column_or_1d(y, warn=True)\n",
            "/usr/local/lib/python3.7/dist-packages/sklearn/utils/validation.py:760: DataConversionWarning: A column-vector y was passed when a 1d array was expected. Please change the shape of y to (n_samples, ), for example using ravel().\n",
            "  y = column_or_1d(y, warn=True)\n",
            "/usr/local/lib/python3.7/dist-packages/sklearn/utils/validation.py:760: DataConversionWarning: A column-vector y was passed when a 1d array was expected. Please change the shape of y to (n_samples, ), for example using ravel().\n",
            "  y = column_or_1d(y, warn=True)\n",
            "/usr/local/lib/python3.7/dist-packages/sklearn/utils/validation.py:760: DataConversionWarning: A column-vector y was passed when a 1d array was expected. Please change the shape of y to (n_samples, ), for example using ravel().\n",
            "  y = column_or_1d(y, warn=True)\n",
            "/usr/local/lib/python3.7/dist-packages/sklearn/utils/validation.py:760: DataConversionWarning: A column-vector y was passed when a 1d array was expected. Please change the shape of y to (n_samples, ), for example using ravel().\n",
            "  y = column_or_1d(y, warn=True)\n",
            "/usr/local/lib/python3.7/dist-packages/sklearn/utils/validation.py:760: DataConversionWarning: A column-vector y was passed when a 1d array was expected. Please change the shape of y to (n_samples, ), for example using ravel().\n",
            "  y = column_or_1d(y, warn=True)\n"
          ],
          "name": "stderr"
        }
      ]
    },
    {
      "cell_type": "code",
      "metadata": {
        "colab": {
          "base_uri": "https://localhost:8080/"
        },
        "id": "TZTGrHUHhvB5",
        "outputId": "a57cb750-5109-41fe-eb9d-82bf29a70397"
      },
      "source": [
        "# 최종 튜닝\n",
        "svc(X_set_ver, y_set_ver,X_test_set_ver, y_test_set_ver,'rbf', 1.5, 0.1)\n",
        "svc(X_set_vir, y_set_vir,X_test_set_vir, y_test_set_vir,'rbf', 1.5, 0.1)\n",
        "svc(X_ver_vir, y_ver_vir,X_test_ver_vir, y_test_ver_vir,'rbf', 1.5, 0.1)"
      ],
      "id": "TZTGrHUHhvB5",
      "execution_count": null,
      "outputs": [
        {
          "output_type": "stream",
          "text": [
            "Accuracy on training set: 1.000\n",
            "Accuracy on test set: 1.000\n",
            "Accuracy on training set: 1.000\n",
            "Accuracy on test set: 1.000\n",
            "Accuracy on training set: 0.987\n",
            "Accuracy on test set: 0.952\n"
          ],
          "name": "stdout"
        },
        {
          "output_type": "stream",
          "text": [
            "/usr/local/lib/python3.7/dist-packages/sklearn/utils/validation.py:760: DataConversionWarning: A column-vector y was passed when a 1d array was expected. Please change the shape of y to (n_samples, ), for example using ravel().\n",
            "  y = column_or_1d(y, warn=True)\n",
            "/usr/local/lib/python3.7/dist-packages/sklearn/utils/validation.py:760: DataConversionWarning: A column-vector y was passed when a 1d array was expected. Please change the shape of y to (n_samples, ), for example using ravel().\n",
            "  y = column_or_1d(y, warn=True)\n",
            "/usr/local/lib/python3.7/dist-packages/sklearn/utils/validation.py:760: DataConversionWarning: A column-vector y was passed when a 1d array was expected. Please change the shape of y to (n_samples, ), for example using ravel().\n",
            "  y = column_or_1d(y, warn=True)\n"
          ],
          "name": "stderr"
        }
      ]
    },
    {
      "cell_type": "markdown",
      "metadata": {
        "id": "f8ciKrqphwlF"
      },
      "source": [
        "### 튜닝 결과\n",
        "**C: 1.5, gamma: 0.1**\n",
        "\n",
        "* setosa / versicolor <br>\n",
        "Accuracy on training set: 1 <br>\n",
        "Accuracy on training set: 1 <br>\n",
        "* setosa / virginica <br>\n",
        "Accuracy on training set: 1 <br>\n",
        "Accuracy on training set: 1 <br>\n",
        "* versicolor / virginica <br>\n",
        "Accuracy on training set: 0.987 <br>\n",
        "Accuracy on training set: 0.952"
      ],
      "id": "f8ciKrqphwlF"
    },
    {
      "cell_type": "markdown",
      "metadata": {
        "id": "-M7--8JfznQ6"
      },
      "source": [
        "### multi SVM"
      ],
      "id": "-M7--8JfznQ6"
    },
    {
      "cell_type": "code",
      "metadata": {
        "colab": {
          "base_uri": "https://localhost:8080/"
        },
        "id": "6VCM8kDIoZPm",
        "outputId": "9798d5db-c8f7-41c3-ff04-a24beb804d9d"
      },
      "source": [
        "svc = SVC(kernel='rbf', C=1.5, gamma=0.1)\n",
        "\n",
        "svm_set_ver = svc.fit(X_set_ver, y_set_ver)\n",
        "set_ver = svm_set_ver.predict(X_test)\n",
        "\n",
        "svm_set_vir = svc.fit(X_set_vir, y_set_vir)\n",
        "set_vir = svm_set_vir.predict(X_test)\n",
        "\n",
        "svm_ver_vir = svc.fit(X_ver_vir, y_ver_vir)\n",
        "ver_vir = svm_ver_vir.predict(X_test)"
      ],
      "id": "6VCM8kDIoZPm",
      "execution_count": null,
      "outputs": [
        {
          "output_type": "stream",
          "text": [
            "/usr/local/lib/python3.7/dist-packages/sklearn/utils/validation.py:760: DataConversionWarning: A column-vector y was passed when a 1d array was expected. Please change the shape of y to (n_samples, ), for example using ravel().\n",
            "  y = column_or_1d(y, warn=True)\n",
            "/usr/local/lib/python3.7/dist-packages/sklearn/utils/validation.py:760: DataConversionWarning: A column-vector y was passed when a 1d array was expected. Please change the shape of y to (n_samples, ), for example using ravel().\n",
            "  y = column_or_1d(y, warn=True)\n",
            "/usr/local/lib/python3.7/dist-packages/sklearn/utils/validation.py:760: DataConversionWarning: A column-vector y was passed when a 1d array was expected. Please change the shape of y to (n_samples, ), for example using ravel().\n",
            "  y = column_or_1d(y, warn=True)\n"
          ],
          "name": "stderr"
        }
      ]
    },
    {
      "cell_type": "code",
      "metadata": {
        "colab": {
          "base_uri": "https://localhost:8080/"
        },
        "id": "nKt9jatArIIN",
        "outputId": "46855edf-10df-41dd-fce4-1e6a482c9662"
      },
      "source": [
        "multi_pred = []\n",
        "for i in range(len(set_ver)):\n",
        "  score = {'setosa': 0, 'versicolor': 0, 'virginica': 0}\n",
        "\n",
        "# versicolor인가\n",
        "  if set_ver[i] == 1:\n",
        "    score['versicolor'] += 1\n",
        "  elif set_ver[i] == 0:\n",
        "    score['setosa'] += 1\n",
        "\n",
        "# virginica인가\n",
        "  if set_vir[i] == 1:\n",
        "    score['virginica'] += 1\n",
        "  elif set_vir[i] == 0:\n",
        "    score['setosa'] += 1\n",
        "\n",
        "# virginica인가\n",
        "  if ver_vir[i] == 1:\n",
        "    score['virginica'] += 1\n",
        "  elif ver_vir[i] == 0:\n",
        "    score['versicolor'] += 1\n",
        "\n",
        "  pred = list(score.keys())[np.array(list(score.values())).argmax()]\n",
        "  multi_pred.append(pred)\n",
        "\n",
        "multi_pred"
      ],
      "id": "nKt9jatArIIN",
      "execution_count": null,
      "outputs": [
        {
          "output_type": "execute_result",
          "data": {
            "text/plain": [
              "['versicolor',\n",
              " 'versicolor',\n",
              " 'virginica',\n",
              " 'setosa',\n",
              " 'versicolor',\n",
              " 'virginica',\n",
              " 'setosa',\n",
              " 'virginica',\n",
              " 'setosa',\n",
              " 'versicolor',\n",
              " 'virginica',\n",
              " 'setosa',\n",
              " 'setosa',\n",
              " 'virginica',\n",
              " 'versicolor',\n",
              " 'versicolor',\n",
              " 'setosa',\n",
              " 'versicolor',\n",
              " 'versicolor',\n",
              " 'virginica',\n",
              " 'setosa',\n",
              " 'virginica',\n",
              " 'virginica',\n",
              " 'versicolor',\n",
              " 'virginica',\n",
              " 'setosa',\n",
              " 'setosa',\n",
              " 'virginica',\n",
              " 'virginica',\n",
              " 'versicolor']"
            ]
          },
          "metadata": {
            "tags": []
          },
          "execution_count": 130
        }
      ]
    },
    {
      "cell_type": "markdown",
      "metadata": {
        "id": "HcMF9y0rzrrr"
      },
      "source": [
        "### Result"
      ],
      "id": "HcMF9y0rzrrr"
    },
    {
      "cell_type": "code",
      "metadata": {
        "colab": {
          "base_uri": "https://localhost:8080/"
        },
        "id": "fnmItQqpy2Jz",
        "outputId": "1dfc49cc-abec-42dc-a24f-302b0b4fda2c"
      },
      "source": [
        "round(accuracy_score(y_test,multi_pred),3)"
      ],
      "id": "fnmItQqpy2Jz",
      "execution_count": null,
      "outputs": [
        {
          "output_type": "execute_result",
          "data": {
            "text/plain": [
              "0.967"
            ]
          },
          "metadata": {
            "tags": []
          },
          "execution_count": 135
        }
      ]
    },
    {
      "cell_type": "markdown",
      "metadata": {
        "id": "nKohNL1TzG-R"
      },
      "source": [
        "**OVO ACC**: 0.967"
      ],
      "id": "nKohNL1TzG-R"
    }
  ]
}
