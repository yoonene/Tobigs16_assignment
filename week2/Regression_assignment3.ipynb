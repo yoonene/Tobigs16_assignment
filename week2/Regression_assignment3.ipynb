{
 "cells": [
  {
   "cell_type": "markdown",
   "metadata": {},
   "source": [
    "## **투빅스 16기 정규세션 Week2 Regression**"
   ]
  },
  {
   "cell_type": "markdown",
   "metadata": {
    "id": "fu39oBW0RVn5"
   },
   "source": [
    "# Assignment3"
   ]
  },
  {
   "cell_type": "markdown",
   "metadata": {
    "id": "Sy6Vc-LlRVn_"
   },
   "source": [
    "1. sklearn 패키지를 사용해 로지스틱 회귀모형으로 데이터를 분석해 주세요 \n",
    "2. 성능지표를 계산하고 이에 대해 해석해 주세요 \n",
    "   - sklearn : mean accuracy, f1 score 등 다양한 성능지표 계산 \n",
    "   - confusion matrix : tp, fp, fn, tn 값을 통해 성능지표 계산  \n",
    "3. 어떤 성능지표를 기준으로 성능을 개선을 시도했고, 그러한 선택의 이유를 적어주세요.\n",
    "4. **해석을 상세하게 달아주세요 !**"
   ]
  },
  {
   "cell_type": "markdown",
   "metadata": {
    "id": "8rN2SWezRVn_"
   },
   "source": [
    "## Data "
   ]
  },
  {
   "cell_type": "markdown",
   "metadata": {
    "id": "Y7SYKNvQRVn_"
   },
   "source": [
    "출처 : https://www.kaggle.com/mlg-ulb/creditcardfraud\n",
    "\n",
    "\n",
    "* V1 ~ V28 : 비식별화 된 개인정보 \n",
    "* **Class** : Target 변수  \n",
    "  - 1 : fraudulent transactions (사기)\n",
    "  - 0 : otherwise "
   ]
  },
  {
   "cell_type": "code",
   "execution_count": 7,
   "metadata": {
    "id": "Uvjw2fTCRVoA"
   },
   "outputs": [],
   "source": [
    "import pandas as pd\n",
    "import numpy as np\n",
    "import seaborn as sns\n",
    "import matplotlib.pyplot as plt\n",
    "import warnings\n",
    "warnings.filterwarnings(action='ignore')\n",
    "\n",
    "from sklearn.base import BaseEstimator, TransformerMixin\n",
    "from sklearn.pipeline import Pipeline\n",
    "from sklearn.preprocessing import MinMaxScaler,StandardScaler,OneHotEncoder\n",
    "from sklearn.impute import SimpleImputer\n",
    "from sklearn.pipeline import FeatureUnion\n",
    "\n",
    "class DataFrameSelector(BaseEstimator, TransformerMixin):\n",
    "    def __init__(self, attribute_names):\n",
    "        self.attribute_names = attribute_names\n",
    "    def fit(self, X, y=None):\n",
    "        return self\n",
    "    def transform(self, X):\n",
    "        return X[self.attribute_names].values"
   ]
  },
  {
   "cell_type": "code",
   "execution_count": 2,
   "metadata": {
    "id": "znQit70ZRVoA"
   },
   "outputs": [],
   "source": [
    "data = pd.read_csv(\"assignment3_creditcard.csv\")"
   ]
  },
  {
   "cell_type": "code",
   "execution_count": 3,
   "metadata": {
    "colab": {
     "base_uri": "https://localhost:8080/",
     "height": 220
    },
    "id": "v98OeXW5RVoB",
    "outputId": "42afeddc-07e6-4224-95ee-08b455f72475"
   },
   "outputs": [
    {
     "data": {
      "text/html": [
       "<div>\n",
       "<style scoped>\n",
       "    .dataframe tbody tr th:only-of-type {\n",
       "        vertical-align: middle;\n",
       "    }\n",
       "\n",
       "    .dataframe tbody tr th {\n",
       "        vertical-align: top;\n",
       "    }\n",
       "\n",
       "    .dataframe thead th {\n",
       "        text-align: right;\n",
       "    }\n",
       "</style>\n",
       "<table border=\"1\" class=\"dataframe\">\n",
       "  <thead>\n",
       "    <tr style=\"text-align: right;\">\n",
       "      <th></th>\n",
       "      <th>V1</th>\n",
       "      <th>V2</th>\n",
       "      <th>V3</th>\n",
       "      <th>V4</th>\n",
       "      <th>V5</th>\n",
       "      <th>V6</th>\n",
       "      <th>V7</th>\n",
       "      <th>V8</th>\n",
       "      <th>V9</th>\n",
       "      <th>V10</th>\n",
       "      <th>...</th>\n",
       "      <th>V20</th>\n",
       "      <th>V21</th>\n",
       "      <th>V22</th>\n",
       "      <th>V23</th>\n",
       "      <th>V24</th>\n",
       "      <th>V25</th>\n",
       "      <th>V26</th>\n",
       "      <th>V27</th>\n",
       "      <th>V28</th>\n",
       "      <th>Class</th>\n",
       "    </tr>\n",
       "  </thead>\n",
       "  <tbody>\n",
       "    <tr>\n",
       "      <th>0</th>\n",
       "      <td>-1.848212</td>\n",
       "      <td>2.384900</td>\n",
       "      <td>0.379573</td>\n",
       "      <td>1.048381</td>\n",
       "      <td>-0.845070</td>\n",
       "      <td>2.537837</td>\n",
       "      <td>-4.542983</td>\n",
       "      <td>-10.201458</td>\n",
       "      <td>-1.504967</td>\n",
       "      <td>-2.234167</td>\n",
       "      <td>...</td>\n",
       "      <td>2.585817</td>\n",
       "      <td>-5.291690</td>\n",
       "      <td>0.859364</td>\n",
       "      <td>0.423231</td>\n",
       "      <td>-0.506985</td>\n",
       "      <td>1.020052</td>\n",
       "      <td>-0.627751</td>\n",
       "      <td>-0.017753</td>\n",
       "      <td>0.280982</td>\n",
       "      <td>0</td>\n",
       "    </tr>\n",
       "    <tr>\n",
       "      <th>1</th>\n",
       "      <td>2.071805</td>\n",
       "      <td>-0.477943</td>\n",
       "      <td>-1.444444</td>\n",
       "      <td>-0.548657</td>\n",
       "      <td>0.010036</td>\n",
       "      <td>-0.582242</td>\n",
       "      <td>-0.042878</td>\n",
       "      <td>-0.247160</td>\n",
       "      <td>1.171923</td>\n",
       "      <td>-0.342382</td>\n",
       "      <td>...</td>\n",
       "      <td>-0.077306</td>\n",
       "      <td>0.042858</td>\n",
       "      <td>0.390125</td>\n",
       "      <td>0.041569</td>\n",
       "      <td>0.598427</td>\n",
       "      <td>0.098803</td>\n",
       "      <td>0.979686</td>\n",
       "      <td>-0.093244</td>\n",
       "      <td>-0.065615</td>\n",
       "      <td>0</td>\n",
       "    </tr>\n",
       "    <tr>\n",
       "      <th>2</th>\n",
       "      <td>-2.985294</td>\n",
       "      <td>-2.747472</td>\n",
       "      <td>1.194068</td>\n",
       "      <td>-0.003036</td>\n",
       "      <td>-1.151041</td>\n",
       "      <td>-0.263559</td>\n",
       "      <td>0.553500</td>\n",
       "      <td>0.635600</td>\n",
       "      <td>0.438545</td>\n",
       "      <td>-1.806488</td>\n",
       "      <td>...</td>\n",
       "      <td>1.345776</td>\n",
       "      <td>0.373760</td>\n",
       "      <td>-0.385777</td>\n",
       "      <td>1.197596</td>\n",
       "      <td>0.407229</td>\n",
       "      <td>0.008013</td>\n",
       "      <td>0.762362</td>\n",
       "      <td>-0.299024</td>\n",
       "      <td>-0.303929</td>\n",
       "      <td>0</td>\n",
       "    </tr>\n",
       "    <tr>\n",
       "      <th>3</th>\n",
       "      <td>-1.479452</td>\n",
       "      <td>1.542874</td>\n",
       "      <td>0.290895</td>\n",
       "      <td>0.838142</td>\n",
       "      <td>-0.529290</td>\n",
       "      <td>-0.717661</td>\n",
       "      <td>0.484516</td>\n",
       "      <td>0.545092</td>\n",
       "      <td>-0.780767</td>\n",
       "      <td>0.324804</td>\n",
       "      <td>...</td>\n",
       "      <td>0.038397</td>\n",
       "      <td>0.116771</td>\n",
       "      <td>0.405560</td>\n",
       "      <td>-0.116453</td>\n",
       "      <td>0.541275</td>\n",
       "      <td>-0.216665</td>\n",
       "      <td>-0.415578</td>\n",
       "      <td>0.027126</td>\n",
       "      <td>-0.150347</td>\n",
       "      <td>0</td>\n",
       "    </tr>\n",
       "    <tr>\n",
       "      <th>4</th>\n",
       "      <td>-0.281976</td>\n",
       "      <td>-0.309699</td>\n",
       "      <td>-2.162299</td>\n",
       "      <td>-0.851514</td>\n",
       "      <td>0.106167</td>\n",
       "      <td>-1.483888</td>\n",
       "      <td>1.930994</td>\n",
       "      <td>-0.843049</td>\n",
       "      <td>-1.249272</td>\n",
       "      <td>1.079608</td>\n",
       "      <td>...</td>\n",
       "      <td>-0.875516</td>\n",
       "      <td>-0.004199</td>\n",
       "      <td>1.015108</td>\n",
       "      <td>-0.026748</td>\n",
       "      <td>0.077115</td>\n",
       "      <td>-1.468822</td>\n",
       "      <td>0.751700</td>\n",
       "      <td>0.496732</td>\n",
       "      <td>0.331001</td>\n",
       "      <td>0</td>\n",
       "    </tr>\n",
       "  </tbody>\n",
       "</table>\n",
       "<p>5 rows × 29 columns</p>\n",
       "</div>"
      ],
      "text/plain": [
       "         V1        V2        V3        V4        V5        V6        V7  \\\n",
       "0 -1.848212  2.384900  0.379573  1.048381 -0.845070  2.537837 -4.542983   \n",
       "1  2.071805 -0.477943 -1.444444 -0.548657  0.010036 -0.582242 -0.042878   \n",
       "2 -2.985294 -2.747472  1.194068 -0.003036 -1.151041 -0.263559  0.553500   \n",
       "3 -1.479452  1.542874  0.290895  0.838142 -0.529290 -0.717661  0.484516   \n",
       "4 -0.281976 -0.309699 -2.162299 -0.851514  0.106167 -1.483888  1.930994   \n",
       "\n",
       "          V8        V9       V10  ...       V20       V21       V22       V23  \\\n",
       "0 -10.201458 -1.504967 -2.234167  ...  2.585817 -5.291690  0.859364  0.423231   \n",
       "1  -0.247160  1.171923 -0.342382  ... -0.077306  0.042858  0.390125  0.041569   \n",
       "2   0.635600  0.438545 -1.806488  ...  1.345776  0.373760 -0.385777  1.197596   \n",
       "3   0.545092 -0.780767  0.324804  ...  0.038397  0.116771  0.405560 -0.116453   \n",
       "4  -0.843049 -1.249272  1.079608  ... -0.875516 -0.004199  1.015108 -0.026748   \n",
       "\n",
       "        V24       V25       V26       V27       V28  Class  \n",
       "0 -0.506985  1.020052 -0.627751 -0.017753  0.280982      0  \n",
       "1  0.598427  0.098803  0.979686 -0.093244 -0.065615      0  \n",
       "2  0.407229  0.008013  0.762362 -0.299024 -0.303929      0  \n",
       "3  0.541275 -0.216665 -0.415578  0.027126 -0.150347      0  \n",
       "4  0.077115 -1.468822  0.751700  0.496732  0.331001      0  \n",
       "\n",
       "[5 rows x 29 columns]"
      ]
     },
     "execution_count": 3,
     "metadata": {},
     "output_type": "execute_result"
    }
   ],
   "source": [
    "data.head()"
   ]
  },
  {
   "cell_type": "code",
   "execution_count": 18,
   "metadata": {},
   "outputs": [
    {
     "name": "stdout",
     "output_type": "stream",
     "text": [
      "<class 'pandas.core.frame.DataFrame'>\n",
      "RangeIndex: 28678 entries, 0 to 28677\n",
      "Data columns (total 29 columns):\n",
      " #   Column  Non-Null Count  Dtype  \n",
      "---  ------  --------------  -----  \n",
      " 0   V1      28678 non-null  float64\n",
      " 1   V2      28678 non-null  float64\n",
      " 2   V3      28678 non-null  float64\n",
      " 3   V4      28678 non-null  float64\n",
      " 4   V5      28678 non-null  float64\n",
      " 5   V6      28678 non-null  float64\n",
      " 6   V7      28678 non-null  float64\n",
      " 7   V8      28678 non-null  float64\n",
      " 8   V9      28678 non-null  float64\n",
      " 9   V10     28678 non-null  float64\n",
      " 10  V11     28678 non-null  float64\n",
      " 11  V12     28678 non-null  float64\n",
      " 12  V13     28678 non-null  float64\n",
      " 13  V14     28678 non-null  float64\n",
      " 14  V15     28678 non-null  float64\n",
      " 15  V16     28678 non-null  float64\n",
      " 16  V17     28678 non-null  float64\n",
      " 17  V18     28678 non-null  float64\n",
      " 18  V19     28678 non-null  float64\n",
      " 19  V20     28678 non-null  float64\n",
      " 20  V21     28678 non-null  float64\n",
      " 21  V22     28678 non-null  float64\n",
      " 22  V23     28678 non-null  float64\n",
      " 23  V24     28678 non-null  float64\n",
      " 24  V25     28678 non-null  float64\n",
      " 25  V26     28678 non-null  float64\n",
      " 26  V27     28678 non-null  float64\n",
      " 27  V28     28678 non-null  float64\n",
      " 28  Class   28678 non-null  int64  \n",
      "dtypes: float64(28), int64(1)\n",
      "memory usage: 6.3 MB\n"
     ]
    }
   ],
   "source": [
    "data.info()"
   ]
  },
  {
   "cell_type": "code",
   "execution_count": 182,
   "metadata": {},
   "outputs": [
    {
     "data": {
      "text/html": [
       "<div>\n",
       "<style scoped>\n",
       "    .dataframe tbody tr th:only-of-type {\n",
       "        vertical-align: middle;\n",
       "    }\n",
       "\n",
       "    .dataframe tbody tr th {\n",
       "        vertical-align: top;\n",
       "    }\n",
       "\n",
       "    .dataframe thead th {\n",
       "        text-align: right;\n",
       "    }\n",
       "</style>\n",
       "<table border=\"1\" class=\"dataframe\">\n",
       "  <thead>\n",
       "    <tr style=\"text-align: right;\">\n",
       "      <th></th>\n",
       "      <th>Target</th>\n",
       "      <th>Count</th>\n",
       "      <th>Percent(%)</th>\n",
       "    </tr>\n",
       "  </thead>\n",
       "  <tbody>\n",
       "    <tr>\n",
       "      <th>0</th>\n",
       "      <td>0</td>\n",
       "      <td>28432</td>\n",
       "      <td>99.14</td>\n",
       "    </tr>\n",
       "    <tr>\n",
       "      <th>1</th>\n",
       "      <td>1</td>\n",
       "      <td>246</td>\n",
       "      <td>0.86</td>\n",
       "    </tr>\n",
       "  </tbody>\n",
       "</table>\n",
       "</div>"
      ],
      "text/plain": [
       "   Target  Count  Percent(%)\n",
       "0       0  28432       99.14\n",
       "1       1    246        0.86"
      ]
     },
     "execution_count": 182,
     "metadata": {},
     "output_type": "execute_result"
    }
   ],
   "source": [
    "tmp = data['Class'].value_counts().to_frame().reset_index()\n",
    "tmp['Percent(%)'] = tmp[\"Class\"].apply(lambda x : round(100*float(x) / len(data), 2))\n",
    "tmp = tmp.rename(columns = {\"index\" : \"Target\", \"Class\" : \"Count\"})\n",
    "\n",
    "tmp"
   ]
  },
  {
   "cell_type": "markdown",
   "metadata": {},
   "source": [
    "사기인 경우는 0.86%로 데이터가 불균형함을 확인할 수 있다."
   ]
  },
  {
   "cell_type": "markdown",
   "metadata": {},
   "source": [
    "* 결측치 확인"
   ]
  },
  {
   "cell_type": "code",
   "execution_count": 26,
   "metadata": {},
   "outputs": [],
   "source": [
    "def null_check(df):\n",
    "    null = df.isnull().sum()\n",
    "    \n",
    "    null_col=[]\n",
    "\n",
    "    for i in range(len(df.columns)):\n",
    "        if (null[i]!=0):\n",
    "            print(null.index[i],null[i],'개,',round(null[i]/len(data)*100,2), '%')\n",
    "            null_col.append(null.index[i])\n",
    "            \n",
    "    if len(null_col) == 0:\n",
    "        print(\"결측치 없음\")"
   ]
  },
  {
   "cell_type": "code",
   "execution_count": 27,
   "metadata": {},
   "outputs": [
    {
     "name": "stdout",
     "output_type": "stream",
     "text": [
      "결측치 없음\n"
     ]
    }
   ],
   "source": [
    "null_check(data)"
   ]
  },
  {
   "cell_type": "markdown",
   "metadata": {},
   "source": [
    "## **데이터 분할**"
   ]
  },
  {
   "cell_type": "code",
   "execution_count": 44,
   "metadata": {},
   "outputs": [],
   "source": [
    "X_cols = data.columns[:-1].tolist()"
   ]
  },
  {
   "cell_type": "code",
   "execution_count": 50,
   "metadata": {},
   "outputs": [],
   "source": [
    "X_data = data[X_cols]"
   ]
  },
  {
   "cell_type": "code",
   "execution_count": 62,
   "metadata": {},
   "outputs": [
    {
     "data": {
      "text/html": [
       "<div>\n",
       "<style scoped>\n",
       "    .dataframe tbody tr th:only-of-type {\n",
       "        vertical-align: middle;\n",
       "    }\n",
       "\n",
       "    .dataframe tbody tr th {\n",
       "        vertical-align: top;\n",
       "    }\n",
       "\n",
       "    .dataframe thead th {\n",
       "        text-align: right;\n",
       "    }\n",
       "</style>\n",
       "<table border=\"1\" class=\"dataframe\">\n",
       "  <thead>\n",
       "    <tr style=\"text-align: right;\">\n",
       "      <th></th>\n",
       "      <th>V1</th>\n",
       "      <th>V2</th>\n",
       "      <th>V3</th>\n",
       "      <th>V4</th>\n",
       "      <th>V5</th>\n",
       "      <th>V6</th>\n",
       "      <th>V7</th>\n",
       "      <th>V8</th>\n",
       "      <th>V9</th>\n",
       "      <th>V10</th>\n",
       "      <th>...</th>\n",
       "      <th>V19</th>\n",
       "      <th>V20</th>\n",
       "      <th>V21</th>\n",
       "      <th>V22</th>\n",
       "      <th>V23</th>\n",
       "      <th>V24</th>\n",
       "      <th>V25</th>\n",
       "      <th>V26</th>\n",
       "      <th>V27</th>\n",
       "      <th>V28</th>\n",
       "    </tr>\n",
       "  </thead>\n",
       "  <tbody>\n",
       "    <tr>\n",
       "      <th>count</th>\n",
       "      <td>28678.000000</td>\n",
       "      <td>28678.000000</td>\n",
       "      <td>28678.000000</td>\n",
       "      <td>28678.000000</td>\n",
       "      <td>28678.000000</td>\n",
       "      <td>28678.000000</td>\n",
       "      <td>28678.000000</td>\n",
       "      <td>28678.000000</td>\n",
       "      <td>28678.000000</td>\n",
       "      <td>28678.000000</td>\n",
       "      <td>...</td>\n",
       "      <td>28678.000000</td>\n",
       "      <td>28678.000000</td>\n",
       "      <td>28678.000000</td>\n",
       "      <td>28678.000000</td>\n",
       "      <td>28678.000000</td>\n",
       "      <td>28678.000000</td>\n",
       "      <td>28678.000000</td>\n",
       "      <td>28678.000000</td>\n",
       "      <td>28678.000000</td>\n",
       "      <td>28678.000000</td>\n",
       "    </tr>\n",
       "    <tr>\n",
       "      <th>mean</th>\n",
       "      <td>-0.015438</td>\n",
       "      <td>0.053653</td>\n",
       "      <td>-0.046031</td>\n",
       "      <td>0.037348</td>\n",
       "      <td>-0.033724</td>\n",
       "      <td>-0.003299</td>\n",
       "      <td>-0.051054</td>\n",
       "      <td>0.006064</td>\n",
       "      <td>-0.018530</td>\n",
       "      <td>-0.041149</td>\n",
       "      <td>...</td>\n",
       "      <td>0.007183</td>\n",
       "      <td>0.002633</td>\n",
       "      <td>0.010289</td>\n",
       "      <td>-0.000656</td>\n",
       "      <td>-0.004800</td>\n",
       "      <td>-0.000897</td>\n",
       "      <td>-0.001989</td>\n",
       "      <td>-0.000765</td>\n",
       "      <td>0.000948</td>\n",
       "      <td>0.001535</td>\n",
       "    </tr>\n",
       "    <tr>\n",
       "      <th>std</th>\n",
       "      <td>2.031529</td>\n",
       "      <td>1.616186</td>\n",
       "      <td>1.758169</td>\n",
       "      <td>1.482109</td>\n",
       "      <td>1.486998</td>\n",
       "      <td>1.339259</td>\n",
       "      <td>1.454827</td>\n",
       "      <td>1.364342</td>\n",
       "      <td>1.134065</td>\n",
       "      <td>1.252593</td>\n",
       "      <td>...</td>\n",
       "      <td>0.827420</td>\n",
       "      <td>0.720307</td>\n",
       "      <td>0.847152</td>\n",
       "      <td>0.739469</td>\n",
       "      <td>0.593663</td>\n",
       "      <td>0.603349</td>\n",
       "      <td>0.517968</td>\n",
       "      <td>0.483852</td>\n",
       "      <td>0.397075</td>\n",
       "      <td>0.296736</td>\n",
       "    </tr>\n",
       "    <tr>\n",
       "      <th>min</th>\n",
       "      <td>-30.552380</td>\n",
       "      <td>-42.172688</td>\n",
       "      <td>-31.103685</td>\n",
       "      <td>-5.560118</td>\n",
       "      <td>-42.147898</td>\n",
       "      <td>-21.929312</td>\n",
       "      <td>-41.506796</td>\n",
       "      <td>-39.267378</td>\n",
       "      <td>-13.434066</td>\n",
       "      <td>-24.403185</td>\n",
       "      <td>...</td>\n",
       "      <td>-4.619034</td>\n",
       "      <td>-21.387122</td>\n",
       "      <td>-21.453736</td>\n",
       "      <td>-8.887017</td>\n",
       "      <td>-36.666000</td>\n",
       "      <td>-2.718024</td>\n",
       "      <td>-6.712624</td>\n",
       "      <td>-2.241620</td>\n",
       "      <td>-7.418878</td>\n",
       "      <td>-9.617915</td>\n",
       "    </tr>\n",
       "    <tr>\n",
       "      <th>25%</th>\n",
       "      <td>-0.916927</td>\n",
       "      <td>-0.575381</td>\n",
       "      <td>-0.899872</td>\n",
       "      <td>-0.843321</td>\n",
       "      <td>-0.714901</td>\n",
       "      <td>-0.763757</td>\n",
       "      <td>-0.568146</td>\n",
       "      <td>-0.206103</td>\n",
       "      <td>-0.661909</td>\n",
       "      <td>-0.543450</td>\n",
       "      <td>...</td>\n",
       "      <td>-0.459073</td>\n",
       "      <td>-0.209678</td>\n",
       "      <td>-0.225520</td>\n",
       "      <td>-0.539244</td>\n",
       "      <td>-0.160583</td>\n",
       "      <td>-0.356047</td>\n",
       "      <td>-0.318619</td>\n",
       "      <td>-0.327343</td>\n",
       "      <td>-0.070558</td>\n",
       "      <td>-0.052189</td>\n",
       "    </tr>\n",
       "    <tr>\n",
       "      <th>50%</th>\n",
       "      <td>0.020050</td>\n",
       "      <td>0.075358</td>\n",
       "      <td>0.180610</td>\n",
       "      <td>-0.008844</td>\n",
       "      <td>-0.060040</td>\n",
       "      <td>-0.271363</td>\n",
       "      <td>0.036107</td>\n",
       "      <td>0.022463</td>\n",
       "      <td>-0.055095</td>\n",
       "      <td>-0.097390</td>\n",
       "      <td>...</td>\n",
       "      <td>0.002111</td>\n",
       "      <td>-0.062792</td>\n",
       "      <td>-0.028778</td>\n",
       "      <td>0.007302</td>\n",
       "      <td>-0.011199</td>\n",
       "      <td>0.040006</td>\n",
       "      <td>0.019770</td>\n",
       "      <td>-0.056260</td>\n",
       "      <td>0.002049</td>\n",
       "      <td>0.011075</td>\n",
       "    </tr>\n",
       "    <tr>\n",
       "      <th>75%</th>\n",
       "      <td>1.317461</td>\n",
       "      <td>0.806957</td>\n",
       "      <td>1.029928</td>\n",
       "      <td>0.771958</td>\n",
       "      <td>0.613328</td>\n",
       "      <td>0.397269</td>\n",
       "      <td>0.559409</td>\n",
       "      <td>0.329606</td>\n",
       "      <td>0.605704</td>\n",
       "      <td>0.460681</td>\n",
       "      <td>...</td>\n",
       "      <td>0.467781</td>\n",
       "      <td>0.131199</td>\n",
       "      <td>0.184312</td>\n",
       "      <td>0.526358</td>\n",
       "      <td>0.146835</td>\n",
       "      <td>0.437146</td>\n",
       "      <td>0.352717</td>\n",
       "      <td>0.240713</td>\n",
       "      <td>0.091637</td>\n",
       "      <td>0.078911</td>\n",
       "    </tr>\n",
       "    <tr>\n",
       "      <th>max</th>\n",
       "      <td>2.399484</td>\n",
       "      <td>21.467203</td>\n",
       "      <td>4.069865</td>\n",
       "      <td>11.927512</td>\n",
       "      <td>32.911462</td>\n",
       "      <td>22.529298</td>\n",
       "      <td>36.677268</td>\n",
       "      <td>20.007208</td>\n",
       "      <td>8.113152</td>\n",
       "      <td>15.236028</td>\n",
       "      <td>...</td>\n",
       "      <td>5.228342</td>\n",
       "      <td>26.237391</td>\n",
       "      <td>27.202839</td>\n",
       "      <td>8.361985</td>\n",
       "      <td>9.637187</td>\n",
       "      <td>3.948061</td>\n",
       "      <td>2.510401</td>\n",
       "      <td>3.122747</td>\n",
       "      <td>11.135740</td>\n",
       "      <td>14.929133</td>\n",
       "    </tr>\n",
       "  </tbody>\n",
       "</table>\n",
       "<p>8 rows × 28 columns</p>\n",
       "</div>"
      ],
      "text/plain": [
       "                 V1            V2            V3            V4            V5  \\\n",
       "count  28678.000000  28678.000000  28678.000000  28678.000000  28678.000000   \n",
       "mean      -0.015438      0.053653     -0.046031      0.037348     -0.033724   \n",
       "std        2.031529      1.616186      1.758169      1.482109      1.486998   \n",
       "min      -30.552380    -42.172688    -31.103685     -5.560118    -42.147898   \n",
       "25%       -0.916927     -0.575381     -0.899872     -0.843321     -0.714901   \n",
       "50%        0.020050      0.075358      0.180610     -0.008844     -0.060040   \n",
       "75%        1.317461      0.806957      1.029928      0.771958      0.613328   \n",
       "max        2.399484     21.467203      4.069865     11.927512     32.911462   \n",
       "\n",
       "                 V6            V7            V8            V9           V10  \\\n",
       "count  28678.000000  28678.000000  28678.000000  28678.000000  28678.000000   \n",
       "mean      -0.003299     -0.051054      0.006064     -0.018530     -0.041149   \n",
       "std        1.339259      1.454827      1.364342      1.134065      1.252593   \n",
       "min      -21.929312    -41.506796    -39.267378    -13.434066    -24.403185   \n",
       "25%       -0.763757     -0.568146     -0.206103     -0.661909     -0.543450   \n",
       "50%       -0.271363      0.036107      0.022463     -0.055095     -0.097390   \n",
       "75%        0.397269      0.559409      0.329606      0.605704      0.460681   \n",
       "max       22.529298     36.677268     20.007208      8.113152     15.236028   \n",
       "\n",
       "       ...           V19           V20           V21           V22  \\\n",
       "count  ...  28678.000000  28678.000000  28678.000000  28678.000000   \n",
       "mean   ...      0.007183      0.002633      0.010289     -0.000656   \n",
       "std    ...      0.827420      0.720307      0.847152      0.739469   \n",
       "min    ...     -4.619034    -21.387122    -21.453736     -8.887017   \n",
       "25%    ...     -0.459073     -0.209678     -0.225520     -0.539244   \n",
       "50%    ...      0.002111     -0.062792     -0.028778      0.007302   \n",
       "75%    ...      0.467781      0.131199      0.184312      0.526358   \n",
       "max    ...      5.228342     26.237391     27.202839      8.361985   \n",
       "\n",
       "                V23           V24           V25           V26           V27  \\\n",
       "count  28678.000000  28678.000000  28678.000000  28678.000000  28678.000000   \n",
       "mean      -0.004800     -0.000897     -0.001989     -0.000765      0.000948   \n",
       "std        0.593663      0.603349      0.517968      0.483852      0.397075   \n",
       "min      -36.666000     -2.718024     -6.712624     -2.241620     -7.418878   \n",
       "25%       -0.160583     -0.356047     -0.318619     -0.327343     -0.070558   \n",
       "50%       -0.011199      0.040006      0.019770     -0.056260      0.002049   \n",
       "75%        0.146835      0.437146      0.352717      0.240713      0.091637   \n",
       "max        9.637187      3.948061      2.510401      3.122747     11.135740   \n",
       "\n",
       "                V28  \n",
       "count  28678.000000  \n",
       "mean       0.001535  \n",
       "std        0.296736  \n",
       "min       -9.617915  \n",
       "25%       -0.052189  \n",
       "50%        0.011075  \n",
       "75%        0.078911  \n",
       "max       14.929133  \n",
       "\n",
       "[8 rows x 28 columns]"
      ]
     },
     "execution_count": 62,
     "metadata": {},
     "output_type": "execute_result"
    }
   ],
   "source": [
    "X_data.describe()"
   ]
  },
  {
   "cell_type": "code",
   "execution_count": null,
   "metadata": {},
   "outputs": [],
   "source": [
    "# target 변수 numeric -> category\n",
    "y_data = data['Class']\n",
    "y_data = y_data.astype('category')"
   ]
  },
  {
   "cell_type": "code",
   "execution_count": 83,
   "metadata": {},
   "outputs": [
    {
     "data": {
      "text/plain": [
       "CategoricalDtype(categories=[0, 1], ordered=False)"
      ]
     },
     "execution_count": 83,
     "metadata": {},
     "output_type": "execute_result"
    }
   ],
   "source": [
    "y_data.dtype"
   ]
  },
  {
   "cell_type": "code",
   "execution_count": 52,
   "metadata": {},
   "outputs": [
    {
     "data": {
      "text/plain": [
       "0    28432\n",
       "1      246\n",
       "Name: Class, dtype: int64"
      ]
     },
     "execution_count": 52,
     "metadata": {},
     "output_type": "execute_result"
    }
   ],
   "source": [
    "y_data.value_counts()"
   ]
  },
  {
   "cell_type": "code",
   "execution_count": 78,
   "metadata": {},
   "outputs": [],
   "source": [
    "from sklearn.model_selection import train_test_split\n",
    "\n",
    "X_train,X_test,y_train,y_test=train_test_split(X_data, y_data, test_size=0.2,random_state=0)"
   ]
  },
  {
   "cell_type": "code",
   "execution_count": 184,
   "metadata": {},
   "outputs": [
    {
     "data": {
      "text/html": [
       "<div>\n",
       "<style scoped>\n",
       "    .dataframe tbody tr th:only-of-type {\n",
       "        vertical-align: middle;\n",
       "    }\n",
       "\n",
       "    .dataframe tbody tr th {\n",
       "        vertical-align: top;\n",
       "    }\n",
       "\n",
       "    .dataframe thead th {\n",
       "        text-align: right;\n",
       "    }\n",
       "</style>\n",
       "<table border=\"1\" class=\"dataframe\">\n",
       "  <thead>\n",
       "    <tr style=\"text-align: right;\">\n",
       "      <th></th>\n",
       "      <th>train</th>\n",
       "      <th>test</th>\n",
       "    </tr>\n",
       "  </thead>\n",
       "  <tbody>\n",
       "    <tr>\n",
       "      <th>0 (otherwise)</th>\n",
       "      <td>22738</td>\n",
       "      <td>5694</td>\n",
       "    </tr>\n",
       "    <tr>\n",
       "      <th>1 (fraud)</th>\n",
       "      <td>204</td>\n",
       "      <td>42</td>\n",
       "    </tr>\n",
       "  </tbody>\n",
       "</table>\n",
       "</div>"
      ],
      "text/plain": [
       "               train  test\n",
       "0 (otherwise)  22738  5694\n",
       "1 (fraud)        204    42"
      ]
     },
     "execution_count": 184,
     "metadata": {},
     "output_type": "execute_result"
    }
   ],
   "source": [
    "pd.DataFrame([[sum(y_train == 0), sum(y_test == 0)], [sum(y_train == 1), sum(y_test == 1)]], \n",
    "             columns=['train', 'test'], index=['0 (otherwise)', '1 (fraud)'])"
   ]
  },
  {
   "cell_type": "markdown",
   "metadata": {},
   "source": [
    "## **정규화**"
   ]
  },
  {
   "cell_type": "markdown",
   "metadata": {},
   "source": [
    "### 1. Z-score 정규화"
   ]
  },
  {
   "cell_type": "code",
   "execution_count": 54,
   "metadata": {},
   "outputs": [],
   "source": [
    "from sklearn.preprocessing import StandardScaler\n",
    "\n",
    "s_scaler = StandardScaler()"
   ]
  },
  {
   "cell_type": "code",
   "execution_count": 55,
   "metadata": {},
   "outputs": [],
   "source": [
    "s_scaler.fit(X_train)\n",
    "X_train_ss = s_scaler.transform(X_train)\n",
    "X_test_ss = s_scaler.transform(X_test)"
   ]
  },
  {
   "cell_type": "code",
   "execution_count": 67,
   "metadata": {},
   "outputs": [
    {
     "data": {
      "text/html": [
       "<div>\n",
       "<style scoped>\n",
       "    .dataframe tbody tr th:only-of-type {\n",
       "        vertical-align: middle;\n",
       "    }\n",
       "\n",
       "    .dataframe tbody tr th {\n",
       "        vertical-align: top;\n",
       "    }\n",
       "\n",
       "    .dataframe thead th {\n",
       "        text-align: right;\n",
       "    }\n",
       "</style>\n",
       "<table border=\"1\" class=\"dataframe\">\n",
       "  <thead>\n",
       "    <tr style=\"text-align: right;\">\n",
       "      <th></th>\n",
       "      <th>V1</th>\n",
       "      <th>V2</th>\n",
       "      <th>V3</th>\n",
       "      <th>V4</th>\n",
       "      <th>V5</th>\n",
       "      <th>V6</th>\n",
       "      <th>V7</th>\n",
       "      <th>V8</th>\n",
       "      <th>V9</th>\n",
       "      <th>V10</th>\n",
       "      <th>...</th>\n",
       "      <th>V19</th>\n",
       "      <th>V20</th>\n",
       "      <th>V21</th>\n",
       "      <th>V22</th>\n",
       "      <th>V23</th>\n",
       "      <th>V24</th>\n",
       "      <th>V25</th>\n",
       "      <th>V26</th>\n",
       "      <th>V27</th>\n",
       "      <th>V28</th>\n",
       "    </tr>\n",
       "  </thead>\n",
       "  <tbody>\n",
       "    <tr>\n",
       "      <th>count</th>\n",
       "      <td>2.294200e+04</td>\n",
       "      <td>2.294200e+04</td>\n",
       "      <td>2.294200e+04</td>\n",
       "      <td>2.294200e+04</td>\n",
       "      <td>2.294200e+04</td>\n",
       "      <td>2.294200e+04</td>\n",
       "      <td>2.294200e+04</td>\n",
       "      <td>2.294200e+04</td>\n",
       "      <td>2.294200e+04</td>\n",
       "      <td>2.294200e+04</td>\n",
       "      <td>...</td>\n",
       "      <td>2.294200e+04</td>\n",
       "      <td>2.294200e+04</td>\n",
       "      <td>2.294200e+04</td>\n",
       "      <td>2.294200e+04</td>\n",
       "      <td>2.294200e+04</td>\n",
       "      <td>2.294200e+04</td>\n",
       "      <td>2.294200e+04</td>\n",
       "      <td>2.294200e+04</td>\n",
       "      <td>2.294200e+04</td>\n",
       "      <td>2.294200e+04</td>\n",
       "    </tr>\n",
       "    <tr>\n",
       "      <th>mean</th>\n",
       "      <td>1.902555e-17</td>\n",
       "      <td>3.173103e-17</td>\n",
       "      <td>3.726230e-18</td>\n",
       "      <td>-5.930513e-18</td>\n",
       "      <td>-3.886410e-17</td>\n",
       "      <td>-2.442858e-17</td>\n",
       "      <td>-1.316279e-17</td>\n",
       "      <td>-1.631254e-17</td>\n",
       "      <td>-2.532022e-17</td>\n",
       "      <td>2.031037e-17</td>\n",
       "      <td>...</td>\n",
       "      <td>-1.274177e-17</td>\n",
       "      <td>-1.031730e-17</td>\n",
       "      <td>-9.655760e-18</td>\n",
       "      <td>2.747490e-17</td>\n",
       "      <td>-4.222254e-17</td>\n",
       "      <td>9.925322e-18</td>\n",
       "      <td>-7.182793e-17</td>\n",
       "      <td>2.424469e-18</td>\n",
       "      <td>6.211190e-18</td>\n",
       "      <td>2.027983e-17</td>\n",
       "    </tr>\n",
       "    <tr>\n",
       "      <th>std</th>\n",
       "      <td>1.000022e+00</td>\n",
       "      <td>1.000022e+00</td>\n",
       "      <td>1.000022e+00</td>\n",
       "      <td>1.000022e+00</td>\n",
       "      <td>1.000022e+00</td>\n",
       "      <td>1.000022e+00</td>\n",
       "      <td>1.000022e+00</td>\n",
       "      <td>1.000022e+00</td>\n",
       "      <td>1.000022e+00</td>\n",
       "      <td>1.000022e+00</td>\n",
       "      <td>...</td>\n",
       "      <td>1.000022e+00</td>\n",
       "      <td>1.000022e+00</td>\n",
       "      <td>1.000022e+00</td>\n",
       "      <td>1.000022e+00</td>\n",
       "      <td>1.000022e+00</td>\n",
       "      <td>1.000022e+00</td>\n",
       "      <td>1.000022e+00</td>\n",
       "      <td>1.000022e+00</td>\n",
       "      <td>1.000022e+00</td>\n",
       "      <td>1.000022e+00</td>\n",
       "    </tr>\n",
       "    <tr>\n",
       "      <th>min</th>\n",
       "      <td>-1.517044e+01</td>\n",
       "      <td>-1.649089e+01</td>\n",
       "      <td>-1.775915e+01</td>\n",
       "      <td>-3.784371e+00</td>\n",
       "      <td>-2.873951e+01</td>\n",
       "      <td>-1.074722e+01</td>\n",
       "      <td>-2.852504e+01</td>\n",
       "      <td>-2.809877e+01</td>\n",
       "      <td>-1.182546e+01</td>\n",
       "      <td>-1.942476e+01</td>\n",
       "      <td>...</td>\n",
       "      <td>-5.096179e+00</td>\n",
       "      <td>-3.053956e+01</td>\n",
       "      <td>-2.442527e+01</td>\n",
       "      <td>-1.197975e+01</td>\n",
       "      <td>-5.983940e+01</td>\n",
       "      <td>-4.405928e+00</td>\n",
       "      <td>-1.293812e+01</td>\n",
       "      <td>-3.312789e+00</td>\n",
       "      <td>-1.853767e+01</td>\n",
       "      <td>-3.158377e+01</td>\n",
       "    </tr>\n",
       "    <tr>\n",
       "      <th>25%</th>\n",
       "      <td>-4.505057e-01</td>\n",
       "      <td>-4.029434e-01</td>\n",
       "      <td>-4.890375e-01</td>\n",
       "      <td>-5.935939e-01</td>\n",
       "      <td>-4.651806e-01</td>\n",
       "      <td>-5.721897e-01</td>\n",
       "      <td>-3.543420e-01</td>\n",
       "      <td>-1.494242e-01</td>\n",
       "      <td>-5.674995e-01</td>\n",
       "      <td>-3.971541e-01</td>\n",
       "      <td>...</td>\n",
       "      <td>-5.651710e-01</td>\n",
       "      <td>-3.014459e-01</td>\n",
       "      <td>-2.713501e-01</td>\n",
       "      <td>-7.231380e-01</td>\n",
       "      <td>-2.510221e-01</td>\n",
       "      <td>-5.903839e-01</td>\n",
       "      <td>-6.087706e-01</td>\n",
       "      <td>-6.749412e-01</td>\n",
       "      <td>-1.785865e-01</td>\n",
       "      <td>-1.775408e-01</td>\n",
       "    </tr>\n",
       "    <tr>\n",
       "      <th>50%</th>\n",
       "      <td>1.768164e-02</td>\n",
       "      <td>1.282191e-02</td>\n",
       "      <td>1.299755e-01</td>\n",
       "      <td>-3.539583e-02</td>\n",
       "      <td>-1.557343e-02</td>\n",
       "      <td>-2.040673e-01</td>\n",
       "      <td>6.311913e-02</td>\n",
       "      <td>1.553498e-02</td>\n",
       "      <td>-2.961248e-02</td>\n",
       "      <td>-4.394846e-02</td>\n",
       "      <td>...</td>\n",
       "      <td>-6.713531e-03</td>\n",
       "      <td>-9.322504e-02</td>\n",
       "      <td>-4.777072e-02</td>\n",
       "      <td>1.109330e-02</td>\n",
       "      <td>-8.356701e-03</td>\n",
       "      <td>6.382069e-02</td>\n",
       "      <td>4.313675e-02</td>\n",
       "      <td>-1.112337e-01</td>\n",
       "      <td>2.674957e-03</td>\n",
       "      <td>3.111585e-02</td>\n",
       "    </tr>\n",
       "    <tr>\n",
       "      <th>75%</th>\n",
       "      <td>6.599516e-01</td>\n",
       "      <td>4.801646e-01</td>\n",
       "      <td>6.145996e-01</td>\n",
       "      <td>4.964767e-01</td>\n",
       "      <td>4.420154e-01</td>\n",
       "      <td>3.022863e-01</td>\n",
       "      <td>4.221079e-01</td>\n",
       "      <td>2.342291e-01</td>\n",
       "      <td>5.515835e-01</td>\n",
       "      <td>4.001310e-01</td>\n",
       "      <td>...</td>\n",
       "      <td>5.589014e-01</td>\n",
       "      <td>1.851617e-01</td>\n",
       "      <td>1.969259e-01</td>\n",
       "      <td>7.086233e-01</td>\n",
       "      <td>2.478910e-01</td>\n",
       "      <td>7.259376e-01</td>\n",
       "      <td>6.858610e-01</td>\n",
       "      <td>4.967523e-01</td>\n",
       "      <td>2.248024e-01</td>\n",
       "      <td>2.561502e-01</td>\n",
       "    </tr>\n",
       "    <tr>\n",
       "      <th>max</th>\n",
       "      <td>1.196630e+00</td>\n",
       "      <td>1.363562e+01</td>\n",
       "      <td>2.355747e+00</td>\n",
       "      <td>8.033104e+00</td>\n",
       "      <td>1.443260e+01</td>\n",
       "      <td>1.687265e+01</td>\n",
       "      <td>2.527632e+01</td>\n",
       "      <td>1.431648e+01</td>\n",
       "      <td>7.169665e+00</td>\n",
       "      <td>1.218529e+01</td>\n",
       "      <td>...</td>\n",
       "      <td>6.335407e+00</td>\n",
       "      <td>1.672660e+01</td>\n",
       "      <td>3.093969e+01</td>\n",
       "      <td>1.128239e+01</td>\n",
       "      <td>1.574101e+01</td>\n",
       "      <td>6.557019e+00</td>\n",
       "      <td>4.808085e+00</td>\n",
       "      <td>6.459839e+00</td>\n",
       "      <td>2.781833e+01</td>\n",
       "      <td>4.900858e+01</td>\n",
       "    </tr>\n",
       "  </tbody>\n",
       "</table>\n",
       "<p>8 rows × 28 columns</p>\n",
       "</div>"
      ],
      "text/plain": [
       "                 V1            V2            V3            V4            V5  \\\n",
       "count  2.294200e+04  2.294200e+04  2.294200e+04  2.294200e+04  2.294200e+04   \n",
       "mean   1.902555e-17  3.173103e-17  3.726230e-18 -5.930513e-18 -3.886410e-17   \n",
       "std    1.000022e+00  1.000022e+00  1.000022e+00  1.000022e+00  1.000022e+00   \n",
       "min   -1.517044e+01 -1.649089e+01 -1.775915e+01 -3.784371e+00 -2.873951e+01   \n",
       "25%   -4.505057e-01 -4.029434e-01 -4.890375e-01 -5.935939e-01 -4.651806e-01   \n",
       "50%    1.768164e-02  1.282191e-02  1.299755e-01 -3.539583e-02 -1.557343e-02   \n",
       "75%    6.599516e-01  4.801646e-01  6.145996e-01  4.964767e-01  4.420154e-01   \n",
       "max    1.196630e+00  1.363562e+01  2.355747e+00  8.033104e+00  1.443260e+01   \n",
       "\n",
       "                 V6            V7            V8            V9           V10  \\\n",
       "count  2.294200e+04  2.294200e+04  2.294200e+04  2.294200e+04  2.294200e+04   \n",
       "mean  -2.442858e-17 -1.316279e-17 -1.631254e-17 -2.532022e-17  2.031037e-17   \n",
       "std    1.000022e+00  1.000022e+00  1.000022e+00  1.000022e+00  1.000022e+00   \n",
       "min   -1.074722e+01 -2.852504e+01 -2.809877e+01 -1.182546e+01 -1.942476e+01   \n",
       "25%   -5.721897e-01 -3.543420e-01 -1.494242e-01 -5.674995e-01 -3.971541e-01   \n",
       "50%   -2.040673e-01  6.311913e-02  1.553498e-02 -2.961248e-02 -4.394846e-02   \n",
       "75%    3.022863e-01  4.221079e-01  2.342291e-01  5.515835e-01  4.001310e-01   \n",
       "max    1.687265e+01  2.527632e+01  1.431648e+01  7.169665e+00  1.218529e+01   \n",
       "\n",
       "       ...           V19           V20           V21           V22  \\\n",
       "count  ...  2.294200e+04  2.294200e+04  2.294200e+04  2.294200e+04   \n",
       "mean   ... -1.274177e-17 -1.031730e-17 -9.655760e-18  2.747490e-17   \n",
       "std    ...  1.000022e+00  1.000022e+00  1.000022e+00  1.000022e+00   \n",
       "min    ... -5.096179e+00 -3.053956e+01 -2.442527e+01 -1.197975e+01   \n",
       "25%    ... -5.651710e-01 -3.014459e-01 -2.713501e-01 -7.231380e-01   \n",
       "50%    ... -6.713531e-03 -9.322504e-02 -4.777072e-02  1.109330e-02   \n",
       "75%    ...  5.589014e-01  1.851617e-01  1.969259e-01  7.086233e-01   \n",
       "max    ...  6.335407e+00  1.672660e+01  3.093969e+01  1.128239e+01   \n",
       "\n",
       "                V23           V24           V25           V26           V27  \\\n",
       "count  2.294200e+04  2.294200e+04  2.294200e+04  2.294200e+04  2.294200e+04   \n",
       "mean  -4.222254e-17  9.925322e-18 -7.182793e-17  2.424469e-18  6.211190e-18   \n",
       "std    1.000022e+00  1.000022e+00  1.000022e+00  1.000022e+00  1.000022e+00   \n",
       "min   -5.983940e+01 -4.405928e+00 -1.293812e+01 -3.312789e+00 -1.853767e+01   \n",
       "25%   -2.510221e-01 -5.903839e-01 -6.087706e-01 -6.749412e-01 -1.785865e-01   \n",
       "50%   -8.356701e-03  6.382069e-02  4.313675e-02 -1.112337e-01  2.674957e-03   \n",
       "75%    2.478910e-01  7.259376e-01  6.858610e-01  4.967523e-01  2.248024e-01   \n",
       "max    1.574101e+01  6.557019e+00  4.808085e+00  6.459839e+00  2.781833e+01   \n",
       "\n",
       "                V28  \n",
       "count  2.294200e+04  \n",
       "mean   2.027983e-17  \n",
       "std    1.000022e+00  \n",
       "min   -3.158377e+01  \n",
       "25%   -1.775408e-01  \n",
       "50%    3.111585e-02  \n",
       "75%    2.561502e-01  \n",
       "max    4.900858e+01  \n",
       "\n",
       "[8 rows x 28 columns]"
      ]
     },
     "execution_count": 67,
     "metadata": {},
     "output_type": "execute_result"
    }
   ],
   "source": [
    "pd.DataFrame(X_train_ss, columns = X_cols).describe()"
   ]
  },
  {
   "cell_type": "markdown",
   "metadata": {},
   "source": [
    "### 2. 최대최소 정규화"
   ]
  },
  {
   "cell_type": "code",
   "execution_count": 56,
   "metadata": {},
   "outputs": [],
   "source": [
    "from sklearn.preprocessing import MinMaxScaler\n",
    "\n",
    "mm_scaler = MinMaxScaler()"
   ]
  },
  {
   "cell_type": "code",
   "execution_count": 57,
   "metadata": {},
   "outputs": [],
   "source": [
    "mm_scaler.fit(X_train)\n",
    "X_train_mms = mm_scaler.transform(X_train)\n",
    "X_test_mms = mm_scaler.transform(X_test)"
   ]
  },
  {
   "cell_type": "code",
   "execution_count": 58,
   "metadata": {},
   "outputs": [
    {
     "name": "stdout",
     "output_type": "stream",
     "text": [
      "[0. 0. 0. 0. 0. 0. 0. 0. 0. 0. 0. 0. 0. 0. 0. 0. 0. 0. 0. 0. 0. 0. 0. 0.\n",
      " 0. 0. 0. 0.]\n",
      "[1. 1. 1. 1. 1. 1. 1. 1. 1. 1. 1. 1. 1. 1. 1. 1. 1. 1. 1. 1. 1. 1. 1. 1.\n",
      " 1. 1. 1. 1.]\n"
     ]
    }
   ],
   "source": [
    "print(X_train_mms.min(axis=0))\n",
    "print(X_train_mms.max(axis=0))"
   ]
  },
  {
   "cell_type": "code",
   "execution_count": 59,
   "metadata": {},
   "outputs": [
    {
     "name": "stdout",
     "output_type": "stream",
     "text": [
      "[ 0.06154773 -0.3454811   0.02633705  0.03789942  0.27062763 -0.20541912\n",
      "  0.13186149  0.18948322  0.18431584  0.05590667 -0.02145405  0.103056\n",
      "  0.03343946  0.15852006  0.03517495  0.07407103  0.06949076  0.0355305\n",
      " -0.04526278  0.45859461  0.15198206  0.11366824  0.5476008  -0.01043547\n",
      "  0.20256412 -0.13498135  0.00837504  0.2322582 ]\n",
      "[0.99928651 0.89492943 0.9947092  0.9930212  1.18637096 0.78421499\n",
      " 0.82750581 0.97877106 0.98180046 0.9200847  0.83913183 0.95924839\n",
      " 1.00588951 0.93364703 0.91284741 0.90865292 0.94726222 0.97565396\n",
      " 0.88341839 1.43860913 0.68449499 0.79348424 0.94631553 0.94386922\n",
      " 1.00202791 0.98790373 0.63967656 0.58859454]\n"
     ]
    }
   ],
   "source": [
    "print(X_test_mms.min(axis=0))\n",
    "print(X_test_mms.max(axis=0))"
   ]
  },
  {
   "cell_type": "code",
   "execution_count": 66,
   "metadata": {},
   "outputs": [
    {
     "data": {
      "text/html": [
       "<div>\n",
       "<style scoped>\n",
       "    .dataframe tbody tr th:only-of-type {\n",
       "        vertical-align: middle;\n",
       "    }\n",
       "\n",
       "    .dataframe tbody tr th {\n",
       "        vertical-align: top;\n",
       "    }\n",
       "\n",
       "    .dataframe thead th {\n",
       "        text-align: right;\n",
       "    }\n",
       "</style>\n",
       "<table border=\"1\" class=\"dataframe\">\n",
       "  <thead>\n",
       "    <tr style=\"text-align: right;\">\n",
       "      <th></th>\n",
       "      <th>V1</th>\n",
       "      <th>V2</th>\n",
       "      <th>V3</th>\n",
       "      <th>V4</th>\n",
       "      <th>V5</th>\n",
       "      <th>V6</th>\n",
       "      <th>V7</th>\n",
       "      <th>V8</th>\n",
       "      <th>V9</th>\n",
       "      <th>V10</th>\n",
       "      <th>...</th>\n",
       "      <th>V19</th>\n",
       "      <th>V20</th>\n",
       "      <th>V21</th>\n",
       "      <th>V22</th>\n",
       "      <th>V23</th>\n",
       "      <th>V24</th>\n",
       "      <th>V25</th>\n",
       "      <th>V26</th>\n",
       "      <th>V27</th>\n",
       "      <th>V28</th>\n",
       "    </tr>\n",
       "  </thead>\n",
       "  <tbody>\n",
       "    <tr>\n",
       "      <th>count</th>\n",
       "      <td>22942.000000</td>\n",
       "      <td>22942.000000</td>\n",
       "      <td>22942.000000</td>\n",
       "      <td>22942.000000</td>\n",
       "      <td>22942.000000</td>\n",
       "      <td>22942.000000</td>\n",
       "      <td>22942.000000</td>\n",
       "      <td>22942.000000</td>\n",
       "      <td>22942.000000</td>\n",
       "      <td>22942.000000</td>\n",
       "      <td>...</td>\n",
       "      <td>22942.000000</td>\n",
       "      <td>22942.000000</td>\n",
       "      <td>22942.000000</td>\n",
       "      <td>22942.000000</td>\n",
       "      <td>22942.000000</td>\n",
       "      <td>22942.000000</td>\n",
       "      <td>22942.000000</td>\n",
       "      <td>22942.000000</td>\n",
       "      <td>22942.000000</td>\n",
       "      <td>22942.000000</td>\n",
       "    </tr>\n",
       "    <tr>\n",
       "      <th>mean</th>\n",
       "      <td>0.926888</td>\n",
       "      <td>0.547388</td>\n",
       "      <td>0.882885</td>\n",
       "      <td>0.320235</td>\n",
       "      <td>0.665696</td>\n",
       "      <td>0.389112</td>\n",
       "      <td>0.530192</td>\n",
       "      <td>0.662469</td>\n",
       "      <td>0.622552</td>\n",
       "      <td>0.614512</td>\n",
       "      <td>...</td>\n",
       "      <td>0.445798</td>\n",
       "      <td>0.646119</td>\n",
       "      <td>0.441168</td>\n",
       "      <td>0.514989</td>\n",
       "      <td>0.791732</td>\n",
       "      <td>0.401893</td>\n",
       "      <td>0.729064</td>\n",
       "      <td>0.338987</td>\n",
       "      <td>0.399898</td>\n",
       "      <td>0.391895</td>\n",
       "    </tr>\n",
       "    <tr>\n",
       "      <th>std</th>\n",
       "      <td>0.061100</td>\n",
       "      <td>0.033194</td>\n",
       "      <td>0.049715</td>\n",
       "      <td>0.084622</td>\n",
       "      <td>0.023164</td>\n",
       "      <td>0.036207</td>\n",
       "      <td>0.018587</td>\n",
       "      <td>0.023577</td>\n",
       "      <td>0.052646</td>\n",
       "      <td>0.031636</td>\n",
       "      <td>...</td>\n",
       "      <td>0.087479</td>\n",
       "      <td>0.021157</td>\n",
       "      <td>0.018062</td>\n",
       "      <td>0.042989</td>\n",
       "      <td>0.013231</td>\n",
       "      <td>0.091218</td>\n",
       "      <td>0.056351</td>\n",
       "      <td>0.102329</td>\n",
       "      <td>0.021573</td>\n",
       "      <td>0.012408</td>\n",
       "    </tr>\n",
       "    <tr>\n",
       "      <th>min</th>\n",
       "      <td>0.000000</td>\n",
       "      <td>0.000000</td>\n",
       "      <td>0.000000</td>\n",
       "      <td>0.000000</td>\n",
       "      <td>0.000000</td>\n",
       "      <td>0.000000</td>\n",
       "      <td>0.000000</td>\n",
       "      <td>0.000000</td>\n",
       "      <td>0.000000</td>\n",
       "      <td>0.000000</td>\n",
       "      <td>...</td>\n",
       "      <td>0.000000</td>\n",
       "      <td>0.000000</td>\n",
       "      <td>0.000000</td>\n",
       "      <td>0.000000</td>\n",
       "      <td>0.000000</td>\n",
       "      <td>0.000000</td>\n",
       "      <td>0.000000</td>\n",
       "      <td>0.000000</td>\n",
       "      <td>0.000000</td>\n",
       "      <td>0.000000</td>\n",
       "    </tr>\n",
       "    <tr>\n",
       "      <th>25%</th>\n",
       "      <td>0.899363</td>\n",
       "      <td>0.534013</td>\n",
       "      <td>0.858573</td>\n",
       "      <td>0.270005</td>\n",
       "      <td>0.654921</td>\n",
       "      <td>0.368395</td>\n",
       "      <td>0.523606</td>\n",
       "      <td>0.658946</td>\n",
       "      <td>0.592676</td>\n",
       "      <td>0.601948</td>\n",
       "      <td>...</td>\n",
       "      <td>0.396359</td>\n",
       "      <td>0.639741</td>\n",
       "      <td>0.436267</td>\n",
       "      <td>0.483903</td>\n",
       "      <td>0.788410</td>\n",
       "      <td>0.348040</td>\n",
       "      <td>0.694760</td>\n",
       "      <td>0.269922</td>\n",
       "      <td>0.396045</td>\n",
       "      <td>0.389692</td>\n",
       "    </tr>\n",
       "    <tr>\n",
       "      <th>50%</th>\n",
       "      <td>0.927968</td>\n",
       "      <td>0.547814</td>\n",
       "      <td>0.889347</td>\n",
       "      <td>0.317240</td>\n",
       "      <td>0.665336</td>\n",
       "      <td>0.381723</td>\n",
       "      <td>0.531365</td>\n",
       "      <td>0.662835</td>\n",
       "      <td>0.620993</td>\n",
       "      <td>0.613122</td>\n",
       "      <td>...</td>\n",
       "      <td>0.445211</td>\n",
       "      <td>0.644147</td>\n",
       "      <td>0.440306</td>\n",
       "      <td>0.515466</td>\n",
       "      <td>0.791621</td>\n",
       "      <td>0.407714</td>\n",
       "      <td>0.731495</td>\n",
       "      <td>0.327604</td>\n",
       "      <td>0.399956</td>\n",
       "      <td>0.392281</td>\n",
       "    </tr>\n",
       "    <tr>\n",
       "      <th>75%</th>\n",
       "      <td>0.967210</td>\n",
       "      <td>0.563326</td>\n",
       "      <td>0.913440</td>\n",
       "      <td>0.362247</td>\n",
       "      <td>0.675935</td>\n",
       "      <td>0.400056</td>\n",
       "      <td>0.538037</td>\n",
       "      <td>0.667991</td>\n",
       "      <td>0.651591</td>\n",
       "      <td>0.627171</td>\n",
       "      <td>...</td>\n",
       "      <td>0.494689</td>\n",
       "      <td>0.650036</td>\n",
       "      <td>0.444725</td>\n",
       "      <td>0.545452</td>\n",
       "      <td>0.795011</td>\n",
       "      <td>0.468110</td>\n",
       "      <td>0.767712</td>\n",
       "      <td>0.389818</td>\n",
       "      <td>0.404747</td>\n",
       "      <td>0.395074</td>\n",
       "    </tr>\n",
       "    <tr>\n",
       "      <th>max</th>\n",
       "      <td>1.000000</td>\n",
       "      <td>1.000000</td>\n",
       "      <td>1.000000</td>\n",
       "      <td>1.000000</td>\n",
       "      <td>1.000000</td>\n",
       "      <td>1.000000</td>\n",
       "      <td>1.000000</td>\n",
       "      <td>1.000000</td>\n",
       "      <td>1.000000</td>\n",
       "      <td>1.000000</td>\n",
       "      <td>...</td>\n",
       "      <td>1.000000</td>\n",
       "      <td>1.000000</td>\n",
       "      <td>1.000000</td>\n",
       "      <td>1.000000</td>\n",
       "      <td>1.000000</td>\n",
       "      <td>1.000000</td>\n",
       "      <td>1.000000</td>\n",
       "      <td>1.000000</td>\n",
       "      <td>1.000000</td>\n",
       "      <td>1.000000</td>\n",
       "    </tr>\n",
       "  </tbody>\n",
       "</table>\n",
       "<p>8 rows × 28 columns</p>\n",
       "</div>"
      ],
      "text/plain": [
       "                 V1            V2            V3            V4            V5  \\\n",
       "count  22942.000000  22942.000000  22942.000000  22942.000000  22942.000000   \n",
       "mean       0.926888      0.547388      0.882885      0.320235      0.665696   \n",
       "std        0.061100      0.033194      0.049715      0.084622      0.023164   \n",
       "min        0.000000      0.000000      0.000000      0.000000      0.000000   \n",
       "25%        0.899363      0.534013      0.858573      0.270005      0.654921   \n",
       "50%        0.927968      0.547814      0.889347      0.317240      0.665336   \n",
       "75%        0.967210      0.563326      0.913440      0.362247      0.675935   \n",
       "max        1.000000      1.000000      1.000000      1.000000      1.000000   \n",
       "\n",
       "                 V6            V7            V8            V9           V10  \\\n",
       "count  22942.000000  22942.000000  22942.000000  22942.000000  22942.000000   \n",
       "mean       0.389112      0.530192      0.662469      0.622552      0.614512   \n",
       "std        0.036207      0.018587      0.023577      0.052646      0.031636   \n",
       "min        0.000000      0.000000      0.000000      0.000000      0.000000   \n",
       "25%        0.368395      0.523606      0.658946      0.592676      0.601948   \n",
       "50%        0.381723      0.531365      0.662835      0.620993      0.613122   \n",
       "75%        0.400056      0.538037      0.667991      0.651591      0.627171   \n",
       "max        1.000000      1.000000      1.000000      1.000000      1.000000   \n",
       "\n",
       "       ...           V19           V20           V21           V22  \\\n",
       "count  ...  22942.000000  22942.000000  22942.000000  22942.000000   \n",
       "mean   ...      0.445798      0.646119      0.441168      0.514989   \n",
       "std    ...      0.087479      0.021157      0.018062      0.042989   \n",
       "min    ...      0.000000      0.000000      0.000000      0.000000   \n",
       "25%    ...      0.396359      0.639741      0.436267      0.483903   \n",
       "50%    ...      0.445211      0.644147      0.440306      0.515466   \n",
       "75%    ...      0.494689      0.650036      0.444725      0.545452   \n",
       "max    ...      1.000000      1.000000      1.000000      1.000000   \n",
       "\n",
       "                V23           V24           V25           V26           V27  \\\n",
       "count  22942.000000  22942.000000  22942.000000  22942.000000  22942.000000   \n",
       "mean       0.791732      0.401893      0.729064      0.338987      0.399898   \n",
       "std        0.013231      0.091218      0.056351      0.102329      0.021573   \n",
       "min        0.000000      0.000000      0.000000      0.000000      0.000000   \n",
       "25%        0.788410      0.348040      0.694760      0.269922      0.396045   \n",
       "50%        0.791621      0.407714      0.731495      0.327604      0.399956   \n",
       "75%        0.795011      0.468110      0.767712      0.389818      0.404747   \n",
       "max        1.000000      1.000000      1.000000      1.000000      1.000000   \n",
       "\n",
       "                V28  \n",
       "count  22942.000000  \n",
       "mean       0.391895  \n",
       "std        0.012408  \n",
       "min        0.000000  \n",
       "25%        0.389692  \n",
       "50%        0.392281  \n",
       "75%        0.395074  \n",
       "max        1.000000  \n",
       "\n",
       "[8 rows x 28 columns]"
      ]
     },
     "execution_count": 66,
     "metadata": {},
     "output_type": "execute_result"
    }
   ],
   "source": [
    "pd.DataFrame(X_train_mms, columns = X_cols).describe()"
   ]
  },
  {
   "cell_type": "markdown",
   "metadata": {},
   "source": [
    "## **Logistic Regression**"
   ]
  },
  {
   "cell_type": "code",
   "execution_count": 37,
   "metadata": {},
   "outputs": [],
   "source": [
    "from sklearn.linear_model import LogisticRegression\n",
    "from sklearn.metrics import accuracy_score, precision_score, recall_score, f1_score, roc_auc_score"
   ]
  },
  {
   "cell_type": "code",
   "execution_count": null,
   "metadata": {},
   "outputs": [],
   "source": [
    "### 1. Z-score 정규화"
   ]
  },
  {
   "cell_type": "code",
   "execution_count": 113,
   "metadata": {},
   "outputs": [],
   "source": [
    "LR_model1 = LogisticRegression(random_state=0)\n",
    "LR_model2 = LogisticRegression(random_state=0)\n",
    "LR_model3 = LogisticRegression(random_state=0)\n",
    "\n",
    "lr1 = LR_model1.fit(X_train, y_train)\n",
    "lr2 = LR_model2.fit(X_train_ss, y_train)\n",
    "lr3 = LR_model3.fit(X_train_mms, y_train)"
   ]
  },
  {
   "cell_type": "markdown",
   "metadata": {},
   "source": [
    "* 회귀계수 확인"
   ]
  },
  {
   "cell_type": "code",
   "execution_count": 114,
   "metadata": {},
   "outputs": [
    {
     "data": {
      "text/html": [
       "<div>\n",
       "<style scoped>\n",
       "    .dataframe tbody tr th:only-of-type {\n",
       "        vertical-align: middle;\n",
       "    }\n",
       "\n",
       "    .dataframe tbody tr th {\n",
       "        vertical-align: top;\n",
       "    }\n",
       "\n",
       "    .dataframe thead th {\n",
       "        text-align: right;\n",
       "    }\n",
       "</style>\n",
       "<table border=\"1\" class=\"dataframe\">\n",
       "  <thead>\n",
       "    <tr style=\"text-align: right;\">\n",
       "      <th></th>\n",
       "      <th>beta</th>\n",
       "      <th>exp(beta)</th>\n",
       "      <th>interprt</th>\n",
       "    </tr>\n",
       "  </thead>\n",
       "  <tbody>\n",
       "    <tr>\n",
       "      <th>const</th>\n",
       "      <td>-7.33</td>\n",
       "      <td>0.0</td>\n",
       "      <td>protective</td>\n",
       "    </tr>\n",
       "    <tr>\n",
       "      <th>V1</th>\n",
       "      <td>0.03</td>\n",
       "      <td>1.03</td>\n",
       "      <td>risky</td>\n",
       "    </tr>\n",
       "    <tr>\n",
       "      <th>V2</th>\n",
       "      <td>-0.12</td>\n",
       "      <td>0.89</td>\n",
       "      <td>protective</td>\n",
       "    </tr>\n",
       "    <tr>\n",
       "      <th>V3</th>\n",
       "      <td>0.02</td>\n",
       "      <td>1.02</td>\n",
       "      <td>risky</td>\n",
       "    </tr>\n",
       "    <tr>\n",
       "      <th>V4</th>\n",
       "      <td>1.24</td>\n",
       "      <td>3.46</td>\n",
       "      <td>risky</td>\n",
       "    </tr>\n",
       "    <tr>\n",
       "      <th>V5</th>\n",
       "      <td>0.04</td>\n",
       "      <td>1.04</td>\n",
       "      <td>risky</td>\n",
       "    </tr>\n",
       "    <tr>\n",
       "      <th>V6</th>\n",
       "      <td>-0.29</td>\n",
       "      <td>0.75</td>\n",
       "      <td>protective</td>\n",
       "    </tr>\n",
       "    <tr>\n",
       "      <th>V7</th>\n",
       "      <td>0.03</td>\n",
       "      <td>1.03</td>\n",
       "      <td>risky</td>\n",
       "    </tr>\n",
       "    <tr>\n",
       "      <th>V8</th>\n",
       "      <td>-0.27</td>\n",
       "      <td>0.76</td>\n",
       "      <td>protective</td>\n",
       "    </tr>\n",
       "    <tr>\n",
       "      <th>V9</th>\n",
       "      <td>0.0</td>\n",
       "      <td>1.0</td>\n",
       "      <td>protective</td>\n",
       "    </tr>\n",
       "    <tr>\n",
       "      <th>V10</th>\n",
       "      <td>-0.97</td>\n",
       "      <td>0.38</td>\n",
       "      <td>protective</td>\n",
       "    </tr>\n",
       "    <tr>\n",
       "      <th>V11</th>\n",
       "      <td>0.1</td>\n",
       "      <td>1.11</td>\n",
       "      <td>risky</td>\n",
       "    </tr>\n",
       "    <tr>\n",
       "      <th>V12</th>\n",
       "      <td>-0.32</td>\n",
       "      <td>0.73</td>\n",
       "      <td>protective</td>\n",
       "    </tr>\n",
       "    <tr>\n",
       "      <th>V13</th>\n",
       "      <td>-0.11</td>\n",
       "      <td>0.9</td>\n",
       "      <td>protective</td>\n",
       "    </tr>\n",
       "    <tr>\n",
       "      <th>V14</th>\n",
       "      <td>-0.55</td>\n",
       "      <td>0.58</td>\n",
       "      <td>protective</td>\n",
       "    </tr>\n",
       "    <tr>\n",
       "      <th>V15</th>\n",
       "      <td>-0.19</td>\n",
       "      <td>0.83</td>\n",
       "      <td>protective</td>\n",
       "    </tr>\n",
       "    <tr>\n",
       "      <th>V16</th>\n",
       "      <td>-0.3</td>\n",
       "      <td>0.74</td>\n",
       "      <td>protective</td>\n",
       "    </tr>\n",
       "    <tr>\n",
       "      <th>V17</th>\n",
       "      <td>0.1</td>\n",
       "      <td>1.11</td>\n",
       "      <td>risky</td>\n",
       "    </tr>\n",
       "    <tr>\n",
       "      <th>V18</th>\n",
       "      <td>-0.11</td>\n",
       "      <td>0.9</td>\n",
       "      <td>protective</td>\n",
       "    </tr>\n",
       "    <tr>\n",
       "      <th>V19</th>\n",
       "      <td>-0.16</td>\n",
       "      <td>0.85</td>\n",
       "      <td>protective</td>\n",
       "    </tr>\n",
       "    <tr>\n",
       "      <th>V20</th>\n",
       "      <td>-0.14</td>\n",
       "      <td>0.87</td>\n",
       "      <td>protective</td>\n",
       "    </tr>\n",
       "    <tr>\n",
       "      <th>V21</th>\n",
       "      <td>0.35</td>\n",
       "      <td>1.42</td>\n",
       "      <td>risky</td>\n",
       "    </tr>\n",
       "    <tr>\n",
       "      <th>V22</th>\n",
       "      <td>0.42</td>\n",
       "      <td>1.52</td>\n",
       "      <td>risky</td>\n",
       "    </tr>\n",
       "    <tr>\n",
       "      <th>V23</th>\n",
       "      <td>-0.08</td>\n",
       "      <td>0.92</td>\n",
       "      <td>protective</td>\n",
       "    </tr>\n",
       "    <tr>\n",
       "      <th>V24</th>\n",
       "      <td>0.05</td>\n",
       "      <td>1.05</td>\n",
       "      <td>risky</td>\n",
       "    </tr>\n",
       "    <tr>\n",
       "      <th>V25</th>\n",
       "      <td>-0.13</td>\n",
       "      <td>0.88</td>\n",
       "      <td>protective</td>\n",
       "    </tr>\n",
       "    <tr>\n",
       "      <th>V26</th>\n",
       "      <td>-0.1</td>\n",
       "      <td>0.9</td>\n",
       "      <td>protective</td>\n",
       "    </tr>\n",
       "    <tr>\n",
       "      <th>V27</th>\n",
       "      <td>-0.33</td>\n",
       "      <td>0.72</td>\n",
       "      <td>protective</td>\n",
       "    </tr>\n",
       "    <tr>\n",
       "      <th>V28</th>\n",
       "      <td>-0.05</td>\n",
       "      <td>0.95</td>\n",
       "      <td>protective</td>\n",
       "    </tr>\n",
       "  </tbody>\n",
       "</table>\n",
       "</div>"
      ],
      "text/plain": [
       "        beta exp(beta)    interprt\n",
       "const  -7.33       0.0  protective\n",
       "V1      0.03      1.03       risky\n",
       "V2     -0.12      0.89  protective\n",
       "V3      0.02      1.02       risky\n",
       "V4      1.24      3.46       risky\n",
       "V5      0.04      1.04       risky\n",
       "V6     -0.29      0.75  protective\n",
       "V7      0.03      1.03       risky\n",
       "V8     -0.27      0.76  protective\n",
       "V9       0.0       1.0  protective\n",
       "V10    -0.97      0.38  protective\n",
       "V11      0.1      1.11       risky\n",
       "V12    -0.32      0.73  protective\n",
       "V13    -0.11       0.9  protective\n",
       "V14    -0.55      0.58  protective\n",
       "V15    -0.19      0.83  protective\n",
       "V16     -0.3      0.74  protective\n",
       "V17      0.1      1.11       risky\n",
       "V18    -0.11       0.9  protective\n",
       "V19    -0.16      0.85  protective\n",
       "V20    -0.14      0.87  protective\n",
       "V21     0.35      1.42       risky\n",
       "V22     0.42      1.52       risky\n",
       "V23    -0.08      0.92  protective\n",
       "V24     0.05      1.05       risky\n",
       "V25    -0.13      0.88  protective\n",
       "V26     -0.1       0.9  protective\n",
       "V27    -0.33      0.72  protective\n",
       "V28    -0.05      0.95  protective"
      ]
     },
     "execution_count": 114,
     "metadata": {},
     "output_type": "execute_result"
    }
   ],
   "source": [
    "# lr2(z-score 정규화) 칼럼에 따른 beta, exp(beta) 확인\n",
    "column_name=[\"const\"]+X_cols\n",
    "beta=np.concatenate([lr2.intercept_,lr2.coef_.reshape(-1)]).round(2)\n",
    "odds=np.exp(beta).round(2)\n",
    "interpret=np.where(beta>0,\"risky\",\"protective\")\n",
    "\n",
    "#beta 해석\n",
    "beta_analysis=pd.DataFrame(np.c_[beta,odds,interpret],index=column_name,columns=[\"beta\",\"exp(beta)\",\"interprt\"])\n",
    "beta_analysis"
   ]
  },
  {
   "cell_type": "code",
   "execution_count": 115,
   "metadata": {},
   "outputs": [],
   "source": [
    "test_pred1 = lr1.predict(X_test)\n",
    "test_pred2 = lr2.predict(X_test)\n",
    "test_pred3 = lr3.predict(X_test)"
   ]
  },
  {
   "cell_type": "code",
   "execution_count": 116,
   "metadata": {},
   "outputs": [
    {
     "data": {
      "text/plain": [
       "array([[9.99123701e-01, 8.76298837e-04],\n",
       "       [9.99656597e-01, 3.43402653e-04],\n",
       "       [9.62055423e-01, 3.79445775e-02],\n",
       "       ...,\n",
       "       [9.99625363e-01, 3.74636505e-04],\n",
       "       [9.98107197e-01, 1.89280264e-03],\n",
       "       [9.99600710e-01, 3.99290405e-04]])"
      ]
     },
     "execution_count": 116,
     "metadata": {},
     "output_type": "execute_result"
    }
   ],
   "source": [
    "# lr2 (z-score 정규화) \n",
    "lr2.predict_proba(X_test)"
   ]
  },
  {
   "cell_type": "markdown",
   "metadata": {},
   "source": [
    "## **Evaluation**"
   ]
  },
  {
   "cell_type": "code",
   "execution_count": null,
   "metadata": {},
   "outputs": [],
   "source": [
    "1. 정규화 x"
   ]
  },
  {
   "cell_type": "code",
   "execution_count": 117,
   "metadata": {},
   "outputs": [
    {
     "data": {
      "text/plain": [
       "array([[5690,    4],\n",
       "       [   7,   35]])"
      ]
     },
     "execution_count": 117,
     "metadata": {},
     "output_type": "execute_result"
    }
   ],
   "source": [
    "from sklearn.metrics import confusion_matrix\n",
    "\n",
    "confusion = confusion_matrix(y_test, test_pred1)\n",
    "confusion"
   ]
  },
  {
   "cell_type": "code",
   "execution_count": 118,
   "metadata": {},
   "outputs": [
    {
     "name": "stdout",
     "output_type": "stream",
     "text": [
      "              precision    recall  f1-score   support\n",
      "\n",
      "  fraudulent       1.00      1.00      1.00      5694\n",
      "   otherwise       0.90      0.83      0.86        42\n",
      "\n",
      "    accuracy                           1.00      5736\n",
      "   macro avg       0.95      0.92      0.93      5736\n",
      "weighted avg       1.00      1.00      1.00      5736\n",
      "\n"
     ]
    }
   ],
   "source": [
    "from sklearn.metrics import classification_report\n",
    "\n",
    "print(classification_report(y_test, test_pred1, target_names=['fraudulent', 'otherwise']))"
   ]
  },
  {
   "cell_type": "markdown",
   "metadata": {},
   "source": [
    "정규화를 하지 않은 모델도 accuracy:1, precision:1, recall:1 로 높은 성능을 보였다."
   ]
  },
  {
   "cell_type": "code",
   "execution_count": null,
   "metadata": {},
   "outputs": [],
   "source": [
    "2. Z-score Scaled"
   ]
  },
  {
   "cell_type": "code",
   "execution_count": 119,
   "metadata": {},
   "outputs": [
    {
     "data": {
      "text/plain": [
       "array([[5685,    9],\n",
       "       [   4,   38]])"
      ]
     },
     "execution_count": 119,
     "metadata": {},
     "output_type": "execute_result"
    }
   ],
   "source": [
    "confusion = confusion_matrix(y_test, test_pred2)\n",
    "confusion"
   ]
  },
  {
   "cell_type": "code",
   "execution_count": 121,
   "metadata": {},
   "outputs": [
    {
     "name": "stdout",
     "output_type": "stream",
     "text": [
      "              precision    recall  f1-score   support\n",
      "\n",
      "  fraudulent       1.00      1.00      1.00      5694\n",
      "   otherwise       0.81      0.90      0.85        42\n",
      "\n",
      "    accuracy                           1.00      5736\n",
      "   macro avg       0.90      0.95      0.93      5736\n",
      "weighted avg       1.00      1.00      1.00      5736\n",
      "\n"
     ]
    }
   ],
   "source": [
    "print(classification_report(y_test, test_pred2, target_names=['fraudulent', 'otherwise']))"
   ]
  },
  {
   "cell_type": "markdown",
   "metadata": {},
   "source": [
    "Z-score 정규화를 적용한 모델도 굉장히 높은 성능을 보였다."
   ]
  },
  {
   "cell_type": "code",
   "execution_count": null,
   "metadata": {},
   "outputs": [],
   "source": [
    "3. MinMax Scaled"
   ]
  },
  {
   "cell_type": "code",
   "execution_count": 126,
   "metadata": {},
   "outputs": [
    {
     "data": {
      "text/plain": [
       "array([[ 350, 5344],\n",
       "       [   0,   42]])"
      ]
     },
     "execution_count": 126,
     "metadata": {},
     "output_type": "execute_result"
    }
   ],
   "source": [
    "confusion = confusion_matrix(y_test, test_pred3)\n",
    "confusion"
   ]
  },
  {
   "cell_type": "code",
   "execution_count": 122,
   "metadata": {},
   "outputs": [
    {
     "name": "stdout",
     "output_type": "stream",
     "text": [
      "              precision    recall  f1-score   support\n",
      "\n",
      "  fraudulent       1.00      0.06      0.12      5694\n",
      "   otherwise       0.01      1.00      0.02        42\n",
      "\n",
      "    accuracy                           0.07      5736\n",
      "   macro avg       0.50      0.53      0.07      5736\n",
      "weighted avg       0.99      0.07      0.12      5736\n",
      "\n"
     ]
    }
   ],
   "source": [
    "print(classification_report(y_test, test_pred3, target_names=['fraudulent', 'otherwise']))"
   ]
  },
  {
   "cell_type": "markdown",
   "metadata": {},
   "source": [
    "최대최소정규화를 적용한 모델은 정확도가 0.07로 매우 낮은 성능을 보였다."
   ]
  },
  {
   "cell_type": "markdown",
   "metadata": {},
   "source": [
    "## **Cut-Off 조정**"
   ]
  },
  {
   "cell_type": "code",
   "execution_count": 185,
   "metadata": {},
   "outputs": [],
   "source": [
    "def ad_cut_off(model, y_pred):\n",
    "    beta=np.concatenate([model.intercept_,model.coef_.reshape(-1)]).round(2)\n",
    "    Xbeta=np.matmul(np.c_[np.ones(X_test.shape[0]),X_test],beta.reshape(-1,1))\n",
    "    P_1=1/(1+np.exp(-Xbeta))\n",
    "    P_1\n",
    "    \n",
    "    Cut_off=np.linspace(0.01,0.99,10)\n",
    "    for cutoff in Cut_off:\n",
    "        y_pred=np.where(P_1.reshape(-1)>=cutoff,1,0)\n",
    "        #cutoff 보다 크면 사기로 판별\n",
    "        acc=accuracy_score(y_true=y_test,y_pred=y_pred) #정확도\n",
    "        recall=recall_score(y_true=y_test,y_pred=y_pred) #민감도\n",
    "        precision=precision_score(y_true=y_test,y_pred=y_pred) #정밀도\n",
    "\n",
    "        print(f\"Acc : {acc : 0.2f}\",f\"Recall : {recall : 0.2f}\",f\"Precision : {precision : 0.2f}\",f\"cut off : {cutoff : 0.2f}\")"
   ]
  },
  {
   "cell_type": "code",
   "execution_count": 179,
   "metadata": {},
   "outputs": [],
   "source": [
    "def plot_roc_curve(model, X_test, y_pred):\n",
    "    fpr, tpr, thresholds = roc_curve(y_test,model.decision_function(X_test))\n",
    "\n",
    "    tn, fp, fn, tp = confusion_matrix(y_test, y_pred).ravel()\n",
    "    specificity = tn/(fp+tn)\n",
    "    recall = tp/(tp+fn)\n",
    "    \n",
    "    plt.plot(fpr, tpr, color='green', label='ROC')\n",
    "    plt.plot([0, 1], [0, 1], color='grey', linestyle='--')\n",
    "    plt.plot([1-specificity], [recall], 'ro', ms=10) # 현재 cutoff value 값 \n",
    "\n",
    "\n",
    "    plt.xlabel('False Positive Rate')\n",
    "    plt.ylabel('True Positive Rate')\n",
    "    plt.title('Receiver Operating Characteristic Curve')\n",
    "    plt.legend()\n",
    "    plt.show()\n",
    "    \n",
    "    print('AUC:', roc_auc_score(y_test, y_pred, average=None))"
   ]
  },
  {
   "cell_type": "markdown",
   "metadata": {},
   "source": [
    "1. 정규화 x"
   ]
  },
  {
   "cell_type": "code",
   "execution_count": 186,
   "metadata": {},
   "outputs": [
    {
     "name": "stdout",
     "output_type": "stream",
     "text": [
      "Acc :  0.97 Recall :  1.00 Precision :  0.20 cut off :  0.01\n",
      "Acc :  1.00 Recall :  0.90 Precision :  0.81 cut off :  0.12\n",
      "Acc :  1.00 Recall :  0.88 Precision :  0.86 cut off :  0.23\n",
      "Acc :  1.00 Recall :  0.83 Precision :  0.85 cut off :  0.34\n",
      "Acc :  1.00 Recall :  0.83 Precision :  0.90 cut off :  0.45\n",
      "Acc :  1.00 Recall :  0.81 Precision :  0.89 cut off :  0.55\n",
      "Acc :  1.00 Recall :  0.76 Precision :  0.94 cut off :  0.66\n",
      "Acc :  1.00 Recall :  0.67 Precision :  0.93 cut off :  0.77\n",
      "Acc :  1.00 Recall :  0.62 Precision :  0.93 cut off :  0.88\n",
      "Acc :  1.00 Recall :  0.55 Precision :  0.96 cut off :  0.99\n"
     ]
    }
   ],
   "source": [
    "ad_cut_off(lr1, test_pred1)"
   ]
  },
  {
   "cell_type": "code",
   "execution_count": 180,
   "metadata": {},
   "outputs": [
    {
     "data": {
      "image/png": "[encoded data removed]",
      "text/plain": [
       "<Figure size 432x288 with 1 Axes>"
      ]
     },
     "metadata": {
      "needs_background": "light"
     },
     "output_type": "display_data"
    },
    {
     "name": "stdout",
     "output_type": "stream",
     "text": [
      "AUC: 0.9163154197400774\n"
     ]
    }
   ],
   "source": [
    "plot_roc_curve(lr1, X_test, test_pred1)"
   ]
  },
  {
   "cell_type": "markdown",
   "metadata": {},
   "source": [
    "2. Z-score 정규화"
   ]
  },
  {
   "cell_type": "code",
   "execution_count": 187,
   "metadata": {},
   "outputs": [
    {
     "name": "stdout",
     "output_type": "stream",
     "text": [
      "Acc :  0.93 Recall :  1.00 Precision :  0.09 cut off :  0.01\n",
      "Acc :  0.99 Recall :  0.95 Precision :  0.54 cut off :  0.12\n",
      "Acc :  1.00 Recall :  0.95 Precision :  0.71 cut off :  0.23\n",
      "Acc :  1.00 Recall :  0.93 Precision :  0.78 cut off :  0.34\n",
      "Acc :  1.00 Recall :  0.90 Precision :  0.79 cut off :  0.45\n",
      "Acc :  1.00 Recall :  0.88 Precision :  0.84 cut off :  0.55\n",
      "Acc :  1.00 Recall :  0.88 Precision :  0.84 cut off :  0.66\n",
      "Acc :  1.00 Recall :  0.86 Precision :  0.86 cut off :  0.77\n",
      "Acc :  1.00 Recall :  0.83 Precision :  0.85 cut off :  0.88\n",
      "Acc :  1.00 Recall :  0.64 Precision :  0.87 cut off :  0.99\n"
     ]
    }
   ],
   "source": [
    "ad_cut_off(lr2, test_pred2)"
   ]
  },
  {
   "cell_type": "code",
   "execution_count": 181,
   "metadata": {},
   "outputs": [
    {
     "data": {
      "image/png": "[encoded data removed]",
      "text/plain": [
       "<Figure size 432x288 with 1 Axes>"
      ]
     },
     "metadata": {
      "needs_background": "light"
     },
     "output_type": "display_data"
    },
    {
     "name": "stdout",
     "output_type": "stream",
     "text": [
      "AUC: 0.9515906467961263\n"
     ]
    }
   ],
   "source": [
    "plot_roc_curve(lr2, X_test_ss, test_pred2)"
   ]
  },
  {
   "cell_type": "markdown",
   "metadata": {},
   "source": [
    "## **Cut-Off 선정**"
   ]
  },
  {
   "cell_type": "markdown",
   "metadata": {},
   "source": [
    "**<Cut-Off: 0.23>** <br>\n",
    "    Accuracy: 1 <br>\n",
    "    Recall: 0.95 <br>\n",
    "    Precision: 0.71 <br>\n",
    "\n",
    "class가 1(사기)인 비율은 0.86%로 매우 적으므로 Recall값을 기준으로 최종 모델과 cut-off를 선정하였다.  <br>\n",
    "Z-score 정규화를 적용 모델, cutoff: 0.23\n",
    "\n"
   ]
  },
  {
   "cell_type": "code",
   "execution_count": 215,
   "metadata": {},
   "outputs": [],
   "source": [
    "def draw_matrix(thrsh, model):\n",
    "    TP = 0\n",
    "    TN = 0\n",
    "    FN = 0\n",
    "    FP = 0\n",
    "\n",
    "    proba = model.predict_proba(X_test)\n",
    "    arr_y_test = np.array(y_test)\n",
    "    \n",
    "    for i,p in enumerate(proba):\n",
    "        if p[1] > thrsh and arr_y_test[i] == 1:\n",
    "            TP += 1\n",
    "        elif p[1] < thrsh and arr_y_test[i] == 0:\n",
    "            TN += 1\n",
    "        elif p[1] < thrsh and arr_y_test[i] == 1:\n",
    "            FN += 1\n",
    "        elif p[1] > thrsh and arr_y_test[i] == 0:\n",
    "            FP += 1\n",
    "            \n",
    "    print('** Threshold : %.2f **' %thrsh)\n",
    "    print('acc:', (TP+TN)/(TP+TN+FP+FN))\n",
    "    print('recall:', TP/(TP+FN)) \n",
    "    print('Precision:', TP/(TP+FP))\n",
    "    print(\"specificity: \", TN/(FP+TN)\n",
    ")\n",
    "\n",
    "    print('\\n')"
   ]
  },
  {
   "cell_type": "code",
   "execution_count": 216,
   "metadata": {},
   "outputs": [
    {
     "name": "stdout",
     "output_type": "stream",
     "text": [
      "** Threshold : 0.23 **\n",
      "acc: 0.9968619246861925\n",
      "recall: 0.9523809523809523\n",
      "Precision: 0.7142857142857143\n",
      "specificity:  0.9971900245872849\n",
      "\n",
      "\n"
     ]
    }
   ],
   "source": [
    "draw_matrix(0.23, lr2)"
   ]
  },
  {
   "cell_type": "code",
   "execution_count": 225,
   "metadata": {},
   "outputs": [
    {
     "data": {
      "image/png": "[encoded data removed]",
      "text/plain": [
       "<Figure size 432x288 with 1 Axes>"
      ]
     },
     "metadata": {
      "needs_background": "light"
     },
     "output_type": "display_data"
    }
   ],
   "source": [
    "fpr, tpr, thresholds = roc_curve(y_test,lr2.decision_function(X_test_ss))\n",
    "\n",
    "specificity = 0.9971900245872849\n",
    "recall = 0.9523809523809523\n",
    "\n",
    "plt.plot(fpr, tpr, color='green', label='ROC')\n",
    "plt.plot([0, 1], [0, 1], color='grey', linestyle='--')\n",
    "plt.plot([1-specificity], [recall], 'ro', ms=10) # 현재 cutoff value 값 \n",
    "\n",
    "plt.text(0.03, 0.9, 'Cut-Off: 0.23')\n",
    "\n",
    "plt.xlabel('False Positive Rate')\n",
    "plt.ylabel('True Positive Rate')\n",
    "plt.title('Receiver Operating Characteristic Curve')\n",
    "plt.legend()\n",
    "plt.show()"
   ]
  },
  {
   "cell_type": "markdown",
   "metadata": {},
   "source": [
    "최종 모델: Z-score 정규화를 적용하고 cut-off를 0.23으로 설정한 로지스틱회귀모델"
   ]
  },
  {
   "cell_type": "code",
   "execution_count": null,
   "metadata": {},
   "outputs": [],
   "source": []
  }
 ],
 "metadata": {
  "colab": {
   "collapsed_sections": [],
   "name": "Regression_과제3",
   "provenance": []
  },
  "kernelspec": {
   "display_name": "Python 3",
   "language": "python",
   "name": "python3"
  },
  "language_info": {
   "codemirror_mode": {
    "name": "ipython",
    "version": 3
   },
   "file_extension": ".py",
   "mimetype": "text/x-python",
   "name": "python",
   "nbconvert_exporter": "python",
   "pygments_lexer": "ipython3",
   "version": "3.7.6"
  }
 },
 "nbformat": 4,
 "nbformat_minor": 4
}
