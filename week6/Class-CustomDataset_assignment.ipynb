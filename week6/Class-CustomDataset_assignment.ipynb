{
 "cells": [
  {
   "cell_type": "markdown",
   "metadata": {},
   "source": [
    "Tobigs 16기 김윤혜"
   ]
  },
  {
   "cell_type": "markdown",
   "metadata": {
    "id": "q8847qhBzpV3"
   },
   "source": [
    "# Week6: Class\n",
    "\n",
    "Pytorch의 Dataset 추상클래스를 상속받아 CustomDataset 만들어보기!\n",
    "\n",
    "- 현재는 X_data, y_data를 임의로 선정해두었지만, 원한다면 어떠한 데이터를 쓰셔도 상관없습니다. \n",
    "\n",
    "- 선언되어있는 3가지 메서드는 모두 구현하셔야 합니다. \n",
    "- 연습을 위한 추가적인 메서드들은 언제나 환영합니다!\n",
    "\n"
   ]
  },
  {
   "cell_type": "code",
   "execution_count": 30,
   "metadata": {
    "id": "nHzO9sXUc60j"
   },
   "outputs": [],
   "source": [
    "import torch\n",
    "from torch.utils.data import Dataset\n",
    "import numpy as np"
   ]
  },
  {
   "cell_type": "code",
   "execution_count": 2,
   "metadata": {
    "id": "u3xgFyHBfrDy"
   },
   "outputs": [],
   "source": [
    "X_data = np.random.rand(10,10)\n",
    "y_data = np.ones(10)"
   ]
  },
  {
   "cell_type": "code",
   "execution_count": 18,
   "metadata": {},
   "outputs": [
    {
     "data": {
      "text/plain": [
       "{'input': array([0.79473623, 0.35900259, 0.15044734, 0.32208879, 0.35689141,\n",
       "        0.80420534, 0.57345646, 0.04550834, 0.55228208, 0.35880305]),\n",
       " 'label': 1.0}"
      ]
     },
     "execution_count": 18,
     "metadata": {},
     "output_type": "execute_result"
    }
   ],
   "source": [
    "def g(idx):\n",
    "    x = X_data[idx]\n",
    "    y = y_data[idx]\n",
    "    return {\"input\": x, 'label': y}\n",
    "\n",
    "g(1)"
   ]
  },
  {
   "cell_type": "code",
   "execution_count": 40,
   "metadata": {
    "id": "0uVQHsNPdAQR"
   },
   "outputs": [],
   "source": [
    "class CustomDataset(Dataset): \n",
    "    def __init__(self, X_data, y_data):\n",
    "        self.X_data = X_data\n",
    "        self.y_data = y_data\n",
    "        pass\n",
    "\n",
    "    def __len__(self):\n",
    "        \"\"\"데이터셋의 길이\"\"\"\n",
    "        return len(self.X_data)\n",
    "        pass\n",
    "\n",
    "    def __getitem__(self, idx): \n",
    "        \"\"\"데이터셋에서 특정 1개의 샘플을 가져오는 함수\"\"\"\n",
    "        x = self.X_data[idx]\n",
    "        y = self.y_data[idx]\n",
    "        return {\"input\": x, 'label':y}"
   ]
  },
  {
   "cell_type": "code",
   "execution_count": 43,
   "metadata": {
    "id": "8DxTC-Kqghjq"
   },
   "outputs": [
    {
     "name": "stdout",
     "output_type": "stream",
     "text": [
      "데이터셋의 길이: 10\n"
     ]
    },
    {
     "data": {
      "text/plain": [
       "{'input': array([0.50898688, 0.59239211, 0.66828449, 0.58628576, 0.57390321,\n",
       "        0.46489915, 0.41210624, 0.11749662, 0.35194504, 0.36419928]),\n",
       " 'label': 1.0}"
      ]
     },
     "execution_count": 43,
     "metadata": {},
     "output_type": "execute_result"
    }
   ],
   "source": [
    "test = CustomDataset(X_data, y_data)\n",
    "print(\"데이터셋의 길이: {}\".format(test.__len__()))\n",
    "test.__getitem__(2)"
   ]
  },
  {
   "cell_type": "code",
   "execution_count": null,
   "metadata": {},
   "outputs": [],
   "source": []
  }
 ],
 "metadata": {
  "colab": {
   "name": "[Week6] Class.ipynb",
   "provenance": []
  },
  "kernelspec": {
   "display_name": "Python 3",
   "language": "python",
   "name": "python3"
  },
  "language_info": {
   "codemirror_mode": {
    "name": "ipython",
    "version": 3
   },
   "file_extension": ".py",
   "mimetype": "text/x-python",
   "name": "python",
   "nbconvert_exporter": "python",
   "pygments_lexer": "ipython3",
   "version": "3.8.3"
  }
 },
 "nbformat": 4,
 "nbformat_minor": 4
}
