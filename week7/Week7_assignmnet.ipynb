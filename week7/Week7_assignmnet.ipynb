{
 "cells": [
  {
   "cell_type": "markdown",
   "metadata": {
    "id": "3w6SHm1p5yXs"
   },
   "source": [
    "# Advanced NN"
   ]
  },
  {
   "cell_type": "code",
   "execution_count": 4,
   "metadata": {
    "colab": {
     "base_uri": "https://localhost:8080/"
    },
    "executionInfo": {
     "elapsed": 19442,
     "status": "ok",
     "timestamp": 1630952886085,
     "user": {
      "displayName": "une kim",
      "photoUrl": "https://lh3.googleusercontent.com/a/default-user=s64",
      "userId": "18414422412856243653"
     },
     "user_tz": -540
    },
    "id": "o_axI6k0QAVJ",
    "outputId": "5f673efc-f41e-4002-8d54-81e7424689e9"
   },
   "outputs": [
    {
     "name": "stdout",
     "output_type": "stream",
     "text": [
      "Mounted at /content/drive\n"
     ]
    }
   ],
   "source": [
    "from google.colab import drive\n",
    "drive.mount('/content/drive')"
   ]
  },
  {
   "cell_type": "code",
   "execution_count": 1,
   "metadata": {
    "executionInfo": {
     "elapsed": 239,
     "status": "ok",
     "timestamp": 1630952887741,
     "user": {
      "displayName": "une kim",
      "photoUrl": "https://lh3.googleusercontent.com/a/default-user=s64",
      "userId": "18414422412856243653"
     },
     "user_tz": -540
    },
    "id": "j-Q0FSR5rENI"
   },
   "outputs": [],
   "source": [
    "import numpy as np\n",
    "import pandas as pd\n",
    "import matplotlib.pyplot as plt\n",
    "\n",
    "import tensorflow as tf\n",
    "from tensorflow import keras\n",
    "\n",
    "import warnings\n",
    "warnings.filterwarnings(action='ignore')\n",
    "\n",
    "data_dir = '/content/drive/MyDrive/Tobigs/Week7_NN심화_lsb-20210902T045600Z-001/Week7_NN심화_lsb/Week7_NN심화_Assignment/'"
   ]
  },
  {
   "cell_type": "markdown",
   "metadata": {
    "id": "hGgljobEsCNS"
   },
   "source": [
    "# 데이터 확인"
   ]
  },
  {
   "cell_type": "markdown",
   "metadata": {
    "id": "MjOsDF5ctFWp"
   },
   "source": [
    "| Label | Description |\n",
    "| --- | --- |\n",
    "| 0 | T-shirt/top |\n",
    "| 1 | Trouser |\n",
    "| 2 | Pullover |\n",
    "| 3 | Dress |\n",
    "| 4 | Coat |\n",
    "| 5 | Sandal |\n",
    "| 6 | Shirt |\n",
    "| 7 | Sneaker |\n",
    "| 8 | Bag |\n",
    "| 9 | Ankle boot |\n",
    "\n",
    "데이터 출처: https://github.com/zalandoresearch/fashion-mnist"
   ]
  },
  {
   "cell_type": "code",
   "execution_count": 2,
   "metadata": {},
   "outputs": [],
   "source": [
    "data_dir = './Week7_NN심화_lsb-20210902T045600Z-001/Week7_NN심화_lsb/Week7_NN심화_Assignment'"
   ]
  },
  {
   "cell_type": "code",
   "execution_count": 3,
   "metadata": {
    "executionInfo": {
     "elapsed": 9394,
     "status": "ok",
     "timestamp": 1630952899190,
     "user": {
      "displayName": "une kim",
      "photoUrl": "https://lh3.googleusercontent.com/a/default-user=s64",
      "userId": "18414422412856243653"
     },
     "user_tz": -540
    },
    "id": "HIXF9qR4mN8J"
   },
   "outputs": [],
   "source": [
    "Train = pd.read_csv(data_dir + '/Train.csv')\n",
    "Test = pd.read_csv(data_dir + '/Test.csv')\n",
    "submission = pd.read_csv(data_dir + '/submission.csv')"
   ]
  },
  {
   "cell_type": "code",
   "execution_count": 4,
   "metadata": {
    "colab": {
     "base_uri": "https://localhost:8080/",
     "height": 253
    },
    "executionInfo": {
     "elapsed": 14,
     "status": "ok",
     "timestamp": 1630949668305,
     "user": {
      "displayName": "une kim",
      "photoUrl": "https://lh3.googleusercontent.com/a/default-user=s64",
      "userId": "18414422412856243653"
     },
     "user_tz": -540
    },
    "id": "qzA34937ss3T",
    "outputId": "d7244d81-694d-4209-be5b-f525b946c32f"
   },
   "outputs": [
    {
     "data": {
      "text/html": [
       "<div>\n",
       "<style scoped>\n",
       "    .dataframe tbody tr th:only-of-type {\n",
       "        vertical-align: middle;\n",
       "    }\n",
       "\n",
       "    .dataframe tbody tr th {\n",
       "        vertical-align: top;\n",
       "    }\n",
       "\n",
       "    .dataframe thead th {\n",
       "        text-align: right;\n",
       "    }\n",
       "</style>\n",
       "<table border=\"1\" class=\"dataframe\">\n",
       "  <thead>\n",
       "    <tr style=\"text-align: right;\">\n",
       "      <th></th>\n",
       "      <th>0</th>\n",
       "      <th>1</th>\n",
       "      <th>2</th>\n",
       "      <th>3</th>\n",
       "      <th>4</th>\n",
       "      <th>5</th>\n",
       "      <th>6</th>\n",
       "      <th>7</th>\n",
       "      <th>8</th>\n",
       "      <th>9</th>\n",
       "      <th>...</th>\n",
       "      <th>775</th>\n",
       "      <th>776</th>\n",
       "      <th>777</th>\n",
       "      <th>778</th>\n",
       "      <th>779</th>\n",
       "      <th>780</th>\n",
       "      <th>781</th>\n",
       "      <th>782</th>\n",
       "      <th>783</th>\n",
       "      <th>label</th>\n",
       "    </tr>\n",
       "  </thead>\n",
       "  <tbody>\n",
       "    <tr>\n",
       "      <th>0</th>\n",
       "      <td>0</td>\n",
       "      <td>0</td>\n",
       "      <td>0</td>\n",
       "      <td>0</td>\n",
       "      <td>0</td>\n",
       "      <td>0</td>\n",
       "      <td>0</td>\n",
       "      <td>0</td>\n",
       "      <td>0</td>\n",
       "      <td>0</td>\n",
       "      <td>...</td>\n",
       "      <td>0</td>\n",
       "      <td>0</td>\n",
       "      <td>0</td>\n",
       "      <td>0</td>\n",
       "      <td>0</td>\n",
       "      <td>0</td>\n",
       "      <td>0</td>\n",
       "      <td>0</td>\n",
       "      <td>0</td>\n",
       "      <td>1</td>\n",
       "    </tr>\n",
       "    <tr>\n",
       "      <th>1</th>\n",
       "      <td>0</td>\n",
       "      <td>0</td>\n",
       "      <td>0</td>\n",
       "      <td>0</td>\n",
       "      <td>0</td>\n",
       "      <td>0</td>\n",
       "      <td>0</td>\n",
       "      <td>0</td>\n",
       "      <td>0</td>\n",
       "      <td>0</td>\n",
       "      <td>...</td>\n",
       "      <td>0</td>\n",
       "      <td>0</td>\n",
       "      <td>0</td>\n",
       "      <td>0</td>\n",
       "      <td>0</td>\n",
       "      <td>0</td>\n",
       "      <td>0</td>\n",
       "      <td>0</td>\n",
       "      <td>0</td>\n",
       "      <td>3</td>\n",
       "    </tr>\n",
       "    <tr>\n",
       "      <th>2</th>\n",
       "      <td>0</td>\n",
       "      <td>0</td>\n",
       "      <td>0</td>\n",
       "      <td>0</td>\n",
       "      <td>0</td>\n",
       "      <td>0</td>\n",
       "      <td>0</td>\n",
       "      <td>0</td>\n",
       "      <td>0</td>\n",
       "      <td>0</td>\n",
       "      <td>...</td>\n",
       "      <td>0</td>\n",
       "      <td>0</td>\n",
       "      <td>0</td>\n",
       "      <td>0</td>\n",
       "      <td>0</td>\n",
       "      <td>0</td>\n",
       "      <td>0</td>\n",
       "      <td>0</td>\n",
       "      <td>0</td>\n",
       "      <td>8</td>\n",
       "    </tr>\n",
       "    <tr>\n",
       "      <th>3</th>\n",
       "      <td>0</td>\n",
       "      <td>0</td>\n",
       "      <td>0</td>\n",
       "      <td>0</td>\n",
       "      <td>0</td>\n",
       "      <td>0</td>\n",
       "      <td>0</td>\n",
       "      <td>0</td>\n",
       "      <td>0</td>\n",
       "      <td>0</td>\n",
       "      <td>...</td>\n",
       "      <td>0</td>\n",
       "      <td>0</td>\n",
       "      <td>0</td>\n",
       "      <td>0</td>\n",
       "      <td>0</td>\n",
       "      <td>0</td>\n",
       "      <td>0</td>\n",
       "      <td>0</td>\n",
       "      <td>0</td>\n",
       "      <td>7</td>\n",
       "    </tr>\n",
       "    <tr>\n",
       "      <th>4</th>\n",
       "      <td>0</td>\n",
       "      <td>0</td>\n",
       "      <td>0</td>\n",
       "      <td>0</td>\n",
       "      <td>0</td>\n",
       "      <td>0</td>\n",
       "      <td>0</td>\n",
       "      <td>0</td>\n",
       "      <td>0</td>\n",
       "      <td>0</td>\n",
       "      <td>...</td>\n",
       "      <td>0</td>\n",
       "      <td>0</td>\n",
       "      <td>0</td>\n",
       "      <td>0</td>\n",
       "      <td>0</td>\n",
       "      <td>0</td>\n",
       "      <td>0</td>\n",
       "      <td>0</td>\n",
       "      <td>0</td>\n",
       "      <td>5</td>\n",
       "    </tr>\n",
       "  </tbody>\n",
       "</table>\n",
       "<p>5 rows × 785 columns</p>\n",
       "</div>"
      ],
      "text/plain": [
       "   0  1  2  3  4  5  6  7  8  9  ...  775  776  777  778  779  780  781  782  \\\n",
       "0  0  0  0  0  0  0  0  0  0  0  ...    0    0    0    0    0    0    0    0   \n",
       "1  0  0  0  0  0  0  0  0  0  0  ...    0    0    0    0    0    0    0    0   \n",
       "2  0  0  0  0  0  0  0  0  0  0  ...    0    0    0    0    0    0    0    0   \n",
       "3  0  0  0  0  0  0  0  0  0  0  ...    0    0    0    0    0    0    0    0   \n",
       "4  0  0  0  0  0  0  0  0  0  0  ...    0    0    0    0    0    0    0    0   \n",
       "\n",
       "   783  label  \n",
       "0    0      1  \n",
       "1    0      3  \n",
       "2    0      8  \n",
       "3    0      7  \n",
       "4    0      5  \n",
       "\n",
       "[5 rows x 785 columns]"
      ]
     },
     "execution_count": 4,
     "metadata": {},
     "output_type": "execute_result"
    }
   ],
   "source": [
    "Train.head()"
   ]
  },
  {
   "cell_type": "code",
   "execution_count": 5,
   "metadata": {
    "colab": {
     "base_uri": "https://localhost:8080/"
    },
    "executionInfo": {
     "elapsed": 12,
     "status": "ok",
     "timestamp": 1630949668306,
     "user": {
      "displayName": "une kim",
      "photoUrl": "https://lh3.googleusercontent.com/a/default-user=s64",
      "userId": "18414422412856243653"
     },
     "user_tz": -540
    },
    "id": "Z6cOY9xjzynQ",
    "outputId": "166e8946-a0f6-49fa-ddac-2ffc30e355ca"
   },
   "outputs": [
    {
     "data": {
      "text/plain": [
       "10"
      ]
     },
     "execution_count": 5,
     "metadata": {},
     "output_type": "execute_result"
    }
   ],
   "source": [
    "Train['label'].nunique()"
   ]
  },
  {
   "cell_type": "code",
   "execution_count": 6,
   "metadata": {
    "colab": {
     "base_uri": "https://localhost:8080/",
     "height": 253
    },
    "executionInfo": {
     "elapsed": 224,
     "status": "ok",
     "timestamp": 1630559050479,
     "user": {
      "displayName": "une kim",
      "photoUrl": "https://lh3.googleusercontent.com/a/default-user=s64",
      "userId": "18414422412856243653"
     },
     "user_tz": -540
    },
    "id": "52VNSOWNsuor",
    "outputId": "f1d52180-6a53-4932-c5d6-6b4dd55b6849"
   },
   "outputs": [
    {
     "data": {
      "text/html": [
       "<div>\n",
       "<style scoped>\n",
       "    .dataframe tbody tr th:only-of-type {\n",
       "        vertical-align: middle;\n",
       "    }\n",
       "\n",
       "    .dataframe tbody tr th {\n",
       "        vertical-align: top;\n",
       "    }\n",
       "\n",
       "    .dataframe thead th {\n",
       "        text-align: right;\n",
       "    }\n",
       "</style>\n",
       "<table border=\"1\" class=\"dataframe\">\n",
       "  <thead>\n",
       "    <tr style=\"text-align: right;\">\n",
       "      <th></th>\n",
       "      <th>0</th>\n",
       "      <th>1</th>\n",
       "      <th>2</th>\n",
       "      <th>3</th>\n",
       "      <th>4</th>\n",
       "      <th>5</th>\n",
       "      <th>6</th>\n",
       "      <th>7</th>\n",
       "      <th>8</th>\n",
       "      <th>9</th>\n",
       "      <th>...</th>\n",
       "      <th>774</th>\n",
       "      <th>775</th>\n",
       "      <th>776</th>\n",
       "      <th>777</th>\n",
       "      <th>778</th>\n",
       "      <th>779</th>\n",
       "      <th>780</th>\n",
       "      <th>781</th>\n",
       "      <th>782</th>\n",
       "      <th>783</th>\n",
       "    </tr>\n",
       "  </thead>\n",
       "  <tbody>\n",
       "    <tr>\n",
       "      <th>0</th>\n",
       "      <td>0</td>\n",
       "      <td>0</td>\n",
       "      <td>0</td>\n",
       "      <td>0</td>\n",
       "      <td>0</td>\n",
       "      <td>0</td>\n",
       "      <td>0</td>\n",
       "      <td>0</td>\n",
       "      <td>0</td>\n",
       "      <td>0</td>\n",
       "      <td>...</td>\n",
       "      <td>67</td>\n",
       "      <td>0</td>\n",
       "      <td>0</td>\n",
       "      <td>0</td>\n",
       "      <td>0</td>\n",
       "      <td>0</td>\n",
       "      <td>0</td>\n",
       "      <td>0</td>\n",
       "      <td>0</td>\n",
       "      <td>0</td>\n",
       "    </tr>\n",
       "    <tr>\n",
       "      <th>1</th>\n",
       "      <td>0</td>\n",
       "      <td>0</td>\n",
       "      <td>0</td>\n",
       "      <td>0</td>\n",
       "      <td>0</td>\n",
       "      <td>0</td>\n",
       "      <td>0</td>\n",
       "      <td>1</td>\n",
       "      <td>2</td>\n",
       "      <td>0</td>\n",
       "      <td>...</td>\n",
       "      <td>0</td>\n",
       "      <td>0</td>\n",
       "      <td>1</td>\n",
       "      <td>0</td>\n",
       "      <td>0</td>\n",
       "      <td>0</td>\n",
       "      <td>0</td>\n",
       "      <td>0</td>\n",
       "      <td>0</td>\n",
       "      <td>0</td>\n",
       "    </tr>\n",
       "    <tr>\n",
       "      <th>2</th>\n",
       "      <td>0</td>\n",
       "      <td>0</td>\n",
       "      <td>0</td>\n",
       "      <td>0</td>\n",
       "      <td>0</td>\n",
       "      <td>0</td>\n",
       "      <td>0</td>\n",
       "      <td>0</td>\n",
       "      <td>0</td>\n",
       "      <td>0</td>\n",
       "      <td>...</td>\n",
       "      <td>93</td>\n",
       "      <td>58</td>\n",
       "      <td>78</td>\n",
       "      <td>45</td>\n",
       "      <td>0</td>\n",
       "      <td>0</td>\n",
       "      <td>0</td>\n",
       "      <td>0</td>\n",
       "      <td>0</td>\n",
       "      <td>0</td>\n",
       "    </tr>\n",
       "    <tr>\n",
       "      <th>3</th>\n",
       "      <td>0</td>\n",
       "      <td>0</td>\n",
       "      <td>0</td>\n",
       "      <td>0</td>\n",
       "      <td>0</td>\n",
       "      <td>0</td>\n",
       "      <td>0</td>\n",
       "      <td>0</td>\n",
       "      <td>0</td>\n",
       "      <td>0</td>\n",
       "      <td>...</td>\n",
       "      <td>71</td>\n",
       "      <td>0</td>\n",
       "      <td>0</td>\n",
       "      <td>0</td>\n",
       "      <td>0</td>\n",
       "      <td>0</td>\n",
       "      <td>0</td>\n",
       "      <td>0</td>\n",
       "      <td>0</td>\n",
       "      <td>0</td>\n",
       "    </tr>\n",
       "    <tr>\n",
       "      <th>4</th>\n",
       "      <td>0</td>\n",
       "      <td>0</td>\n",
       "      <td>0</td>\n",
       "      <td>0</td>\n",
       "      <td>0</td>\n",
       "      <td>0</td>\n",
       "      <td>0</td>\n",
       "      <td>0</td>\n",
       "      <td>0</td>\n",
       "      <td>0</td>\n",
       "      <td>...</td>\n",
       "      <td>0</td>\n",
       "      <td>0</td>\n",
       "      <td>63</td>\n",
       "      <td>0</td>\n",
       "      <td>0</td>\n",
       "      <td>0</td>\n",
       "      <td>0</td>\n",
       "      <td>0</td>\n",
       "      <td>0</td>\n",
       "      <td>0</td>\n",
       "    </tr>\n",
       "  </tbody>\n",
       "</table>\n",
       "<p>5 rows × 784 columns</p>\n",
       "</div>"
      ],
      "text/plain": [
       "   0  1  2  3  4  5  6  7  8  9  ...  774  775  776  777  778  779  780  781  \\\n",
       "0  0  0  0  0  0  0  0  0  0  0  ...   67    0    0    0    0    0    0    0   \n",
       "1  0  0  0  0  0  0  0  1  2  0  ...    0    0    1    0    0    0    0    0   \n",
       "2  0  0  0  0  0  0  0  0  0  0  ...   93   58   78   45    0    0    0    0   \n",
       "3  0  0  0  0  0  0  0  0  0  0  ...   71    0    0    0    0    0    0    0   \n",
       "4  0  0  0  0  0  0  0  0  0  0  ...    0    0   63    0    0    0    0    0   \n",
       "\n",
       "   782  783  \n",
       "0    0    0  \n",
       "1    0    0  \n",
       "2    0    0  \n",
       "3    0    0  \n",
       "4    0    0  \n",
       "\n",
       "[5 rows x 784 columns]"
      ]
     },
     "execution_count": 6,
     "metadata": {},
     "output_type": "execute_result"
    }
   ],
   "source": [
    "Test.head()"
   ]
  },
  {
   "cell_type": "code",
   "execution_count": 7,
   "metadata": {
    "colab": {
     "base_uri": "https://localhost:8080/",
     "height": 204
    },
    "executionInfo": {
     "elapsed": 389,
     "status": "ok",
     "timestamp": 1630559054472,
     "user": {
      "displayName": "une kim",
      "photoUrl": "https://lh3.googleusercontent.com/a/default-user=s64",
      "userId": "18414422412856243653"
     },
     "user_tz": -540
    },
    "id": "ARoY6t1Hsv2i",
    "outputId": "a9bcb1ee-be52-480a-bc11-d2af887e9a87"
   },
   "outputs": [
    {
     "data": {
      "text/html": [
       "<div>\n",
       "<style scoped>\n",
       "    .dataframe tbody tr th:only-of-type {\n",
       "        vertical-align: middle;\n",
       "    }\n",
       "\n",
       "    .dataframe tbody tr th {\n",
       "        vertical-align: top;\n",
       "    }\n",
       "\n",
       "    .dataframe thead th {\n",
       "        text-align: right;\n",
       "    }\n",
       "</style>\n",
       "<table border=\"1\" class=\"dataframe\">\n",
       "  <thead>\n",
       "    <tr style=\"text-align: right;\">\n",
       "      <th></th>\n",
       "      <th>id</th>\n",
       "      <th>label</th>\n",
       "    </tr>\n",
       "  </thead>\n",
       "  <tbody>\n",
       "    <tr>\n",
       "      <th>0</th>\n",
       "      <td>0</td>\n",
       "      <td>0</td>\n",
       "    </tr>\n",
       "    <tr>\n",
       "      <th>1</th>\n",
       "      <td>1</td>\n",
       "      <td>0</td>\n",
       "    </tr>\n",
       "    <tr>\n",
       "      <th>2</th>\n",
       "      <td>2</td>\n",
       "      <td>0</td>\n",
       "    </tr>\n",
       "    <tr>\n",
       "      <th>3</th>\n",
       "      <td>3</td>\n",
       "      <td>0</td>\n",
       "    </tr>\n",
       "    <tr>\n",
       "      <th>4</th>\n",
       "      <td>4</td>\n",
       "      <td>0</td>\n",
       "    </tr>\n",
       "  </tbody>\n",
       "</table>\n",
       "</div>"
      ],
      "text/plain": [
       "   id  label\n",
       "0   0      0\n",
       "1   1      0\n",
       "2   2      0\n",
       "3   3      0\n",
       "4   4      0"
      ]
     },
     "execution_count": 7,
     "metadata": {},
     "output_type": "execute_result"
    }
   ],
   "source": [
    "submission.head()"
   ]
  },
  {
   "cell_type": "code",
   "execution_count": 137,
   "metadata": {
    "colab": {
     "base_uri": "https://localhost:8080/"
    },
    "executionInfo": {
     "elapsed": 7,
     "status": "ok",
     "timestamp": 1630952899190,
     "user": {
      "displayName": "une kim",
      "photoUrl": "https://lh3.googleusercontent.com/a/default-user=s64",
      "userId": "18414422412856243653"
     },
     "user_tz": -540
    },
    "id": "26AwQFvemYxx",
    "outputId": "41f04e6b-f30f-4f40-f262-b80b044aace2"
   },
   "outputs": [
    {
     "name": "stdout",
     "output_type": "stream",
     "text": [
      "(59500, 784)\n"
     ]
    }
   ],
   "source": [
    "X = Train.iloc[:, :-1].values\n",
    "print(X.shape)\n",
    "y = Train.iloc[:, -1].values"
   ]
  },
  {
   "cell_type": "code",
   "execution_count": 139,
   "metadata": {
    "colab": {
     "base_uri": "https://localhost:8080/"
    },
    "executionInfo": {
     "elapsed": 866,
     "status": "ok",
     "timestamp": 1630952900053,
     "user": {
      "displayName": "une kim",
      "photoUrl": "https://lh3.googleusercontent.com/a/default-user=s64",
      "userId": "18414422412856243653"
     },
     "user_tz": -540
    },
    "id": "o8eKNoyaNlvb",
    "outputId": "385b9ca6-b52a-4284-fb50-2630ee7522f2"
   },
   "outputs": [
    {
     "data": {
      "text/plain": [
       "(59500, 28, 28, 3)"
      ]
     },
     "execution_count": 139,
     "metadata": {},
     "output_type": "execute_result"
    }
   ],
   "source": [
    "# Convert Channel\n",
    "c_X = np.dstack([X] * 3)\n",
    "c_X = c_X.reshape(-1, 28, 28, 3)\n",
    "c_X.shape"
   ]
  },
  {
   "cell_type": "code",
   "execution_count": 140,
   "metadata": {
    "colab": {
     "base_uri": "https://localhost:8080/"
    },
    "executionInfo": {
     "elapsed": 3107,
     "status": "ok",
     "timestamp": 1630952903158,
     "user": {
      "displayName": "une kim",
      "photoUrl": "https://lh3.googleusercontent.com/a/default-user=s64",
      "userId": "18414422412856243653"
     },
     "user_tz": -540
    },
    "id": "dWpmvRb_OM65",
    "outputId": "04b3d9a3-f9eb-4e5a-b10f-ec636823ca1f"
   },
   "outputs": [
    {
     "data": {
      "text/plain": [
       "(59500, 32, 32, 3)"
      ]
     },
     "execution_count": 140,
     "metadata": {},
     "output_type": "execute_result"
    }
   ],
   "source": [
    "import cv2\n",
    "X_l = []\n",
    "for image in c_X:\n",
    "  img = image.astype('float32')\n",
    "  img = cv2.resize(img, (32, 32))\n",
    "  X_l.append(img.astype('int32'))\n",
    "c_X = np.array(X_l)\n",
    "c_X.shape"
   ]
  },
  {
   "cell_type": "code",
   "execution_count": 9,
   "metadata": {},
   "outputs": [],
   "source": [
    "# original channel\n",
    "X = Train.iloc[:, :-1].values\n",
    "X = X.reshape(-1, 28, 28, 1)\n",
    "y = Train.iloc[:, -1].values"
   ]
  },
  {
   "cell_type": "code",
   "execution_count": 142,
   "metadata": {
    "colab": {
     "base_uri": "https://localhost:8080/",
     "height": 74
    },
    "executionInfo": {
     "elapsed": 1227,
     "status": "ok",
     "timestamp": 1630952552849,
     "user": {
      "displayName": "une kim",
      "photoUrl": "https://lh3.googleusercontent.com/a/default-user=s64",
      "userId": "18414422412856243653"
     },
     "user_tz": -540
    },
    "id": "kg63u1Fwjfi6",
    "outputId": "85b6e53b-ad12-46d5-a611-d225c33c8f1d"
   },
   "outputs": [
    {
     "data": {
      "image/png": "[encoded data removed]",
      "text/plain": [
       "<Figure size 1440x72 with 20 Axes>"
      ]
     },
     "metadata": {
      "needs_background": "light"
     },
     "output_type": "display_data"
    }
   ],
   "source": [
    "pltsize = 1\n",
    "plt.figure(figsize=(20 * pltsize, pltsize))\n",
    "for idx in range(0, 20):\n",
    "  plt.subplot(1, 20, idx + 1)\n",
    "  plt.axis('off')\n",
    "  plt.imshow(X[idx].reshape(28,28),cmap='gray_r')\n",
    "  plt.title(f'Class : {y[idx]}')"
   ]
  },
  {
   "cell_type": "code",
   "execution_count": 141,
   "metadata": {
    "colab": {
     "base_uri": "https://localhost:8080/"
    },
    "executionInfo": {
     "elapsed": 11,
     "status": "ok",
     "timestamp": 1630952903158,
     "user": {
      "displayName": "une kim",
      "photoUrl": "https://lh3.googleusercontent.com/a/default-user=s64",
      "userId": "18414422412856243653"
     },
     "user_tz": -540
    },
    "id": "WnBFyI4-OlEx",
    "outputId": "49855088-a431-499f-bbfd-718f44c540d9"
   },
   "outputs": [
    {
     "data": {
      "text/plain": [
       "(10500, 784)"
      ]
     },
     "execution_count": 141,
     "metadata": {},
     "output_type": "execute_result"
    }
   ],
   "source": [
    "X_test = Test.values\n",
    "X_test.shape"
   ]
  },
  {
   "cell_type": "code",
   "execution_count": 145,
   "metadata": {
    "colab": {
     "base_uri": "https://localhost:8080/"
    },
    "executionInfo": {
     "elapsed": 6,
     "status": "ok",
     "timestamp": 1630952903159,
     "user": {
      "displayName": "une kim",
      "photoUrl": "https://lh3.googleusercontent.com/a/default-user=s64",
      "userId": "18414422412856243653"
     },
     "user_tz": -540
    },
    "id": "1MLqSq7utSGD",
    "outputId": "a6b0870b-41f8-4d66-8faa-729ba29ee77d"
   },
   "outputs": [
    {
     "data": {
      "text/plain": [
       "(10500, 28, 28, 3)"
      ]
     },
     "execution_count": 145,
     "metadata": {},
     "output_type": "execute_result"
    }
   ],
   "source": [
    "# convert Channel\n",
    "c_X_test = np.dstack([X_test] * 3)\n",
    "c_X_test = c_X_test.reshape(-1, 28, 28, 3)\n",
    "c_X_test.shape"
   ]
  },
  {
   "cell_type": "code",
   "execution_count": 14,
   "metadata": {},
   "outputs": [],
   "source": [
    "X_test = Test.values\n",
    "X_test = X_test.reshape(-1, 28, 28, 1)"
   ]
  },
  {
   "cell_type": "code",
   "execution_count": 19,
   "metadata": {
    "colab": {
     "base_uri": "https://localhost:8080/",
     "height": 62
    },
    "executionInfo": {
     "elapsed": 1024,
     "status": "ok",
     "timestamp": 1630952553871,
     "user": {
      "displayName": "une kim",
      "photoUrl": "https://lh3.googleusercontent.com/a/default-user=s64",
      "userId": "18414422412856243653"
     },
     "user_tz": -540
    },
    "id": "pzLOHRjvtYaD",
    "outputId": "5ab3e277-2bde-4b2a-8dcb-0693ea8ec428"
   },
   "outputs": [
    {
     "data": {
      "image/png": "[encoded data removed]",
      "text/plain": [
       "<Figure size 1440x72 with 20 Axes>"
      ]
     },
     "metadata": {
      "needs_background": "light"
     },
     "output_type": "display_data"
    }
   ],
   "source": [
    "pltsize = 1\n",
    "plt.figure(figsize=(20 * pltsize, pltsize))\n",
    "for idx in range(0, 20):\n",
    "  plt.subplot(1, 20, idx + 1)\n",
    "  plt.axis('off')\n",
    "  plt.imshow(X_test[idx])"
   ]
  },
  {
   "cell_type": "markdown",
   "metadata": {
    "id": "iSnwe75AsEPa"
   },
   "source": [
    "# 데이터 분리"
   ]
  },
  {
   "cell_type": "code",
   "execution_count": 15,
   "metadata": {
    "executionInfo": {
     "elapsed": 2000,
     "status": "ok",
     "timestamp": 1630952905156,
     "user": {
      "displayName": "une kim",
      "photoUrl": "https://lh3.googleusercontent.com/a/default-user=s64",
      "userId": "18414422412856243653"
     },
     "user_tz": -540
    },
    "id": "73ttBq_osFM0"
   },
   "outputs": [],
   "source": [
    "from sklearn.model_selection import train_test_split\n",
    "\n",
    "X_train, X_val, y_train, y_val = train_test_split(X, y, test_size = 0.2, random_state = 16, stratify = y, shuffle = True)\n",
    "\n",
    "# 정규화\n",
    "X_train = X_train / 255.0\n",
    "X_val = X_val / 255.0\n",
    "X_test = X_test / 255.0"
   ]
  },
  {
   "cell_type": "code",
   "execution_count": 16,
   "metadata": {
    "colab": {
     "base_uri": "https://localhost:8080/"
    },
    "executionInfo": {
     "elapsed": 12,
     "status": "ok",
     "timestamp": 1630952555495,
     "user": {
      "displayName": "une kim",
      "photoUrl": "https://lh3.googleusercontent.com/a/default-user=s64",
      "userId": "18414422412856243653"
     },
     "user_tz": -540
    },
    "id": "vczXnN629bnS",
    "outputId": "b2cdfa29-554b-4856-b0ce-a5953c7ab8a1"
   },
   "outputs": [
    {
     "name": "stdout",
     "output_type": "stream",
     "text": [
      "X_train: 47600\n",
      "X_val: 11900\n",
      "X_test: 10500\n"
     ]
    }
   ],
   "source": [
    "print('X_train: {}\\nX_val: {}\\nX_test: {}'.format(len(X_train),len(X_val),len(X_test)) )"
   ]
  },
  {
   "cell_type": "code",
   "execution_count": 146,
   "metadata": {},
   "outputs": [],
   "source": [
    "from sklearn.model_selection import train_test_split\n",
    "\n",
    "CX_train, CX_val, Cy_train, Cy_val = train_test_split(c_X, y, test_size = 0.2, random_state = 16, stratify = y, shuffle = True)\n",
    "\n",
    "# 정규화\n",
    "CX_train = CX_train / 255.0\n",
    "CX_val = CX_val / 255.0\n",
    "CX_test = c_X_test / 255.0"
   ]
  },
  {
   "cell_type": "markdown",
   "metadata": {
    "id": "YjFlzLN5FF1D"
   },
   "source": [
    "# Data Augmentation"
   ]
  },
  {
   "cell_type": "markdown",
   "metadata": {
    "id": "-0TgM3s1FONO"
   },
   "source": [
    "## Horizontal & Vertical Flipping\n"
   ]
  },
  {
   "cell_type": "code",
   "execution_count": 18,
   "metadata": {
    "executionInfo": {
     "elapsed": 4,
     "status": "ok",
     "timestamp": 1630952905157,
     "user": {
      "displayName": "une kim",
      "photoUrl": "https://lh3.googleusercontent.com/a/default-user=s64",
      "userId": "18414422412856243653"
     },
     "user_tz": -540
    },
    "id": "N1zs3SxfFIoj"
   },
   "outputs": [],
   "source": [
    "def flip_up_down(img):\n",
    "    newImg = img.copy()\n",
    "    return cv2.flip(newImg, 0)\n",
    "\n",
    "def flip_right_left(img):\n",
    "    newImg = img.copy()\n",
    "    return cv2.flip(newImg, 1)"
   ]
  },
  {
   "cell_type": "code",
   "execution_count": 147,
   "metadata": {
    "colab": {
     "base_uri": "https://localhost:8080/"
    },
    "executionInfo": {
     "elapsed": 2805,
     "status": "ok",
     "timestamp": 1630952909063,
     "user": {
      "displayName": "une kim",
      "photoUrl": "https://lh3.googleusercontent.com/a/default-user=s64",
      "userId": "18414422412856243653"
     },
     "user_tz": -540
    },
    "id": "0DZ9TDBEFSzF",
    "outputId": "fba8537f-c6ae-4af9-a518-bef3c6db7342"
   },
   "outputs": [
    {
     "name": "stderr",
     "output_type": "stream",
     "text": [
      "47600it [00:00, 81269.91it/s]\n"
     ]
    }
   ],
   "source": [
    "import cv2\n",
    "from tqdm import tqdm\n",
    "import random\n",
    "\n",
    "gen_img = []\n",
    "gen_label = []\n",
    "\n",
    "for img, label in tqdm(zip(X_train, y_train)):\n",
    "#     vf_img = flip_up_down(img)    \n",
    "    hf_img = flip_right_left(img)\n",
    "#     r_img = rotation(img, 10)\n",
    "\n",
    "#     gen_img.append(vf_img)\n",
    "    gen_img.append(hf_img)\n",
    "#     gen_img.append(r_img)\n",
    "#     gen_label.append(label)\n",
    "    gen_label.append(label)\n",
    "#     gen_label.append(label)"
   ]
  },
  {
   "cell_type": "code",
   "execution_count": 148,
   "metadata": {
    "colab": {
     "base_uri": "https://localhost:8080/"
    },
    "executionInfo": {
     "elapsed": 293,
     "status": "ok",
     "timestamp": 1630952559633,
     "user": {
      "displayName": "une kim",
      "photoUrl": "https://lh3.googleusercontent.com/a/default-user=s64",
      "userId": "18414422412856243653"
     },
     "user_tz": -540
    },
    "id": "8se4_ztNGVpB",
    "outputId": "aca18948-2b57-4ea8-bbf4-6dd3e9d1bd9c"
   },
   "outputs": [
    {
     "name": "stdout",
     "output_type": "stream",
     "text": [
      "47600\n",
      "47600\n"
     ]
    }
   ],
   "source": [
    "print(len(gen_img))\n",
    "print(len(gen_label))"
   ]
  },
  {
   "cell_type": "code",
   "execution_count": 149,
   "metadata": {},
   "outputs": [
    {
     "data": {
      "text/plain": [
       "dtype('float64')"
      ]
     },
     "execution_count": 149,
     "metadata": {},
     "output_type": "execute_result"
    }
   ],
   "source": [
    "gen_img = np.array(gen_img).reshape(-1, 28, 28, 1)\n",
    "gen_img.dtype"
   ]
  },
  {
   "cell_type": "code",
   "execution_count": 150,
   "metadata": {
    "executionInfo": {
     "elapsed": 4,
     "status": "ok",
     "timestamp": 1630952909063,
     "user": {
      "displayName": "une kim",
      "photoUrl": "https://lh3.googleusercontent.com/a/default-user=s64",
      "userId": "18414422412856243653"
     },
     "user_tz": -540
    },
    "id": "Y-zJIVvDGzCa"
   },
   "outputs": [],
   "source": [
    "aug_X_train = gen_img.tolist() + X_train.tolist()\n",
    "aug_y_train = gen_label + y_train.tolist()"
   ]
  },
  {
   "cell_type": "code",
   "execution_count": 151,
   "metadata": {},
   "outputs": [
    {
     "name": "stdout",
     "output_type": "stream",
     "text": [
      "95200 95200 11900 11900\n"
     ]
    }
   ],
   "source": [
    "aug_X_train = np.array(aug_X_train, dtype = 'float64')\n",
    "aug_y_train = np.array(aug_y_train)\n",
    "\n",
    "print(len(aug_X_train), len(aug_y_train), len(X_val), len(y_val))"
   ]
  },
  {
   "cell_type": "code",
   "execution_count": 152,
   "metadata": {},
   "outputs": [
    {
     "data": {
      "text/plain": [
       "(95200, 28, 28, 1)"
      ]
     },
     "execution_count": 152,
     "metadata": {},
     "output_type": "execute_result"
    }
   ],
   "source": [
    "# aug_X_train = aug_X_train.reshape(-1, 28, 28, 1)\n",
    "aug_X_train.shape"
   ]
  },
  {
   "cell_type": "code",
   "execution_count": 153,
   "metadata": {},
   "outputs": [
    {
     "data": {
      "text/plain": [
       "dtype('float64')"
      ]
     },
     "execution_count": 153,
     "metadata": {},
     "output_type": "execute_result"
    }
   ],
   "source": [
    "aug_X_train.dtype"
   ]
  },
  {
   "cell_type": "markdown",
   "metadata": {},
   "source": [
    "## Rotation"
   ]
  },
  {
   "cell_type": "code",
   "execution_count": 19,
   "metadata": {},
   "outputs": [],
   "source": [
    "def rotation(img, angle):\n",
    "    angle = int(random.uniform(-angle, angle))\n",
    "    h, w = img.shape[:2]\n",
    "    M = cv2.getRotationMatrix2D((int(w/2), int(h/2)), angle, 1)\n",
    "    img = cv2.warpAffine(img, M, (w, h))\n",
    "\n",
    "    return img"
   ]
  },
  {
   "cell_type": "code",
   "execution_count": 54,
   "metadata": {},
   "outputs": [
    {
     "name": "stderr",
     "output_type": "stream",
     "text": [
      "47600it [00:01, 26738.31it/s]\n"
     ]
    }
   ],
   "source": [
    "import random\n",
    "rotated_img = []\n",
    "rotated_label = []\n",
    "\n",
    "for img, label in tqdm(zip(X_train, y_train)):\n",
    "    r_img = rotation(img, 10)\n",
    "    \n",
    "    rotated_img.append(r_img)\n",
    "    rotated_label.append(y_train)"
   ]
  },
  {
   "cell_type": "code",
   "execution_count": 56,
   "metadata": {},
   "outputs": [
    {
     "name": "stdout",
     "output_type": "stream",
     "text": [
      "47600\n",
      "47600\n"
     ]
    }
   ],
   "source": [
    "print(len(rotated_img))\n",
    "print(len(rotated_label))"
   ]
  },
  {
   "cell_type": "code",
   "execution_count": 76,
   "metadata": {},
   "outputs": [
    {
     "name": "stdout",
     "output_type": "stream",
     "text": [
      "190400 190400\n"
     ]
    }
   ],
   "source": [
    "aug2_X_train = list(X_train) + gen_img + rotated_img\n",
    "aug2_y_train = list(y_train) + gen_label + rotated_label\n",
    "\n",
    "aug2_X_train = np.array(aug2_X_train)\n",
    "aug2_y_train = np.array(aug2_y_train)\n",
    "\n",
    "print(len(aug2_X_train), len(aug2_y_train))"
   ]
  },
  {
   "cell_type": "code",
   "execution_count": 77,
   "metadata": {},
   "outputs": [
    {
     "data": {
      "text/plain": [
       "<matplotlib.image.AxesImage at 0x2267eb7d580>"
      ]
     },
     "execution_count": 77,
     "metadata": {},
     "output_type": "execute_result"
    },
    {
     "data": {
      "image/png": "[encoded data removed]",
      "text/plain": [
       "<Figure size 360x360 with 1 Axes>"
      ]
     },
     "metadata": {
      "needs_background": "light"
     },
     "output_type": "display_data"
    }
   ],
   "source": [
    "plt.figure(figsize=(5,5))\n",
    "plt.imshow(rotated_img[50])"
   ]
  },
  {
   "cell_type": "markdown",
   "metadata": {
    "id": "V3O6huln_b0N"
   },
   "source": [
    "# Model"
   ]
  },
  {
   "cell_type": "markdown",
   "metadata": {},
   "source": [
    "## Transfer Learning"
   ]
  },
  {
   "cell_type": "code",
   "execution_count": 155,
   "metadata": {
    "colab": {
     "base_uri": "https://localhost:8080/"
    },
    "executionInfo": {
     "elapsed": 2094,
     "status": "ok",
     "timestamp": 1630952914590,
     "user": {
      "displayName": "une kim",
      "photoUrl": "https://lh3.googleusercontent.com/a/default-user=s64",
      "userId": "18414422412856243653"
     },
     "user_tz": -540
    },
    "id": "70vakLwxJttK",
    "outputId": "38696b4a-338a-4a8d-80ec-678ac3f79afe"
   },
   "outputs": [
    {
     "name": "stdout",
     "output_type": "stream",
     "text": [
      "WARNING:tensorflow:`input_shape` is undefined or non-square, or `rows` is not in [128, 160, 192, 224]. Weights for input shape (224, 224) will be loaded as the default.\n"
     ]
    },
    {
     "name": "stderr",
     "output_type": "stream",
     "text": [
      "WARNING:tensorflow:`input_shape` is undefined or non-square, or `rows` is not in [128, 160, 192, 224]. Weights for input shape (224, 224) will be loaded as the default.\n"
     ]
    },
    {
     "name": "stdout",
     "output_type": "stream",
     "text": [
      "Model: \"functional_3\"\n",
      "_________________________________________________________________\n",
      "Layer (type)                 Output Shape              Param #   \n",
      "=================================================================\n",
      "input_2 (InputLayer)         [(None, 32, 32, 3)]       0         \n",
      "_________________________________________________________________\n",
      "conv1_pad (ZeroPadding2D)    (None, 33, 33, 3)         0         \n",
      "_________________________________________________________________\n",
      "conv1 (Conv2D)               (None, 16, 16, 32)        864       \n",
      "_________________________________________________________________\n",
      "conv1_bn (BatchNormalization (None, 16, 16, 32)        128       \n",
      "_________________________________________________________________\n",
      "conv1_relu (ReLU)            (None, 16, 16, 32)        0         \n",
      "_________________________________________________________________\n",
      "conv_dw_1 (DepthwiseConv2D)  (None, 16, 16, 32)        288       \n",
      "_________________________________________________________________\n",
      "conv_dw_1_bn (BatchNormaliza (None, 16, 16, 32)        128       \n",
      "_________________________________________________________________\n",
      "conv_dw_1_relu (ReLU)        (None, 16, 16, 32)        0         \n",
      "_________________________________________________________________\n",
      "conv_pw_1 (Conv2D)           (None, 16, 16, 64)        2048      \n",
      "_________________________________________________________________\n",
      "conv_pw_1_bn (BatchNormaliza (None, 16, 16, 64)        256       \n",
      "_________________________________________________________________\n",
      "conv_pw_1_relu (ReLU)        (None, 16, 16, 64)        0         \n",
      "_________________________________________________________________\n",
      "conv_pad_2 (ZeroPadding2D)   (None, 17, 17, 64)        0         \n",
      "_________________________________________________________________\n",
      "conv_dw_2 (DepthwiseConv2D)  (None, 8, 8, 64)          576       \n",
      "_________________________________________________________________\n",
      "conv_dw_2_bn (BatchNormaliza (None, 8, 8, 64)          256       \n",
      "_________________________________________________________________\n",
      "conv_dw_2_relu (ReLU)        (None, 8, 8, 64)          0         \n",
      "_________________________________________________________________\n",
      "conv_pw_2 (Conv2D)           (None, 8, 8, 128)         8192      \n",
      "_________________________________________________________________\n",
      "conv_pw_2_bn (BatchNormaliza (None, 8, 8, 128)         512       \n",
      "_________________________________________________________________\n",
      "conv_pw_2_relu (ReLU)        (None, 8, 8, 128)         0         \n",
      "_________________________________________________________________\n",
      "conv_dw_3 (DepthwiseConv2D)  (None, 8, 8, 128)         1152      \n",
      "_________________________________________________________________\n",
      "conv_dw_3_bn (BatchNormaliza (None, 8, 8, 128)         512       \n",
      "_________________________________________________________________\n",
      "conv_dw_3_relu (ReLU)        (None, 8, 8, 128)         0         \n",
      "_________________________________________________________________\n",
      "conv_pw_3 (Conv2D)           (None, 8, 8, 128)         16384     \n",
      "_________________________________________________________________\n",
      "conv_pw_3_bn (BatchNormaliza (None, 8, 8, 128)         512       \n",
      "_________________________________________________________________\n",
      "conv_pw_3_relu (ReLU)        (None, 8, 8, 128)         0         \n",
      "_________________________________________________________________\n",
      "conv_pad_4 (ZeroPadding2D)   (None, 9, 9, 128)         0         \n",
      "_________________________________________________________________\n",
      "conv_dw_4 (DepthwiseConv2D)  (None, 4, 4, 128)         1152      \n",
      "_________________________________________________________________\n",
      "conv_dw_4_bn (BatchNormaliza (None, 4, 4, 128)         512       \n",
      "_________________________________________________________________\n",
      "conv_dw_4_relu (ReLU)        (None, 4, 4, 128)         0         \n",
      "_________________________________________________________________\n",
      "conv_pw_4 (Conv2D)           (None, 4, 4, 256)         32768     \n",
      "_________________________________________________________________\n",
      "conv_pw_4_bn (BatchNormaliza (None, 4, 4, 256)         1024      \n",
      "_________________________________________________________________\n",
      "conv_pw_4_relu (ReLU)        (None, 4, 4, 256)         0         \n",
      "_________________________________________________________________\n",
      "conv_dw_5 (DepthwiseConv2D)  (None, 4, 4, 256)         2304      \n",
      "_________________________________________________________________\n",
      "conv_dw_5_bn (BatchNormaliza (None, 4, 4, 256)         1024      \n",
      "_________________________________________________________________\n",
      "conv_dw_5_relu (ReLU)        (None, 4, 4, 256)         0         \n",
      "_________________________________________________________________\n",
      "conv_pw_5 (Conv2D)           (None, 4, 4, 256)         65536     \n",
      "_________________________________________________________________\n",
      "conv_pw_5_bn (BatchNormaliza (None, 4, 4, 256)         1024      \n",
      "_________________________________________________________________\n",
      "conv_pw_5_relu (ReLU)        (None, 4, 4, 256)         0         \n",
      "_________________________________________________________________\n",
      "conv_pad_6 (ZeroPadding2D)   (None, 5, 5, 256)         0         \n",
      "_________________________________________________________________\n",
      "conv_dw_6 (DepthwiseConv2D)  (None, 2, 2, 256)         2304      \n",
      "_________________________________________________________________\n",
      "conv_dw_6_bn (BatchNormaliza (None, 2, 2, 256)         1024      \n",
      "_________________________________________________________________\n",
      "conv_dw_6_relu (ReLU)        (None, 2, 2, 256)         0         \n",
      "_________________________________________________________________\n",
      "conv_pw_6 (Conv2D)           (None, 2, 2, 512)         131072    \n",
      "_________________________________________________________________\n",
      "conv_pw_6_bn (BatchNormaliza (None, 2, 2, 512)         2048      \n",
      "_________________________________________________________________\n",
      "conv_pw_6_relu (ReLU)        (None, 2, 2, 512)         0         \n",
      "_________________________________________________________________\n",
      "conv_dw_7 (DepthwiseConv2D)  (None, 2, 2, 512)         4608      \n",
      "_________________________________________________________________\n",
      "conv_dw_7_bn (BatchNormaliza (None, 2, 2, 512)         2048      \n",
      "_________________________________________________________________\n",
      "conv_dw_7_relu (ReLU)        (None, 2, 2, 512)         0         \n",
      "_________________________________________________________________\n",
      "conv_pw_7 (Conv2D)           (None, 2, 2, 512)         262144    \n",
      "_________________________________________________________________\n",
      "conv_pw_7_bn (BatchNormaliza (None, 2, 2, 512)         2048      \n",
      "_________________________________________________________________\n",
      "conv_pw_7_relu (ReLU)        (None, 2, 2, 512)         0         \n",
      "_________________________________________________________________\n",
      "conv_dw_8 (DepthwiseConv2D)  (None, 2, 2, 512)         4608      \n",
      "_________________________________________________________________\n",
      "conv_dw_8_bn (BatchNormaliza (None, 2, 2, 512)         2048      \n",
      "_________________________________________________________________\n",
      "conv_dw_8_relu (ReLU)        (None, 2, 2, 512)         0         \n",
      "_________________________________________________________________\n",
      "conv_pw_8 (Conv2D)           (None, 2, 2, 512)         262144    \n",
      "_________________________________________________________________\n",
      "conv_pw_8_bn (BatchNormaliza (None, 2, 2, 512)         2048      \n",
      "_________________________________________________________________\n",
      "conv_pw_8_relu (ReLU)        (None, 2, 2, 512)         0         \n",
      "_________________________________________________________________\n",
      "conv_dw_9 (DepthwiseConv2D)  (None, 2, 2, 512)         4608      \n",
      "_________________________________________________________________\n",
      "conv_dw_9_bn (BatchNormaliza (None, 2, 2, 512)         2048      \n",
      "_________________________________________________________________\n",
      "conv_dw_9_relu (ReLU)        (None, 2, 2, 512)         0         \n",
      "_________________________________________________________________\n",
      "conv_pw_9 (Conv2D)           (None, 2, 2, 512)         262144    \n",
      "_________________________________________________________________\n",
      "conv_pw_9_bn (BatchNormaliza (None, 2, 2, 512)         2048      \n",
      "_________________________________________________________________\n",
      "conv_pw_9_relu (ReLU)        (None, 2, 2, 512)         0         \n",
      "_________________________________________________________________\n",
      "conv_dw_10 (DepthwiseConv2D) (None, 2, 2, 512)         4608      \n",
      "_________________________________________________________________\n",
      "conv_dw_10_bn (BatchNormaliz (None, 2, 2, 512)         2048      \n",
      "_________________________________________________________________\n",
      "conv_dw_10_relu (ReLU)       (None, 2, 2, 512)         0         \n",
      "_________________________________________________________________\n",
      "conv_pw_10 (Conv2D)          (None, 2, 2, 512)         262144    \n",
      "_________________________________________________________________\n",
      "conv_pw_10_bn (BatchNormaliz (None, 2, 2, 512)         2048      \n",
      "_________________________________________________________________\n",
      "conv_pw_10_relu (ReLU)       (None, 2, 2, 512)         0         \n",
      "_________________________________________________________________\n",
      "conv_dw_11 (DepthwiseConv2D) (None, 2, 2, 512)         4608      \n",
      "_________________________________________________________________\n",
      "conv_dw_11_bn (BatchNormaliz (None, 2, 2, 512)         2048      \n",
      "_________________________________________________________________\n",
      "conv_dw_11_relu (ReLU)       (None, 2, 2, 512)         0         \n",
      "_________________________________________________________________\n",
      "conv_pw_11 (Conv2D)          (None, 2, 2, 512)         262144    \n",
      "_________________________________________________________________\n",
      "conv_pw_11_bn (BatchNormaliz (None, 2, 2, 512)         2048      \n",
      "_________________________________________________________________\n",
      "conv_pw_11_relu (ReLU)       (None, 2, 2, 512)         0         \n",
      "_________________________________________________________________\n",
      "conv_pad_12 (ZeroPadding2D)  (None, 3, 3, 512)         0         \n",
      "_________________________________________________________________\n",
      "conv_dw_12 (DepthwiseConv2D) (None, 1, 1, 512)         4608      \n",
      "_________________________________________________________________\n",
      "conv_dw_12_bn (BatchNormaliz (None, 1, 1, 512)         2048      \n",
      "_________________________________________________________________\n",
      "conv_dw_12_relu (ReLU)       (None, 1, 1, 512)         0         \n",
      "_________________________________________________________________\n",
      "conv_pw_12 (Conv2D)          (None, 1, 1, 1024)        524288    \n",
      "_________________________________________________________________\n",
      "conv_pw_12_bn (BatchNormaliz (None, 1, 1, 1024)        4096      \n",
      "_________________________________________________________________\n",
      "conv_pw_12_relu (ReLU)       (None, 1, 1, 1024)        0         \n",
      "_________________________________________________________________\n",
      "conv_dw_13 (DepthwiseConv2D) (None, 1, 1, 1024)        9216      \n",
      "_________________________________________________________________\n",
      "conv_dw_13_bn (BatchNormaliz (None, 1, 1, 1024)        4096      \n",
      "_________________________________________________________________\n",
      "conv_dw_13_relu (ReLU)       (None, 1, 1, 1024)        0         \n",
      "_________________________________________________________________\n",
      "conv_pw_13 (Conv2D)          (None, 1, 1, 1024)        1048576   \n",
      "_________________________________________________________________\n",
      "conv_pw_13_bn (BatchNormaliz (None, 1, 1, 1024)        4096      \n",
      "_________________________________________________________________\n",
      "conv_pw_13_relu (ReLU)       (None, 1, 1, 1024)        0         \n",
      "_________________________________________________________________\n",
      "dropout_25 (Dropout)         (None, 1, 1, 1024)        0         \n",
      "_________________________________________________________________\n",
      "global_average_pooling2d_1 ( (None, 1024)              0         \n",
      "_________________________________________________________________\n",
      "dense_33 (Dense)             (None, 10)                10250     \n",
      "=================================================================\n",
      "Total params: 3,239,114\n",
      "Trainable params: 3,217,226\n",
      "Non-trainable params: 21,888\n",
      "_________________________________________________________________\n"
     ]
    }
   ],
   "source": [
    "from tensorflow.keras.applications import MobileNet\n",
    "from tensorflow.keras.layers import Dense, Conv2D, MaxPool2D, Dropout, Flatten, BatchNormalization, Input, Lambda, GlobalAveragePooling2D\n",
    "from tensorflow.keras.models import Model\n",
    "\n",
    "input_image = Input(shape=(32,32,3))\n",
    "\n",
    "base_model = MobileNet(input_tensor=input_image,\n",
    "                         include_top=False,\n",
    "                         weights='imagenet')\n",
    "x = Dropout(0.5)(base_model.output)\n",
    "x = GlobalAveragePooling2D()(x)\n",
    "pred = Dense(10, activation='softmax')(x)\n",
    "\n",
    "model = Model(inputs=base_model.input, outputs=pred)\n",
    "model.summary()"
   ]
  },
  {
   "cell_type": "markdown",
   "metadata": {
    "id": "RPTScbFaHgRH"
   },
   "source": [
    "### Train Original Data"
   ]
  },
  {
   "cell_type": "code",
   "execution_count": 49,
   "metadata": {
    "executionInfo": {
     "elapsed": 5,
     "status": "ok",
     "timestamp": 1630952763177,
     "user": {
      "displayName": "une kim",
      "photoUrl": "https://lh3.googleusercontent.com/a/default-user=s64",
      "userId": "18414422412856243653"
     },
     "user_tz": -540
    },
    "id": "CrUkPP_o3bf-"
   },
   "outputs": [],
   "source": [
    "optimizer = keras.optimizers.Adam(lr=0.01, decay = 0.001)\n",
    "model2.compile(optimizer=optimizer,\n",
    "              loss=tf.keras.losses.SparseCategoricalCrossentropy(from_logits=True),\n",
    "              metrics=['accuracy'])"
   ]
  },
  {
   "cell_type": "code",
   "execution_count": 164,
   "metadata": {},
   "outputs": [],
   "source": [
    "model.compile(optimizer='adam',\n",
    "              loss=tf.keras.losses.SparseCategoricalCrossentropy(from_logits=True),\n",
    "              metrics=['accuracy'])"
   ]
  },
  {
   "cell_type": "code",
   "execution_count": 165,
   "metadata": {
    "colab": {
     "base_uri": "https://localhost:8080/"
    },
    "executionInfo": {
     "elapsed": 802555,
     "status": "ok",
     "timestamp": 1630948321233,
     "user": {
      "displayName": "une kim",
      "photoUrl": "https://lh3.googleusercontent.com/a/default-user=s64",
      "userId": "18414422412856243653"
     },
     "user_tz": -540
    },
    "id": "-jv-Kt-O381n",
    "outputId": "d1c8b923-7449-4690-baa2-bdb4f0694c30"
   },
   "outputs": [
    {
     "name": "stdout",
     "output_type": "stream",
     "text": [
      "Epoch 1/100\n",
      "372/372 [==============================] - ETA: 0s - loss: 1.6778 - accuracy: 0.7828\n",
      "Epoch 00001: val_accuracy improved from -inf to 0.78849, saving model to aug_mobilenet.h5\n",
      "372/372 [==============================] - 11s 31ms/step - loss: 1.6778 - accuracy: 0.7828 - val_loss: 1.6724 - val_accuracy: 0.7885\n",
      "Epoch 2/100\n",
      "372/372 [==============================] - ETA: 0s - loss: 1.6468 - accuracy: 0.8140\n",
      "Epoch 00002: val_accuracy did not improve from 0.78849\n",
      "372/372 [==============================] - 9s 25ms/step - loss: 1.6468 - accuracy: 0.8140 - val_loss: 1.6906 - val_accuracy: 0.7702\n",
      "Epoch 3/100\n",
      "371/372 [============================>.] - ETA: 0s - loss: 1.6470 - accuracy: 0.8140\n",
      "Epoch 00003: val_accuracy improved from 0.78849 to 0.79655, saving model to aug_mobilenet.h5\n",
      "372/372 [==============================] - 10s 26ms/step - loss: 1.6469 - accuracy: 0.8140 - val_loss: 1.6643 - val_accuracy: 0.7966\n",
      "Epoch 4/100\n",
      "372/372 [==============================] - ETA: 0s - loss: 1.6535 - accuracy: 0.8074\n",
      "Epoch 00004: val_accuracy did not improve from 0.79655\n",
      "372/372 [==============================] - 9s 25ms/step - loss: 1.6535 - accuracy: 0.8074 - val_loss: 1.7225 - val_accuracy: 0.7385\n",
      "Epoch 5/100\n",
      "370/372 [============================>.] - ETA: 0s - loss: 1.6555 - accuracy: 0.8054\n",
      "Epoch 00005: val_accuracy improved from 0.79655 to 0.81361, saving model to aug_mobilenet.h5\n",
      "372/372 [==============================] - 10s 26ms/step - loss: 1.6552 - accuracy: 0.8057 - val_loss: 1.6475 - val_accuracy: 0.8136\n",
      "Epoch 6/100\n",
      "372/372 [==============================] - ETA: 0s - loss: 1.6395 - accuracy: 0.8214\n",
      "Epoch 00006: val_accuracy improved from 0.81361 to 0.84269, saving model to aug_mobilenet.h5\n",
      "372/372 [==============================] - 10s 26ms/step - loss: 1.6395 - accuracy: 0.8214 - val_loss: 1.6184 - val_accuracy: 0.8427\n",
      "Epoch 7/100\n",
      "370/372 [============================>.] - ETA: 0s - loss: 1.6355 - accuracy: 0.8253\n",
      "Epoch 00007: val_accuracy did not improve from 0.84269\n",
      "372/372 [==============================] - 9s 25ms/step - loss: 1.6354 - accuracy: 0.8255 - val_loss: 1.6384 - val_accuracy: 0.8228\n",
      "Epoch 8/100\n",
      "370/372 [============================>.] - ETA: 0s - loss: 1.6664 - accuracy: 0.7946\n",
      "Epoch 00008: val_accuracy did not improve from 0.84269\n",
      "372/372 [==============================] - 10s 26ms/step - loss: 1.6663 - accuracy: 0.7947 - val_loss: 1.6977 - val_accuracy: 0.7633\n",
      "Epoch 9/100\n",
      "370/372 [============================>.] - ETA: 0s - loss: 1.6439 - accuracy: 0.8170\n",
      "Epoch 00009: val_accuracy did not improve from 0.84269\n",
      "372/372 [==============================] - 10s 26ms/step - loss: 1.6440 - accuracy: 0.8170 - val_loss: 1.6858 - val_accuracy: 0.7751\n",
      "Epoch 10/100\n",
      "372/372 [==============================] - ETA: 0s - loss: 1.6355 - accuracy: 0.8256\n",
      "Epoch 00010: val_accuracy did not improve from 0.84269\n",
      "372/372 [==============================] - 9s 25ms/step - loss: 1.6355 - accuracy: 0.8256 - val_loss: 1.6551 - val_accuracy: 0.8061\n",
      "Epoch 11/100\n",
      "370/372 [============================>.] - ETA: 0s - loss: 1.6145 - accuracy: 0.8465\n",
      "Epoch 00011: val_accuracy improved from 0.84269 to 0.86403, saving model to aug_mobilenet.h5\n",
      "372/372 [==============================] - 10s 26ms/step - loss: 1.6144 - accuracy: 0.8466 - val_loss: 1.5970 - val_accuracy: 0.8640\n",
      "Epoch 12/100\n",
      "370/372 [============================>.] - ETA: 0s - loss: 1.6052 - accuracy: 0.8558\n",
      "Epoch 00012: val_accuracy improved from 0.86403 to 0.86807, saving model to aug_mobilenet.h5\n",
      "372/372 [==============================] - 10s 27ms/step - loss: 1.6053 - accuracy: 0.8558 - val_loss: 1.5930 - val_accuracy: 0.8681\n",
      "Epoch 13/100\n",
      "370/372 [============================>.] - ETA: 0s - loss: 1.6017 - accuracy: 0.8593\n",
      "Epoch 00013: val_accuracy improved from 0.86807 to 0.86958, saving model to aug_mobilenet.h5\n",
      "372/372 [==============================] - 10s 26ms/step - loss: 1.6018 - accuracy: 0.8592 - val_loss: 1.5916 - val_accuracy: 0.8696\n",
      "Epoch 14/100\n",
      "370/372 [============================>.] - ETA: 0s - loss: 1.5948 - accuracy: 0.8662\n",
      "Epoch 00014: val_accuracy improved from 0.86958 to 0.87655, saving model to aug_mobilenet.h5\n",
      "372/372 [==============================] - 10s 27ms/step - loss: 1.5948 - accuracy: 0.8662 - val_loss: 1.5845 - val_accuracy: 0.8766\n",
      "Epoch 15/100\n",
      "370/372 [============================>.] - ETA: 0s - loss: 1.5922 - accuracy: 0.8689\n",
      "Epoch 00015: val_accuracy improved from 0.87655 to 0.87899, saving model to aug_mobilenet.h5\n",
      "372/372 [==============================] - 10s 27ms/step - loss: 1.5923 - accuracy: 0.8687 - val_loss: 1.5820 - val_accuracy: 0.8790\n",
      "Epoch 16/100\n",
      "370/372 [============================>.] - ETA: 0s - loss: 1.5896 - accuracy: 0.8714\n",
      "Epoch 00016: val_accuracy improved from 0.87899 to 0.87975, saving model to aug_mobilenet.h5\n",
      "372/372 [==============================] - 12s 32ms/step - loss: 1.5899 - accuracy: 0.8712 - val_loss: 1.5813 - val_accuracy: 0.8797\n",
      "Epoch 17/100\n",
      "370/372 [============================>.] - ETA: 0s - loss: 1.5881 - accuracy: 0.8730\n",
      "Epoch 00017: val_accuracy improved from 0.87975 to 0.88664, saving model to aug_mobilenet.h5\n",
      "372/372 [==============================] - 10s 27ms/step - loss: 1.5881 - accuracy: 0.8730 - val_loss: 1.5744 - val_accuracy: 0.8866\n",
      "Epoch 18/100\n",
      "372/372 [==============================] - ETA: 0s - loss: 1.5831 - accuracy: 0.8780\n",
      "Epoch 00018: val_accuracy did not improve from 0.88664\n",
      "372/372 [==============================] - 10s 26ms/step - loss: 1.5831 - accuracy: 0.8780 - val_loss: 1.5750 - val_accuracy: 0.8861\n",
      "Epoch 19/100\n",
      "372/372 [==============================] - ETA: 0s - loss: 1.5849 - accuracy: 0.8761\n",
      "Epoch 00019: val_accuracy did not improve from 0.88664\n",
      "372/372 [==============================] - 10s 26ms/step - loss: 1.5849 - accuracy: 0.8761 - val_loss: 1.5760 - val_accuracy: 0.8851\n",
      "Epoch 20/100\n",
      "371/372 [============================>.] - ETA: 0s - loss: 1.5814 - accuracy: 0.8797\n",
      "Epoch 00020: val_accuracy did not improve from 0.88664\n",
      "372/372 [==============================] - 10s 26ms/step - loss: 1.5814 - accuracy: 0.8796 - val_loss: 1.5767 - val_accuracy: 0.8844\n",
      "Epoch 21/100\n",
      "372/372 [==============================] - ETA: 0s - loss: 1.5810 - accuracy: 0.8800\n",
      "Epoch 00021: val_accuracy did not improve from 0.88664\n",
      "372/372 [==============================] - 10s 26ms/step - loss: 1.5810 - accuracy: 0.8800 - val_loss: 1.5762 - val_accuracy: 0.8848\n",
      "Epoch 22/100\n",
      "371/372 [============================>.] - ETA: 0s - loss: 1.5796 - accuracy: 0.8815\n",
      "Epoch 00022: val_accuracy improved from 0.88664 to 0.88966, saving model to aug_mobilenet.h5\n",
      "372/372 [==============================] - 10s 26ms/step - loss: 1.5796 - accuracy: 0.8815 - val_loss: 1.5715 - val_accuracy: 0.8897\n",
      "Epoch 23/100\n",
      "372/372 [==============================] - ETA: 0s - loss: 1.5791 - accuracy: 0.8820\n",
      "Epoch 00023: val_accuracy improved from 0.88966 to 0.89076, saving model to aug_mobilenet.h5\n",
      "372/372 [==============================] - 10s 27ms/step - loss: 1.5791 - accuracy: 0.8820 - val_loss: 1.5704 - val_accuracy: 0.8908\n",
      "Epoch 24/100\n",
      "370/372 [============================>.] - ETA: 0s - loss: 1.5774 - accuracy: 0.8837 ETA: 1s\n",
      "Epoch 00024: val_accuracy did not improve from 0.89076\n",
      "372/372 [==============================] - 10s 26ms/step - loss: 1.5774 - accuracy: 0.8837 - val_loss: 1.5706 - val_accuracy: 0.8906\n",
      "Epoch 25/100\n",
      "372/372 [==============================] - ETA: 0s - loss: 1.5768 - accuracy: 0.8843\n",
      "Epoch 00025: val_accuracy improved from 0.89076 to 0.89143, saving model to aug_mobilenet.h5\n",
      "372/372 [==============================] - 10s 27ms/step - loss: 1.5768 - accuracy: 0.8843 - val_loss: 1.5698 - val_accuracy: 0.8914\n",
      "Epoch 26/100\n",
      "372/372 [==============================] - ETA: 0s - loss: 1.5759 - accuracy: 0.8851\n",
      "Epoch 00026: val_accuracy improved from 0.89143 to 0.89218, saving model to aug_mobilenet.h5\n",
      "372/372 [==============================] - 10s 27ms/step - loss: 1.5759 - accuracy: 0.8851 - val_loss: 1.5690 - val_accuracy: 0.8922\n",
      "Epoch 27/100\n",
      "372/372 [==============================] - ETA: 0s - loss: 1.5750 - accuracy: 0.8861\n",
      "Epoch 00027: val_accuracy did not improve from 0.89218\n",
      "372/372 [==============================] - 10s 26ms/step - loss: 1.5750 - accuracy: 0.8861 - val_loss: 1.5689 - val_accuracy: 0.8922\n",
      "Epoch 28/100\n",
      "370/372 [============================>.] - ETA: 0s - loss: 1.5749 - accuracy: 0.8862\n",
      "Epoch 00028: val_accuracy improved from 0.89218 to 0.89286, saving model to aug_mobilenet.h5\n",
      "372/372 [==============================] - 10s 27ms/step - loss: 1.5748 - accuracy: 0.8863 - val_loss: 1.5682 - val_accuracy: 0.8929\n",
      "Epoch 29/100\n",
      "371/372 [============================>.] - ETA: 0s - loss: 1.5752 - accuracy: 0.8859\n",
      "Epoch 00029: val_accuracy improved from 0.89286 to 0.89303, saving model to aug_mobilenet.h5\n",
      "372/372 [==============================] - 10s 27ms/step - loss: 1.5752 - accuracy: 0.8859 - val_loss: 1.5681 - val_accuracy: 0.8930\n",
      "Epoch 30/100\n",
      "371/372 [============================>.] - ETA: 0s - loss: 1.5740 - accuracy: 0.8871\n",
      "Epoch 00030: val_accuracy improved from 0.89303 to 0.89437, saving model to aug_mobilenet.h5\n",
      "372/372 [==============================] - 10s 26ms/step - loss: 1.5740 - accuracy: 0.8871 - val_loss: 1.5667 - val_accuracy: 0.8944\n",
      "Epoch 31/100\n",
      "370/372 [============================>.] - ETA: 0s - loss: 1.5730 - accuracy: 0.8880\n",
      "Epoch 00031: val_accuracy improved from 0.89437 to 0.89471, saving model to aug_mobilenet.h5\n",
      "372/372 [==============================] - 10s 26ms/step - loss: 1.5729 - accuracy: 0.8882 - val_loss: 1.5663 - val_accuracy: 0.8947\n",
      "Epoch 32/100\n",
      "372/372 [==============================] - ETA: 0s - loss: 1.5729 - accuracy: 0.8882\n",
      "Epoch 00032: val_accuracy did not improve from 0.89471\n",
      "372/372 [==============================] - 10s 26ms/step - loss: 1.5729 - accuracy: 0.8882 - val_loss: 1.5668 - val_accuracy: 0.8939\n",
      "Epoch 33/100\n",
      "372/372 [==============================] - ETA: 0s - loss: 1.5732 - accuracy: 0.8878\n",
      "Epoch 00033: val_accuracy did not improve from 0.89471\n",
      "372/372 [==============================] - 10s 26ms/step - loss: 1.5732 - accuracy: 0.8878 - val_loss: 1.5663 - val_accuracy: 0.8946\n",
      "Epoch 34/100\n",
      "370/372 [============================>.] - ETA: 0s - loss: 1.5734 - accuracy: 0.8878\n",
      "Epoch 00034: val_accuracy improved from 0.89471 to 0.89563, saving model to aug_mobilenet.h5\n",
      "372/372 [==============================] - 10s 27ms/step - loss: 1.5735 - accuracy: 0.8877 - val_loss: 1.5653 - val_accuracy: 0.8956\n",
      "Epoch 35/100\n",
      "371/372 [============================>.] - ETA: 0s - loss: 1.5727 - accuracy: 0.8883\n",
      "Epoch 00035: val_accuracy did not improve from 0.89563\n",
      "372/372 [==============================] - 10s 26ms/step - loss: 1.5727 - accuracy: 0.8883 - val_loss: 1.5654 - val_accuracy: 0.8956\n",
      "Epoch 36/100\n",
      "370/372 [============================>.] - ETA: 0s - loss: 1.5707 - accuracy: 0.8903\n",
      "Epoch 00036: val_accuracy improved from 0.89563 to 0.89597, saving model to aug_mobilenet.h5\n",
      "372/372 [==============================] - 10s 27ms/step - loss: 1.5707 - accuracy: 0.8903 - val_loss: 1.5652 - val_accuracy: 0.8960\n",
      "Epoch 37/100\n",
      "371/372 [============================>.] - ETA: 0s - loss: 1.5714 - accuracy: 0.8898\n",
      "Epoch 00037: val_accuracy did not improve from 0.89597\n",
      "372/372 [==============================] - 10s 26ms/step - loss: 1.5715 - accuracy: 0.8897 - val_loss: 1.5652 - val_accuracy: 0.8959\n",
      "Epoch 38/100\n",
      "372/372 [==============================] - ETA: 0s - loss: 1.5716 - accuracy: 0.8895\n",
      "Epoch 00038: val_accuracy improved from 0.89597 to 0.89697, saving model to aug_mobilenet.h5\n",
      "372/372 [==============================] - 10s 26ms/step - loss: 1.5716 - accuracy: 0.8895 - val_loss: 1.5642 - val_accuracy: 0.8970\n",
      "Epoch 39/100\n",
      "372/372 [==============================] - ETA: 0s - loss: 1.5725 - accuracy: 0.8886\n",
      "Epoch 00039: val_accuracy did not improve from 0.89697\n",
      "372/372 [==============================] - 10s 26ms/step - loss: 1.5725 - accuracy: 0.8886 - val_loss: 1.5649 - val_accuracy: 0.8961\n",
      "Epoch 40/100\n",
      "370/372 [============================>.] - ETA: 0s - loss: 1.5716 - accuracy: 0.8895\n",
      "Epoch 00040: val_accuracy improved from 0.89697 to 0.89714, saving model to aug_mobilenet.h5\n",
      "372/372 [==============================] - 10s 27ms/step - loss: 1.5716 - accuracy: 0.8895 - val_loss: 1.5641 - val_accuracy: 0.8971\n",
      "Epoch 41/100\n",
      "370/372 [============================>.] - ETA: 0s - loss: 1.5705 - accuracy: 0.8904\n",
      "Epoch 00041: val_accuracy did not improve from 0.89714\n",
      "372/372 [==============================] - 10s 26ms/step - loss: 1.5705 - accuracy: 0.8904 - val_loss: 1.5641 - val_accuracy: 0.8969\n",
      "Epoch 42/100\n",
      "372/372 [==============================] - ETA: 0s - loss: 1.5704 - accuracy: 0.8908\n",
      "Epoch 00042: val_accuracy improved from 0.89714 to 0.89731, saving model to aug_mobilenet.h5\n",
      "372/372 [==============================] - 11s 29ms/step - loss: 1.5704 - accuracy: 0.8908 - val_loss: 1.5637 - val_accuracy: 0.8973\n",
      "Epoch 43/100\n",
      "372/372 [==============================] - ETA: 0s - loss: 1.5727 - accuracy: 0.8884\n",
      "Epoch 00043: val_accuracy improved from 0.89731 to 0.89773, saving model to aug_mobilenet.h5\n",
      "372/372 [==============================] - 10s 27ms/step - loss: 1.5727 - accuracy: 0.8884 - val_loss: 1.5633 - val_accuracy: 0.8977\n",
      "Epoch 44/100\n",
      "372/372 [==============================] - ETA: 0s - loss: 1.5715 - accuracy: 0.8895\n",
      "Epoch 00044: val_accuracy did not improve from 0.89773\n",
      "372/372 [==============================] - 10s 26ms/step - loss: 1.5715 - accuracy: 0.8895 - val_loss: 1.5638 - val_accuracy: 0.8973\n",
      "Epoch 45/100\n",
      "370/372 [============================>.] - ETA: 0s - loss: 1.5710 - accuracy: 0.8902\n",
      "Epoch 00045: val_accuracy did not improve from 0.89773\n",
      "372/372 [==============================] - 10s 26ms/step - loss: 1.5711 - accuracy: 0.8900 - val_loss: 1.5644 - val_accuracy: 0.8966\n",
      "Epoch 46/100\n",
      "372/372 [==============================] - ETA: 0s - loss: 1.5705 - accuracy: 0.8906\n",
      "Epoch 00046: val_accuracy did not improve from 0.89773\n",
      "372/372 [==============================] - 10s 27ms/step - loss: 1.5705 - accuracy: 0.8906 - val_loss: 1.5640 - val_accuracy: 0.8971\n",
      "Epoch 47/100\n",
      "371/372 [============================>.] - ETA: 0s - loss: 1.5695 - accuracy: 0.8917\n",
      "Epoch 00047: val_accuracy did not improve from 0.89773\n",
      "372/372 [==============================] - 10s 26ms/step - loss: 1.5697 - accuracy: 0.8916 - val_loss: 1.5637 - val_accuracy: 0.8974\n",
      "Epoch 48/100\n",
      "372/372 [==============================] - ETA: 0s - loss: 1.5712 - accuracy: 0.8901\n",
      "Epoch 00048: val_accuracy improved from 0.89773 to 0.89782, saving model to aug_mobilenet.h5\n",
      "372/372 [==============================] - 11s 28ms/step - loss: 1.5712 - accuracy: 0.8901 - val_loss: 1.5634 - val_accuracy: 0.8978\n",
      "Epoch 49/100\n",
      "370/372 [============================>.] - ETA: 0s - loss: 1.5700 - accuracy: 0.8910\n",
      "Epoch 00049: val_accuracy did not improve from 0.89782\n",
      "372/372 [==============================] - 10s 26ms/step - loss: 1.5699 - accuracy: 0.8911 - val_loss: 1.5642 - val_accuracy: 0.8967\n",
      "Epoch 50/100\n",
      "372/372 [==============================] - ETA: 0s - loss: 1.5695 - accuracy: 0.8916\n",
      "Epoch 00050: val_accuracy did not improve from 0.89782\n",
      "372/372 [==============================] - 9s 25ms/step - loss: 1.5695 - accuracy: 0.8916 - val_loss: 1.5636 - val_accuracy: 0.8977\n",
      "Epoch 51/100\n",
      "370/372 [============================>.] - ETA: 0s - loss: 1.5699 - accuracy: 0.8913\n",
      "Epoch 00051: val_accuracy did not improve from 0.89782\n",
      "372/372 [==============================] - 9s 25ms/step - loss: 1.5700 - accuracy: 0.8911 - val_loss: 1.5636 - val_accuracy: 0.8976\n",
      "Epoch 52/100\n",
      "370/372 [============================>.] - ETA: 0s - loss: 1.5694 - accuracy: 0.8918\n",
      "Epoch 00052: val_accuracy did not improve from 0.89782\n",
      "372/372 [==============================] - 9s 25ms/step - loss: 1.5694 - accuracy: 0.8917 - val_loss: 1.5634 - val_accuracy: 0.8978\n",
      "Epoch 53/100\n",
      "371/372 [============================>.] - ETA: 0s - loss: 1.5706 - accuracy: 0.8906\n",
      "Epoch 00053: val_accuracy did not improve from 0.89782\n",
      "372/372 [==============================] - 9s 25ms/step - loss: 1.5707 - accuracy: 0.8904 - val_loss: 1.5638 - val_accuracy: 0.8971\n",
      "Epoch 54/100\n",
      "370/372 [============================>.] - ETA: 0s - loss: 1.5686 - accuracy: 0.8924\n",
      "Epoch 00054: val_accuracy did not improve from 0.89782\n",
      "372/372 [==============================] - 9s 25ms/step - loss: 1.5684 - accuracy: 0.8927 - val_loss: 1.5633 - val_accuracy: 0.8976\n",
      "Epoch 55/100\n",
      "371/372 [============================>.] - ETA: 0s - loss: 1.5695 - accuracy: 0.8915\n",
      "Epoch 00055: val_accuracy did not improve from 0.89782\n",
      "372/372 [==============================] - 9s 25ms/step - loss: 1.5694 - accuracy: 0.8916 - val_loss: 1.5636 - val_accuracy: 0.8976\n",
      "Epoch 56/100\n",
      "371/372 [============================>.] - ETA: 0s - loss: 1.5696 - accuracy: 0.8916\n",
      "Epoch 00056: val_accuracy did not improve from 0.89782\n",
      "372/372 [==============================] - 9s 25ms/step - loss: 1.5697 - accuracy: 0.8915 - val_loss: 1.5638 - val_accuracy: 0.8973\n",
      "Epoch 57/100\n",
      "372/372 [==============================] - ETA: 0s - loss: 1.5692 - accuracy: 0.8918 ETA: 0s - loss: 1.5696 \n",
      "Epoch 00057: val_accuracy did not improve from 0.89782\n",
      "372/372 [==============================] - 10s 26ms/step - loss: 1.5692 - accuracy: 0.8918 - val_loss: 1.5635 - val_accuracy: 0.8975\n",
      "Epoch 58/100\n",
      "372/372 [==============================] - ETA: 0s - loss: 1.5690 - accuracy: 0.8921\n",
      "Epoch 00058: val_accuracy improved from 0.89782 to 0.89790, saving model to aug_mobilenet.h5\n",
      "372/372 [==============================] - 10s 26ms/step - loss: 1.5690 - accuracy: 0.8921 - val_loss: 1.5632 - val_accuracy: 0.8979\n",
      "Epoch 59/100\n",
      "370/372 [============================>.] - ETA: 0s - loss: 1.5702 - accuracy: 0.8909\n",
      "Epoch 00059: val_accuracy did not improve from 0.89790\n",
      "372/372 [==============================] - 9s 25ms/step - loss: 1.5700 - accuracy: 0.8910 - val_loss: 1.5642 - val_accuracy: 0.8970\n",
      "Epoch 60/100\n",
      "370/372 [============================>.] - ETA: 0s - loss: 1.5700 - accuracy: 0.8911\n",
      "Epoch 00060: val_accuracy did not improve from 0.89790\n",
      "372/372 [==============================] - 9s 25ms/step - loss: 1.5700 - accuracy: 0.8911 - val_loss: 1.5634 - val_accuracy: 0.8976\n",
      "Epoch 61/100\n",
      "371/372 [============================>.] - ETA: 0s - loss: 1.5710 - accuracy: 0.8901\n",
      "Epoch 00061: val_accuracy improved from 0.89790 to 0.89807, saving model to aug_mobilenet.h5\n",
      "372/372 [==============================] - 10s 26ms/step - loss: 1.5709 - accuracy: 0.8901 - val_loss: 1.5632 - val_accuracy: 0.8981\n",
      "Epoch 62/100\n",
      "370/372 [============================>.] - ETA: 0s - loss: 1.5699 - accuracy: 0.8912\n",
      "Epoch 00062: val_accuracy did not improve from 0.89807\n",
      "372/372 [==============================] - 9s 25ms/step - loss: 1.5700 - accuracy: 0.8911 - val_loss: 1.5636 - val_accuracy: 0.8976\n",
      "Epoch 63/100\n",
      "371/372 [============================>.] - ETA: 0s - loss: 1.5690 - accuracy: 0.8922\n",
      "Epoch 00063: val_accuracy did not improve from 0.89807\n",
      "372/372 [==============================] - 9s 25ms/step - loss: 1.5690 - accuracy: 0.8922 - val_loss: 1.5637 - val_accuracy: 0.8974\n",
      "Epoch 64/100\n",
      "372/372 [==============================] - ETA: 0s - loss: 1.5706 - accuracy: 0.8904\n",
      "Epoch 00064: val_accuracy did not improve from 0.89807\n",
      "372/372 [==============================] - 9s 25ms/step - loss: 1.5706 - accuracy: 0.8904 - val_loss: 1.5636 - val_accuracy: 0.8974\n",
      "Epoch 65/100\n",
      "370/372 [============================>.] - ETA: 0s - loss: 1.5726 - accuracy: 0.8886\n",
      "Epoch 00065: val_accuracy did not improve from 0.89807\n",
      "372/372 [==============================] - 9s 25ms/step - loss: 1.5727 - accuracy: 0.8885 - val_loss: 1.5638 - val_accuracy: 0.8973\n",
      "Epoch 66/100\n",
      "370/372 [============================>.] - ETA: 0s - loss: 1.5691 - accuracy: 0.8921\n",
      "Epoch 00066: val_accuracy did not improve from 0.89807\n",
      "372/372 [==============================] - 9s 25ms/step - loss: 1.5690 - accuracy: 0.8922 - val_loss: 1.5633 - val_accuracy: 0.8979\n",
      "Epoch 67/100\n",
      "370/372 [============================>.] - ETA: 0s - loss: 1.5702 - accuracy: 0.8909\n",
      "Epoch 00067: val_accuracy did not improve from 0.89807\n",
      "372/372 [==============================] - 9s 25ms/step - loss: 1.5703 - accuracy: 0.8909 - val_loss: 1.5634 - val_accuracy: 0.8977\n",
      "Epoch 68/100\n",
      "370/372 [============================>.] - ETA: 0s - loss: 1.5697 - accuracy: 0.8913\n",
      "Epoch 00068: val_accuracy did not improve from 0.89807\n",
      "372/372 [==============================] - 9s 25ms/step - loss: 1.5698 - accuracy: 0.8912 - val_loss: 1.5634 - val_accuracy: 0.8977\n",
      "Epoch 69/100\n",
      "370/372 [============================>.] - ETA: 0s - loss: 1.5703 - accuracy: 0.8909\n",
      "Epoch 00069: val_accuracy did not improve from 0.89807\n",
      "372/372 [==============================] - 9s 25ms/step - loss: 1.5704 - accuracy: 0.8908 - val_loss: 1.5636 - val_accuracy: 0.8975\n",
      "Epoch 70/100\n",
      "370/372 [============================>.] - ETA: 0s - loss: 1.5697 - accuracy: 0.8913\n",
      "Epoch 00070: val_accuracy did not improve from 0.89807\n",
      "372/372 [==============================] - 9s 25ms/step - loss: 1.5699 - accuracy: 0.8912 - val_loss: 1.5635 - val_accuracy: 0.8976\n",
      "Epoch 71/100\n",
      "370/372 [============================>.] - ETA: 0s - loss: 1.5696 - accuracy: 0.8916\n",
      "Epoch 00071: val_accuracy did not improve from 0.89807\n",
      "372/372 [==============================] - 9s 25ms/step - loss: 1.5695 - accuracy: 0.8917 - val_loss: 1.5633 - val_accuracy: 0.8979\n",
      "Epoch 72/100\n",
      "370/372 [============================>.] - ETA: 0s - loss: 1.5697 - accuracy: 0.8913\n",
      "Epoch 00072: val_accuracy did not improve from 0.89807\n",
      "372/372 [==============================] - 9s 25ms/step - loss: 1.5697 - accuracy: 0.8914 - val_loss: 1.5640 - val_accuracy: 0.8971\n",
      "Epoch 73/100\n",
      "370/372 [============================>.] - ETA: 0s - loss: 1.5698 - accuracy: 0.8913\n",
      "Epoch 00073: val_accuracy did not improve from 0.89807\n",
      "372/372 [==============================] - 9s 25ms/step - loss: 1.5701 - accuracy: 0.8910 - val_loss: 1.5636 - val_accuracy: 0.8976\n",
      "Epoch 74/100\n",
      "370/372 [============================>.] - ETA: 0s - loss: 1.5704 - accuracy: 0.8907\n",
      "Epoch 00074: val_accuracy did not improve from 0.89807\n",
      "372/372 [==============================] - 9s 25ms/step - loss: 1.5704 - accuracy: 0.8906 - val_loss: 1.5634 - val_accuracy: 0.8977\n",
      "Epoch 75/100\n",
      "371/372 [============================>.] - ETA: 0s - loss: 1.5689 - accuracy: 0.8922\n",
      "Epoch 00075: val_accuracy did not improve from 0.89807\n",
      "372/372 [==============================] - 9s 25ms/step - loss: 1.5689 - accuracy: 0.8922 - val_loss: 1.5635 - val_accuracy: 0.8976\n",
      "Epoch 76/100\n",
      "371/372 [============================>.] - ETA: 0s - loss: 1.5694 - accuracy: 0.8917\n",
      "Epoch 00076: val_accuracy did not improve from 0.89807\n",
      "372/372 [==============================] - 9s 25ms/step - loss: 1.5695 - accuracy: 0.8917 - val_loss: 1.5631 - val_accuracy: 0.8981\n",
      "Epoch 77/100\n",
      "372/372 [==============================] - ETA: 0s - loss: 1.5712 - accuracy: 0.8899\n",
      "Epoch 00077: val_accuracy did not improve from 0.89807\n",
      "372/372 [==============================] - 9s 25ms/step - loss: 1.5712 - accuracy: 0.8899 - val_loss: 1.5640 - val_accuracy: 0.8972\n",
      "Epoch 78/100\n",
      "370/372 [============================>.] - ETA: 0s - loss: 1.5689 - accuracy: 0.8923\n",
      "Epoch 00078: val_accuracy did not improve from 0.89807\n",
      "372/372 [==============================] - 9s 25ms/step - loss: 1.5689 - accuracy: 0.8922 - val_loss: 1.5634 - val_accuracy: 0.8976\n",
      "Epoch 79/100\n",
      "372/372 [==============================] - ETA: 0s - loss: 1.5709 - accuracy: 0.8904\n",
      "Epoch 00079: val_accuracy did not improve from 0.89807\n",
      "372/372 [==============================] - 10s 26ms/step - loss: 1.5709 - accuracy: 0.8904 - val_loss: 1.5635 - val_accuracy: 0.8976\n",
      "Epoch 80/100\n",
      "370/372 [============================>.] - ETA: 0s - loss: 1.5703 - accuracy: 0.8908\n",
      "Epoch 00080: val_accuracy did not improve from 0.89807\n",
      "372/372 [==============================] - 10s 26ms/step - loss: 1.5702 - accuracy: 0.8909 - val_loss: 1.5636 - val_accuracy: 0.8976\n",
      "Epoch 81/100\n",
      "372/372 [==============================] - ETA: 0s - loss: 1.5698 - accuracy: 0.8913\n",
      "Epoch 00081: val_accuracy did not improve from 0.89807\n",
      "372/372 [==============================] - 10s 27ms/step - loss: 1.5698 - accuracy: 0.8913 - val_loss: 1.5633 - val_accuracy: 0.8979\n",
      "Epoch 82/100\n",
      "371/372 [============================>.] - ETA: 0s - loss: 1.5711 - accuracy: 0.8900\n",
      "Epoch 00082: val_accuracy did not improve from 0.89807\n",
      "372/372 [==============================] - 10s 26ms/step - loss: 1.5710 - accuracy: 0.8900 - val_loss: 1.5635 - val_accuracy: 0.8976\n",
      "Epoch 83/100\n",
      "372/372 [==============================] - ETA: 0s - loss: 1.5698 - accuracy: 0.8913 ETA: 0s - loss: 1.5697 - accuracy\n",
      "Epoch 00083: val_accuracy did not improve from 0.89807\n",
      "372/372 [==============================] - 10s 28ms/step - loss: 1.5698 - accuracy: 0.8913 - val_loss: 1.5641 - val_accuracy: 0.8970\n",
      "Epoch 84/100\n",
      "371/372 [============================>.] - ETA: 0s - loss: 1.5700 - accuracy: 0.8912\n",
      "Epoch 00084: val_accuracy did not improve from 0.89807\n",
      "372/372 [==============================] - 10s 26ms/step - loss: 1.5699 - accuracy: 0.8912 - val_loss: 1.5639 - val_accuracy: 0.8972\n",
      "Epoch 85/100\n",
      "371/372 [============================>.] - ETA: 0s - loss: 1.5696 - accuracy: 0.8915\n",
      "Epoch 00085: val_accuracy did not improve from 0.89807\n",
      "372/372 [==============================] - 10s 26ms/step - loss: 1.5696 - accuracy: 0.8915 - val_loss: 1.5636 - val_accuracy: 0.8975\n",
      "Epoch 86/100\n",
      "372/372 [==============================] - ETA: 0s - loss: 1.5702 - accuracy: 0.8909\n",
      "Epoch 00086: val_accuracy did not improve from 0.89807\n",
      "372/372 [==============================] - 10s 26ms/step - loss: 1.5702 - accuracy: 0.8909 - val_loss: 1.5636 - val_accuracy: 0.8974\n",
      "Epoch 87/100\n",
      "370/372 [============================>.] - ETA: 0s - loss: 1.5695 - accuracy: 0.8915\n",
      "Epoch 00087: val_accuracy did not improve from 0.89807\n",
      "372/372 [==============================] - 10s 27ms/step - loss: 1.5694 - accuracy: 0.8915 - val_loss: 1.5636 - val_accuracy: 0.8976\n",
      "Epoch 88/100\n",
      "371/372 [============================>.] - ETA: 0s - loss: 1.5712 - accuracy: 0.8900\n",
      "Epoch 00088: val_accuracy did not improve from 0.89807\n",
      "372/372 [==============================] - 10s 26ms/step - loss: 1.5713 - accuracy: 0.8899 - val_loss: 1.5635 - val_accuracy: 0.8976\n",
      "Epoch 89/100\n",
      "372/372 [==============================] - ETA: 0s - loss: 1.5703 - accuracy: 0.8908\n",
      "Epoch 00089: val_accuracy did not improve from 0.89807\n",
      "372/372 [==============================] - 10s 26ms/step - loss: 1.5703 - accuracy: 0.8908 - val_loss: 1.5635 - val_accuracy: 0.8976\n",
      "Epoch 90/100\n",
      "371/372 [============================>.] - ETA: 0s - loss: 1.5692 - accuracy: 0.8919\n",
      "Epoch 00090: val_accuracy did not improve from 0.89807\n",
      "372/372 [==============================] - 10s 26ms/step - loss: 1.5693 - accuracy: 0.8918 - val_loss: 1.5635 - val_accuracy: 0.8976\n",
      "Epoch 91/100\n",
      "372/372 [==============================] - ETA: 0s - loss: 1.5694 - accuracy: 0.8916\n",
      "Epoch 00091: val_accuracy did not improve from 0.89807\n",
      "372/372 [==============================] - 10s 26ms/step - loss: 1.5694 - accuracy: 0.8916 - val_loss: 1.5638 - val_accuracy: 0.8973\n",
      "Epoch 92/100\n",
      "371/372 [============================>.] - ETA: 0s - loss: 1.5707 - accuracy: 0.89 - ETA: 0s - loss: 1.5706 - accuracy: 0.8906\n",
      "Epoch 00092: val_accuracy did not improve from 0.89807\n",
      "372/372 [==============================] - 10s 26ms/step - loss: 1.5705 - accuracy: 0.8907 - val_loss: 1.5634 - val_accuracy: 0.8976\n",
      "Epoch 93/100\n",
      "370/372 [============================>.] - ETA: 0s - loss: 1.5699 - accuracy: 0.8913\n",
      "Epoch 00093: val_accuracy did not improve from 0.89807\n",
      "372/372 [==============================] - 10s 26ms/step - loss: 1.5700 - accuracy: 0.8911 - val_loss: 1.5635 - val_accuracy: 0.8976\n",
      "Epoch 94/100\n",
      "372/372 [==============================] - ETA: 0s - loss: 1.5684 - accuracy: 0.8927\n",
      "Epoch 00094: val_accuracy did not improve from 0.89807\n",
      "372/372 [==============================] - 10s 26ms/step - loss: 1.5684 - accuracy: 0.8927 - val_loss: 1.5637 - val_accuracy: 0.8975\n",
      "Epoch 95/100\n",
      "371/372 [============================>.] - ETA: 0s - loss: 1.5695 - accuracy: 0.8917\n",
      "Epoch 00095: val_accuracy did not improve from 0.89807\n",
      "372/372 [==============================] - 10s 26ms/step - loss: 1.5695 - accuracy: 0.8916 - val_loss: 1.5637 - val_accuracy: 0.8975\n",
      "Epoch 96/100\n",
      "372/372 [==============================] - ETA: 0s - loss: 1.5706 - accuracy: 0.8906\n",
      "Epoch 00096: val_accuracy did not improve from 0.89807\n",
      "372/372 [==============================] - 10s 26ms/step - loss: 1.5706 - accuracy: 0.8906 - val_loss: 1.5633 - val_accuracy: 0.8979\n",
      "Epoch 97/100\n",
      "372/372 [==============================] - ETA: 0s - loss: 1.5695 - accuracy: 0.8917\n",
      "Epoch 00097: val_accuracy did not improve from 0.89807\n",
      "372/372 [==============================] - 10s 26ms/step - loss: 1.5695 - accuracy: 0.8917 - val_loss: 1.5636 - val_accuracy: 0.8974\n",
      "Epoch 98/100\n",
      "370/372 [============================>.] - ETA: 0s - loss: 1.5694 - accuracy: 0.8917\n",
      "Epoch 00098: val_accuracy did not improve from 0.89807\n",
      "372/372 [==============================] - 10s 26ms/step - loss: 1.5692 - accuracy: 0.8919 - val_loss: 1.5640 - val_accuracy: 0.8971\n",
      "Epoch 99/100\n",
      "370/372 [============================>.] - ETA: 0s - loss: 1.5701 - accuracy: 0.8909\n",
      "Epoch 00099: val_accuracy did not improve from 0.89807\n",
      "372/372 [==============================] - 10s 26ms/step - loss: 1.5702 - accuracy: 0.8908 - val_loss: 1.5635 - val_accuracy: 0.8975\n",
      "Epoch 100/100\n",
      "371/372 [============================>.] - ETA: 0s - loss: 1.5706 - accuracy: 0.8905\n",
      "Epoch 00100: val_accuracy did not improve from 0.89807\n",
      "372/372 [==============================] - 10s 26ms/step - loss: 1.5705 - accuracy: 0.8905 - val_loss: 1.5634 - val_accuracy: 0.8976\n"
     ]
    }
   ],
   "source": [
    "BATCH_SIZE = 128\n",
    "EPOCHS = 100\n",
    "\n",
    "callbacks = [\n",
    "    ModelCheckpoint('aug_mobilenet.h5', verbose=1, save_best_only=True,monitor='val_accuracy'),\n",
    "    ReduceLROnPlateau(monitor='val_loss', factor=0.1, patience=4)\n",
    "#     EarlyStopping(monitor='val_accuracy', patience=10, restore_best_weights=False)\n",
    "]\n",
    "\n",
    "result = model.fit(CX_train, Cy_train,\n",
    "                   batch_size=BATCH_SIZE, \n",
    "                  # steps_per_epoch=train_steps,\n",
    "                  # validation_steps=valid_steps,\n",
    "                   epochs=EPOCHS,\n",
    "                   validation_data=(CX_val, Cy_val),\n",
    "                   callbacks=callbacks)"
   ]
  },
  {
   "cell_type": "code",
   "execution_count": 167,
   "metadata": {},
   "outputs": [
    {
     "data": {
      "image/png": "[encoded data removed]",
      "text/plain": [
       "<Figure size 1080x360 with 2 Axes>"
      ]
     },
     "metadata": {
      "needs_background": "light"
     },
     "output_type": "display_data"
    }
   ],
   "source": [
    "fig, axes = plt.subplots(nrows=1, ncols=2, figsize=(15, 5))\n",
    "\n",
    "axes[0].plot(result.epoch, result.history[\"loss\"], label='Train Loss')\n",
    "axes[0].plot(result.epoch, result.history['val_loss'], label='Val Loss')\n",
    "axes[0].set_ylim(0.0, 2)\n",
    "axes[0].legend()\n",
    "axes[0].set_title('Loss')\n",
    "\n",
    "axes[1].plot(result.epoch, result.history['accuracy'], label='Train Accuracy')\n",
    "axes[1].plot(result.epoch, result.history['val_accuracy'], label='Val Accuracy')\n",
    "axes[1].set_ylim(0.7, 1)\n",
    "axes[1].legend()\n",
    "axes[1].set_title('ACC')\n",
    "\n",
    "plt.show()"
   ]
  },
  {
   "cell_type": "markdown",
   "metadata": {},
   "source": [
    "### Train Augmented Data"
   ]
  },
  {
   "cell_type": "code",
   "execution_count": 71,
   "metadata": {},
   "outputs": [],
   "source": [
    "model2.compile(optimizer='adam', loss='sparse_categorical_crossentropy', metrics=['accuracy'])"
   ]
  },
  {
   "cell_type": "code",
   "execution_count": 73,
   "metadata": {},
   "outputs": [
    {
     "name": "stdout",
     "output_type": "stream",
     "text": [
      "Epoch 1/100\n",
      "4462/4463 [============================>.] - ETA: 0s - loss: 3.4256 - accuracy: 0.5651\n",
      "Epoch 00001: val_loss improved from inf to 0.95824, saving model to aug_mobilenet.h5\n",
      "4463/4463 [==============================] - 55s 12ms/step - loss: 3.4260 - accuracy: 0.5651 - val_loss: 0.9582 - val_accuracy: 0.7330\n",
      "Epoch 2/100\n",
      "4462/4463 [============================>.] - ETA: 0s - loss: 1.2366 - accuracy: 0.6651\n",
      "Epoch 00002: val_loss improved from 0.95824 to 0.73437, saving model to aug_mobilenet.h5\n",
      "4463/4463 [==============================] - 55s 12ms/step - loss: 1.2365 - accuracy: 0.6651 - val_loss: 0.7344 - val_accuracy: 0.7388\n",
      "Epoch 3/100\n",
      "4462/4463 [============================>.] - ETA: 0s - loss: 0.9589 - accuracy: 0.7124\n",
      "Epoch 00003: val_loss improved from 0.73437 to 0.59806, saving model to aug_mobilenet.h5\n",
      "4463/4463 [==============================] - 55s 12ms/step - loss: 0.9589 - accuracy: 0.7124 - val_loss: 0.5981 - val_accuracy: 0.7701\n",
      "Epoch 4/100\n",
      "4460/4463 [============================>.] - ETA: 0s - loss: 0.8067 - accuracy: 0.7414\n",
      "Epoch 00004: val_loss improved from 0.59806 to 0.55432, saving model to aug_mobilenet.h5\n",
      "4463/4463 [==============================] - 56s 13ms/step - loss: 0.8067 - accuracy: 0.7414 - val_loss: 0.5543 - val_accuracy: 0.7886\n",
      "Epoch 5/100\n",
      " 205/4463 [>.............................] - ETA: 50s - loss: 0.8156 - accuracy: 0.7483"
     ]
    },
    {
     "ename": "KeyboardInterrupt",
     "evalue": "",
     "output_type": "error",
     "traceback": [
      "\u001b[1;31m---------------------------------------------------------------------------\u001b[0m",
      "\u001b[1;31mKeyboardInterrupt\u001b[0m                         Traceback (most recent call last)",
      "\u001b[1;32m<ipython-input-73-0fa0f35a2b28>\u001b[0m in \u001b[0;36m<module>\u001b[1;34m\u001b[0m\n\u001b[0;32m      5\u001b[0m ]\n\u001b[0;32m      6\u001b[0m \u001b[1;33m\u001b[0m\u001b[0m\n\u001b[1;32m----> 7\u001b[1;33m hist3 = model2.fit(aug_X_train, aug_y_train, batch_size=BATCH_SIZE, \n\u001b[0m\u001b[0;32m      8\u001b[0m                   \u001b[1;31m# steps_per_epoch=train_steps,\u001b[0m\u001b[1;33m\u001b[0m\u001b[1;33m\u001b[0m\u001b[1;33m\u001b[0m\u001b[0m\n\u001b[0;32m      9\u001b[0m                   \u001b[1;31m# validation_steps=valid_steps,\u001b[0m\u001b[1;33m\u001b[0m\u001b[1;33m\u001b[0m\u001b[1;33m\u001b[0m\u001b[0m\n",
      "\u001b[1;32m~\\anaconda3\\lib\\site-packages\\tensorflow\\python\\keras\\engine\\training.py\u001b[0m in \u001b[0;36m_method_wrapper\u001b[1;34m(self, *args, **kwargs)\u001b[0m\n\u001b[0;32m    106\u001b[0m   \u001b[1;32mdef\u001b[0m \u001b[0m_method_wrapper\u001b[0m\u001b[1;33m(\u001b[0m\u001b[0mself\u001b[0m\u001b[1;33m,\u001b[0m \u001b[1;33m*\u001b[0m\u001b[0margs\u001b[0m\u001b[1;33m,\u001b[0m \u001b[1;33m**\u001b[0m\u001b[0mkwargs\u001b[0m\u001b[1;33m)\u001b[0m\u001b[1;33m:\u001b[0m\u001b[1;33m\u001b[0m\u001b[1;33m\u001b[0m\u001b[0m\n\u001b[0;32m    107\u001b[0m     \u001b[1;32mif\u001b[0m \u001b[1;32mnot\u001b[0m \u001b[0mself\u001b[0m\u001b[1;33m.\u001b[0m\u001b[0m_in_multi_worker_mode\u001b[0m\u001b[1;33m(\u001b[0m\u001b[1;33m)\u001b[0m\u001b[1;33m:\u001b[0m  \u001b[1;31m# pylint: disable=protected-access\u001b[0m\u001b[1;33m\u001b[0m\u001b[1;33m\u001b[0m\u001b[0m\n\u001b[1;32m--> 108\u001b[1;33m       \u001b[1;32mreturn\u001b[0m \u001b[0mmethod\u001b[0m\u001b[1;33m(\u001b[0m\u001b[0mself\u001b[0m\u001b[1;33m,\u001b[0m \u001b[1;33m*\u001b[0m\u001b[0margs\u001b[0m\u001b[1;33m,\u001b[0m \u001b[1;33m**\u001b[0m\u001b[0mkwargs\u001b[0m\u001b[1;33m)\u001b[0m\u001b[1;33m\u001b[0m\u001b[1;33m\u001b[0m\u001b[0m\n\u001b[0m\u001b[0;32m    109\u001b[0m \u001b[1;33m\u001b[0m\u001b[0m\n\u001b[0;32m    110\u001b[0m     \u001b[1;31m# Running inside `run_distribute_coordinator` already.\u001b[0m\u001b[1;33m\u001b[0m\u001b[1;33m\u001b[0m\u001b[1;33m\u001b[0m\u001b[0m\n",
      "\u001b[1;32m~\\anaconda3\\lib\\site-packages\\tensorflow\\python\\keras\\engine\\training.py\u001b[0m in \u001b[0;36mfit\u001b[1;34m(self, x, y, batch_size, epochs, verbose, callbacks, validation_split, validation_data, shuffle, class_weight, sample_weight, initial_epoch, steps_per_epoch, validation_steps, validation_batch_size, validation_freq, max_queue_size, workers, use_multiprocessing)\u001b[0m\n\u001b[0;32m   1096\u001b[0m                 batch_size=batch_size):\n\u001b[0;32m   1097\u001b[0m               \u001b[0mcallbacks\u001b[0m\u001b[1;33m.\u001b[0m\u001b[0mon_train_batch_begin\u001b[0m\u001b[1;33m(\u001b[0m\u001b[0mstep\u001b[0m\u001b[1;33m)\u001b[0m\u001b[1;33m\u001b[0m\u001b[1;33m\u001b[0m\u001b[0m\n\u001b[1;32m-> 1098\u001b[1;33m               \u001b[0mtmp_logs\u001b[0m \u001b[1;33m=\u001b[0m \u001b[0mtrain_function\u001b[0m\u001b[1;33m(\u001b[0m\u001b[0miterator\u001b[0m\u001b[1;33m)\u001b[0m\u001b[1;33m\u001b[0m\u001b[1;33m\u001b[0m\u001b[0m\n\u001b[0m\u001b[0;32m   1099\u001b[0m               \u001b[1;32mif\u001b[0m \u001b[0mdata_handler\u001b[0m\u001b[1;33m.\u001b[0m\u001b[0mshould_sync\u001b[0m\u001b[1;33m:\u001b[0m\u001b[1;33m\u001b[0m\u001b[1;33m\u001b[0m\u001b[0m\n\u001b[0;32m   1100\u001b[0m                 \u001b[0mcontext\u001b[0m\u001b[1;33m.\u001b[0m\u001b[0masync_wait\u001b[0m\u001b[1;33m(\u001b[0m\u001b[1;33m)\u001b[0m\u001b[1;33m\u001b[0m\u001b[1;33m\u001b[0m\u001b[0m\n",
      "\u001b[1;32m~\\anaconda3\\lib\\site-packages\\tensorflow\\python\\eager\\def_function.py\u001b[0m in \u001b[0;36m__call__\u001b[1;34m(self, *args, **kwds)\u001b[0m\n\u001b[0;32m    778\u001b[0m       \u001b[1;32melse\u001b[0m\u001b[1;33m:\u001b[0m\u001b[1;33m\u001b[0m\u001b[1;33m\u001b[0m\u001b[0m\n\u001b[0;32m    779\u001b[0m         \u001b[0mcompiler\u001b[0m \u001b[1;33m=\u001b[0m \u001b[1;34m\"nonXla\"\u001b[0m\u001b[1;33m\u001b[0m\u001b[1;33m\u001b[0m\u001b[0m\n\u001b[1;32m--> 780\u001b[1;33m         \u001b[0mresult\u001b[0m \u001b[1;33m=\u001b[0m \u001b[0mself\u001b[0m\u001b[1;33m.\u001b[0m\u001b[0m_call\u001b[0m\u001b[1;33m(\u001b[0m\u001b[1;33m*\u001b[0m\u001b[0margs\u001b[0m\u001b[1;33m,\u001b[0m \u001b[1;33m**\u001b[0m\u001b[0mkwds\u001b[0m\u001b[1;33m)\u001b[0m\u001b[1;33m\u001b[0m\u001b[1;33m\u001b[0m\u001b[0m\n\u001b[0m\u001b[0;32m    781\u001b[0m \u001b[1;33m\u001b[0m\u001b[0m\n\u001b[0;32m    782\u001b[0m       \u001b[0mnew_tracing_count\u001b[0m \u001b[1;33m=\u001b[0m \u001b[0mself\u001b[0m\u001b[1;33m.\u001b[0m\u001b[0m_get_tracing_count\u001b[0m\u001b[1;33m(\u001b[0m\u001b[1;33m)\u001b[0m\u001b[1;33m\u001b[0m\u001b[1;33m\u001b[0m\u001b[0m\n",
      "\u001b[1;32m~\\anaconda3\\lib\\site-packages\\tensorflow\\python\\eager\\def_function.py\u001b[0m in \u001b[0;36m_call\u001b[1;34m(self, *args, **kwds)\u001b[0m\n\u001b[0;32m    805\u001b[0m       \u001b[1;31m# In this case we have created variables on the first call, so we run the\u001b[0m\u001b[1;33m\u001b[0m\u001b[1;33m\u001b[0m\u001b[1;33m\u001b[0m\u001b[0m\n\u001b[0;32m    806\u001b[0m       \u001b[1;31m# defunned version which is guaranteed to never create variables.\u001b[0m\u001b[1;33m\u001b[0m\u001b[1;33m\u001b[0m\u001b[1;33m\u001b[0m\u001b[0m\n\u001b[1;32m--> 807\u001b[1;33m       \u001b[1;32mreturn\u001b[0m \u001b[0mself\u001b[0m\u001b[1;33m.\u001b[0m\u001b[0m_stateless_fn\u001b[0m\u001b[1;33m(\u001b[0m\u001b[1;33m*\u001b[0m\u001b[0margs\u001b[0m\u001b[1;33m,\u001b[0m \u001b[1;33m**\u001b[0m\u001b[0mkwds\u001b[0m\u001b[1;33m)\u001b[0m  \u001b[1;31m# pylint: disable=not-callable\u001b[0m\u001b[1;33m\u001b[0m\u001b[1;33m\u001b[0m\u001b[0m\n\u001b[0m\u001b[0;32m    808\u001b[0m     \u001b[1;32melif\u001b[0m \u001b[0mself\u001b[0m\u001b[1;33m.\u001b[0m\u001b[0m_stateful_fn\u001b[0m \u001b[1;32mis\u001b[0m \u001b[1;32mnot\u001b[0m \u001b[1;32mNone\u001b[0m\u001b[1;33m:\u001b[0m\u001b[1;33m\u001b[0m\u001b[1;33m\u001b[0m\u001b[0m\n\u001b[0;32m    809\u001b[0m       \u001b[1;31m# Release the lock early so that multiple threads can perform the call\u001b[0m\u001b[1;33m\u001b[0m\u001b[1;33m\u001b[0m\u001b[1;33m\u001b[0m\u001b[0m\n",
      "\u001b[1;32m~\\anaconda3\\lib\\site-packages\\tensorflow\\python\\eager\\function.py\u001b[0m in \u001b[0;36m__call__\u001b[1;34m(self, *args, **kwargs)\u001b[0m\n\u001b[0;32m   2827\u001b[0m     \u001b[1;32mwith\u001b[0m \u001b[0mself\u001b[0m\u001b[1;33m.\u001b[0m\u001b[0m_lock\u001b[0m\u001b[1;33m:\u001b[0m\u001b[1;33m\u001b[0m\u001b[1;33m\u001b[0m\u001b[0m\n\u001b[0;32m   2828\u001b[0m       \u001b[0mgraph_function\u001b[0m\u001b[1;33m,\u001b[0m \u001b[0margs\u001b[0m\u001b[1;33m,\u001b[0m \u001b[0mkwargs\u001b[0m \u001b[1;33m=\u001b[0m \u001b[0mself\u001b[0m\u001b[1;33m.\u001b[0m\u001b[0m_maybe_define_function\u001b[0m\u001b[1;33m(\u001b[0m\u001b[0margs\u001b[0m\u001b[1;33m,\u001b[0m \u001b[0mkwargs\u001b[0m\u001b[1;33m)\u001b[0m\u001b[1;33m\u001b[0m\u001b[1;33m\u001b[0m\u001b[0m\n\u001b[1;32m-> 2829\u001b[1;33m     \u001b[1;32mreturn\u001b[0m \u001b[0mgraph_function\u001b[0m\u001b[1;33m.\u001b[0m\u001b[0m_filtered_call\u001b[0m\u001b[1;33m(\u001b[0m\u001b[0margs\u001b[0m\u001b[1;33m,\u001b[0m \u001b[0mkwargs\u001b[0m\u001b[1;33m)\u001b[0m  \u001b[1;31m# pylint: disable=protected-access\u001b[0m\u001b[1;33m\u001b[0m\u001b[1;33m\u001b[0m\u001b[0m\n\u001b[0m\u001b[0;32m   2830\u001b[0m \u001b[1;33m\u001b[0m\u001b[0m\n\u001b[0;32m   2831\u001b[0m   \u001b[1;33m@\u001b[0m\u001b[0mproperty\u001b[0m\u001b[1;33m\u001b[0m\u001b[1;33m\u001b[0m\u001b[0m\n",
      "\u001b[1;32m~\\anaconda3\\lib\\site-packages\\tensorflow\\python\\eager\\function.py\u001b[0m in \u001b[0;36m_filtered_call\u001b[1;34m(self, args, kwargs, cancellation_manager)\u001b[0m\n\u001b[0;32m   1841\u001b[0m       \u001b[0;31m`\u001b[0m\u001b[0margs\u001b[0m\u001b[0;31m`\u001b[0m \u001b[1;32mand\u001b[0m\u001b[0;31m \u001b[0m\u001b[0;31m`\u001b[0m\u001b[0mkwargs\u001b[0m\u001b[0;31m`\u001b[0m\u001b[1;33m.\u001b[0m\u001b[1;33m\u001b[0m\u001b[1;33m\u001b[0m\u001b[0m\n\u001b[0;32m   1842\u001b[0m     \"\"\"\n\u001b[1;32m-> 1843\u001b[1;33m     return self._call_flat(\n\u001b[0m\u001b[0;32m   1844\u001b[0m         [t for t in nest.flatten((args, kwargs), expand_composites=True)\n\u001b[0;32m   1845\u001b[0m          if isinstance(t, (ops.Tensor,\n",
      "\u001b[1;32m~\\anaconda3\\lib\\site-packages\\tensorflow\\python\\eager\\function.py\u001b[0m in \u001b[0;36m_call_flat\u001b[1;34m(self, args, captured_inputs, cancellation_manager)\u001b[0m\n\u001b[0;32m   1921\u001b[0m         and executing_eagerly):\n\u001b[0;32m   1922\u001b[0m       \u001b[1;31m# No tape is watching; skip to running the function.\u001b[0m\u001b[1;33m\u001b[0m\u001b[1;33m\u001b[0m\u001b[1;33m\u001b[0m\u001b[0m\n\u001b[1;32m-> 1923\u001b[1;33m       return self._build_call_outputs(self._inference_function.call(\n\u001b[0m\u001b[0;32m   1924\u001b[0m           ctx, args, cancellation_manager=cancellation_manager))\n\u001b[0;32m   1925\u001b[0m     forward_backward = self._select_forward_and_backward_functions(\n",
      "\u001b[1;32m~\\anaconda3\\lib\\site-packages\\tensorflow\\python\\eager\\function.py\u001b[0m in \u001b[0;36mcall\u001b[1;34m(self, ctx, args, cancellation_manager)\u001b[0m\n\u001b[0;32m    543\u001b[0m       \u001b[1;32mwith\u001b[0m \u001b[0m_InterpolateFunctionError\u001b[0m\u001b[1;33m(\u001b[0m\u001b[0mself\u001b[0m\u001b[1;33m)\u001b[0m\u001b[1;33m:\u001b[0m\u001b[1;33m\u001b[0m\u001b[1;33m\u001b[0m\u001b[0m\n\u001b[0;32m    544\u001b[0m         \u001b[1;32mif\u001b[0m \u001b[0mcancellation_manager\u001b[0m \u001b[1;32mis\u001b[0m \u001b[1;32mNone\u001b[0m\u001b[1;33m:\u001b[0m\u001b[1;33m\u001b[0m\u001b[1;33m\u001b[0m\u001b[0m\n\u001b[1;32m--> 545\u001b[1;33m           outputs = execute.execute(\n\u001b[0m\u001b[0;32m    546\u001b[0m               \u001b[0mstr\u001b[0m\u001b[1;33m(\u001b[0m\u001b[0mself\u001b[0m\u001b[1;33m.\u001b[0m\u001b[0msignature\u001b[0m\u001b[1;33m.\u001b[0m\u001b[0mname\u001b[0m\u001b[1;33m)\u001b[0m\u001b[1;33m,\u001b[0m\u001b[1;33m\u001b[0m\u001b[1;33m\u001b[0m\u001b[0m\n\u001b[0;32m    547\u001b[0m               \u001b[0mnum_outputs\u001b[0m\u001b[1;33m=\u001b[0m\u001b[0mself\u001b[0m\u001b[1;33m.\u001b[0m\u001b[0m_num_outputs\u001b[0m\u001b[1;33m,\u001b[0m\u001b[1;33m\u001b[0m\u001b[1;33m\u001b[0m\u001b[0m\n",
      "\u001b[1;32m~\\anaconda3\\lib\\site-packages\\tensorflow\\python\\eager\\execute.py\u001b[0m in \u001b[0;36mquick_execute\u001b[1;34m(op_name, num_outputs, inputs, attrs, ctx, name)\u001b[0m\n\u001b[0;32m     57\u001b[0m   \u001b[1;32mtry\u001b[0m\u001b[1;33m:\u001b[0m\u001b[1;33m\u001b[0m\u001b[1;33m\u001b[0m\u001b[0m\n\u001b[0;32m     58\u001b[0m     \u001b[0mctx\u001b[0m\u001b[1;33m.\u001b[0m\u001b[0mensure_initialized\u001b[0m\u001b[1;33m(\u001b[0m\u001b[1;33m)\u001b[0m\u001b[1;33m\u001b[0m\u001b[1;33m\u001b[0m\u001b[0m\n\u001b[1;32m---> 59\u001b[1;33m     tensors = pywrap_tfe.TFE_Py_Execute(ctx._handle, device_name, op_name,\n\u001b[0m\u001b[0;32m     60\u001b[0m                                         inputs, attrs, num_outputs)\n\u001b[0;32m     61\u001b[0m   \u001b[1;32mexcept\u001b[0m \u001b[0mcore\u001b[0m\u001b[1;33m.\u001b[0m\u001b[0m_NotOkStatusException\u001b[0m \u001b[1;32mas\u001b[0m \u001b[0me\u001b[0m\u001b[1;33m:\u001b[0m\u001b[1;33m\u001b[0m\u001b[1;33m\u001b[0m\u001b[0m\n",
      "\u001b[1;31mKeyboardInterrupt\u001b[0m: "
     ]
    }
   ],
   "source": [
    "callbacks = [\n",
    "    ModelCheckpoint('aug_mobilenet.h5', verbose=1, save_best_only=True),\n",
    "    ReduceLROnPlateau(monitor='val_loss', factor=0.1, patience=4),\n",
    "    EarlyStopping(monitor='val_loss', patience=10, restore_best_weights=False)\n",
    "]\n",
    "\n",
    "hist3 = model2.fit(aug_X_train, aug_y_train, batch_size=BATCH_SIZE, \n",
    "                  # steps_per_epoch=train_steps,\n",
    "                  # validation_steps=valid_steps,\n",
    "                  epochs=100,\n",
    "                  validation_data=(X_val, y_val),\n",
    "                  callbacks=callbacks)"
   ]
  },
  {
   "cell_type": "markdown",
   "metadata": {},
   "source": [
    "## Sequential Model"
   ]
  },
  {
   "cell_type": "code",
   "execution_count": 168,
   "metadata": {
    "id": "ADxy8kMw49ts"
   },
   "outputs": [],
   "source": [
    "BATCH_SIZE = 128\n",
    "EPOCHS = 100"
   ]
  },
  {
   "cell_type": "code",
   "execution_count": 207,
   "metadata": {
    "colab": {
     "base_uri": "https://localhost:8080/"
    },
    "executionInfo": {
     "elapsed": 296,
     "status": "ok",
     "timestamp": 1630251284040,
     "user": {
      "displayName": "성균관대김재희",
      "photoUrl": "",
      "userId": "07430941940091904271"
     },
     "user_tz": -540
    },
    "id": "DH-mIU7z49tz",
    "outputId": "70dc08c9-a6f2-4517-e4c4-2224bcf37e0a"
   },
   "outputs": [
    {
     "name": "stdout",
     "output_type": "stream",
     "text": [
      "Model: \"sequential_12\"\n",
      "_________________________________________________________________\n",
      "Layer (type)                 Output Shape              Param #   \n",
      "=================================================================\n",
      "flatten_12 (Flatten)         (None, 784)               0         \n",
      "_________________________________________________________________\n",
      "dense_50 (Dense)             (None, 512)               401920    \n",
      "_________________________________________________________________\n",
      "batch_normalization_36 (Batc (None, 512)               2048      \n",
      "_________________________________________________________________\n",
      "activation_36 (Activation)   (None, 512)               0         \n",
      "_________________________________________________________________\n",
      "dropout_38 (Dropout)         (None, 512)               0         \n",
      "_________________________________________________________________\n",
      "dense_51 (Dense)             (None, 256)               131328    \n",
      "_________________________________________________________________\n",
      "batch_normalization_37 (Batc (None, 256)               1024      \n",
      "_________________________________________________________________\n",
      "activation_37 (Activation)   (None, 256)               0         \n",
      "_________________________________________________________________\n",
      "dropout_39 (Dropout)         (None, 256)               0         \n",
      "_________________________________________________________________\n",
      "dense_52 (Dense)             (None, 128)               32896     \n",
      "_________________________________________________________________\n",
      "batch_normalization_38 (Batc (None, 128)               512       \n",
      "_________________________________________________________________\n",
      "activation_38 (Activation)   (None, 128)               0         \n",
      "_________________________________________________________________\n",
      "dropout_40 (Dropout)         (None, 128)               0         \n",
      "_________________________________________________________________\n",
      "dense_53 (Dense)             (None, 10)                1290      \n",
      "=================================================================\n",
      "Total params: 571,018\n",
      "Trainable params: 569,226\n",
      "Non-trainable params: 1,792\n",
      "_________________________________________________________________\n",
      "None\n"
     ]
    }
   ],
   "source": [
    "initializer = keras.initializers.HeUniform(seed = 21)\n",
    "model = keras.Sequential([\n",
    "    keras.layers.Flatten(input_shape=(28, 28)),\n",
    "    keras.layers.Dense(512, kernel_initializer=initializer),\n",
    "    keras.layers.BatchNormalization(),\n",
    "    keras.layers.Activation('relu'),\n",
    "    keras.layers.Dropout(0.2),\n",
    "    keras.layers.Dense(256, kernel_initializer=initializer),\n",
    "    keras.layers.BatchNormalization(),\n",
    "    keras.layers.Activation('relu'),\n",
    "    keras.layers.Dropout(0.2),\n",
    "    keras.layers.Dense(128, kernel_initializer=initializer),\n",
    "    keras.layers.BatchNormalization(),\n",
    "    keras.layers.Activation('relu'),\n",
    "    keras.layers.Dropout(0.2),\n",
    "    keras.layers.Dense(10, activation='softmax', kernel_initializer=initializer)\n",
    "])\n",
    "\n",
    "print(model.summary())"
   ]
  },
  {
   "cell_type": "markdown",
   "metadata": {},
   "source": [
    "### Train Augmented Data"
   ]
  },
  {
   "cell_type": "markdown",
   "metadata": {},
   "source": [
    "* Vertical Flip + Horizontal Flip"
   ]
  },
  {
   "cell_type": "code",
   "execution_count": 87,
   "metadata": {
    "id": "Qj9X1vtd49tz"
   },
   "outputs": [],
   "source": [
    "optimizer = keras.optimizers.Adam(lr=0.01, decay = 0.001)\n",
    "model.compile(optimizer=optimizer,\n",
    "              loss=tf.keras.losses.SparseCategoricalCrossentropy(from_logits=True),\n",
    "              metrics=['accuracy'])"
   ]
  },
  {
   "cell_type": "code",
   "execution_count": 88,
   "metadata": {
    "colab": {
     "base_uri": "https://localhost:8080/"
    },
    "executionInfo": {
     "elapsed": 323376,
     "status": "ok",
     "timestamp": 1630251612392,
     "user": {
      "displayName": "성균관대김재희",
      "photoUrl": "",
      "userId": "07430941940091904271"
     },
     "user_tz": -540
    },
    "id": "A4gIloexaELP",
    "outputId": "9cc14532-1487-40a2-fe20-7dba0a5a1de9"
   },
   "outputs": [
    {
     "name": "stdout",
     "output_type": "stream",
     "text": [
      "Epoch 1/100\n",
      "744/744 [==============================] - 3s 4ms/step - loss: 1.6359 - accuracy: 0.8248 - val_loss: 1.6284 - val_accuracy: 0.8316\n",
      "Epoch 2/100\n",
      "744/744 [==============================] - 3s 4ms/step - loss: 1.6105 - accuracy: 0.8501 - val_loss: 1.5977 - val_accuracy: 0.8630\n",
      "Epoch 3/100\n",
      "744/744 [==============================] - 3s 4ms/step - loss: 1.5987 - accuracy: 0.8620 - val_loss: 1.5920 - val_accuracy: 0.8676\n",
      "Epoch 4/100\n",
      "744/744 [==============================] - 3s 4ms/step - loss: 1.5922 - accuracy: 0.8685 - val_loss: 1.5879 - val_accuracy: 0.8726\n",
      "Epoch 5/100\n",
      "744/744 [==============================] - 3s 4ms/step - loss: 1.5836 - accuracy: 0.8773 - val_loss: 1.5786 - val_accuracy: 0.8820\n",
      "Epoch 6/100\n",
      "744/744 [==============================] - 3s 4ms/step - loss: 1.5803 - accuracy: 0.8804 - val_loss: 1.5735 - val_accuracy: 0.8871\n",
      "Epoch 7/100\n",
      "744/744 [==============================] - 3s 4ms/step - loss: 1.5760 - accuracy: 0.8848 - val_loss: 1.5805 - val_accuracy: 0.8801\n",
      "Epoch 8/100\n",
      "744/744 [==============================] - 3s 4ms/step - loss: 1.5728 - accuracy: 0.8881 - val_loss: 1.5767 - val_accuracy: 0.8841\n",
      "Epoch 9/100\n",
      "744/744 [==============================] - 3s 4ms/step - loss: 1.5691 - accuracy: 0.8917 - val_loss: 1.5734 - val_accuracy: 0.8882\n",
      "Epoch 10/100\n",
      "744/744 [==============================] - 3s 4ms/step - loss: 1.5657 - accuracy: 0.8949 - val_loss: 1.5703 - val_accuracy: 0.8907\n",
      "Epoch 11/100\n",
      "744/744 [==============================] - 3s 4ms/step - loss: 1.5645 - accuracy: 0.8964 - val_loss: 1.5666 - val_accuracy: 0.8942\n",
      "Epoch 12/100\n",
      "744/744 [==============================] - 3s 4ms/step - loss: 1.5610 - accuracy: 0.9000 - val_loss: 1.5662 - val_accuracy: 0.8938\n",
      "Epoch 13/100\n",
      "744/744 [==============================] - 3s 4ms/step - loss: 1.5594 - accuracy: 0.9016 - val_loss: 1.5675 - val_accuracy: 0.8937\n",
      "Epoch 14/100\n",
      "744/744 [==============================] - 3s 4ms/step - loss: 1.5585 - accuracy: 0.9025 - val_loss: 1.5633 - val_accuracy: 0.8976\n",
      "Epoch 15/100\n",
      "744/744 [==============================] - 3s 4ms/step - loss: 1.5574 - accuracy: 0.9034 - val_loss: 1.5638 - val_accuracy: 0.8971\n",
      "Epoch 16/100\n",
      "744/744 [==============================] - 3s 4ms/step - loss: 1.5548 - accuracy: 0.9060 - val_loss: 1.5644 - val_accuracy: 0.8961\n",
      "Epoch 17/100\n",
      "744/744 [==============================] - 3s 4ms/step - loss: 1.5540 - accuracy: 0.9071 - val_loss: 1.5642 - val_accuracy: 0.8966\n",
      "Epoch 18/100\n",
      "744/744 [==============================] - 3s 4ms/step - loss: 1.5538 - accuracy: 0.9072 - val_loss: 1.5644 - val_accuracy: 0.8956\n",
      "Epoch 19/100\n",
      "744/744 [==============================] - 3s 4ms/step - loss: 1.5523 - accuracy: 0.9088 - val_loss: 1.5642 - val_accuracy: 0.8963\n",
      "Epoch 20/100\n",
      "744/744 [==============================] - 3s 4ms/step - loss: 1.5508 - accuracy: 0.9101 - val_loss: 1.5631 - val_accuracy: 0.8980\n",
      "Epoch 21/100\n",
      "744/744 [==============================] - 3s 4ms/step - loss: 1.5512 - accuracy: 0.9097 - val_loss: 1.5618 - val_accuracy: 0.8992\n",
      "Epoch 22/100\n",
      "744/744 [==============================] - 3s 4ms/step - loss: 1.5501 - accuracy: 0.9110 - val_loss: 1.5613 - val_accuracy: 0.8999\n",
      "Epoch 23/100\n",
      "744/744 [==============================] - 3s 4ms/step - loss: 1.5483 - accuracy: 0.9127 - val_loss: 1.5605 - val_accuracy: 0.8999\n",
      "Epoch 24/100\n",
      "744/744 [==============================] - 3s 4ms/step - loss: 1.5465 - accuracy: 0.9145 - val_loss: 1.5615 - val_accuracy: 0.8984\n",
      "Epoch 25/100\n",
      "744/744 [==============================] - 3s 4ms/step - loss: 1.5467 - accuracy: 0.9140 - val_loss: 1.5624 - val_accuracy: 0.8984\n",
      "Epoch 26/100\n",
      "744/744 [==============================] - 3s 4ms/step - loss: 1.5461 - accuracy: 0.9148 - val_loss: 1.5598 - val_accuracy: 0.9003\n",
      "Epoch 27/100\n",
      "744/744 [==============================] - 3s 4ms/step - loss: 1.5452 - accuracy: 0.9158 - val_loss: 1.5612 - val_accuracy: 0.9003\n",
      "Epoch 28/100\n",
      "744/744 [==============================] - 3s 4ms/step - loss: 1.5455 - accuracy: 0.9153 - val_loss: 1.5613 - val_accuracy: 0.8991\n",
      "Epoch 29/100\n",
      "744/744 [==============================] - 3s 4ms/step - loss: 1.5440 - accuracy: 0.9168 - val_loss: 1.5610 - val_accuracy: 0.8993\n",
      "Epoch 30/100\n",
      "744/744 [==============================] - 3s 4ms/step - loss: 1.5440 - accuracy: 0.9169 - val_loss: 1.5603 - val_accuracy: 0.8998\n",
      "Epoch 31/100\n",
      "744/744 [==============================] - 3s 4ms/step - loss: 1.5425 - accuracy: 0.9186 - val_loss: 1.5593 - val_accuracy: 0.9016\n",
      "Epoch 32/100\n",
      "744/744 [==============================] - 3s 4ms/step - loss: 1.5428 - accuracy: 0.9182 - val_loss: 1.5594 - val_accuracy: 0.9014\n",
      "Epoch 33/100\n",
      "744/744 [==============================] - 3s 4ms/step - loss: 1.5426 - accuracy: 0.9183 - val_loss: 1.5580 - val_accuracy: 0.9028\n",
      "Epoch 34/100\n",
      "744/744 [==============================] - 3s 4ms/step - loss: 1.5418 - accuracy: 0.9192 - val_loss: 1.5580 - val_accuracy: 0.9034\n",
      "Epoch 35/100\n",
      "744/744 [==============================] - 3s 4ms/step - loss: 1.5412 - accuracy: 0.9198 - val_loss: 1.5574 - val_accuracy: 0.9037\n",
      "Epoch 36/100\n",
      "744/744 [==============================] - 3s 4ms/step - loss: 1.5415 - accuracy: 0.9194 - val_loss: 1.5576 - val_accuracy: 0.9032\n",
      "Epoch 37/100\n",
      "744/744 [==============================] - 3s 5ms/step - loss: 1.5404 - accuracy: 0.9207 - val_loss: 1.5586 - val_accuracy: 0.9020\n",
      "Epoch 38/100\n",
      "744/744 [==============================] - 3s 4ms/step - loss: 1.5401 - accuracy: 0.9208 - val_loss: 1.5576 - val_accuracy: 0.9029\n",
      "Epoch 39/100\n",
      "744/744 [==============================] - 3s 4ms/step - loss: 1.5397 - accuracy: 0.9214 - val_loss: 1.5573 - val_accuracy: 0.9038\n",
      "Epoch 40/100\n",
      "744/744 [==============================] - 3s 4ms/step - loss: 1.5400 - accuracy: 0.9211 - val_loss: 1.5576 - val_accuracy: 0.9035\n",
      "Epoch 41/100\n",
      "744/744 [==============================] - 3s 4ms/step - loss: 1.5394 - accuracy: 0.9215 - val_loss: 1.5586 - val_accuracy: 0.9014\n",
      "Epoch 42/100\n",
      "744/744 [==============================] - 3s 4ms/step - loss: 1.5398 - accuracy: 0.9210 - val_loss: 1.5566 - val_accuracy: 0.9045\n",
      "Epoch 43/100\n",
      "744/744 [==============================] - 3s 4ms/step - loss: 1.5392 - accuracy: 0.9218 - val_loss: 1.5576 - val_accuracy: 0.9034\n",
      "Epoch 44/100\n",
      "744/744 [==============================] - 3s 4ms/step - loss: 1.5377 - accuracy: 0.9235 - val_loss: 1.5576 - val_accuracy: 0.9031\n",
      "Epoch 45/100\n",
      "744/744 [==============================] - 3s 4ms/step - loss: 1.5375 - accuracy: 0.9236 - val_loss: 1.5585 - val_accuracy: 0.9025\n",
      "Epoch 46/100\n",
      "744/744 [==============================] - 3s 4ms/step - loss: 1.5370 - accuracy: 0.9239 - val_loss: 1.5585 - val_accuracy: 0.9019\n",
      "Epoch 47/100\n",
      "744/744 [==============================] - 3s 4ms/step - loss: 1.5376 - accuracy: 0.9234 - val_loss: 1.5583 - val_accuracy: 0.9019\n",
      "Epoch 48/100\n",
      "744/744 [==============================] - 3s 4ms/step - loss: 1.5368 - accuracy: 0.9243 - val_loss: 1.5571 - val_accuracy: 0.9038\n",
      "Epoch 49/100\n",
      "744/744 [==============================] - 3s 4ms/step - loss: 1.5359 - accuracy: 0.9253 - val_loss: 1.5566 - val_accuracy: 0.9041\n",
      "Epoch 50/100\n",
      "744/744 [==============================] - 3s 4ms/step - loss: 1.5367 - accuracy: 0.9241 - val_loss: 1.5567 - val_accuracy: 0.9041\n",
      "Epoch 51/100\n",
      "744/744 [==============================] - 3s 4ms/step - loss: 1.5360 - accuracy: 0.9249 - val_loss: 1.5555 - val_accuracy: 0.9055\n",
      "Epoch 52/100\n",
      "744/744 [==============================] - 3s 4ms/step - loss: 1.5361 - accuracy: 0.9248 - val_loss: 1.5573 - val_accuracy: 0.9034\n",
      "Epoch 53/100\n",
      "744/744 [==============================] - 3s 4ms/step - loss: 1.5363 - accuracy: 0.9247 - val_loss: 1.5576 - val_accuracy: 0.9033\n",
      "Epoch 54/100\n",
      "744/744 [==============================] - 3s 4ms/step - loss: 1.5348 - accuracy: 0.9264 - val_loss: 1.5572 - val_accuracy: 0.9033\n",
      "Epoch 55/100\n",
      "744/744 [==============================] - 3s 4ms/step - loss: 1.5345 - accuracy: 0.9267 - val_loss: 1.5572 - val_accuracy: 0.9037\n",
      "Epoch 56/100\n",
      "744/744 [==============================] - 3s 4ms/step - loss: 1.5352 - accuracy: 0.9258 - val_loss: 1.5570 - val_accuracy: 0.9032\n",
      "Epoch 57/100\n",
      "744/744 [==============================] - 3s 4ms/step - loss: 1.5344 - accuracy: 0.9266 - val_loss: 1.5573 - val_accuracy: 0.9033\n",
      "Epoch 58/100\n",
      "744/744 [==============================] - 3s 4ms/step - loss: 1.5355 - accuracy: 0.9256 - val_loss: 1.5573 - val_accuracy: 0.9037\n",
      "Epoch 59/100\n",
      "744/744 [==============================] - 3s 4ms/step - loss: 1.5342 - accuracy: 0.9270 - val_loss: 1.5571 - val_accuracy: 0.9038\n",
      "Epoch 60/100\n",
      "744/744 [==============================] - 3s 4ms/step - loss: 1.5331 - accuracy: 0.9283 - val_loss: 1.5572 - val_accuracy: 0.9035\n",
      "Epoch 61/100\n",
      "744/744 [==============================] - 3s 4ms/step - loss: 1.5333 - accuracy: 0.9280 - val_loss: 1.5569 - val_accuracy: 0.9034\n",
      "Epoch 62/100\n",
      "744/744 [==============================] - 3s 4ms/step - loss: 1.5337 - accuracy: 0.9275 - val_loss: 1.5565 - val_accuracy: 0.9046\n",
      "Epoch 63/100\n",
      "744/744 [==============================] - 3s 4ms/step - loss: 1.5339 - accuracy: 0.9271 - val_loss: 1.5564 - val_accuracy: 0.9039\n",
      "Epoch 64/100\n",
      "744/744 [==============================] - 3s 4ms/step - loss: 1.5329 - accuracy: 0.9281 - val_loss: 1.5557 - val_accuracy: 0.9048\n",
      "Epoch 65/100\n",
      "744/744 [==============================] - 3s 4ms/step - loss: 1.5331 - accuracy: 0.9280 - val_loss: 1.5555 - val_accuracy: 0.9054\n",
      "Epoch 66/100\n",
      "744/744 [==============================] - 3s 4ms/step - loss: 1.5327 - accuracy: 0.9285 - val_loss: 1.5556 - val_accuracy: 0.9055\n",
      "Epoch 67/100\n",
      "744/744 [==============================] - 3s 4ms/step - loss: 1.5329 - accuracy: 0.9282 - val_loss: 1.5554 - val_accuracy: 0.9060\n",
      "Epoch 68/100\n",
      "744/744 [==============================] - 3s 4ms/step - loss: 1.5324 - accuracy: 0.9288 - val_loss: 1.5556 - val_accuracy: 0.9052\n",
      "Epoch 69/100\n",
      "744/744 [==============================] - 3s 4ms/step - loss: 1.5329 - accuracy: 0.9282 - val_loss: 1.5557 - val_accuracy: 0.9050\n",
      "Epoch 70/100\n",
      "744/744 [==============================] - 3s 4ms/step - loss: 1.5323 - accuracy: 0.9289 - val_loss: 1.5553 - val_accuracy: 0.9056\n",
      "Epoch 71/100\n",
      "744/744 [==============================] - 3s 4ms/step - loss: 1.5319 - accuracy: 0.9293 - val_loss: 1.5567 - val_accuracy: 0.9044\n",
      "Epoch 72/100\n",
      "744/744 [==============================] - 3s 4ms/step - loss: 1.5323 - accuracy: 0.9288 - val_loss: 1.5566 - val_accuracy: 0.9042\n",
      "Epoch 73/100\n",
      "744/744 [==============================] - 3s 4ms/step - loss: 1.5312 - accuracy: 0.9299 - val_loss: 1.5569 - val_accuracy: 0.9036\n",
      "Epoch 74/100\n",
      "744/744 [==============================] - 3s 4ms/step - loss: 1.5317 - accuracy: 0.9294 - val_loss: 1.5554 - val_accuracy: 0.9061\n",
      "Epoch 75/100\n",
      "744/744 [==============================] - 3s 4ms/step - loss: 1.5321 - accuracy: 0.9292 - val_loss: 1.5550 - val_accuracy: 0.9067\n",
      "Epoch 76/100\n",
      "744/744 [==============================] - 3s 5ms/step - loss: 1.5312 - accuracy: 0.9298 - val_loss: 1.5554 - val_accuracy: 0.9055\n",
      "Epoch 77/100\n",
      "744/744 [==============================] - 3s 4ms/step - loss: 1.5311 - accuracy: 0.9299 - val_loss: 1.5555 - val_accuracy: 0.9055\n",
      "Epoch 78/100\n",
      "744/744 [==============================] - 4s 5ms/step - loss: 1.5303 - accuracy: 0.9308 - val_loss: 1.5545 - val_accuracy: 0.9062\n",
      "Epoch 79/100\n",
      "744/744 [==============================] - 3s 4ms/step - loss: 1.5302 - accuracy: 0.9310 - val_loss: 1.5558 - val_accuracy: 0.9057\n",
      "Epoch 80/100\n",
      "744/744 [==============================] - 3s 4ms/step - loss: 1.5299 - accuracy: 0.9313 - val_loss: 1.5555 - val_accuracy: 0.9061\n",
      "Epoch 81/100\n",
      "744/744 [==============================] - 3s 4ms/step - loss: 1.5301 - accuracy: 0.9310 - val_loss: 1.5556 - val_accuracy: 0.9050\n",
      "Epoch 82/100\n",
      "744/744 [==============================] - 3s 4ms/step - loss: 1.5306 - accuracy: 0.9306 - val_loss: 1.5563 - val_accuracy: 0.9042\n",
      "Epoch 83/100\n",
      "744/744 [==============================] - 3s 4ms/step - loss: 1.5306 - accuracy: 0.9306 - val_loss: 1.5554 - val_accuracy: 0.9055\n",
      "Epoch 84/100\n",
      "744/744 [==============================] - 3s 4ms/step - loss: 1.5305 - accuracy: 0.9306 - val_loss: 1.5557 - val_accuracy: 0.9052\n",
      "Epoch 85/100\n",
      "744/744 [==============================] - 3s 5ms/step - loss: 1.5297 - accuracy: 0.9316 - val_loss: 1.5559 - val_accuracy: 0.9053\n",
      "Epoch 86/100\n",
      "744/744 [==============================] - 3s 4ms/step - loss: 1.5304 - accuracy: 0.9307 - val_loss: 1.5557 - val_accuracy: 0.9054\n",
      "Epoch 87/100\n",
      "744/744 [==============================] - 3s 4ms/step - loss: 1.5298 - accuracy: 0.9314 - val_loss: 1.5554 - val_accuracy: 0.9055\n",
      "Epoch 88/100\n",
      "744/744 [==============================] - 3s 4ms/step - loss: 1.5288 - accuracy: 0.9324 - val_loss: 1.5547 - val_accuracy: 0.9066\n",
      "Epoch 89/100\n",
      "744/744 [==============================] - 3s 4ms/step - loss: 1.5293 - accuracy: 0.9318 - val_loss: 1.5553 - val_accuracy: 0.9054\n",
      "Epoch 90/100\n",
      "744/744 [==============================] - 3s 4ms/step - loss: 1.5289 - accuracy: 0.9322 - val_loss: 1.5559 - val_accuracy: 0.9045\n",
      "Epoch 91/100\n",
      "744/744 [==============================] - 4s 5ms/step - loss: 1.5292 - accuracy: 0.9319 - val_loss: 1.5560 - val_accuracy: 0.9049\n",
      "Epoch 92/100\n",
      "744/744 [==============================] - 3s 4ms/step - loss: 1.5299 - accuracy: 0.9314 - val_loss: 1.5552 - val_accuracy: 0.9056\n",
      "Epoch 93/100\n",
      "744/744 [==============================] - 3s 4ms/step - loss: 1.5288 - accuracy: 0.9325 - val_loss: 1.5552 - val_accuracy: 0.9057\n",
      "Epoch 94/100\n",
      "744/744 [==============================] - 3s 4ms/step - loss: 1.5287 - accuracy: 0.9323 - val_loss: 1.5547 - val_accuracy: 0.9061\n",
      "Epoch 95/100\n",
      "744/744 [==============================] - 3s 4ms/step - loss: 1.5282 - accuracy: 0.9329 - val_loss: 1.5552 - val_accuracy: 0.9060\n",
      "Epoch 96/100\n",
      "744/744 [==============================] - 3s 4ms/step - loss: 1.5281 - accuracy: 0.9331 - val_loss: 1.5558 - val_accuracy: 0.9046\n",
      "Epoch 97/100\n",
      "744/744 [==============================] - 3s 4ms/step - loss: 1.5289 - accuracy: 0.9322 - val_loss: 1.5557 - val_accuracy: 0.9050\n",
      "Epoch 98/100\n",
      "744/744 [==============================] - 3s 4ms/step - loss: 1.5288 - accuracy: 0.9323 - val_loss: 1.5554 - val_accuracy: 0.9055\n",
      "Epoch 99/100\n",
      "744/744 [==============================] - 3s 4ms/step - loss: 1.5278 - accuracy: 0.9333 - val_loss: 1.5557 - val_accuracy: 0.9049\n",
      "Epoch 100/100\n",
      "744/744 [==============================] - 3s 4ms/step - loss: 1.5282 - accuracy: 0.9330 - val_loss: 1.5551 - val_accuracy: 0.9055\n"
     ]
    }
   ],
   "source": [
    "result = model.fit(aug_X_train, aug_y_train, epochs=EPOCHS, validation_data = (X_val, y_val), batch_size=BATCH_SIZE)"
   ]
  },
  {
   "cell_type": "markdown",
   "metadata": {},
   "source": [
    "* Horizontal Flip"
   ]
  },
  {
   "cell_type": "code",
   "execution_count": 191,
   "metadata": {},
   "outputs": [],
   "source": [
    "model.compile(optimizer='adam', loss='sparse_categorical_crossentropy', metrics=['accuracy'])"
   ]
  },
  {
   "cell_type": "code",
   "execution_count": 192,
   "metadata": {},
   "outputs": [
    {
     "name": "stdout",
     "output_type": "stream",
     "text": [
      "Epoch 1/100\n",
      "741/744 [============================>.] - ETA: 0s - loss: 0.5173 - accuracy: 0.8130\n",
      "Epoch 00001: val_loss improved from inf to 0.38282, saving model to aug_model.h5\n",
      "744/744 [==============================] - 3s 4ms/step - loss: 0.5167 - accuracy: 0.8133 - val_loss: 0.3828 - val_accuracy: 0.8601\n",
      "Epoch 2/100\n",
      "736/744 [============================>.] - ETA: 0s - loss: 0.3839 - accuracy: 0.8588\n",
      "Epoch 00002: val_loss improved from 0.38282 to 0.33218, saving model to aug_model.h5\n",
      "744/744 [==============================] - 3s 4ms/step - loss: 0.3839 - accuracy: 0.8589 - val_loss: 0.3322 - val_accuracy: 0.8733\n",
      "Epoch 3/100\n",
      "744/744 [==============================] - ETA: 0s - loss: 0.3448 - accuracy: 0.8726\n",
      "Epoch 00003: val_loss did not improve from 0.33218\n",
      "744/744 [==============================] - 3s 4ms/step - loss: 0.3448 - accuracy: 0.8726 - val_loss: 0.3651 - val_accuracy: 0.8659\n",
      "Epoch 4/100\n",
      "742/744 [============================>.] - ETA: 0s - loss: 0.3189 - accuracy: 0.8818\n",
      "Epoch 00004: val_loss improved from 0.33218 to 0.31663, saving model to aug_model.h5\n",
      "744/744 [==============================] - 3s 4ms/step - loss: 0.3189 - accuracy: 0.8818 - val_loss: 0.3166 - val_accuracy: 0.8811\n",
      "Epoch 5/100\n",
      "742/744 [============================>.] - ETA: 0s - loss: 0.2983 - accuracy: 0.8891\n",
      "Epoch 00005: val_loss did not improve from 0.31663\n",
      "744/744 [==============================] - 3s 4ms/step - loss: 0.2983 - accuracy: 0.8892 - val_loss: 0.3307 - val_accuracy: 0.8796\n",
      "Epoch 6/100\n",
      "729/744 [============================>.] - ETA: 0s - loss: 0.2826 - accuracy: 0.8942\n",
      "Epoch 00006: val_loss improved from 0.31663 to 0.29626, saving model to aug_model.h5\n",
      "744/744 [==============================] - 3s 4ms/step - loss: 0.2826 - accuracy: 0.8943 - val_loss: 0.2963 - val_accuracy: 0.8896\n",
      "Epoch 7/100\n",
      "733/744 [============================>.] - ETA: 0s - loss: 0.2667 - accuracy: 0.8997\n",
      "Epoch 00007: val_loss did not improve from 0.29626\n",
      "744/744 [==============================] - 3s 4ms/step - loss: 0.2666 - accuracy: 0.8998 - val_loss: 0.2994 - val_accuracy: 0.8896\n",
      "Epoch 8/100\n",
      "735/744 [============================>.] - ETA: 0s - loss: 0.2557 - accuracy: 0.9037\n",
      "Epoch 00008: val_loss did not improve from 0.29626\n",
      "744/744 [==============================] - 3s 4ms/step - loss: 0.2554 - accuracy: 0.9038 - val_loss: 0.3226 - val_accuracy: 0.8845\n",
      "Epoch 9/100\n",
      "739/744 [============================>.] - ETA: 0s - loss: 0.2429 - accuracy: 0.9089\n",
      "Epoch 00009: val_loss did not improve from 0.29626\n",
      "744/744 [==============================] - 3s 4ms/step - loss: 0.2429 - accuracy: 0.9089 - val_loss: 0.3125 - val_accuracy: 0.8847\n",
      "Epoch 10/100\n",
      "744/744 [==============================] - ETA: 0s - loss: 0.2326 - accuracy: 0.9122\n",
      "Epoch 00010: val_loss did not improve from 0.29626\n",
      "744/744 [==============================] - 3s 4ms/step - loss: 0.2326 - accuracy: 0.9122 - val_loss: 0.3118 - val_accuracy: 0.8910\n",
      "Epoch 11/100\n",
      "743/744 [============================>.] - ETA: 0s - loss: 0.1945 - accuracy: 0.9264\n",
      "Epoch 00011: val_loss improved from 0.29626 to 0.25885, saving model to aug_model.h5\n",
      "744/744 [==============================] - 3s 4ms/step - loss: 0.1945 - accuracy: 0.9264 - val_loss: 0.2589 - val_accuracy: 0.9093\n",
      "Epoch 12/100\n",
      "734/744 [============================>.] - ETA: 0s - loss: 0.1807 - accuracy: 0.9318\n",
      "Epoch 00012: val_loss did not improve from 0.25885\n",
      "744/744 [==============================] - 3s 4ms/step - loss: 0.1809 - accuracy: 0.9317 - val_loss: 0.2593 - val_accuracy: 0.9106\n",
      "Epoch 13/100\n",
      "733/744 [============================>.] - ETA: 0s - loss: 0.1728 - accuracy: 0.9351\n",
      "Epoch 00013: val_loss did not improve from 0.25885\n",
      "744/744 [==============================] - 3s 4ms/step - loss: 0.1728 - accuracy: 0.9351 - val_loss: 0.2590 - val_accuracy: 0.9090\n",
      "Epoch 14/100\n",
      "735/744 [============================>.] - ETA: 0s - loss: 0.1696 - accuracy: 0.9369\n",
      "Epoch 00014: val_loss did not improve from 0.25885\n",
      "744/744 [==============================] - 3s 4ms/step - loss: 0.1693 - accuracy: 0.9371 - val_loss: 0.2602 - val_accuracy: 0.9114\n",
      "Epoch 15/100\n",
      "742/744 [============================>.] - ETA: 0s - loss: 0.1660 - accuracy: 0.9372\n",
      "Epoch 00015: val_loss improved from 0.25885 to 0.25803, saving model to aug_model.h5\n",
      "744/744 [==============================] - 3s 4ms/step - loss: 0.1663 - accuracy: 0.9371 - val_loss: 0.2580 - val_accuracy: 0.9113\n",
      "Epoch 16/100\n",
      "739/744 [============================>.] - ETA: 0s - loss: 0.1617 - accuracy: 0.9389\n",
      "Epoch 00016: val_loss did not improve from 0.25803\n",
      "744/744 [==============================] - 3s 5ms/step - loss: 0.1619 - accuracy: 0.9389 - val_loss: 0.2613 - val_accuracy: 0.9111\n",
      "Epoch 17/100\n",
      "730/744 [============================>.] - ETA: 0s - loss: 0.1584 - accuracy: 0.9404\n",
      "Epoch 00017: val_loss did not improve from 0.25803\n",
      "744/744 [==============================] - 3s 4ms/step - loss: 0.1585 - accuracy: 0.9404 - val_loss: 0.2622 - val_accuracy: 0.9133\n",
      "Epoch 18/100\n",
      "740/744 [============================>.] - ETA: 0s - loss: 0.1559 - accuracy: 0.9411\n",
      "Epoch 00018: val_loss did not improve from 0.25803\n",
      "744/744 [==============================] - 3s 4ms/step - loss: 0.1559 - accuracy: 0.9412 - val_loss: 0.2617 - val_accuracy: 0.9133\n",
      "Epoch 19/100\n",
      "730/744 [============================>.] - ETA: 0s - loss: 0.1535 - accuracy: 0.9417\n",
      "Epoch 00019: val_loss did not improve from 0.25803\n",
      "744/744 [==============================] - 3s 4ms/step - loss: 0.1532 - accuracy: 0.9418 - val_loss: 0.2668 - val_accuracy: 0.9124\n",
      "Epoch 20/100\n",
      "743/744 [============================>.] - ETA: 0s - loss: 0.1473 - accuracy: 0.9441\n",
      "Epoch 00020: val_loss did not improve from 0.25803\n",
      "744/744 [==============================] - 3s 4ms/step - loss: 0.1473 - accuracy: 0.9441 - val_loss: 0.2625 - val_accuracy: 0.9129\n",
      "Epoch 21/100\n",
      "740/744 [============================>.] - ETA: 0s - loss: 0.1458 - accuracy: 0.9444\n",
      "Epoch 00021: val_loss did not improve from 0.25803\n",
      "744/744 [==============================] - 3s 4ms/step - loss: 0.1458 - accuracy: 0.9444 - val_loss: 0.2627 - val_accuracy: 0.9136\n",
      "Epoch 22/100\n",
      "741/744 [============================>.] - ETA: 0s - loss: 0.1454 - accuracy: 0.9447\n",
      "Epoch 00022: val_loss did not improve from 0.25803\n",
      "744/744 [==============================] - 3s 4ms/step - loss: 0.1456 - accuracy: 0.9447 - val_loss: 0.2631 - val_accuracy: 0.9133\n",
      "Epoch 23/100\n",
      "732/744 [============================>.] - ETA: 0s - loss: 0.1440 - accuracy: 0.9460\n",
      "Epoch 00023: val_loss did not improve from 0.25803\n",
      "744/744 [==============================] - 3s 4ms/step - loss: 0.1439 - accuracy: 0.9460 - val_loss: 0.2633 - val_accuracy: 0.9141\n",
      "Epoch 24/100\n",
      "732/744 [============================>.] - ETA: 0s - loss: 0.1430 - accuracy: 0.9464\n",
      "Epoch 00024: val_loss did not improve from 0.25803\n",
      "744/744 [==============================] - 3s 4ms/step - loss: 0.1429 - accuracy: 0.9465 - val_loss: 0.2634 - val_accuracy: 0.9142\n",
      "Epoch 25/100\n",
      "736/744 [============================>.] - ETA: 0s - loss: 0.1453 - accuracy: 0.9452\n",
      "Epoch 00025: val_loss did not improve from 0.25803\n",
      "744/744 [==============================] - 3s 4ms/step - loss: 0.1455 - accuracy: 0.9451 - val_loss: 0.2636 - val_accuracy: 0.9139\n",
      "Epoch 26/100\n",
      "733/744 [============================>.] - ETA: 0s - loss: 0.1442 - accuracy: 0.9451\n",
      "Epoch 00026: val_loss did not improve from 0.25803\n",
      "744/744 [==============================] - 3s 4ms/step - loss: 0.1442 - accuracy: 0.9451 - val_loss: 0.2633 - val_accuracy: 0.9139\n",
      "Epoch 27/100\n",
      "730/744 [============================>.] - ETA: 0s - loss: 0.1450 - accuracy: 0.9459\n",
      "Epoch 00027: val_loss did not improve from 0.25803\n",
      "744/744 [==============================] - 3s 4ms/step - loss: 0.1451 - accuracy: 0.9459 - val_loss: 0.2632 - val_accuracy: 0.9141\n",
      "Epoch 28/100\n",
      "740/744 [============================>.] - ETA: 0s - loss: 0.1444 - accuracy: 0.9453\n",
      "Epoch 00028: val_loss did not improve from 0.25803\n",
      "744/744 [==============================] - 3s 4ms/step - loss: 0.1443 - accuracy: 0.9453 - val_loss: 0.2634 - val_accuracy: 0.9138\n",
      "Epoch 29/100\n",
      "732/744 [============================>.] - ETA: 0s - loss: 0.1443 - accuracy: 0.9461\n",
      "Epoch 00029: val_loss did not improve from 0.25803\n",
      "744/744 [==============================] - 3s 4ms/step - loss: 0.1442 - accuracy: 0.9461 - val_loss: 0.2632 - val_accuracy: 0.9141\n",
      "Epoch 30/100\n",
      "744/744 [==============================] - ETA: 0s - loss: 0.1450 - accuracy: 0.9453\n",
      "Epoch 00030: val_loss did not improve from 0.25803\n",
      "744/744 [==============================] - 3s 4ms/step - loss: 0.1450 - accuracy: 0.9453 - val_loss: 0.2634 - val_accuracy: 0.9140\n",
      "Epoch 31/100\n",
      "733/744 [============================>.] - ETA: 0s - loss: 0.1443 - accuracy: 0.9456\n",
      "Epoch 00031: val_loss did not improve from 0.25803\n",
      "744/744 [==============================] - 3s 4ms/step - loss: 0.1445 - accuracy: 0.9455 - val_loss: 0.2635 - val_accuracy: 0.9140\n",
      "Epoch 32/100\n",
      "742/744 [============================>.] - ETA: 0s - loss: 0.1436 - accuracy: 0.9461\n",
      "Epoch 00032: val_loss did not improve from 0.25803\n",
      "744/744 [==============================] - 3s 4ms/step - loss: 0.1436 - accuracy: 0.9461 - val_loss: 0.2634 - val_accuracy: 0.9139\n",
      "Epoch 33/100\n",
      "731/744 [============================>.] - ETA: 0s - loss: 0.1450 - accuracy: 0.9461\n",
      "Epoch 00033: val_loss did not improve from 0.25803\n",
      "744/744 [==============================] - 3s 4ms/step - loss: 0.1449 - accuracy: 0.9461 - val_loss: 0.2633 - val_accuracy: 0.9138\n",
      "Epoch 34/100\n",
      "731/744 [============================>.] - ETA: 0s - loss: 0.1430 - accuracy: 0.9458\n",
      "Epoch 00034: val_loss did not improve from 0.25803\n",
      "744/744 [==============================] - 3s 4ms/step - loss: 0.1432 - accuracy: 0.9457 - val_loss: 0.2633 - val_accuracy: 0.9140\n",
      "Epoch 35/100\n",
      "733/744 [============================>.] - ETA: 0s - loss: 0.1425 - accuracy: 0.9464\n",
      "Epoch 00035: val_loss did not improve from 0.25803\n",
      "744/744 [==============================] - 3s 4ms/step - loss: 0.1425 - accuracy: 0.9464 - val_loss: 0.2634 - val_accuracy: 0.9139\n",
      "Epoch 36/100\n",
      "732/744 [============================>.] - ETA: 0s - loss: 0.1448 - accuracy: 0.9459\n",
      "Epoch 00036: val_loss did not improve from 0.25803\n",
      "744/744 [==============================] - 3s 4ms/step - loss: 0.1444 - accuracy: 0.9460 - val_loss: 0.2632 - val_accuracy: 0.9143\n",
      "Epoch 37/100\n",
      "737/744 [============================>.] - ETA: 0s - loss: 0.1446 - accuracy: 0.9454\n",
      "Epoch 00037: val_loss did not improve from 0.25803\n",
      "744/744 [==============================] - 3s 4ms/step - loss: 0.1445 - accuracy: 0.9455 - val_loss: 0.2634 - val_accuracy: 0.9138\n",
      "Epoch 38/100\n",
      "730/744 [============================>.] - ETA: 0s - loss: 0.1437 - accuracy: 0.9455\n",
      "Epoch 00038: val_loss did not improve from 0.25803\n",
      "744/744 [==============================] - 3s 4ms/step - loss: 0.1435 - accuracy: 0.9455 - val_loss: 0.2635 - val_accuracy: 0.9143\n",
      "Epoch 39/100\n",
      "744/744 [==============================] - ETA: 0s - loss: 0.1431 - accuracy: 0.9458\n",
      "Epoch 00039: val_loss did not improve from 0.25803\n",
      "744/744 [==============================] - 3s 4ms/step - loss: 0.1431 - accuracy: 0.9458 - val_loss: 0.2636 - val_accuracy: 0.9139\n",
      "Epoch 40/100\n",
      "733/744 [============================>.] - ETA: 0s - loss: 0.1443 - accuracy: 0.9456\n",
      "Epoch 00040: val_loss did not improve from 0.25803\n",
      "744/744 [==============================] - 3s 4ms/step - loss: 0.1442 - accuracy: 0.9455 - val_loss: 0.2633 - val_accuracy: 0.9139\n",
      "Epoch 41/100\n",
      "744/744 [==============================] - ETA: 0s - loss: 0.1440 - accuracy: 0.9453\n",
      "Epoch 00041: val_loss did not improve from 0.25803\n",
      "744/744 [==============================] - 3s 4ms/step - loss: 0.1440 - accuracy: 0.9453 - val_loss: 0.2632 - val_accuracy: 0.9139\n",
      "Epoch 42/100\n",
      "743/744 [============================>.] - ETA: 0s - loss: 0.1446 - accuracy: 0.9453\n",
      "Epoch 00042: val_loss did not improve from 0.25803\n",
      "744/744 [==============================] - 3s 4ms/step - loss: 0.1446 - accuracy: 0.9453 - val_loss: 0.2630 - val_accuracy: 0.9138\n",
      "Epoch 43/100\n",
      "730/744 [============================>.] - ETA: 0s - loss: 0.1439 - accuracy: 0.9456\n",
      "Epoch 00043: val_loss did not improve from 0.25803\n",
      "744/744 [==============================] - 3s 4ms/step - loss: 0.1439 - accuracy: 0.9456 - val_loss: 0.2632 - val_accuracy: 0.9139\n",
      "Epoch 44/100\n",
      "741/744 [============================>.] - ETA: 0s - loss: 0.1441 - accuracy: 0.9455\n",
      "Epoch 00044: val_loss did not improve from 0.25803\n",
      "744/744 [==============================] - 3s 4ms/step - loss: 0.1441 - accuracy: 0.9455 - val_loss: 0.2630 - val_accuracy: 0.9138\n",
      "Epoch 45/100\n",
      "737/744 [============================>.] - ETA: 0s - loss: 0.1441 - accuracy: 0.9458\n",
      "Epoch 00045: val_loss did not improve from 0.25803\n",
      "744/744 [==============================] - 3s 4ms/step - loss: 0.1444 - accuracy: 0.9457 - val_loss: 0.2634 - val_accuracy: 0.9139\n",
      "Epoch 46/100\n",
      "736/744 [============================>.] - ETA: 0s - loss: 0.1432 - accuracy: 0.9463 ETA: 0s - loss:\n",
      "Epoch 00046: val_loss did not improve from 0.25803\n",
      "744/744 [==============================] - 3s 4ms/step - loss: 0.1434 - accuracy: 0.9463 - val_loss: 0.2631 - val_accuracy: 0.9136\n",
      "Epoch 47/100\n",
      "736/744 [============================>.] - ETA: 0s - loss: 0.1439 - accuracy: 0.9459\n",
      "Epoch 00047: val_loss did not improve from 0.25803\n",
      "744/744 [==============================] - 3s 4ms/step - loss: 0.1443 - accuracy: 0.9456 - val_loss: 0.2630 - val_accuracy: 0.9138\n",
      "Epoch 48/100\n",
      "734/744 [============================>.] - ETA: 0s - loss: 0.1443 - accuracy: 0.9452\n",
      "Epoch 00048: val_loss did not improve from 0.25803\n",
      "744/744 [==============================] - 3s 4ms/step - loss: 0.1443 - accuracy: 0.9452 - val_loss: 0.2634 - val_accuracy: 0.9143\n",
      "Epoch 49/100\n",
      "736/744 [============================>.] - ETA: 0s - loss: 0.1447 - accuracy: 0.9451\n",
      "Epoch 00049: val_loss did not improve from 0.25803\n",
      "744/744 [==============================] - 3s 4ms/step - loss: 0.1449 - accuracy: 0.9450 - val_loss: 0.2630 - val_accuracy: 0.9135\n",
      "Epoch 50/100\n",
      "739/744 [============================>.] - ETA: 0s - loss: 0.1428 - accuracy: 0.9456\n",
      "Epoch 00050: val_loss did not improve from 0.25803\n",
      "744/744 [==============================] - 3s 4ms/step - loss: 0.1429 - accuracy: 0.9455 - val_loss: 0.2630 - val_accuracy: 0.9136\n",
      "Epoch 51/100\n",
      "742/744 [============================>.] - ETA: 0s - loss: 0.1443 - accuracy: 0.9456\n",
      "Epoch 00051: val_loss did not improve from 0.25803\n",
      "744/744 [==============================] - 3s 4ms/step - loss: 0.1443 - accuracy: 0.9457 - val_loss: 0.2633 - val_accuracy: 0.9139\n",
      "Epoch 52/100\n",
      "733/744 [============================>.] - ETA: 0s - loss: 0.1436 - accuracy: 0.9457\n",
      "Epoch 00052: val_loss did not improve from 0.25803\n",
      "744/744 [==============================] - 3s 4ms/step - loss: 0.1437 - accuracy: 0.9457 - val_loss: 0.2632 - val_accuracy: 0.9142\n",
      "Epoch 53/100\n",
      "737/744 [============================>.] - ETA: 0s - loss: 0.1450 - accuracy: 0.9453\n",
      "Epoch 00053: val_loss did not improve from 0.25803\n",
      "744/744 [==============================] - 3s 4ms/step - loss: 0.1450 - accuracy: 0.9453 - val_loss: 0.2634 - val_accuracy: 0.9135\n",
      "Epoch 54/100\n",
      "740/744 [============================>.] - ETA: 0s - loss: 0.1444 - accuracy: 0.9450\n",
      "Epoch 00054: val_loss did not improve from 0.25803\n",
      "744/744 [==============================] - 3s 4ms/step - loss: 0.1445 - accuracy: 0.9450 - val_loss: 0.2633 - val_accuracy: 0.9140\n",
      "Epoch 55/100\n",
      "738/744 [============================>.] - ETA: 0s - loss: 0.1445 - accuracy: 0.9449\n",
      "Epoch 00055: val_loss did not improve from 0.25803\n",
      "744/744 [==============================] - 3s 4ms/step - loss: 0.1447 - accuracy: 0.9449 - val_loss: 0.2631 - val_accuracy: 0.9141\n",
      "Epoch 56/100\n",
      "743/744 [============================>.] - ETA: 0s - loss: 0.1445 - accuracy: 0.9456\n",
      "Epoch 00056: val_loss did not improve from 0.25803\n",
      "744/744 [==============================] - 3s 4ms/step - loss: 0.1445 - accuracy: 0.9456 - val_loss: 0.2631 - val_accuracy: 0.9134\n",
      "Epoch 57/100\n",
      "741/744 [============================>.] - ETA: 0s - loss: 0.1432 - accuracy: 0.9453\n",
      "Epoch 00057: val_loss did not improve from 0.25803\n",
      "744/744 [==============================] - 3s 4ms/step - loss: 0.1433 - accuracy: 0.9453 - val_loss: 0.2633 - val_accuracy: 0.9141\n",
      "Epoch 58/100\n",
      "733/744 [============================>.] - ETA: 0s - loss: 0.1431 - accuracy: 0.9455\n",
      "Epoch 00058: val_loss did not improve from 0.25803\n",
      "744/744 [==============================] - 3s 4ms/step - loss: 0.1431 - accuracy: 0.9455 - val_loss: 0.2630 - val_accuracy: 0.9138\n",
      "Epoch 59/100\n",
      "732/744 [============================>.] - ETA: 0s - loss: 0.1441 - accuracy: 0.9463\n",
      "Epoch 00059: val_loss did not improve from 0.25803\n",
      "744/744 [==============================] - 3s 4ms/step - loss: 0.1441 - accuracy: 0.9464 - val_loss: 0.2635 - val_accuracy: 0.9144\n",
      "Epoch 60/100\n",
      "741/744 [============================>.] - ETA: 0s - loss: 0.1438 - accuracy: 0.9460\n",
      "Epoch 00060: val_loss did not improve from 0.25803\n",
      "744/744 [==============================] - 3s 4ms/step - loss: 0.1438 - accuracy: 0.9460 - val_loss: 0.2632 - val_accuracy: 0.9141\n",
      "Epoch 61/100\n",
      "743/744 [============================>.] - ETA: 0s - loss: 0.1450 - accuracy: 0.9454\n",
      "Epoch 00061: val_loss did not improve from 0.25803\n",
      "744/744 [==============================] - 3s 4ms/step - loss: 0.1449 - accuracy: 0.9455 - val_loss: 0.2630 - val_accuracy: 0.9141\n",
      "Epoch 62/100\n",
      "742/744 [============================>.] - ETA: 0s - loss: 0.1433 - accuracy: 0.9463\n",
      "Epoch 00062: val_loss did not improve from 0.25803\n",
      "744/744 [==============================] - 3s 4ms/step - loss: 0.1434 - accuracy: 0.9463 - val_loss: 0.2632 - val_accuracy: 0.9139\n",
      "Epoch 63/100\n",
      "742/744 [============================>.] - ETA: 0s - loss: 0.1446 - accuracy: 0.9454\n",
      "Epoch 00063: val_loss did not improve from 0.25803\n",
      "744/744 [==============================] - 3s 4ms/step - loss: 0.1445 - accuracy: 0.9454 - val_loss: 0.2634 - val_accuracy: 0.9143\n",
      "Epoch 64/100\n",
      "741/744 [============================>.] - ETA: 0s - loss: 0.1431 - accuracy: 0.9467\n",
      "Epoch 00064: val_loss did not improve from 0.25803\n",
      "744/744 [==============================] - 3s 5ms/step - loss: 0.1430 - accuracy: 0.9467 - val_loss: 0.2633 - val_accuracy: 0.9139\n",
      "Epoch 65/100\n",
      "736/744 [============================>.] - ETA: 0s - loss: 0.1439 - accuracy: 0.9453\n",
      "Epoch 00065: val_loss did not improve from 0.25803\n",
      "744/744 [==============================] - 4s 5ms/step - loss: 0.1440 - accuracy: 0.9453 - val_loss: 0.2634 - val_accuracy: 0.9140\n",
      "Epoch 66/100\n",
      "743/744 [============================>.] - ETA: 0s - loss: 0.1447 - accuracy: 0.9458\n",
      "Epoch 00066: val_loss did not improve from 0.25803\n",
      "744/744 [==============================] - 3s 4ms/step - loss: 0.1448 - accuracy: 0.9458 - val_loss: 0.2633 - val_accuracy: 0.9144\n",
      "Epoch 67/100\n",
      "738/744 [============================>.] - ETA: 0s - loss: 0.1439 - accuracy: 0.9459\n",
      "Epoch 00067: val_loss did not improve from 0.25803\n",
      "744/744 [==============================] - 3s 5ms/step - loss: 0.1437 - accuracy: 0.9460 - val_loss: 0.2632 - val_accuracy: 0.9139\n",
      "Epoch 68/100\n",
      "742/744 [============================>.] - ETA: 0s - loss: 0.1452 - accuracy: 0.9449\n",
      "Epoch 00068: val_loss did not improve from 0.25803\n",
      "744/744 [==============================] - 4s 5ms/step - loss: 0.1453 - accuracy: 0.9448 - val_loss: 0.2635 - val_accuracy: 0.9140\n",
      "Epoch 69/100\n",
      "732/744 [============================>.] - ETA: 0s - loss: 0.1440 - accuracy: 0.9456\n",
      "Epoch 00069: val_loss did not improve from 0.25803\n",
      "744/744 [==============================] - 3s 4ms/step - loss: 0.1441 - accuracy: 0.9457 - val_loss: 0.2633 - val_accuracy: 0.9142\n",
      "Epoch 70/100\n",
      "736/744 [============================>.] - ETA: 0s - loss: 0.1458 - accuracy: 0.9449\n",
      "Epoch 00070: val_loss did not improve from 0.25803\n",
      "744/744 [==============================] - 3s 4ms/step - loss: 0.1456 - accuracy: 0.9449 - val_loss: 0.2630 - val_accuracy: 0.9141\n",
      "Epoch 71/100\n",
      "741/744 [============================>.] - ETA: 0s - loss: 0.1424 - accuracy: 0.9455\n",
      "Epoch 00071: val_loss did not improve from 0.25803\n",
      "744/744 [==============================] - 3s 4ms/step - loss: 0.1427 - accuracy: 0.9454 - val_loss: 0.2632 - val_accuracy: 0.9139\n",
      "Epoch 72/100\n",
      "737/744 [============================>.] - ETA: 0s - loss: 0.1451 - accuracy: 0.9453\n",
      "Epoch 00072: val_loss did not improve from 0.25803\n",
      "744/744 [==============================] - 3s 4ms/step - loss: 0.1451 - accuracy: 0.9453 - val_loss: 0.2633 - val_accuracy: 0.9137\n",
      "Epoch 73/100\n",
      "735/744 [============================>.] - ETA: 0s - loss: 0.1437 - accuracy: 0.9457\n",
      "Epoch 00073: val_loss did not improve from 0.25803\n",
      "744/744 [==============================] - 3s 4ms/step - loss: 0.1434 - accuracy: 0.9458 - val_loss: 0.2630 - val_accuracy: 0.9138\n",
      "Epoch 74/100\n",
      "736/744 [============================>.] - ETA: 0s - loss: 0.1442 - accuracy: 0.9454\n",
      "Epoch 00074: val_loss did not improve from 0.25803\n",
      "744/744 [==============================] - 3s 4ms/step - loss: 0.1441 - accuracy: 0.9454 - val_loss: 0.2632 - val_accuracy: 0.9137\n",
      "Epoch 75/100\n",
      "734/744 [============================>.] - ETA: 0s - loss: 0.1427 - accuracy: 0.9462\n",
      "Epoch 00075: val_loss did not improve from 0.25803\n",
      "744/744 [==============================] - 3s 4ms/step - loss: 0.1428 - accuracy: 0.9462 - val_loss: 0.2631 - val_accuracy: 0.9139\n",
      "Epoch 76/100\n",
      "736/744 [============================>.] - ETA: 0s - loss: 0.1445 - accuracy: 0.9447\n",
      "Epoch 00076: val_loss did not improve from 0.25803\n",
      "744/744 [==============================] - 3s 4ms/step - loss: 0.1444 - accuracy: 0.9448 - val_loss: 0.2634 - val_accuracy: 0.9137\n",
      "Epoch 77/100\n",
      "734/744 [============================>.] - ETA: 0s - loss: 0.1442 - accuracy: 0.9460\n",
      "Epoch 00077: val_loss did not improve from 0.25803\n",
      "744/744 [==============================] - 3s 4ms/step - loss: 0.1440 - accuracy: 0.9461 - val_loss: 0.2632 - val_accuracy: 0.9138\n",
      "Epoch 78/100\n",
      "741/744 [============================>.] - ETA: 0s - loss: 0.1460 - accuracy: 0.9441\n",
      "Epoch 00078: val_loss did not improve from 0.25803\n",
      "744/744 [==============================] - 3s 4ms/step - loss: 0.1459 - accuracy: 0.9441 - val_loss: 0.2633 - val_accuracy: 0.9141\n",
      "Epoch 79/100\n",
      "731/744 [============================>.] - ETA: 0s - loss: 0.1437 - accuracy: 0.9464\n",
      "Epoch 00079: val_loss did not improve from 0.25803\n",
      "744/744 [==============================] - 3s 4ms/step - loss: 0.1439 - accuracy: 0.9464 - val_loss: 0.2631 - val_accuracy: 0.9139\n",
      "Epoch 80/100\n",
      "736/744 [============================>.] - ETA: 0s - loss: 0.1438 - accuracy: 0.9459\n",
      "Epoch 00080: val_loss did not improve from 0.25803\n",
      "744/744 [==============================] - 3s 4ms/step - loss: 0.1443 - accuracy: 0.9459 - val_loss: 0.2633 - val_accuracy: 0.9136\n",
      "Epoch 81/100\n",
      "733/744 [============================>.] - ETA: 0s - loss: 0.1462 - accuracy: 0.9450\n",
      "Epoch 00081: val_loss did not improve from 0.25803\n",
      "744/744 [==============================] - 3s 4ms/step - loss: 0.1463 - accuracy: 0.9449 - val_loss: 0.2635 - val_accuracy: 0.9141\n",
      "Epoch 82/100\n",
      "741/744 [============================>.] - ETA: 0s - loss: 0.1451 - accuracy: 0.9446\n",
      "Epoch 00082: val_loss did not improve from 0.25803\n",
      "744/744 [==============================] - 3s 4ms/step - loss: 0.1450 - accuracy: 0.9447 - val_loss: 0.2633 - val_accuracy: 0.9138\n",
      "Epoch 83/100\n",
      "733/744 [============================>.] - ETA: 0s - loss: 0.1447 - accuracy: 0.9447\n",
      "Epoch 00083: val_loss did not improve from 0.25803\n",
      "744/744 [==============================] - 3s 4ms/step - loss: 0.1443 - accuracy: 0.9448 - val_loss: 0.2630 - val_accuracy: 0.9138\n",
      "Epoch 84/100\n",
      "742/744 [============================>.] - ETA: 0s - loss: 0.1446 - accuracy: 0.9460\n",
      "Epoch 00084: val_loss did not improve from 0.25803\n",
      "744/744 [==============================] - 3s 4ms/step - loss: 0.1445 - accuracy: 0.9460 - val_loss: 0.2632 - val_accuracy: 0.9134\n",
      "Epoch 85/100\n",
      "743/744 [============================>.] - ETA: 0s - loss: 0.1425 - accuracy: 0.9467\n",
      "Epoch 00085: val_loss did not improve from 0.25803\n",
      "744/744 [==============================] - 3s 4ms/step - loss: 0.1426 - accuracy: 0.9466 - val_loss: 0.2633 - val_accuracy: 0.9144\n",
      "Epoch 86/100\n",
      "737/744 [============================>.] - ETA: 0s - loss: 0.1458 - accuracy: 0.9451\n",
      "Epoch 00086: val_loss did not improve from 0.25803\n",
      "744/744 [==============================] - 4s 5ms/step - loss: 0.1457 - accuracy: 0.9452 - val_loss: 0.2634 - val_accuracy: 0.9140\n",
      "Epoch 87/100\n",
      "731/744 [============================>.] - ETA: 0s - loss: 0.1432 - accuracy: 0.9460\n",
      "Epoch 00087: val_loss did not improve from 0.25803\n",
      "744/744 [==============================] - 3s 4ms/step - loss: 0.1434 - accuracy: 0.9459 - val_loss: 0.2631 - val_accuracy: 0.9138\n",
      "Epoch 88/100\n",
      "735/744 [============================>.] - ETA: 0s - loss: 0.1450 - accuracy: 0.9456\n",
      "Epoch 00088: val_loss did not improve from 0.25803\n",
      "744/744 [==============================] - 4s 5ms/step - loss: 0.1448 - accuracy: 0.9457 - val_loss: 0.2632 - val_accuracy: 0.9139\n",
      "Epoch 89/100\n",
      "740/744 [============================>.] - ETA: 0s - loss: 0.1452 - accuracy: 0.9461\n",
      "Epoch 00089: val_loss did not improve from 0.25803\n",
      "744/744 [==============================] - 4s 5ms/step - loss: 0.1454 - accuracy: 0.9460 - val_loss: 0.2633 - val_accuracy: 0.9139\n",
      "Epoch 90/100\n",
      "738/744 [============================>.] - ETA: 0s - loss: 0.1443 - accuracy: 0.9451\n",
      "Epoch 00090: val_loss did not improve from 0.25803\n",
      "744/744 [==============================] - 3s 4ms/step - loss: 0.1444 - accuracy: 0.9451 - val_loss: 0.2631 - val_accuracy: 0.9145\n",
      "Epoch 91/100\n",
      "741/744 [============================>.] - ETA: 0s - loss: 0.1436 - accuracy: 0.9459\n",
      "Epoch 00091: val_loss did not improve from 0.25803\n",
      "744/744 [==============================] - 3s 4ms/step - loss: 0.1435 - accuracy: 0.9459 - val_loss: 0.2634 - val_accuracy: 0.9144\n",
      "Epoch 92/100\n",
      "737/744 [============================>.] - ETA: 0s - loss: 0.1442 - accuracy: 0.9457\n",
      "Epoch 00092: val_loss did not improve from 0.25803\n",
      "744/744 [==============================] - 3s 4ms/step - loss: 0.1441 - accuracy: 0.9458 - val_loss: 0.2634 - val_accuracy: 0.9139\n",
      "Epoch 93/100\n",
      "733/744 [============================>.] - ETA: 0s - loss: 0.1442 - accuracy: 0.9453\n",
      "Epoch 00093: val_loss did not improve from 0.25803\n",
      "744/744 [==============================] - 3s 4ms/step - loss: 0.1443 - accuracy: 0.9452 - val_loss: 0.2633 - val_accuracy: 0.9139\n",
      "Epoch 94/100\n",
      "735/744 [============================>.] - ETA: 0s - loss: 0.1449 - accuracy: 0.9462\n",
      "Epoch 00094: val_loss did not improve from 0.25803\n",
      "744/744 [==============================] - 3s 4ms/step - loss: 0.1451 - accuracy: 0.9461 - val_loss: 0.2632 - val_accuracy: 0.9139\n",
      "Epoch 95/100\n",
      "738/744 [============================>.] - ETA: 0s - loss: 0.1434 - accuracy: 0.9463\n",
      "Epoch 00095: val_loss did not improve from 0.25803\n",
      "744/744 [==============================] - 3s 4ms/step - loss: 0.1434 - accuracy: 0.9462 - val_loss: 0.2631 - val_accuracy: 0.9142\n",
      "Epoch 96/100\n",
      "732/744 [============================>.] - ETA: 0s - loss: 0.1444 - accuracy: 0.9453\n",
      "Epoch 00096: val_loss did not improve from 0.25803\n",
      "744/744 [==============================] - 3s 4ms/step - loss: 0.1445 - accuracy: 0.9453 - val_loss: 0.2634 - val_accuracy: 0.9142\n",
      "Epoch 97/100\n",
      "734/744 [============================>.] - ETA: 0s - loss: 0.1446 - accuracy: 0.9455\n",
      "Epoch 00097: val_loss did not improve from 0.25803\n",
      "744/744 [==============================] - 3s 4ms/step - loss: 0.1447 - accuracy: 0.9455 - val_loss: 0.2635 - val_accuracy: 0.9142\n",
      "Epoch 98/100\n",
      "734/744 [============================>.] - ETA: 0s - loss: 0.1443 - accuracy: 0.9454\n",
      "Epoch 00098: val_loss did not improve from 0.25803\n",
      "744/744 [==============================] - 3s 4ms/step - loss: 0.1441 - accuracy: 0.9455 - val_loss: 0.2634 - val_accuracy: 0.9140\n",
      "Epoch 99/100\n",
      "735/744 [============================>.] - ETA: 0s - loss: 0.1449 - accuracy: 0.9454\n",
      "Epoch 00099: val_loss did not improve from 0.25803\n",
      "744/744 [==============================] - 3s 4ms/step - loss: 0.1450 - accuracy: 0.9453 - val_loss: 0.2631 - val_accuracy: 0.9140\n",
      "Epoch 100/100\n",
      "734/744 [============================>.] - ETA: 0s - loss: 0.1441 - accuracy: 0.9453\n",
      "Epoch 00100: val_loss did not improve from 0.25803\n",
      "744/744 [==============================] - 3s 4ms/step - loss: 0.1443 - accuracy: 0.9453 - val_loss: 0.2633 - val_accuracy: 0.9144\n"
     ]
    }
   ],
   "source": [
    "callbacks = [\n",
    "    ModelCheckpoint('aug_model.h5', verbose=1, save_best_only=True),\n",
    "    ReduceLROnPlateau(monitor='val_loss', factor=0.1, patience=4)\n",
    "#     EarlyStopping(monitor='val_loss', patience=10, restore_best_weights=False)\n",
    "]\n",
    "\n",
    "hist = model.fit(aug_X_train, aug_y_train, epochs=EPOCHS, validation_data = (X_val, y_val), batch_size=BATCH_SIZE, callbacks=callbacks)"
   ]
  },
  {
   "cell_type": "code",
   "execution_count": 193,
   "metadata": {},
   "outputs": [
    {
     "data": {
      "image/png": "[encoded data removed]",
      "text/plain": [
       "<Figure size 1080x360 with 2 Axes>"
      ]
     },
     "metadata": {
      "needs_background": "light"
     },
     "output_type": "display_data"
    }
   ],
   "source": [
    "fig, axes = plt.subplots(nrows=1, ncols=2, figsize=(15, 5))\n",
    "\n",
    "axes[0].plot(hist.epoch, hist.history[\"loss\"], label='Train Loss')\n",
    "axes[0].plot(hist.epoch, hist.history['val_loss'], label='Val Loss')\n",
    "axes[0].set_ylim(0.0, 2)\n",
    "axes[0].legend()\n",
    "axes[0].set_title('Loss')\n",
    "\n",
    "axes[1].plot(hist.epoch, hist.history['accuracy'], label='Train Accuracy')\n",
    "axes[1].plot(hist.epoch, hist.history['val_accuracy'], label='Val Accuracy')\n",
    "axes[1].set_ylim(0.7, 1)\n",
    "axes[1].legend()\n",
    "axes[1].set_title('ACC')\n",
    "\n",
    "plt.show()"
   ]
  },
  {
   "cell_type": "markdown",
   "metadata": {},
   "source": [
    "## Train Original Data\n",
    "* optimizer = keras.optimizers.Adam(lr=0.01, decay = 0.001), loss=tf.keras.losses.SparseCategoricalCrossentropy(from_logits=True)"
   ]
  },
  {
   "cell_type": "code",
   "execution_count": 199,
   "metadata": {},
   "outputs": [],
   "source": [
    "optimizer = keras.optimizers.Adam(lr=0.01, decay = 0.001)\n",
    "model.compile(optimizer=optimizer,\n",
    "              loss=tf.keras.losses.SparseCategoricalCrossentropy(from_logits=True),\n",
    "              metrics=['accuracy'])"
   ]
  },
  {
   "cell_type": "code",
   "execution_count": 200,
   "metadata": {},
   "outputs": [
    {
     "name": "stdout",
     "output_type": "stream",
     "text": [
      "Epoch 1/100\n",
      "372/372 [==============================] - 2s 4ms/step - loss: 1.6943 - accuracy: 0.7677 - val_loss: 1.6863 - val_accuracy: 0.7741\n",
      "Epoch 2/100\n",
      "372/372 [==============================] - 1s 4ms/step - loss: 1.6640 - accuracy: 0.7965 - val_loss: 1.6766 - val_accuracy: 0.7830\n",
      "Epoch 3/100\n",
      "372/372 [==============================] - 1s 4ms/step - loss: 1.6324 - accuracy: 0.8281 - val_loss: 1.6208 - val_accuracy: 0.8399\n",
      "Epoch 4/100\n",
      "372/372 [==============================] - 2s 4ms/step - loss: 1.6161 - accuracy: 0.8453 - val_loss: 1.6128 - val_accuracy: 0.8479\n",
      "Epoch 5/100\n",
      "372/372 [==============================] - 1s 4ms/step - loss: 1.6073 - accuracy: 0.8537 - val_loss: 1.6046 - val_accuracy: 0.8562\n",
      "Epoch 6/100\n",
      "372/372 [==============================] - 1s 4ms/step - loss: 1.6010 - accuracy: 0.8594 - val_loss: 1.5951 - val_accuracy: 0.8663\n",
      "Epoch 7/100\n",
      "372/372 [==============================] - 1s 4ms/step - loss: 1.5952 - accuracy: 0.8654 - val_loss: 1.5896 - val_accuracy: 0.8711\n",
      "Epoch 8/100\n",
      "372/372 [==============================] - 1s 4ms/step - loss: 1.5920 - accuracy: 0.8688 - val_loss: 1.5867 - val_accuracy: 0.8744\n",
      "Epoch 9/100\n",
      "372/372 [==============================] - 2s 4ms/step - loss: 1.5874 - accuracy: 0.8737 - val_loss: 1.5866 - val_accuracy: 0.8749\n",
      "Epoch 10/100\n",
      "372/372 [==============================] - 2s 4ms/step - loss: 1.5838 - accuracy: 0.8770 - val_loss: 1.5805 - val_accuracy: 0.8808\n",
      "Epoch 11/100\n",
      "372/372 [==============================] - 2s 4ms/step - loss: 1.5784 - accuracy: 0.8826 - val_loss: 1.5776 - val_accuracy: 0.8839\n",
      "Epoch 12/100\n",
      "372/372 [==============================] - 1s 4ms/step - loss: 1.5784 - accuracy: 0.8822 - val_loss: 1.5783 - val_accuracy: 0.8824\n",
      "Epoch 13/100\n",
      "372/372 [==============================] - 2s 4ms/step - loss: 1.5744 - accuracy: 0.8865 - val_loss: 1.5767 - val_accuracy: 0.8844\n",
      "Epoch 14/100\n",
      "372/372 [==============================] - 1s 4ms/step - loss: 1.5733 - accuracy: 0.8876 - val_loss: 1.5762 - val_accuracy: 0.8839\n",
      "Epoch 15/100\n",
      "372/372 [==============================] - 1s 4ms/step - loss: 1.5704 - accuracy: 0.8907 - val_loss: 1.5754 - val_accuracy: 0.8859\n",
      "Epoch 16/100\n",
      "372/372 [==============================] - 2s 4ms/step - loss: 1.5688 - accuracy: 0.8922 - val_loss: 1.5729 - val_accuracy: 0.8873\n",
      "Epoch 17/100\n",
      "372/372 [==============================] - 1s 4ms/step - loss: 1.5668 - accuracy: 0.8944 - val_loss: 1.5833 - val_accuracy: 0.8776\n",
      "Epoch 18/100\n",
      "372/372 [==============================] - 1s 4ms/step - loss: 1.5649 - accuracy: 0.8959 - val_loss: 1.5727 - val_accuracy: 0.8882\n",
      "Epoch 19/100\n",
      "372/372 [==============================] - 2s 4ms/step - loss: 1.5633 - accuracy: 0.8973 - val_loss: 1.5699 - val_accuracy: 0.8912\n",
      "Epoch 20/100\n",
      "372/372 [==============================] - 2s 4ms/step - loss: 1.5603 - accuracy: 0.9010 - val_loss: 1.5701 - val_accuracy: 0.8910\n",
      "Epoch 21/100\n",
      "372/372 [==============================] - 1s 4ms/step - loss: 1.5601 - accuracy: 0.9011 - val_loss: 1.5676 - val_accuracy: 0.8931\n",
      "Epoch 22/100\n",
      "372/372 [==============================] - 1s 4ms/step - loss: 1.5587 - accuracy: 0.9024 - val_loss: 1.5680 - val_accuracy: 0.8929\n",
      "Epoch 23/100\n",
      "372/372 [==============================] - 2s 4ms/step - loss: 1.5562 - accuracy: 0.9051 - val_loss: 1.5681 - val_accuracy: 0.8927\n",
      "Epoch 24/100\n",
      "372/372 [==============================] - 1s 4ms/step - loss: 1.5550 - accuracy: 0.9060 - val_loss: 1.5650 - val_accuracy: 0.8953\n",
      "Epoch 25/100\n",
      "372/372 [==============================] - 1s 4ms/step - loss: 1.5540 - accuracy: 0.9070 - val_loss: 1.5702 - val_accuracy: 0.8902\n",
      "Epoch 26/100\n",
      "372/372 [==============================] - 1s 4ms/step - loss: 1.5519 - accuracy: 0.9096 - val_loss: 1.5645 - val_accuracy: 0.8961\n",
      "Epoch 27/100\n",
      "372/372 [==============================] - 1s 4ms/step - loss: 1.5531 - accuracy: 0.9080 - val_loss: 1.5667 - val_accuracy: 0.8945\n",
      "Epoch 28/100\n",
      "372/372 [==============================] - 2s 4ms/step - loss: 1.5489 - accuracy: 0.9124 - val_loss: 1.5641 - val_accuracy: 0.8976\n",
      "Epoch 29/100\n",
      "372/372 [==============================] - 1s 4ms/step - loss: 1.5504 - accuracy: 0.9107 - val_loss: 1.5664 - val_accuracy: 0.8942\n",
      "Epoch 30/100\n",
      "372/372 [==============================] - 2s 4ms/step - loss: 1.5494 - accuracy: 0.9114 - val_loss: 1.5666 - val_accuracy: 0.8939\n",
      "Epoch 31/100\n",
      "372/372 [==============================] - 2s 4ms/step - loss: 1.5482 - accuracy: 0.9129 - val_loss: 1.5670 - val_accuracy: 0.8939\n",
      "Epoch 32/100\n",
      "372/372 [==============================] - 2s 5ms/step - loss: 1.5476 - accuracy: 0.9136 - val_loss: 1.5634 - val_accuracy: 0.8973\n",
      "Epoch 33/100\n",
      "372/372 [==============================] - 1s 4ms/step - loss: 1.5458 - accuracy: 0.9152 - val_loss: 1.5649 - val_accuracy: 0.8956\n",
      "Epoch 34/100\n",
      "372/372 [==============================] - 1s 4ms/step - loss: 1.5450 - accuracy: 0.9161 - val_loss: 1.5623 - val_accuracy: 0.8993\n",
      "Epoch 35/100\n",
      "372/372 [==============================] - 1s 4ms/step - loss: 1.5443 - accuracy: 0.9170 - val_loss: 1.5625 - val_accuracy: 0.8984\n",
      "Epoch 36/100\n",
      "372/372 [==============================] - 2s 4ms/step - loss: 1.5429 - accuracy: 0.9185 - val_loss: 1.5613 - val_accuracy: 0.8998\n",
      "Epoch 37/100\n",
      "372/372 [==============================] - 2s 4ms/step - loss: 1.5427 - accuracy: 0.9185 - val_loss: 1.5601 - val_accuracy: 0.9008\n",
      "Epoch 38/100\n",
      "372/372 [==============================] - 2s 4ms/step - loss: 1.5416 - accuracy: 0.9194 - val_loss: 1.5604 - val_accuracy: 0.9007\n",
      "Epoch 39/100\n",
      "372/372 [==============================] - 2s 4ms/step - loss: 1.5421 - accuracy: 0.9190 - val_loss: 1.5599 - val_accuracy: 0.9008\n",
      "Epoch 40/100\n",
      "372/372 [==============================] - 2s 4ms/step - loss: 1.5408 - accuracy: 0.9205 - val_loss: 1.5591 - val_accuracy: 0.9017\n",
      "Epoch 41/100\n",
      "372/372 [==============================] - 2s 4ms/step - loss: 1.5405 - accuracy: 0.9204 - val_loss: 1.5587 - val_accuracy: 0.9026\n",
      "Epoch 42/100\n",
      "372/372 [==============================] - 2s 4ms/step - loss: 1.5394 - accuracy: 0.9218 - val_loss: 1.5617 - val_accuracy: 0.8987\n",
      "Epoch 43/100\n",
      "372/372 [==============================] - 2s 4ms/step - loss: 1.5388 - accuracy: 0.9223 - val_loss: 1.5594 - val_accuracy: 0.9017\n",
      "Epoch 44/100\n",
      "372/372 [==============================] - 2s 4ms/step - loss: 1.5377 - accuracy: 0.9234 - val_loss: 1.5603 - val_accuracy: 0.9007\n",
      "Epoch 45/100\n",
      "372/372 [==============================] - 2s 4ms/step - loss: 1.5388 - accuracy: 0.9223 - val_loss: 1.5579 - val_accuracy: 0.9027\n",
      "Epoch 46/100\n",
      "372/372 [==============================] - 2s 4ms/step - loss: 1.5369 - accuracy: 0.9242 - val_loss: 1.5580 - val_accuracy: 0.9027\n",
      "Epoch 47/100\n",
      "372/372 [==============================] - 1s 4ms/step - loss: 1.5370 - accuracy: 0.9241 - val_loss: 1.5608 - val_accuracy: 0.9002\n",
      "Epoch 48/100\n",
      "372/372 [==============================] - 2s 4ms/step - loss: 1.5364 - accuracy: 0.9251 - val_loss: 1.5599 - val_accuracy: 0.8999\n",
      "Epoch 49/100\n",
      "372/372 [==============================] - 2s 4ms/step - loss: 1.5354 - accuracy: 0.9256 - val_loss: 1.5589 - val_accuracy: 0.9013\n",
      "Epoch 50/100\n",
      "372/372 [==============================] - 2s 4ms/step - loss: 1.5343 - accuracy: 0.9266 - val_loss: 1.5598 - val_accuracy: 0.9006\n",
      "Epoch 51/100\n",
      "372/372 [==============================] - 1s 4ms/step - loss: 1.5341 - accuracy: 0.9272 - val_loss: 1.5580 - val_accuracy: 0.9030\n",
      "Epoch 52/100\n",
      "372/372 [==============================] - 2s 4ms/step - loss: 1.5343 - accuracy: 0.9271 - val_loss: 1.5576 - val_accuracy: 0.9039\n",
      "Epoch 53/100\n",
      "372/372 [==============================] - 1s 4ms/step - loss: 1.5331 - accuracy: 0.9279 - val_loss: 1.5596 - val_accuracy: 0.9010\n",
      "Epoch 54/100\n",
      "372/372 [==============================] - 2s 4ms/step - loss: 1.5322 - accuracy: 0.9291 - val_loss: 1.5576 - val_accuracy: 0.9029\n",
      "Epoch 55/100\n",
      "372/372 [==============================] - 2s 4ms/step - loss: 1.5321 - accuracy: 0.9293 - val_loss: 1.5576 - val_accuracy: 0.9038\n",
      "Epoch 56/100\n",
      "372/372 [==============================] - 2s 5ms/step - loss: 1.5315 - accuracy: 0.9300 - val_loss: 1.5587 - val_accuracy: 0.9018\n",
      "Epoch 57/100\n",
      "372/372 [==============================] - 2s 5ms/step - loss: 1.5312 - accuracy: 0.9304 - val_loss: 1.5581 - val_accuracy: 0.9022\n",
      "Epoch 58/100\n",
      "372/372 [==============================] - 2s 5ms/step - loss: 1.5303 - accuracy: 0.9307 - val_loss: 1.5575 - val_accuracy: 0.9026\n",
      "Epoch 59/100\n",
      "372/372 [==============================] - 2s 4ms/step - loss: 1.5303 - accuracy: 0.9310 - val_loss: 1.5568 - val_accuracy: 0.9045\n",
      "Epoch 60/100\n",
      "372/372 [==============================] - 2s 4ms/step - loss: 1.5309 - accuracy: 0.9306 - val_loss: 1.5583 - val_accuracy: 0.9030\n",
      "Epoch 61/100\n",
      "372/372 [==============================] - 2s 4ms/step - loss: 1.5292 - accuracy: 0.9324 - val_loss: 1.5584 - val_accuracy: 0.9029\n",
      "Epoch 62/100\n",
      "372/372 [==============================] - 2s 4ms/step - loss: 1.5298 - accuracy: 0.9315 - val_loss: 1.5568 - val_accuracy: 0.9039\n",
      "Epoch 63/100\n",
      "372/372 [==============================] - 2s 4ms/step - loss: 1.5284 - accuracy: 0.9328 - val_loss: 1.5569 - val_accuracy: 0.9037\n",
      "Epoch 64/100\n",
      "372/372 [==============================] - 2s 4ms/step - loss: 1.5277 - accuracy: 0.9337 - val_loss: 1.5564 - val_accuracy: 0.9040\n",
      "Epoch 65/100\n",
      "372/372 [==============================] - 2s 4ms/step - loss: 1.5281 - accuracy: 0.9331 - val_loss: 1.5588 - val_accuracy: 0.9018\n",
      "Epoch 66/100\n",
      "372/372 [==============================] - 2s 4ms/step - loss: 1.5273 - accuracy: 0.9338 - val_loss: 1.5587 - val_accuracy: 0.9017\n",
      "Epoch 67/100\n",
      "372/372 [==============================] - 2s 5ms/step - loss: 1.5269 - accuracy: 0.9347 - val_loss: 1.5601 - val_accuracy: 0.9011\n",
      "Epoch 68/100\n",
      "372/372 [==============================] - 2s 4ms/step - loss: 1.5265 - accuracy: 0.9352 - val_loss: 1.5571 - val_accuracy: 0.9044\n",
      "Epoch 69/100\n",
      "372/372 [==============================] - 2s 4ms/step - loss: 1.5266 - accuracy: 0.9346 - val_loss: 1.5566 - val_accuracy: 0.9039\n",
      "Epoch 70/100\n",
      "372/372 [==============================] - 1s 4ms/step - loss: 1.5258 - accuracy: 0.9357 - val_loss: 1.5569 - val_accuracy: 0.9034\n",
      "Epoch 71/100\n",
      "372/372 [==============================] - 2s 4ms/step - loss: 1.5253 - accuracy: 0.9361 - val_loss: 1.5583 - val_accuracy: 0.9023\n",
      "Epoch 72/100\n",
      "372/372 [==============================] - 2s 5ms/step - loss: 1.5253 - accuracy: 0.9359 - val_loss: 1.5558 - val_accuracy: 0.9051\n",
      "Epoch 73/100\n",
      "372/372 [==============================] - 1s 4ms/step - loss: 1.5244 - accuracy: 0.9370 - val_loss: 1.5578 - val_accuracy: 0.9029\n",
      "Epoch 74/100\n",
      "372/372 [==============================] - 2s 4ms/step - loss: 1.5241 - accuracy: 0.9372 - val_loss: 1.5580 - val_accuracy: 0.9029\n",
      "Epoch 75/100\n",
      "372/372 [==============================] - 2s 4ms/step - loss: 1.5239 - accuracy: 0.9377 - val_loss: 1.5558 - val_accuracy: 0.9050\n",
      "Epoch 76/100\n",
      "372/372 [==============================] - 2s 4ms/step - loss: 1.5229 - accuracy: 0.9385 - val_loss: 1.5573 - val_accuracy: 0.9038\n",
      "Epoch 77/100\n",
      "372/372 [==============================] - 2s 5ms/step - loss: 1.5247 - accuracy: 0.9366 - val_loss: 1.5563 - val_accuracy: 0.9050\n",
      "Epoch 78/100\n",
      "372/372 [==============================] - 2s 5ms/step - loss: 1.5231 - accuracy: 0.9381 - val_loss: 1.5548 - val_accuracy: 0.9061\n",
      "Epoch 79/100\n",
      "372/372 [==============================] - 2s 5ms/step - loss: 1.5222 - accuracy: 0.9392 - val_loss: 1.5584 - val_accuracy: 0.9021\n",
      "Epoch 80/100\n",
      "372/372 [==============================] - 2s 5ms/step - loss: 1.5233 - accuracy: 0.9380 - val_loss: 1.5572 - val_accuracy: 0.9026\n",
      "Epoch 81/100\n",
      "372/372 [==============================] - 2s 5ms/step - loss: 1.5215 - accuracy: 0.9399 - val_loss: 1.5605 - val_accuracy: 0.9004\n",
      "Epoch 82/100\n",
      "372/372 [==============================] - 2s 4ms/step - loss: 1.5223 - accuracy: 0.9390 - val_loss: 1.5572 - val_accuracy: 0.9036\n",
      "Epoch 83/100\n",
      "372/372 [==============================] - 2s 5ms/step - loss: 1.5205 - accuracy: 0.9407 - val_loss: 1.5541 - val_accuracy: 0.9068\n",
      "Epoch 84/100\n",
      "372/372 [==============================] - 2s 5ms/step - loss: 1.5215 - accuracy: 0.9398 - val_loss: 1.5557 - val_accuracy: 0.9050\n",
      "Epoch 85/100\n",
      "372/372 [==============================] - 2s 5ms/step - loss: 1.5215 - accuracy: 0.9397 - val_loss: 1.5550 - val_accuracy: 0.9059\n",
      "Epoch 86/100\n",
      "372/372 [==============================] - 2s 5ms/step - loss: 1.5219 - accuracy: 0.9393 - val_loss: 1.5554 - val_accuracy: 0.9056\n",
      "Epoch 87/100\n",
      "372/372 [==============================] - 2s 5ms/step - loss: 1.5203 - accuracy: 0.9412 - val_loss: 1.5559 - val_accuracy: 0.9049\n",
      "Epoch 88/100\n",
      "372/372 [==============================] - 2s 5ms/step - loss: 1.5211 - accuracy: 0.9402 - val_loss: 1.5553 - val_accuracy: 0.9055\n",
      "Epoch 89/100\n",
      "372/372 [==============================] - 2s 5ms/step - loss: 1.5203 - accuracy: 0.9408 - val_loss: 1.5564 - val_accuracy: 0.9044\n",
      "Epoch 90/100\n",
      "372/372 [==============================] - 2s 5ms/step - loss: 1.5205 - accuracy: 0.9409 - val_loss: 1.5562 - val_accuracy: 0.9049\n",
      "Epoch 91/100\n",
      "372/372 [==============================] - 2s 5ms/step - loss: 1.5200 - accuracy: 0.9417 - val_loss: 1.5553 - val_accuracy: 0.9054\n",
      "Epoch 92/100\n",
      "372/372 [==============================] - 2s 5ms/step - loss: 1.5198 - accuracy: 0.9418 - val_loss: 1.5546 - val_accuracy: 0.9064\n",
      "Epoch 93/100\n",
      "372/372 [==============================] - 2s 5ms/step - loss: 1.5195 - accuracy: 0.9420 - val_loss: 1.5551 - val_accuracy: 0.9065\n",
      "Epoch 94/100\n",
      "372/372 [==============================] - 2s 4ms/step - loss: 1.5190 - accuracy: 0.9421 - val_loss: 1.5543 - val_accuracy: 0.9071\n",
      "Epoch 95/100\n",
      "372/372 [==============================] - 2s 4ms/step - loss: 1.5189 - accuracy: 0.9426 - val_loss: 1.5555 - val_accuracy: 0.9049\n",
      "Epoch 96/100\n",
      "372/372 [==============================] - 2s 4ms/step - loss: 1.5190 - accuracy: 0.9425 - val_loss: 1.5546 - val_accuracy: 0.9061\n",
      "Epoch 97/100\n",
      "372/372 [==============================] - 2s 4ms/step - loss: 1.5175 - accuracy: 0.9441 - val_loss: 1.5557 - val_accuracy: 0.9049\n",
      "Epoch 98/100\n",
      "372/372 [==============================] - 2s 4ms/step - loss: 1.5188 - accuracy: 0.9427 - val_loss: 1.5549 - val_accuracy: 0.9059\n",
      "Epoch 99/100\n",
      "372/372 [==============================] - 2s 5ms/step - loss: 1.5178 - accuracy: 0.9438 - val_loss: 1.5549 - val_accuracy: 0.9060\n",
      "Epoch 100/100\n",
      "372/372 [==============================] - 2s 4ms/step - loss: 1.5180 - accuracy: 0.9431 - val_loss: 1.5547 - val_accuracy: 0.9068\n"
     ]
    }
   ],
   "source": [
    "result = model.fit(X_train, y_train, epochs=EPOCHS, validation_data = (X_val, y_val), batch_size=BATCH_SIZE)"
   ]
  },
  {
   "cell_type": "code",
   "execution_count": 201,
   "metadata": {},
   "outputs": [
    {
     "data": {
      "image/png": "[encoded data removed]",
      "text/plain": [
       "<Figure size 1080x360 with 2 Axes>"
      ]
     },
     "metadata": {
      "needs_background": "light"
     },
     "output_type": "display_data"
    }
   ],
   "source": [
    "fig, axes = plt.subplots(nrows=1, ncols=2, figsize=(15, 5))\n",
    "\n",
    "axes[0].plot(result.epoch, result.history[\"loss\"], label='Train Loss')\n",
    "axes[0].plot(result.epoch, result.history['val_loss'], label='Val Loss')\n",
    "axes[0].set_ylim(0.0, 2)\n",
    "axes[0].legend()\n",
    "axes[0].set_title('Loss')\n",
    "\n",
    "axes[1].plot(result.epoch, result.history['accuracy'], label='Train Accuracy')\n",
    "axes[1].plot(result.epoch, result.history['val_accuracy'], label='Val Accuracy')\n",
    "axes[1].set_ylim(0.7, 1)\n",
    "axes[1].legend()\n",
    "axes[1].set_title('ACC')\n",
    "\n",
    "plt.show()"
   ]
  },
  {
   "cell_type": "markdown",
   "metadata": {},
   "source": [
    "* optimizer='adam', Loss = 'sparse_categorical_crossentropy'"
   ]
  },
  {
   "cell_type": "code",
   "execution_count": 208,
   "metadata": {},
   "outputs": [],
   "source": [
    "model.compile(optimizer='adam', loss='sparse_categorical_crossentropy', metrics=['accuracy'])"
   ]
  },
  {
   "cell_type": "code",
   "execution_count": 210,
   "metadata": {},
   "outputs": [
    {
     "name": "stdout",
     "output_type": "stream",
     "text": [
      "Epoch 1/100\n",
      "372/372 [==============================] - 1s 4ms/step - loss: 0.2379 - accuracy: 0.9112 - val_loss: 0.3384 - val_accuracy: 0.8758\n",
      "Epoch 2/100\n",
      "372/372 [==============================] - 1s 4ms/step - loss: 0.2249 - accuracy: 0.9142 - val_loss: 0.3107 - val_accuracy: 0.8886\n",
      "Epoch 3/100\n",
      "372/372 [==============================] - 1s 4ms/step - loss: 0.2177 - accuracy: 0.9175 - val_loss: 0.3352 - val_accuracy: 0.8762\n",
      "Epoch 4/100\n",
      "372/372 [==============================] - 1s 4ms/step - loss: 0.2098 - accuracy: 0.9216 - val_loss: 0.3312 - val_accuracy: 0.8876\n",
      "Epoch 5/100\n",
      "372/372 [==============================] - 1s 4ms/step - loss: 0.2034 - accuracy: 0.9227 - val_loss: 0.3316 - val_accuracy: 0.8864\n",
      "Epoch 6/100\n",
      "372/372 [==============================] - 1s 4ms/step - loss: 0.1972 - accuracy: 0.9253 - val_loss: 0.3152 - val_accuracy: 0.8939\n",
      "Epoch 7/100\n",
      "372/372 [==============================] - 1s 4ms/step - loss: 0.1897 - accuracy: 0.9294 - val_loss: 0.3105 - val_accuracy: 0.8944\n",
      "Epoch 8/100\n",
      "372/372 [==============================] - 1s 4ms/step - loss: 0.1848 - accuracy: 0.9302 - val_loss: 0.3243 - val_accuracy: 0.8932\n",
      "Epoch 9/100\n",
      "372/372 [==============================] - 1s 4ms/step - loss: 0.1754 - accuracy: 0.9343 - val_loss: 0.3256 - val_accuracy: 0.8913\n",
      "Epoch 10/100\n",
      "372/372 [==============================] - 1s 4ms/step - loss: 0.1740 - accuracy: 0.9350 - val_loss: 0.3125 - val_accuracy: 0.8954\n",
      "Epoch 11/100\n",
      "372/372 [==============================] - 1s 3ms/step - loss: 0.1649 - accuracy: 0.9376 - val_loss: 0.3342 - val_accuracy: 0.8944\n",
      "Epoch 12/100\n",
      "372/372 [==============================] - 1s 4ms/step - loss: 0.1581 - accuracy: 0.9401 - val_loss: 0.3434 - val_accuracy: 0.8848\n",
      "Epoch 13/100\n",
      "372/372 [==============================] - 1s 4ms/step - loss: 0.1575 - accuracy: 0.9405 - val_loss: 0.3386 - val_accuracy: 0.8876\n",
      "Epoch 14/100\n",
      "372/372 [==============================] - 1s 4ms/step - loss: 0.1510 - accuracy: 0.9435 - val_loss: 0.3179 - val_accuracy: 0.8957\n",
      "Epoch 15/100\n",
      "372/372 [==============================] - 1s 4ms/step - loss: 0.1453 - accuracy: 0.9444 - val_loss: 0.3150 - val_accuracy: 0.8981\n",
      "Epoch 16/100\n",
      "372/372 [==============================] - 1s 4ms/step - loss: 0.1415 - accuracy: 0.9472 - val_loss: 0.3395 - val_accuracy: 0.8921\n",
      "Epoch 17/100\n",
      "372/372 [==============================] - 1s 4ms/step - loss: 0.1359 - accuracy: 0.9487 - val_loss: 0.3312 - val_accuracy: 0.8955\n",
      "Epoch 18/100\n",
      "372/372 [==============================] - 2s 4ms/step - loss: 0.1350 - accuracy: 0.9487 - val_loss: 0.5119 - val_accuracy: 0.8630\n",
      "Epoch 19/100\n",
      "372/372 [==============================] - 1s 4ms/step - loss: 0.1315 - accuracy: 0.9496 - val_loss: 0.3395 - val_accuracy: 0.9026\n",
      "Epoch 20/100\n",
      "372/372 [==============================] - 1s 4ms/step - loss: 0.1270 - accuracy: 0.9524 - val_loss: 0.3460 - val_accuracy: 0.8947\n",
      "Epoch 21/100\n",
      "372/372 [==============================] - 1s 4ms/step - loss: 0.1261 - accuracy: 0.9515 - val_loss: 0.3392 - val_accuracy: 0.9021\n",
      "Epoch 22/100\n",
      "372/372 [==============================] - 1s 4ms/step - loss: 0.1214 - accuracy: 0.9539 - val_loss: 0.3724 - val_accuracy: 0.8967\n",
      "Epoch 23/100\n",
      "372/372 [==============================] - 1s 4ms/step - loss: 0.1166 - accuracy: 0.9554 - val_loss: 0.3531 - val_accuracy: 0.8959\n",
      "Epoch 24/100\n",
      "372/372 [==============================] - 2s 4ms/step - loss: 0.1119 - accuracy: 0.9579 - val_loss: 0.3706 - val_accuracy: 0.8987\n",
      "Epoch 25/100\n",
      "372/372 [==============================] - 1s 4ms/step - loss: 0.1082 - accuracy: 0.9587 - val_loss: 0.4169 - val_accuracy: 0.8864\n",
      "Epoch 26/100\n",
      "372/372 [==============================] - 1s 4ms/step - loss: 0.1102 - accuracy: 0.9585 - val_loss: 0.3907 - val_accuracy: 0.8876\n",
      "Epoch 27/100\n",
      "372/372 [==============================] - 2s 4ms/step - loss: 0.1067 - accuracy: 0.9586 - val_loss: 0.4116 - val_accuracy: 0.8900\n",
      "Epoch 28/100\n",
      "372/372 [==============================] - 2s 4ms/step - loss: 0.1011 - accuracy: 0.9619 - val_loss: 0.3849 - val_accuracy: 0.8935\n",
      "Epoch 29/100\n",
      "372/372 [==============================] - 2s 4ms/step - loss: 0.1036 - accuracy: 0.9613 - val_loss: 0.3770 - val_accuracy: 0.8964\n",
      "Epoch 30/100\n",
      "372/372 [==============================] - 2s 4ms/step - loss: 0.1014 - accuracy: 0.9616 - val_loss: 0.4079 - val_accuracy: 0.8939\n",
      "Epoch 31/100\n",
      "372/372 [==============================] - 2s 5ms/step - loss: 0.0999 - accuracy: 0.9629 - val_loss: 0.3897 - val_accuracy: 0.8975\n",
      "Epoch 32/100\n",
      "372/372 [==============================] - 2s 5ms/step - loss: 0.0960 - accuracy: 0.9639 - val_loss: 0.3654 - val_accuracy: 0.9013\n",
      "Epoch 33/100\n",
      "372/372 [==============================] - 2s 5ms/step - loss: 0.0941 - accuracy: 0.9641 - val_loss: 0.3855 - val_accuracy: 0.8971\n",
      "Epoch 34/100\n",
      "372/372 [==============================] - 2s 5ms/step - loss: 0.0924 - accuracy: 0.9653 - val_loss: 0.3823 - val_accuracy: 0.8980\n",
      "Epoch 35/100\n",
      "372/372 [==============================] - 2s 5ms/step - loss: 0.0882 - accuracy: 0.9665 - val_loss: 0.4288 - val_accuracy: 0.8950\n",
      "Epoch 36/100\n",
      "372/372 [==============================] - 2s 5ms/step - loss: 0.0871 - accuracy: 0.9667 - val_loss: 0.4224 - val_accuracy: 0.8962\n",
      "Epoch 37/100\n",
      "372/372 [==============================] - 2s 4ms/step - loss: 0.0906 - accuracy: 0.9654 - val_loss: 0.4238 - val_accuracy: 0.8907\n",
      "Epoch 38/100\n",
      "372/372 [==============================] - 1s 4ms/step - loss: 0.0841 - accuracy: 0.9681 - val_loss: 0.3908 - val_accuracy: 0.8985\n",
      "Epoch 39/100\n",
      "372/372 [==============================] - 1s 4ms/step - loss: 0.0856 - accuracy: 0.9685 - val_loss: 0.3753 - val_accuracy: 0.9018\n",
      "Epoch 40/100\n",
      "372/372 [==============================] - 1s 4ms/step - loss: 0.0806 - accuracy: 0.9692 - val_loss: 0.4288 - val_accuracy: 0.8966\n",
      "Epoch 41/100\n",
      "372/372 [==============================] - 2s 4ms/step - loss: 0.0785 - accuracy: 0.9709 - val_loss: 0.4247 - val_accuracy: 0.8927\n",
      "Epoch 42/100\n",
      "372/372 [==============================] - 2s 4ms/step - loss: 0.0787 - accuracy: 0.9696 - val_loss: 0.4084 - val_accuracy: 0.9003\n",
      "Epoch 43/100\n",
      "372/372 [==============================] - 1s 4ms/step - loss: 0.0775 - accuracy: 0.9711 - val_loss: 0.4004 - val_accuracy: 0.9038\n",
      "Epoch 44/100\n",
      "372/372 [==============================] - 2s 4ms/step - loss: 0.0785 - accuracy: 0.9700 - val_loss: 0.4035 - val_accuracy: 0.8998\n",
      "Epoch 45/100\n",
      "372/372 [==============================] - 1s 4ms/step - loss: 0.0740 - accuracy: 0.9722 - val_loss: 0.4208 - val_accuracy: 0.8975\n",
      "Epoch 46/100\n",
      "372/372 [==============================] - 1s 4ms/step - loss: 0.0751 - accuracy: 0.9724 - val_loss: 0.3929 - val_accuracy: 0.9036\n",
      "Epoch 47/100\n",
      "372/372 [==============================] - 1s 4ms/step - loss: 0.0729 - accuracy: 0.9733 - val_loss: 0.4057 - val_accuracy: 0.9000\n",
      "Epoch 48/100\n",
      "372/372 [==============================] - 1s 4ms/step - loss: 0.0673 - accuracy: 0.9749 - val_loss: 0.4019 - val_accuracy: 0.9045\n",
      "Epoch 49/100\n",
      "372/372 [==============================] - 1s 4ms/step - loss: 0.0716 - accuracy: 0.9734 - val_loss: 0.4158 - val_accuracy: 0.9017\n",
      "Epoch 50/100\n",
      "372/372 [==============================] - 1s 4ms/step - loss: 0.0703 - accuracy: 0.9746 - val_loss: 0.4291 - val_accuracy: 0.8970\n",
      "Epoch 51/100\n",
      "372/372 [==============================] - 1s 4ms/step - loss: 0.0674 - accuracy: 0.9743 - val_loss: 0.4357 - val_accuracy: 0.8984\n",
      "Epoch 52/100\n",
      "372/372 [==============================] - 1s 4ms/step - loss: 0.0668 - accuracy: 0.9748 - val_loss: 0.4454 - val_accuracy: 0.8981\n",
      "Epoch 53/100\n",
      "372/372 [==============================] - 1s 4ms/step - loss: 0.0663 - accuracy: 0.9749 - val_loss: 0.4158 - val_accuracy: 0.8970\n",
      "Epoch 54/100\n",
      "372/372 [==============================] - 1s 4ms/step - loss: 0.0623 - accuracy: 0.9773 - val_loss: 0.4283 - val_accuracy: 0.9027\n",
      "Epoch 55/100\n",
      "372/372 [==============================] - 1s 4ms/step - loss: 0.0669 - accuracy: 0.9752 - val_loss: 0.4233 - val_accuracy: 0.9050\n",
      "Epoch 56/100\n",
      "372/372 [==============================] - 1s 4ms/step - loss: 0.0620 - accuracy: 0.9766 - val_loss: 0.4435 - val_accuracy: 0.8980\n",
      "Epoch 57/100\n",
      "372/372 [==============================] - 1s 4ms/step - loss: 0.0617 - accuracy: 0.9770 - val_loss: 0.4362 - val_accuracy: 0.8978\n",
      "Epoch 58/100\n",
      "372/372 [==============================] - 1s 4ms/step - loss: 0.0618 - accuracy: 0.9764 - val_loss: 0.4371 - val_accuracy: 0.8971\n",
      "Epoch 59/100\n",
      "372/372 [==============================] - 1s 4ms/step - loss: 0.0593 - accuracy: 0.9776 - val_loss: 0.4923 - val_accuracy: 0.8898\n",
      "Epoch 60/100\n",
      "372/372 [==============================] - 2s 4ms/step - loss: 0.0601 - accuracy: 0.9773 - val_loss: 0.4510 - val_accuracy: 0.9014\n",
      "Epoch 61/100\n",
      "372/372 [==============================] - 1s 4ms/step - loss: 0.0583 - accuracy: 0.9785 - val_loss: 0.4636 - val_accuracy: 0.8976\n",
      "Epoch 62/100\n",
      "372/372 [==============================] - 1s 4ms/step - loss: 0.0583 - accuracy: 0.9784 - val_loss: 0.4398 - val_accuracy: 0.9008\n",
      "Epoch 63/100\n",
      "372/372 [==============================] - 1s 4ms/step - loss: 0.0607 - accuracy: 0.9773 - val_loss: 0.4591 - val_accuracy: 0.8979\n",
      "Epoch 64/100\n",
      "372/372 [==============================] - 1s 4ms/step - loss: 0.0548 - accuracy: 0.9799 - val_loss: 0.4636 - val_accuracy: 0.9024\n",
      "Epoch 65/100\n",
      "372/372 [==============================] - 1s 4ms/step - loss: 0.0529 - accuracy: 0.9801 - val_loss: 0.4706 - val_accuracy: 0.9013\n",
      "Epoch 66/100\n",
      "372/372 [==============================] - 1s 4ms/step - loss: 0.0549 - accuracy: 0.9798 - val_loss: 0.4534 - val_accuracy: 0.8992\n",
      "Epoch 67/100\n",
      "372/372 [==============================] - 1s 4ms/step - loss: 0.0530 - accuracy: 0.9798 - val_loss: 0.4707 - val_accuracy: 0.9019\n",
      "Epoch 68/100\n",
      "372/372 [==============================] - 1s 4ms/step - loss: 0.0556 - accuracy: 0.9791 - val_loss: 0.4860 - val_accuracy: 0.8996\n",
      "Epoch 69/100\n",
      "372/372 [==============================] - 1s 4ms/step - loss: 0.0555 - accuracy: 0.9794 - val_loss: 0.4338 - val_accuracy: 0.9013\n",
      "Epoch 70/100\n",
      "372/372 [==============================] - 1s 4ms/step - loss: 0.0530 - accuracy: 0.9802 - val_loss: 0.5274 - val_accuracy: 0.8898\n",
      "Epoch 71/100\n",
      "372/372 [==============================] - 1s 4ms/step - loss: 0.0500 - accuracy: 0.9813 - val_loss: 0.5016 - val_accuracy: 0.9015\n",
      "Epoch 72/100\n",
      "372/372 [==============================] - 1s 4ms/step - loss: 0.0542 - accuracy: 0.9797 - val_loss: 0.4887 - val_accuracy: 0.9045\n",
      "Epoch 73/100\n",
      "372/372 [==============================] - 1s 4ms/step - loss: 0.0518 - accuracy: 0.9807 - val_loss: 0.4845 - val_accuracy: 0.8997\n",
      "Epoch 74/100\n",
      "372/372 [==============================] - 1s 4ms/step - loss: 0.0505 - accuracy: 0.9811 - val_loss: 0.5288 - val_accuracy: 0.8936\n",
      "Epoch 75/100\n",
      "372/372 [==============================] - 1s 4ms/step - loss: 0.0524 - accuracy: 0.9806 - val_loss: 0.4471 - val_accuracy: 0.9055\n",
      "Epoch 76/100\n",
      "372/372 [==============================] - 1s 4ms/step - loss: 0.0491 - accuracy: 0.9820 - val_loss: 0.4940 - val_accuracy: 0.8968\n",
      "Epoch 77/100\n",
      "372/372 [==============================] - 1s 4ms/step - loss: 0.0487 - accuracy: 0.9821 - val_loss: 0.4717 - val_accuracy: 0.9021\n",
      "Epoch 78/100\n",
      "372/372 [==============================] - 1s 4ms/step - loss: 0.0430 - accuracy: 0.9844 - val_loss: 0.5183 - val_accuracy: 0.8944\n",
      "Epoch 79/100\n",
      "372/372 [==============================] - 1s 4ms/step - loss: 0.0499 - accuracy: 0.9814 - val_loss: 0.5281 - val_accuracy: 0.8996\n",
      "Epoch 80/100\n",
      "372/372 [==============================] - 1s 4ms/step - loss: 0.0479 - accuracy: 0.9826 - val_loss: 0.4878 - val_accuracy: 0.9050\n",
      "Epoch 81/100\n",
      "372/372 [==============================] - 2s 4ms/step - loss: 0.0436 - accuracy: 0.9839 - val_loss: 0.4972 - val_accuracy: 0.8929\n",
      "Epoch 82/100\n",
      "372/372 [==============================] - 1s 4ms/step - loss: 0.0451 - accuracy: 0.9830 - val_loss: 0.4733 - val_accuracy: 0.9029\n",
      "Epoch 83/100\n",
      "372/372 [==============================] - 1s 4ms/step - loss: 0.0459 - accuracy: 0.9836 - val_loss: 0.4880 - val_accuracy: 0.9015\n",
      "Epoch 84/100\n",
      "372/372 [==============================] - 2s 4ms/step - loss: 0.0464 - accuracy: 0.9827 - val_loss: 0.4560 - val_accuracy: 0.9050\n",
      "Epoch 85/100\n",
      "372/372 [==============================] - 1s 4ms/step - loss: 0.0488 - accuracy: 0.9818 - val_loss: 0.4710 - val_accuracy: 0.9008\n",
      "Epoch 86/100\n",
      "372/372 [==============================] - 2s 4ms/step - loss: 0.0440 - accuracy: 0.9833 - val_loss: 0.4545 - val_accuracy: 0.9024\n",
      "Epoch 87/100\n",
      "372/372 [==============================] - 2s 4ms/step - loss: 0.0432 - accuracy: 0.9845 - val_loss: 0.6107 - val_accuracy: 0.8915\n",
      "Epoch 88/100\n",
      "372/372 [==============================] - 1s 4ms/step - loss: 0.0438 - accuracy: 0.9839 - val_loss: 0.5081 - val_accuracy: 0.9019\n",
      "Epoch 89/100\n",
      "372/372 [==============================] - 1s 4ms/step - loss: 0.0429 - accuracy: 0.9846 - val_loss: 0.5091 - val_accuracy: 0.8932\n",
      "Epoch 90/100\n",
      "372/372 [==============================] - 1s 4ms/step - loss: 0.0445 - accuracy: 0.9829 - val_loss: 0.4994 - val_accuracy: 0.8992\n",
      "Epoch 91/100\n",
      "372/372 [==============================] - 2s 4ms/step - loss: 0.0418 - accuracy: 0.9846 - val_loss: 0.4757 - val_accuracy: 0.9021\n",
      "Epoch 92/100\n",
      "372/372 [==============================] - 2s 4ms/step - loss: 0.0403 - accuracy: 0.9851 - val_loss: 0.5120 - val_accuracy: 0.8992\n",
      "Epoch 93/100\n",
      "372/372 [==============================] - 2s 4ms/step - loss: 0.0421 - accuracy: 0.9843 - val_loss: 0.4831 - val_accuracy: 0.9003\n",
      "Epoch 94/100\n",
      "372/372 [==============================] - 2s 4ms/step - loss: 0.0410 - accuracy: 0.9855 - val_loss: 0.5144 - val_accuracy: 0.8987\n",
      "Epoch 95/100\n",
      "372/372 [==============================] - 1s 4ms/step - loss: 0.0414 - accuracy: 0.9849 - val_loss: 0.4846 - val_accuracy: 0.8942\n",
      "Epoch 96/100\n",
      "372/372 [==============================] - 1s 4ms/step - loss: 0.0397 - accuracy: 0.9855 - val_loss: 0.5571 - val_accuracy: 0.8957\n",
      "Epoch 97/100\n",
      "372/372 [==============================] - 1s 4ms/step - loss: 0.0373 - accuracy: 0.9865 - val_loss: 0.5349 - val_accuracy: 0.9012\n",
      "Epoch 98/100\n",
      "372/372 [==============================] - 2s 4ms/step - loss: 0.0394 - accuracy: 0.9855 - val_loss: 0.5050 - val_accuracy: 0.8989\n",
      "Epoch 99/100\n",
      "372/372 [==============================] - 1s 4ms/step - loss: 0.0382 - accuracy: 0.9863 - val_loss: 0.5238 - val_accuracy: 0.8984\n",
      "Epoch 100/100\n",
      "372/372 [==============================] - 1s 4ms/step - loss: 0.0391 - accuracy: 0.9859 - val_loss: 0.5038 - val_accuracy: 0.8995\n"
     ]
    }
   ],
   "source": [
    "# train_steps = len(X_train)//BATCH_SIZE\n",
    "# valid_steps = len(X_val)//BATCH_SIZE\n",
    "\n",
    "# if len(X_train) % BATCH_SIZE != 0:\n",
    "#     train_steps += 1\n",
    "# if len(X_val) % BATCH_SIZE != 0:\n",
    "#     valid_steps += 1\n",
    "    \n",
    "# callbacks = [\n",
    "#             ModelCheckpoint('adam_model.h5', verbose=1, save_best_only=True),\n",
    "#             ReduceLROnPlateau(monitor='val_loss', factor=0.1, patience=4),\n",
    "# #             EarlyStopping(monitor='val_loss', patience=10, restore_best_weights=False)\n",
    "#             ]\n",
    "\n",
    "hist = model.fit(X_train, y_train, batch_size=BATCH_SIZE, \n",
    "#                   steps_per_epoch=train_steps,\n",
    "#                   validation_steps=valid_steps,\n",
    "                  epochs=EPOCHS, \n",
    "                  validation_data=(X_val, y_val))\n",
    "#                  callbacks=callbacks)"
   ]
  },
  {
   "cell_type": "code",
   "execution_count": 212,
   "metadata": {},
   "outputs": [
    {
     "data": {
      "image/png": "[encoded data removed]",
      "text/plain": [
       "<Figure size 1080x360 with 2 Axes>"
      ]
     },
     "metadata": {
      "needs_background": "light"
     },
     "output_type": "display_data"
    }
   ],
   "source": [
    "fig, axes = plt.subplots(nrows=1, ncols=2, figsize=(15, 5))\n",
    "\n",
    "axes[0].plot(result.epoch, result.history[\"loss\"], label='Train Loss')\n",
    "axes[0].plot(result.epoch, result.history['val_loss'], label='Val Loss')\n",
    "axes[0].set_ylim(0.0, 2)\n",
    "axes[0].legend()\n",
    "axes[0].set_title('Loss')\n",
    "\n",
    "axes[1].plot(result.epoch, result.history['accuracy'], label='Train Accuracy')\n",
    "axes[1].plot(result.epoch, result.history['val_accuracy'], label='Val Accuracy')\n",
    "axes[1].set_ylim(0.7, 1)\n",
    "axes[1].legend()\n",
    "axes[1].set_title('ACC')\n",
    "\n",
    "plt.show()"
   ]
  },
  {
   "cell_type": "markdown",
   "metadata": {},
   "source": [
    "* optimizer=tf.keras.optimizers.Nadam(), loss='sparse_categorical_crossentropy'"
   ]
  },
  {
   "cell_type": "code",
   "execution_count": 118,
   "metadata": {},
   "outputs": [],
   "source": [
    "model.compile(optimizer=tf.keras.optimizers.Nadam(), loss='sparse_categorical_crossentropy', metrics=['accuracy'])"
   ]
  },
  {
   "cell_type": "code",
   "execution_count": 121,
   "metadata": {},
   "outputs": [
    {
     "name": "stdout",
     "output_type": "stream",
     "text": [
      "Epoch 1/100\n",
      "363/372 [============================>.] - ETA: 0s - loss: 0.1332 - accuracy: 0.9513\n",
      "Epoch 00001: val_loss improved from inf to 0.26494, saving model to best_model4.h5\n",
      "372/372 [==============================] - 2s 5ms/step - loss: 0.1337 - accuracy: 0.9511 - val_loss: 0.2649 - val_accuracy: 0.9124\n",
      "Epoch 2/100\n",
      "361/372 [============================>.] - ETA: 0s - loss: 0.1343 - accuracy: 0.9497\n",
      "Epoch 00002: val_loss did not improve from 0.26494\n",
      "372/372 [==============================] - 2s 5ms/step - loss: 0.1340 - accuracy: 0.9499 - val_loss: 0.2652 - val_accuracy: 0.9120\n",
      "Epoch 3/100\n",
      "364/372 [============================>.] - ETA: 0s - loss: 0.1331 - accuracy: 0.9507\n",
      "Epoch 00003: val_loss did not improve from 0.26494\n",
      "372/372 [==============================] - 2s 5ms/step - loss: 0.1329 - accuracy: 0.9507 - val_loss: 0.2652 - val_accuracy: 0.9120\n",
      "Epoch 4/100\n",
      "365/372 [============================>.] - ETA: 0s - loss: 0.1353 - accuracy: 0.9501\n",
      "Epoch 00004: val_loss did not improve from 0.26494\n",
      "372/372 [==============================] - 2s 5ms/step - loss: 0.1346 - accuracy: 0.9505 - val_loss: 0.2651 - val_accuracy: 0.9119\n",
      "Epoch 5/100\n",
      "365/372 [============================>.] - ETA: 0s - loss: 0.1339 - accuracy: 0.9511\n",
      "Epoch 00005: val_loss did not improve from 0.26494\n",
      "372/372 [==============================] - 2s 5ms/step - loss: 0.1337 - accuracy: 0.9510 - val_loss: 0.2654 - val_accuracy: 0.9118\n",
      "Epoch 6/100\n",
      "367/372 [============================>.] - ETA: 0s - loss: 0.1338 - accuracy: 0.9500\n",
      "Epoch 00006: val_loss did not improve from 0.26494\n",
      "372/372 [==============================] - 2s 5ms/step - loss: 0.1336 - accuracy: 0.9502 - val_loss: 0.2654 - val_accuracy: 0.9116\n",
      "Epoch 7/100\n",
      "365/372 [============================>.] - ETA: 0s - loss: 0.1337 - accuracy: 0.9507\n",
      "Epoch 00007: val_loss did not improve from 0.26494\n",
      "372/372 [==============================] - 2s 5ms/step - loss: 0.1336 - accuracy: 0.9507 - val_loss: 0.2654 - val_accuracy: 0.9118\n",
      "Epoch 8/100\n",
      "368/372 [============================>.] - ETA: 0s - loss: 0.1335 - accuracy: 0.9504\n",
      "Epoch 00008: val_loss did not improve from 0.26494\n",
      "372/372 [==============================] - 2s 5ms/step - loss: 0.1334 - accuracy: 0.9503 - val_loss: 0.2655 - val_accuracy: 0.9117\n",
      "Epoch 9/100\n",
      "364/372 [============================>.] - ETA: 0s - loss: 0.1321 - accuracy: 0.9511\n",
      "Epoch 00009: val_loss did not improve from 0.26494\n",
      "372/372 [==============================] - 2s 5ms/step - loss: 0.1321 - accuracy: 0.9512 - val_loss: 0.2654 - val_accuracy: 0.9120\n",
      "Epoch 10/100\n",
      "364/372 [============================>.] - ETA: 0s - loss: 0.1334 - accuracy: 0.9505\n",
      "Epoch 00010: val_loss did not improve from 0.26494\n",
      "372/372 [==============================] - 2s 5ms/step - loss: 0.1330 - accuracy: 0.9508 - val_loss: 0.2654 - val_accuracy: 0.9119\n",
      "Epoch 11/100\n",
      "369/372 [============================>.] - ETA: 0s - loss: 0.1319 - accuracy: 0.9520\n",
      "Epoch 00011: val_loss did not improve from 0.26494\n",
      "372/372 [==============================] - 2s 5ms/step - loss: 0.1319 - accuracy: 0.9520 - val_loss: 0.2654 - val_accuracy: 0.9121\n",
      "Epoch 12/100\n",
      "372/372 [==============================] - ETA: 0s - loss: 0.1339 - accuracy: 0.9513\n",
      "Epoch 00012: val_loss did not improve from 0.26494\n",
      "372/372 [==============================] - 2s 5ms/step - loss: 0.1339 - accuracy: 0.9513 - val_loss: 0.2652 - val_accuracy: 0.9119\n",
      "Epoch 13/100\n",
      "366/372 [============================>.] - ETA: 0s - loss: 0.1324 - accuracy: 0.9505\n",
      "Epoch 00013: val_loss did not improve from 0.26494\n",
      "372/372 [==============================] - 2s 5ms/step - loss: 0.1322 - accuracy: 0.9506 - val_loss: 0.2653 - val_accuracy: 0.9121\n",
      "Epoch 14/100\n",
      "369/372 [============================>.] - ETA: 0s - loss: 0.1335 - accuracy: 0.9519\n",
      "Epoch 00014: val_loss did not improve from 0.26494\n",
      "372/372 [==============================] - 2s 5ms/step - loss: 0.1337 - accuracy: 0.9518 - val_loss: 0.2655 - val_accuracy: 0.9116\n",
      "Epoch 15/100\n",
      "363/372 [============================>.] - ETA: 0s - loss: 0.1346 - accuracy: 0.9505\n",
      "Epoch 00015: val_loss did not improve from 0.26494\n",
      "372/372 [==============================] - 2s 5ms/step - loss: 0.1345 - accuracy: 0.9506 - val_loss: 0.2654 - val_accuracy: 0.9118\n",
      "Epoch 16/100\n",
      "362/372 [============================>.] - ETA: 0s - loss: 0.1329 - accuracy: 0.9520\n",
      "Epoch 00016: val_loss did not improve from 0.26494\n",
      "372/372 [==============================] - 2s 5ms/step - loss: 0.1326 - accuracy: 0.9521 - val_loss: 0.2652 - val_accuracy: 0.9118\n"
     ]
    }
   ],
   "source": [
    "callbacks = [\n",
    "    ModelCheckpoint('best_model4.h5', verbose=1, save_best_only=True),\n",
    "    ReduceLROnPlateau(monitor='val_loss', factor=0.1, patience=4),\n",
    "    EarlyStopping(monitor='val_loss', patience=15, restore_best_weights=False)\n",
    "]\n",
    "\n",
    "hist = model.fit(X_train, y_train, batch_size=BATCH_SIZE, \n",
    "                  # steps_per_epoch=train_steps,\n",
    "                  # validation_steps=valid_steps,\n",
    "                  epochs=100,\n",
    "                  validation_data=(X_val, y_val),\n",
    "                  callbacks=callbacks)"
   ]
  },
  {
   "cell_type": "code",
   "execution_count": null,
   "metadata": {
    "colab": {
     "base_uri": "https://localhost:8080/",
     "height": 336
    },
    "executionInfo": {
     "elapsed": 638,
     "status": "ok",
     "timestamp": 1630251613018,
     "user": {
      "displayName": "성균관대김재희",
      "photoUrl": "",
      "userId": "07430941940091904271"
     },
     "user_tz": -540
    },
    "id": "zpOAtJVQaFrn",
    "outputId": "1d7aa7de-3ab2-477d-fbfb-2f22e6ba8081"
   },
   "outputs": [
    {
     "data": {
      "image/png": "[encoded data removed]",
      "text/plain": [
       "<Figure size 1080x360 with 2 Axes>"
      ]
     },
     "metadata": {
      "needs_background": "light"
     },
     "output_type": "display_data"
    }
   ],
   "source": [
    "fig, axes = plt.subplots(nrows=1, ncols=2, figsize=(15, 5))\n",
    "\n",
    "axes[0].plot(result.epoch, result.history[\"loss\"], label='Train Loss')\n",
    "axes[0].plot(result.epoch, result.history['val_loss'], label='Val Loss')\n",
    "axes[0].set_ylim(0.0, 1)\n",
    "axes[0].legend()\n",
    "axes[0].set_title('Loss')\n",
    "\n",
    "axes[1].plot(result.epoch, result.history['accuracy'], label='Train Accuracy')\n",
    "axes[1].plot(result.epoch, result.history['val_accuracy'], label='Val Accuracy')\n",
    "axes[1].set_ylim(0.7, 1)\n",
    "axes[1].legend()\n",
    "axes[1].set_title('ACC')\n",
    "\n",
    "plt.show()"
   ]
  },
  {
   "cell_type": "markdown",
   "metadata": {},
   "source": [
    "# 제출"
   ]
  },
  {
   "cell_type": "code",
   "execution_count": 132,
   "metadata": {},
   "outputs": [],
   "source": [
    "from tensorflow.keras.models import load_model\n",
    "model = load_model('./best_model.h5')"
   ]
  },
  {
   "cell_type": "code",
   "execution_count": 196,
   "metadata": {
    "colab": {
     "base_uri": "https://localhost:8080/",
     "height": 204
    },
    "executionInfo": {
     "elapsed": 955,
     "status": "ok",
     "timestamp": 1630251639381,
     "user": {
      "displayName": "성균관대김재희",
      "photoUrl": "",
      "userId": "07430941940091904271"
     },
     "user_tz": -540
    },
    "id": "P2oIdaLGtozX",
    "outputId": "c461ca12-9d85-45fe-a26a-61203a280d34"
   },
   "outputs": [
    {
     "data": {
      "text/html": [
       "<div>\n",
       "<style scoped>\n",
       "    .dataframe tbody tr th:only-of-type {\n",
       "        vertical-align: middle;\n",
       "    }\n",
       "\n",
       "    .dataframe tbody tr th {\n",
       "        vertical-align: top;\n",
       "    }\n",
       "\n",
       "    .dataframe thead th {\n",
       "        text-align: right;\n",
       "    }\n",
       "</style>\n",
       "<table border=\"1\" class=\"dataframe\">\n",
       "  <thead>\n",
       "    <tr style=\"text-align: right;\">\n",
       "      <th></th>\n",
       "      <th>id</th>\n",
       "      <th>label</th>\n",
       "    </tr>\n",
       "  </thead>\n",
       "  <tbody>\n",
       "    <tr>\n",
       "      <th>0</th>\n",
       "      <td>0</td>\n",
       "      <td>6</td>\n",
       "    </tr>\n",
       "    <tr>\n",
       "      <th>1</th>\n",
       "      <td>1</td>\n",
       "      <td>0</td>\n",
       "    </tr>\n",
       "    <tr>\n",
       "      <th>2</th>\n",
       "      <td>2</td>\n",
       "      <td>0</td>\n",
       "    </tr>\n",
       "    <tr>\n",
       "      <th>3</th>\n",
       "      <td>3</td>\n",
       "      <td>0</td>\n",
       "    </tr>\n",
       "    <tr>\n",
       "      <th>4</th>\n",
       "      <td>4</td>\n",
       "      <td>6</td>\n",
       "    </tr>\n",
       "  </tbody>\n",
       "</table>\n",
       "</div>"
      ],
      "text/plain": [
       "   id  label\n",
       "0   0      6\n",
       "1   1      0\n",
       "2   2      0\n",
       "3   3      0\n",
       "4   4      6"
      ]
     },
     "execution_count": 196,
     "metadata": {},
     "output_type": "execute_result"
    }
   ],
   "source": [
    "pred_label = np.argmax(model.predict(X_test), axis = 1)\n",
    "\n",
    "submission['label'] = pred_label\n",
    "\n",
    "submission.to_csv(data_dir + 'BaseLine_Model.csv', index = False)\n",
    "\n",
    "submission.head()"
   ]
  },
  {
   "cell_type": "code",
   "execution_count": null,
   "metadata": {},
   "outputs": [],
   "source": []
  }
 ],
 "metadata": {
  "accelerator": "GPU",
  "colab": {
   "collapsed_sections": [],
   "name": "Week7_NN심화_BaseLine_Model_TF.ipynb",
   "provenance": [
    {
     "file_id": "14CeEP1xUnLyR52FNteFz94CDobcDzcPX",
     "timestamp": 1630246245179
    }
   ]
  },
  "kernelspec": {
   "display_name": "Python 3",
   "language": "python",
   "name": "python3"
  },
  "language_info": {
   "codemirror_mode": {
    "name": "ipython",
    "version": 3
   },
   "file_extension": ".py",
   "mimetype": "text/x-python",
   "name": "python",
   "nbconvert_exporter": "python",
   "pygments_lexer": "ipython3",
   "version": "3.8.3"
  }
 },
 "nbformat": 4,
 "nbformat_minor": 4
}
