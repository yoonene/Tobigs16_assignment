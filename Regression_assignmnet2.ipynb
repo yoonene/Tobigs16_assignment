{
 "cells": [
  {
   "cell_type": "markdown",
   "metadata": {
    "id": "oYVqHpHghxi1"
   },
   "source": [
    "## **투빅스 16기 정규세션 Week2 Regression - 16기 김윤혜**"
   ]
  },
  {
   "cell_type": "code",
   "execution_count": 1,
   "metadata": {
    "id": "F0T3iPmPhxi_"
   },
   "outputs": [],
   "source": [
    "%matplotlib inline \n",
    "\n",
    "import pandas as pd\n",
    "import numpy as np\n",
    "\n",
    "\n",
    "import matplotlib.pyplot as plt\n",
    "import seaborn as sns\n",
    "\n",
    "import warnings\n",
    "warnings.filterwarnings(action='ignore')"
   ]
  },
  {
   "cell_type": "markdown",
   "metadata": {
    "id": "P0uNO4d5hxjA"
   },
   "source": [
    "# Data "
   ]
  },
  {
   "cell_type": "markdown",
   "metadata": {
    "id": "3-xhqe55hxjB"
   },
   "source": [
    "데이터 출처 : https://www.kaggle.com/avikasliwal/used-cars-price-prediction "
   ]
  },
  {
   "cell_type": "markdown",
   "metadata": {
    "id": "NL9G4b7-hxjB"
   },
   "source": [
    "< y > \n",
    "* **Price** : The price of the used car in INR Lakhs.\n",
    "\n",
    "\n",
    "\n",
    "< X > \n",
    "* Name : The brand and model of the car\n",
    "* Location : The location in which the car is being sold or is available for purchase.\n",
    "* Year : The year or edition of the model.\n",
    "* Kilometers_Driven : The total kilometres driven in the car by the previous owner(s) in KM.\n",
    "* Fuel_Type : The type of fuel used by the car. (Petrol, Diesel, Electric, CNG, LPG)\n",
    "* Transmission : The type of transmission used by the car. (Automatic / Manual)\n",
    "* Owner_Type : Whether the ownership is Firsthand, Second hand or other.\n",
    "* Mileage : The standard mileage offered by the car company in kmpl or km/kg\n",
    "* Engine : The displacement volume of the engine in CC.\n",
    "* Power : The maximum power of the engine in bhp.\n",
    "* Seats : The number of seats in the car.\n",
    "* New_Price : The price of a new car of the same model."
   ]
  },
  {
   "cell_type": "code",
   "execution_count": 137,
   "metadata": {
    "colab": {
     "base_uri": "https://localhost:8080/",
     "height": 407
    },
    "id": "4erq13F3hxjC",
    "outputId": "9d870503-1f14-40ab-fb6c-510abcdf231d"
   },
   "outputs": [
    {
     "data": {
      "text/html": [
       "<div>\n",
       "<style scoped>\n",
       "    .dataframe tbody tr th:only-of-type {\n",
       "        vertical-align: middle;\n",
       "    }\n",
       "\n",
       "    .dataframe tbody tr th {\n",
       "        vertical-align: top;\n",
       "    }\n",
       "\n",
       "    .dataframe thead th {\n",
       "        text-align: right;\n",
       "    }\n",
       "</style>\n",
       "<table border=\"1\" class=\"dataframe\">\n",
       "  <thead>\n",
       "    <tr style=\"text-align: right;\">\n",
       "      <th></th>\n",
       "      <th>Unnamed: 0</th>\n",
       "      <th>Name</th>\n",
       "      <th>Location</th>\n",
       "      <th>Year</th>\n",
       "      <th>Kilometers_Driven</th>\n",
       "      <th>Fuel_Type</th>\n",
       "      <th>Transmission</th>\n",
       "      <th>Owner_Type</th>\n",
       "      <th>Mileage</th>\n",
       "      <th>Engine</th>\n",
       "      <th>Power</th>\n",
       "      <th>Seats</th>\n",
       "      <th>New_Price</th>\n",
       "      <th>Price</th>\n",
       "    </tr>\n",
       "  </thead>\n",
       "  <tbody>\n",
       "    <tr>\n",
       "      <th>0</th>\n",
       "      <td>0</td>\n",
       "      <td>Maruti Wagon R LXI CNG</td>\n",
       "      <td>Mumbai</td>\n",
       "      <td>2010</td>\n",
       "      <td>72000</td>\n",
       "      <td>CNG</td>\n",
       "      <td>Manual</td>\n",
       "      <td>First</td>\n",
       "      <td>26.6 km/kg</td>\n",
       "      <td>998 CC</td>\n",
       "      <td>58.16 bhp</td>\n",
       "      <td>5.0</td>\n",
       "      <td>NaN</td>\n",
       "      <td>1.75</td>\n",
       "    </tr>\n",
       "    <tr>\n",
       "      <th>1</th>\n",
       "      <td>1</td>\n",
       "      <td>Hyundai Creta 1.6 CRDi SX Option</td>\n",
       "      <td>Pune</td>\n",
       "      <td>2015</td>\n",
       "      <td>41000</td>\n",
       "      <td>Diesel</td>\n",
       "      <td>Manual</td>\n",
       "      <td>First</td>\n",
       "      <td>19.67 kmpl</td>\n",
       "      <td>1582 CC</td>\n",
       "      <td>126.2 bhp</td>\n",
       "      <td>5.0</td>\n",
       "      <td>NaN</td>\n",
       "      <td>12.50</td>\n",
       "    </tr>\n",
       "    <tr>\n",
       "      <th>2</th>\n",
       "      <td>2</td>\n",
       "      <td>Honda Jazz V</td>\n",
       "      <td>Chennai</td>\n",
       "      <td>2011</td>\n",
       "      <td>46000</td>\n",
       "      <td>Petrol</td>\n",
       "      <td>Manual</td>\n",
       "      <td>First</td>\n",
       "      <td>18.2 kmpl</td>\n",
       "      <td>1199 CC</td>\n",
       "      <td>88.7 bhp</td>\n",
       "      <td>5.0</td>\n",
       "      <td>8.61 Lakh</td>\n",
       "      <td>4.50</td>\n",
       "    </tr>\n",
       "    <tr>\n",
       "      <th>3</th>\n",
       "      <td>3</td>\n",
       "      <td>Maruti Ertiga VDI</td>\n",
       "      <td>Chennai</td>\n",
       "      <td>2012</td>\n",
       "      <td>87000</td>\n",
       "      <td>Diesel</td>\n",
       "      <td>Manual</td>\n",
       "      <td>First</td>\n",
       "      <td>20.77 kmpl</td>\n",
       "      <td>1248 CC</td>\n",
       "      <td>88.76 bhp</td>\n",
       "      <td>7.0</td>\n",
       "      <td>NaN</td>\n",
       "      <td>6.00</td>\n",
       "    </tr>\n",
       "    <tr>\n",
       "      <th>4</th>\n",
       "      <td>4</td>\n",
       "      <td>Audi A4 New 2.0 TDI Multitronic</td>\n",
       "      <td>Coimbatore</td>\n",
       "      <td>2013</td>\n",
       "      <td>40670</td>\n",
       "      <td>Diesel</td>\n",
       "      <td>Automatic</td>\n",
       "      <td>Second</td>\n",
       "      <td>15.2 kmpl</td>\n",
       "      <td>1968 CC</td>\n",
       "      <td>140.8 bhp</td>\n",
       "      <td>5.0</td>\n",
       "      <td>NaN</td>\n",
       "      <td>17.74</td>\n",
       "    </tr>\n",
       "  </tbody>\n",
       "</table>\n",
       "</div>"
      ],
      "text/plain": [
       "   Unnamed: 0                              Name    Location  Year  \\\n",
       "0           0            Maruti Wagon R LXI CNG      Mumbai  2010   \n",
       "1           1  Hyundai Creta 1.6 CRDi SX Option        Pune  2015   \n",
       "2           2                      Honda Jazz V     Chennai  2011   \n",
       "3           3                 Maruti Ertiga VDI     Chennai  2012   \n",
       "4           4   Audi A4 New 2.0 TDI Multitronic  Coimbatore  2013   \n",
       "\n",
       "   Kilometers_Driven Fuel_Type Transmission Owner_Type     Mileage   Engine  \\\n",
       "0              72000       CNG       Manual      First  26.6 km/kg   998 CC   \n",
       "1              41000    Diesel       Manual      First  19.67 kmpl  1582 CC   \n",
       "2              46000    Petrol       Manual      First   18.2 kmpl  1199 CC   \n",
       "3              87000    Diesel       Manual      First  20.77 kmpl  1248 CC   \n",
       "4              40670    Diesel    Automatic     Second   15.2 kmpl  1968 CC   \n",
       "\n",
       "       Power  Seats  New_Price  Price  \n",
       "0  58.16 bhp    5.0        NaN   1.75  \n",
       "1  126.2 bhp    5.0        NaN  12.50  \n",
       "2   88.7 bhp    5.0  8.61 Lakh   4.50  \n",
       "3  88.76 bhp    7.0        NaN   6.00  \n",
       "4  140.8 bhp    5.0        NaN  17.74  "
      ]
     },
     "execution_count": 137,
     "metadata": {},
     "output_type": "execute_result"
    }
   ],
   "source": [
    "# Load Data \n",
    "data = pd.read_csv(\"Tobigs/정규세션/week2/Regression/assignment2_data.csv\")\n",
    "data.head()"
   ]
  },
  {
   "cell_type": "markdown",
   "metadata": {},
   "source": [
    "* categorical(5): \"Name\", \"Location\", \"Fuel_Type\", \"Transmission\", \"Owner_Type\" <br>\n",
    "* numerical(8): \"Year\", \"Kilometers_Driven\", \"Mileage\", \"Engine\", \"Power\", \"Seats\", \"New_Price\", \"Price\""
   ]
  },
  {
   "cell_type": "code",
   "execution_count": 138,
   "metadata": {
    "id": "d-J1QpWR_WYh"
   },
   "outputs": [],
   "source": [
    "data.drop(['Unnamed: 0', 'Name'], axis=1, inplace=True)"
   ]
  },
  {
   "cell_type": "code",
   "execution_count": 139,
   "metadata": {},
   "outputs": [
    {
     "name": "stdout",
     "output_type": "stream",
     "text": [
      "<class 'pandas.core.frame.DataFrame'>\n",
      "RangeIndex: 6019 entries, 0 to 6018\n",
      "Data columns (total 12 columns):\n",
      " #   Column             Non-Null Count  Dtype  \n",
      "---  ------             --------------  -----  \n",
      " 0   Location           6019 non-null   object \n",
      " 1   Year               6019 non-null   int64  \n",
      " 2   Kilometers_Driven  6019 non-null   int64  \n",
      " 3   Fuel_Type          6019 non-null   object \n",
      " 4   Transmission       6019 non-null   object \n",
      " 5   Owner_Type         6019 non-null   object \n",
      " 6   Mileage            6017 non-null   object \n",
      " 7   Engine             5983 non-null   object \n",
      " 8   Power              5983 non-null   object \n",
      " 9   Seats              5977 non-null   float64\n",
      " 10  New_Price          824 non-null    object \n",
      " 11  Price              6019 non-null   float64\n",
      "dtypes: float64(2), int64(2), object(8)\n",
      "memory usage: 564.4+ KB\n"
     ]
    }
   ],
   "source": [
    "data.info()"
   ]
  },
  {
   "cell_type": "markdown",
   "metadata": {},
   "source": [
    "Mileage, Engine, Power, New_Price 변수는 수치형 변수이지만 단위(문자열)이 붙어있기 때문에 object type으로 출력되었다."
   ]
  },
  {
   "cell_type": "markdown",
   "metadata": {},
   "source": [
    "## 전처리"
   ]
  },
  {
   "cell_type": "markdown",
   "metadata": {},
   "source": [
    "* 단위 제거"
   ]
  },
  {
   "cell_type": "code",
   "execution_count": 141,
   "metadata": {},
   "outputs": [],
   "source": [
    "# Mileage\n",
    "data['Mileage'] = data['Mileage'].str.replace(\" km/kg\",\"\")\n",
    "data['Mileage'] = data['Mileage'].str.replace(\" kmpl\",\"\")\n",
    "# Engine\n",
    "data['Engine'] = data['Engine'].str.replace(\" CC\",\"\")\n",
    "# Power\n",
    "data['Power'] = data['Power'].str.replace(\" bhp\",\"\")\n",
    "# New_Price\n",
    "data['New_Price'] = data['New_Price'].str.replace(\" Lakh\",\"\")"
   ]
  },
  {
   "cell_type": "markdown",
   "metadata": {},
   "source": [
    "* 단위 변환\n",
    "    - New_Price\n",
    "    - 1Lakh: 100,000\n",
    "    - 1Cr(Crore): 10,000,000\n",
    "    - Cr → Lakh"
   ]
  },
  {
   "cell_type": "code",
   "execution_count": 142,
   "metadata": {},
   "outputs": [],
   "source": [
    "Cr2Lakh = (data[data['New_Price'].str.contains(' Cr')==True])['New_Price']\n",
    "Cr2Lakh_idx = Cr2Lakh.index.tolist()\n",
    "Cr2Lakh = Cr2Lakh.str.replace(\" Cr\", \"\")\n",
    "data.loc[data['New_Price'].str.contains('Cr')==True,'New_Price'] = pd.to_numeric(Cr2Lakh)*100\n",
    "# data.loc[Cr2Lakh_idx]['New_Price']"
   ]
  },
  {
   "cell_type": "markdown",
   "metadata": {},
   "source": [
    "* numerical type 변환"
   ]
  },
  {
   "cell_type": "code",
   "execution_count": 143,
   "metadata": {},
   "outputs": [
    {
     "data": {
      "text/plain": [
       "'null'"
      ]
     },
     "execution_count": 143,
     "metadata": {},
     "output_type": "execute_result"
    }
   ],
   "source": [
    "data[\"Power\"][79]"
   ]
  },
  {
   "cell_type": "code",
   "execution_count": 144,
   "metadata": {},
   "outputs": [],
   "source": [
    "data = data.replace({'Power': 'null'}, {'Power': np.nan})"
   ]
  },
  {
   "cell_type": "code",
   "execution_count": 145,
   "metadata": {},
   "outputs": [
    {
     "data": {
      "text/plain": [
       "nan"
      ]
     },
     "execution_count": 145,
     "metadata": {},
     "output_type": "execute_result"
    }
   ],
   "source": [
    "data[\"Power\"][79]"
   ]
  },
  {
   "cell_type": "code",
   "execution_count": 146,
   "metadata": {},
   "outputs": [],
   "source": [
    "data[['Mileage','Engine','Power', 'New_Price']] = data[['Mileage','Engine','Power', 'New_Price']].apply(pd.to_numeric)"
   ]
  },
  {
   "cell_type": "code",
   "execution_count": 147,
   "metadata": {},
   "outputs": [
    {
     "name": "stdout",
     "output_type": "stream",
     "text": [
      "<class 'pandas.core.frame.DataFrame'>\n",
      "RangeIndex: 6019 entries, 0 to 6018\n",
      "Data columns (total 12 columns):\n",
      " #   Column             Non-Null Count  Dtype  \n",
      "---  ------             --------------  -----  \n",
      " 0   Location           6019 non-null   object \n",
      " 1   Year               6019 non-null   int64  \n",
      " 2   Kilometers_Driven  6019 non-null   int64  \n",
      " 3   Fuel_Type          6019 non-null   object \n",
      " 4   Transmission       6019 non-null   object \n",
      " 5   Owner_Type         6019 non-null   object \n",
      " 6   Mileage            6017 non-null   float64\n",
      " 7   Engine             5983 non-null   float64\n",
      " 8   Power              5876 non-null   float64\n",
      " 9   Seats              5977 non-null   float64\n",
      " 10  New_Price          824 non-null    float64\n",
      " 11  Price              6019 non-null   float64\n",
      "dtypes: float64(6), int64(2), object(4)\n",
      "memory usage: 564.4+ KB\n"
     ]
    }
   ],
   "source": [
    "data.info()"
   ]
  },
  {
   "cell_type": "markdown",
   "metadata": {},
   "source": [
    "numerical과 categorical features가 8개와 5개로 잘 변환된 것을 확인할 수 있다."
   ]
  },
  {
   "cell_type": "markdown",
   "metadata": {},
   "source": [
    "* **결측치 처리**"
   ]
  },
  {
   "cell_type": "code",
   "execution_count": 159,
   "metadata": {},
   "outputs": [],
   "source": [
    "def null_check(df):\n",
    "    null = df.isnull().sum()\n",
    "    \n",
    "    null_col=[]\n",
    "\n",
    "    for i in range(len(df.columns)):\n",
    "        if (null[i]!=0):\n",
    "            print(null.index[i],null[i],'개,',round(null[i]/len(data)*100,2), '%')\n",
    "            null_col.append(null.index[i])\n",
    "            \n",
    "    if len(null_col) == 0:\n",
    "        print(\"결측치 없음\")"
   ]
  },
  {
   "cell_type": "code",
   "execution_count": 160,
   "metadata": {},
   "outputs": [
    {
     "name": "stdout",
     "output_type": "stream",
     "text": [
      "Mileage 2 개, 0.03 %\n",
      "Engine 36 개, 0.6 %\n",
      "Power 143 개, 2.38 %\n",
      "Seats 42 개, 0.7 %\n",
      "New_Price 5195 개, 86.31 %\n"
     ]
    }
   ],
   "source": [
    "null_check(data)"
   ]
  },
  {
   "cell_type": "markdown",
   "metadata": {},
   "source": [
    "**결측치가 무려 86%인 변수 New_Price 삭제**"
   ]
  },
  {
   "cell_type": "code",
   "execution_count": 162,
   "metadata": {},
   "outputs": [
    {
     "data": {
      "text/html": [
       "<div>\n",
       "<style scoped>\n",
       "    .dataframe tbody tr th:only-of-type {\n",
       "        vertical-align: middle;\n",
       "    }\n",
       "\n",
       "    .dataframe tbody tr th {\n",
       "        vertical-align: top;\n",
       "    }\n",
       "\n",
       "    .dataframe thead th {\n",
       "        text-align: right;\n",
       "    }\n",
       "</style>\n",
       "<table border=\"1\" class=\"dataframe\">\n",
       "  <thead>\n",
       "    <tr style=\"text-align: right;\">\n",
       "      <th></th>\n",
       "      <th>Location</th>\n",
       "      <th>Year</th>\n",
       "      <th>Kilometers_Driven</th>\n",
       "      <th>Fuel_Type</th>\n",
       "      <th>Transmission</th>\n",
       "      <th>Owner_Type</th>\n",
       "      <th>Mileage</th>\n",
       "      <th>Engine</th>\n",
       "      <th>Power</th>\n",
       "      <th>Seats</th>\n",
       "      <th>Price</th>\n",
       "    </tr>\n",
       "  </thead>\n",
       "  <tbody>\n",
       "    <tr>\n",
       "      <th>0</th>\n",
       "      <td>Mumbai</td>\n",
       "      <td>2010</td>\n",
       "      <td>72000</td>\n",
       "      <td>CNG</td>\n",
       "      <td>Manual</td>\n",
       "      <td>First</td>\n",
       "      <td>26.60</td>\n",
       "      <td>998.0</td>\n",
       "      <td>58.16</td>\n",
       "      <td>5.0</td>\n",
       "      <td>1.75</td>\n",
       "    </tr>\n",
       "    <tr>\n",
       "      <th>1</th>\n",
       "      <td>Pune</td>\n",
       "      <td>2015</td>\n",
       "      <td>41000</td>\n",
       "      <td>Diesel</td>\n",
       "      <td>Manual</td>\n",
       "      <td>First</td>\n",
       "      <td>19.67</td>\n",
       "      <td>1582.0</td>\n",
       "      <td>126.20</td>\n",
       "      <td>5.0</td>\n",
       "      <td>12.50</td>\n",
       "    </tr>\n",
       "    <tr>\n",
       "      <th>2</th>\n",
       "      <td>Chennai</td>\n",
       "      <td>2011</td>\n",
       "      <td>46000</td>\n",
       "      <td>Petrol</td>\n",
       "      <td>Manual</td>\n",
       "      <td>First</td>\n",
       "      <td>18.20</td>\n",
       "      <td>1199.0</td>\n",
       "      <td>88.70</td>\n",
       "      <td>5.0</td>\n",
       "      <td>4.50</td>\n",
       "    </tr>\n",
       "    <tr>\n",
       "      <th>3</th>\n",
       "      <td>Chennai</td>\n",
       "      <td>2012</td>\n",
       "      <td>87000</td>\n",
       "      <td>Diesel</td>\n",
       "      <td>Manual</td>\n",
       "      <td>First</td>\n",
       "      <td>20.77</td>\n",
       "      <td>1248.0</td>\n",
       "      <td>88.76</td>\n",
       "      <td>7.0</td>\n",
       "      <td>6.00</td>\n",
       "    </tr>\n",
       "    <tr>\n",
       "      <th>4</th>\n",
       "      <td>Coimbatore</td>\n",
       "      <td>2013</td>\n",
       "      <td>40670</td>\n",
       "      <td>Diesel</td>\n",
       "      <td>Automatic</td>\n",
       "      <td>Second</td>\n",
       "      <td>15.20</td>\n",
       "      <td>1968.0</td>\n",
       "      <td>140.80</td>\n",
       "      <td>5.0</td>\n",
       "      <td>17.74</td>\n",
       "    </tr>\n",
       "    <tr>\n",
       "      <th>...</th>\n",
       "      <td>...</td>\n",
       "      <td>...</td>\n",
       "      <td>...</td>\n",
       "      <td>...</td>\n",
       "      <td>...</td>\n",
       "      <td>...</td>\n",
       "      <td>...</td>\n",
       "      <td>...</td>\n",
       "      <td>...</td>\n",
       "      <td>...</td>\n",
       "      <td>...</td>\n",
       "    </tr>\n",
       "    <tr>\n",
       "      <th>6014</th>\n",
       "      <td>Delhi</td>\n",
       "      <td>2014</td>\n",
       "      <td>27365</td>\n",
       "      <td>Diesel</td>\n",
       "      <td>Manual</td>\n",
       "      <td>First</td>\n",
       "      <td>28.40</td>\n",
       "      <td>1248.0</td>\n",
       "      <td>74.00</td>\n",
       "      <td>5.0</td>\n",
       "      <td>4.75</td>\n",
       "    </tr>\n",
       "    <tr>\n",
       "      <th>6015</th>\n",
       "      <td>Jaipur</td>\n",
       "      <td>2015</td>\n",
       "      <td>100000</td>\n",
       "      <td>Diesel</td>\n",
       "      <td>Manual</td>\n",
       "      <td>First</td>\n",
       "      <td>24.40</td>\n",
       "      <td>1120.0</td>\n",
       "      <td>71.00</td>\n",
       "      <td>5.0</td>\n",
       "      <td>4.00</td>\n",
       "    </tr>\n",
       "    <tr>\n",
       "      <th>6016</th>\n",
       "      <td>Jaipur</td>\n",
       "      <td>2012</td>\n",
       "      <td>55000</td>\n",
       "      <td>Diesel</td>\n",
       "      <td>Manual</td>\n",
       "      <td>Second</td>\n",
       "      <td>14.00</td>\n",
       "      <td>2498.0</td>\n",
       "      <td>112.00</td>\n",
       "      <td>8.0</td>\n",
       "      <td>2.90</td>\n",
       "    </tr>\n",
       "    <tr>\n",
       "      <th>6017</th>\n",
       "      <td>Kolkata</td>\n",
       "      <td>2013</td>\n",
       "      <td>46000</td>\n",
       "      <td>Petrol</td>\n",
       "      <td>Manual</td>\n",
       "      <td>First</td>\n",
       "      <td>18.90</td>\n",
       "      <td>998.0</td>\n",
       "      <td>67.10</td>\n",
       "      <td>5.0</td>\n",
       "      <td>2.65</td>\n",
       "    </tr>\n",
       "    <tr>\n",
       "      <th>6018</th>\n",
       "      <td>Hyderabad</td>\n",
       "      <td>2011</td>\n",
       "      <td>47000</td>\n",
       "      <td>Diesel</td>\n",
       "      <td>Manual</td>\n",
       "      <td>First</td>\n",
       "      <td>25.44</td>\n",
       "      <td>936.0</td>\n",
       "      <td>57.60</td>\n",
       "      <td>5.0</td>\n",
       "      <td>2.50</td>\n",
       "    </tr>\n",
       "  </tbody>\n",
       "</table>\n",
       "<p>6019 rows × 11 columns</p>\n",
       "</div>"
      ],
      "text/plain": [
       "        Location  Year  Kilometers_Driven Fuel_Type Transmission Owner_Type  \\\n",
       "0         Mumbai  2010              72000       CNG       Manual      First   \n",
       "1           Pune  2015              41000    Diesel       Manual      First   \n",
       "2        Chennai  2011              46000    Petrol       Manual      First   \n",
       "3        Chennai  2012              87000    Diesel       Manual      First   \n",
       "4     Coimbatore  2013              40670    Diesel    Automatic     Second   \n",
       "...          ...   ...                ...       ...          ...        ...   \n",
       "6014       Delhi  2014              27365    Diesel       Manual      First   \n",
       "6015      Jaipur  2015             100000    Diesel       Manual      First   \n",
       "6016      Jaipur  2012              55000    Diesel       Manual     Second   \n",
       "6017     Kolkata  2013              46000    Petrol       Manual      First   \n",
       "6018   Hyderabad  2011              47000    Diesel       Manual      First   \n",
       "\n",
       "      Mileage  Engine   Power  Seats  Price  \n",
       "0       26.60   998.0   58.16    5.0   1.75  \n",
       "1       19.67  1582.0  126.20    5.0  12.50  \n",
       "2       18.20  1199.0   88.70    5.0   4.50  \n",
       "3       20.77  1248.0   88.76    7.0   6.00  \n",
       "4       15.20  1968.0  140.80    5.0  17.74  \n",
       "...       ...     ...     ...    ...    ...  \n",
       "6014    28.40  1248.0   74.00    5.0   4.75  \n",
       "6015    24.40  1120.0   71.00    5.0   4.00  \n",
       "6016    14.00  2498.0  112.00    8.0   2.90  \n",
       "6017    18.90   998.0   67.10    5.0   2.65  \n",
       "6018    25.44   936.0   57.60    5.0   2.50  \n",
       "\n",
       "[6019 rows x 11 columns]"
      ]
     },
     "execution_count": 162,
     "metadata": {},
     "output_type": "execute_result"
    }
   ],
   "source": [
    "df = data.drop(['New_Price'],axis='columns',inplace=False)\n",
    "df"
   ]
  },
  {
   "cell_type": "markdown",
   "metadata": {},
   "source": [
    "**Null값을 평균값으로 변환**"
   ]
  },
  {
   "cell_type": "code",
   "execution_count": 163,
   "metadata": {},
   "outputs": [],
   "source": [
    "null_features = ['Mileage', 'Engine', 'Power', 'Seats']"
   ]
  },
  {
   "cell_type": "code",
   "execution_count": 164,
   "metadata": {},
   "outputs": [
    {
     "data": {
      "image/png": "[encoded data removed]",
      "text/plain": [
       "<Figure size 720x504 with 4 Axes>"
      ]
     },
     "metadata": {
      "needs_background": "light"
     },
     "output_type": "display_data"
    }
   ],
   "source": [
    "plt.figure(figsize = (10, 7))\n",
    "\n",
    "for i,feature in enumerate(null_features):\n",
    "    plt.subplot(2,2,i+1)\n",
    "    plt.title(feature)\n",
    "    plt.hist(df[feature], bins=30)"
   ]
  },
  {
   "cell_type": "code",
   "execution_count": 165,
   "metadata": {},
   "outputs": [
    {
     "data": {
      "text/plain": [
       "Mileage      18.134961\n",
       "Engine     1621.276450\n",
       "Power       113.253050\n",
       "Seats         5.278735\n",
       "dtype: float64"
      ]
     },
     "execution_count": 165,
     "metadata": {},
     "output_type": "execute_result"
    }
   ],
   "source": [
    "null_features_mean = df[null_features].mean()\n",
    "null_features_mean"
   ]
  },
  {
   "cell_type": "code",
   "execution_count": 166,
   "metadata": {},
   "outputs": [],
   "source": [
    "df = df.fillna(df.mean())"
   ]
  },
  {
   "cell_type": "code",
   "execution_count": 167,
   "metadata": {},
   "outputs": [
    {
     "name": "stdout",
     "output_type": "stream",
     "text": [
      "결측치 없음\n"
     ]
    }
   ],
   "source": [
    "null_check(df)"
   ]
  },
  {
   "cell_type": "markdown",
   "metadata": {},
   "source": [
    "결측치를 평균값으로 대치하였다."
   ]
  },
  {
   "cell_type": "markdown",
   "metadata": {},
   "source": [
    "* 이상치 처리"
   ]
  },
  {
   "cell_type": "code",
   "execution_count": 168,
   "metadata": {},
   "outputs": [
    {
     "data": {
      "text/html": [
       "<div>\n",
       "<style scoped>\n",
       "    .dataframe tbody tr th:only-of-type {\n",
       "        vertical-align: middle;\n",
       "    }\n",
       "\n",
       "    .dataframe tbody tr th {\n",
       "        vertical-align: top;\n",
       "    }\n",
       "\n",
       "    .dataframe thead th {\n",
       "        text-align: right;\n",
       "    }\n",
       "</style>\n",
       "<table border=\"1\" class=\"dataframe\">\n",
       "  <thead>\n",
       "    <tr style=\"text-align: right;\">\n",
       "      <th></th>\n",
       "      <th>Year</th>\n",
       "      <th>Kilometers_Driven</th>\n",
       "      <th>Mileage</th>\n",
       "      <th>Engine</th>\n",
       "      <th>Power</th>\n",
       "      <th>Seats</th>\n",
       "      <th>Price</th>\n",
       "    </tr>\n",
       "  </thead>\n",
       "  <tbody>\n",
       "    <tr>\n",
       "      <th>count</th>\n",
       "      <td>6019.000000</td>\n",
       "      <td>6.019000e+03</td>\n",
       "      <td>6019.000000</td>\n",
       "      <td>6019.000000</td>\n",
       "      <td>6019.000000</td>\n",
       "      <td>6019.000000</td>\n",
       "      <td>6019.000000</td>\n",
       "    </tr>\n",
       "    <tr>\n",
       "      <th>mean</th>\n",
       "      <td>2013.358199</td>\n",
       "      <td>5.873838e+04</td>\n",
       "      <td>18.134961</td>\n",
       "      <td>1621.276450</td>\n",
       "      <td>113.253050</td>\n",
       "      <td>5.278735</td>\n",
       "      <td>9.479468</td>\n",
       "    </tr>\n",
       "    <tr>\n",
       "      <th>std</th>\n",
       "      <td>3.269742</td>\n",
       "      <td>9.126884e+04</td>\n",
       "      <td>4.581528</td>\n",
       "      <td>599.553865</td>\n",
       "      <td>53.231019</td>\n",
       "      <td>0.806012</td>\n",
       "      <td>11.187917</td>\n",
       "    </tr>\n",
       "    <tr>\n",
       "      <th>min</th>\n",
       "      <td>1998.000000</td>\n",
       "      <td>1.710000e+02</td>\n",
       "      <td>0.000000</td>\n",
       "      <td>72.000000</td>\n",
       "      <td>34.200000</td>\n",
       "      <td>0.000000</td>\n",
       "      <td>0.440000</td>\n",
       "    </tr>\n",
       "    <tr>\n",
       "      <th>25%</th>\n",
       "      <td>2011.000000</td>\n",
       "      <td>3.400000e+04</td>\n",
       "      <td>15.170000</td>\n",
       "      <td>1198.000000</td>\n",
       "      <td>78.000000</td>\n",
       "      <td>5.000000</td>\n",
       "      <td>3.500000</td>\n",
       "    </tr>\n",
       "    <tr>\n",
       "      <th>50%</th>\n",
       "      <td>2014.000000</td>\n",
       "      <td>5.300000e+04</td>\n",
       "      <td>18.150000</td>\n",
       "      <td>1493.000000</td>\n",
       "      <td>98.600000</td>\n",
       "      <td>5.000000</td>\n",
       "      <td>5.640000</td>\n",
       "    </tr>\n",
       "    <tr>\n",
       "      <th>75%</th>\n",
       "      <td>2016.000000</td>\n",
       "      <td>7.300000e+04</td>\n",
       "      <td>21.100000</td>\n",
       "      <td>1969.000000</td>\n",
       "      <td>138.030000</td>\n",
       "      <td>5.000000</td>\n",
       "      <td>9.950000</td>\n",
       "    </tr>\n",
       "    <tr>\n",
       "      <th>max</th>\n",
       "      <td>2019.000000</td>\n",
       "      <td>6.500000e+06</td>\n",
       "      <td>33.540000</td>\n",
       "      <td>5998.000000</td>\n",
       "      <td>560.000000</td>\n",
       "      <td>10.000000</td>\n",
       "      <td>160.000000</td>\n",
       "    </tr>\n",
       "  </tbody>\n",
       "</table>\n",
       "</div>"
      ],
      "text/plain": [
       "              Year  Kilometers_Driven      Mileage       Engine        Power  \\\n",
       "count  6019.000000       6.019000e+03  6019.000000  6019.000000  6019.000000   \n",
       "mean   2013.358199       5.873838e+04    18.134961  1621.276450   113.253050   \n",
       "std       3.269742       9.126884e+04     4.581528   599.553865    53.231019   \n",
       "min    1998.000000       1.710000e+02     0.000000    72.000000    34.200000   \n",
       "25%    2011.000000       3.400000e+04    15.170000  1198.000000    78.000000   \n",
       "50%    2014.000000       5.300000e+04    18.150000  1493.000000    98.600000   \n",
       "75%    2016.000000       7.300000e+04    21.100000  1969.000000   138.030000   \n",
       "max    2019.000000       6.500000e+06    33.540000  5998.000000   560.000000   \n",
       "\n",
       "             Seats        Price  \n",
       "count  6019.000000  6019.000000  \n",
       "mean      5.278735     9.479468  \n",
       "std       0.806012    11.187917  \n",
       "min       0.000000     0.440000  \n",
       "25%       5.000000     3.500000  \n",
       "50%       5.000000     5.640000  \n",
       "75%       5.000000     9.950000  \n",
       "max      10.000000   160.000000  "
      ]
     },
     "execution_count": 168,
     "metadata": {},
     "output_type": "execute_result"
    }
   ],
   "source": [
    "df.describe()"
   ]
  },
  {
   "cell_type": "code",
   "execution_count": 169,
   "metadata": {},
   "outputs": [
    {
     "name": "stdout",
     "output_type": "stream",
     "text": [
      "Mileage의 0 비율: 1.13 %\n",
      "Seats의 0 비율: 0.02 %\n"
     ]
    }
   ],
   "source": [
    "zero_features = ['Mileage', 'Seats']\n",
    "\n",
    "data_count = df['Mileage'].count() \n",
    "\n",
    "for feature in zero_features:\n",
    "    zero_count = data[data[feature] == 0][feature].count()\n",
    "    print('%s의 0 비율: %.2f %%' %(feature, zero_count/data_count*100))"
   ]
  },
  {
   "cell_type": "code",
   "execution_count": 170,
   "metadata": {},
   "outputs": [],
   "source": [
    "df[zero_features] = df[zero_features].replace(0, df[zero_features].mean())"
   ]
  },
  {
   "cell_type": "markdown",
   "metadata": {},
   "source": [
    "Mileage(연비)와 Seats(인승)의 최소값이 0일 수 없기 때문에 0은 평균값으로 처리하였다."
   ]
  },
  {
   "cell_type": "markdown",
   "metadata": {},
   "source": [
    "* **범주형 변수 factor화**"
   ]
  },
  {
   "cell_type": "code",
   "execution_count": 173,
   "metadata": {},
   "outputs": [],
   "source": [
    "categorical = [\"Location\", \"Fuel_Type\", \"Transmission\", \"Owner_Type\"]\n",
    "# numerical = [\"Year\", \"Kilometers_Driven\", \"Mileage\", \"Engine\", \"Power\", \"Seats\", \"Price\"]"
   ]
  },
  {
   "cell_type": "code",
   "execution_count": 174,
   "metadata": {},
   "outputs": [
    {
     "data": {
      "text/html": [
       "<div>\n",
       "<style scoped>\n",
       "    .dataframe tbody tr th:only-of-type {\n",
       "        vertical-align: middle;\n",
       "    }\n",
       "\n",
       "    .dataframe tbody tr th {\n",
       "        vertical-align: top;\n",
       "    }\n",
       "\n",
       "    .dataframe thead th {\n",
       "        text-align: right;\n",
       "    }\n",
       "</style>\n",
       "<table border=\"1\" class=\"dataframe\">\n",
       "  <thead>\n",
       "    <tr style=\"text-align: right;\">\n",
       "      <th></th>\n",
       "      <th>Location</th>\n",
       "      <th>Year</th>\n",
       "      <th>Kilometers_Driven</th>\n",
       "      <th>Fuel_Type</th>\n",
       "      <th>Transmission</th>\n",
       "      <th>Owner_Type</th>\n",
       "      <th>Mileage</th>\n",
       "      <th>Engine</th>\n",
       "      <th>Power</th>\n",
       "      <th>Seats</th>\n",
       "      <th>Price</th>\n",
       "    </tr>\n",
       "  </thead>\n",
       "  <tbody>\n",
       "    <tr>\n",
       "      <th>0</th>\n",
       "      <td>9</td>\n",
       "      <td>2010</td>\n",
       "      <td>72000</td>\n",
       "      <td>0</td>\n",
       "      <td>1</td>\n",
       "      <td>0</td>\n",
       "      <td>26.60</td>\n",
       "      <td>998.0</td>\n",
       "      <td>58.16</td>\n",
       "      <td>5.0</td>\n",
       "      <td>1.75</td>\n",
       "    </tr>\n",
       "    <tr>\n",
       "      <th>1</th>\n",
       "      <td>10</td>\n",
       "      <td>2015</td>\n",
       "      <td>41000</td>\n",
       "      <td>1</td>\n",
       "      <td>1</td>\n",
       "      <td>0</td>\n",
       "      <td>19.67</td>\n",
       "      <td>1582.0</td>\n",
       "      <td>126.20</td>\n",
       "      <td>5.0</td>\n",
       "      <td>12.50</td>\n",
       "    </tr>\n",
       "    <tr>\n",
       "      <th>2</th>\n",
       "      <td>2</td>\n",
       "      <td>2011</td>\n",
       "      <td>46000</td>\n",
       "      <td>4</td>\n",
       "      <td>1</td>\n",
       "      <td>0</td>\n",
       "      <td>18.20</td>\n",
       "      <td>1199.0</td>\n",
       "      <td>88.70</td>\n",
       "      <td>5.0</td>\n",
       "      <td>4.50</td>\n",
       "    </tr>\n",
       "    <tr>\n",
       "      <th>3</th>\n",
       "      <td>2</td>\n",
       "      <td>2012</td>\n",
       "      <td>87000</td>\n",
       "      <td>1</td>\n",
       "      <td>1</td>\n",
       "      <td>0</td>\n",
       "      <td>20.77</td>\n",
       "      <td>1248.0</td>\n",
       "      <td>88.76</td>\n",
       "      <td>7.0</td>\n",
       "      <td>6.00</td>\n",
       "    </tr>\n",
       "    <tr>\n",
       "      <th>4</th>\n",
       "      <td>3</td>\n",
       "      <td>2013</td>\n",
       "      <td>40670</td>\n",
       "      <td>1</td>\n",
       "      <td>0</td>\n",
       "      <td>2</td>\n",
       "      <td>15.20</td>\n",
       "      <td>1968.0</td>\n",
       "      <td>140.80</td>\n",
       "      <td>5.0</td>\n",
       "      <td>17.74</td>\n",
       "    </tr>\n",
       "  </tbody>\n",
       "</table>\n",
       "</div>"
      ],
      "text/plain": [
       "   Location  Year  Kilometers_Driven  Fuel_Type  Transmission  Owner_Type  \\\n",
       "0         9  2010              72000          0             1           0   \n",
       "1        10  2015              41000          1             1           0   \n",
       "2         2  2011              46000          4             1           0   \n",
       "3         2  2012              87000          1             1           0   \n",
       "4         3  2013              40670          1             0           2   \n",
       "\n",
       "   Mileage  Engine   Power  Seats  Price  \n",
       "0    26.60   998.0   58.16    5.0   1.75  \n",
       "1    19.67  1582.0  126.20    5.0  12.50  \n",
       "2    18.20  1199.0   88.70    5.0   4.50  \n",
       "3    20.77  1248.0   88.76    7.0   6.00  \n",
       "4    15.20  1968.0  140.80    5.0  17.74  "
      ]
     },
     "execution_count": 174,
     "metadata": {},
     "output_type": "execute_result"
    }
   ],
   "source": [
    "from sklearn.preprocessing import LabelEncoder\n",
    "\n",
    "encoder = LabelEncoder()\n",
    "for col in categorical:\n",
    "    df[col] = encoder.fit_transform(data[col].values)\n",
    "\n",
    "df.head()"
   ]
  },
  {
   "cell_type": "markdown",
   "metadata": {},
   "source": [
    "* **Z-score 정규화(Standard Scale)와 One-Hot Encoding 적용**"
   ]
  },
  {
   "cell_type": "code",
   "execution_count": 175,
   "metadata": {},
   "outputs": [],
   "source": [
    "from sklearn.base import BaseEstimator, TransformerMixin\n",
    "from sklearn.pipeline import Pipeline\n",
    "from sklearn.preprocessing import MinMaxScaler,StandardScaler,OneHotEncoder\n",
    "from sklearn.impute import SimpleImputer\n",
    "from sklearn.pipeline import FeatureUnion\n",
    "\n",
    "class DataFrameSelector(BaseEstimator, TransformerMixin):\n",
    "    def __init__(self, attribute_names):\n",
    "        self.attribute_names = attribute_names\n",
    "    def fit(self, X, y=None):\n",
    "        return self\n",
    "    def transform(self, X):\n",
    "        return X[self.attribute_names].values"
   ]
  },
  {
   "cell_type": "code",
   "execution_count": null,
   "metadata": {},
   "outputs": [],
   "source": [
    "from sklearn.preprocessing import StandardScaler\n",
    "\n",
    "scaler = StandardScaler()\n",
    "dat_num_scaled = pd.DataFrame(scaler.fit_transform(dat[numerical]),columns=num_att_x)\n",
    "dat_num_scaled\n",
    "\n",
    "dat_extra = dat.drop(num_att_x, axis=1)\n",
    "dat = pd.concat([dat_num_scaled,dat_extra],axis=1)"
   ]
  },
  {
   "cell_type": "code",
   "execution_count": 264,
   "metadata": {},
   "outputs": [],
   "source": [
    "def pipeline(df, nums, cats):\n",
    "    \n",
    "    num_pipeline=Pipeline([\n",
    "        (\"select_numeric\",DataFrameSelector(nums)),\n",
    "        (\"scaler\", StandardScaler())])\n",
    "\n",
    "    cat_pipeline = Pipeline([\n",
    "        (\"select_cat\",DataFrameSelector(cats))])\n",
    "        #(\"encoder\", OneHotEncoder())])\n",
    "    \n",
    "    preprocess_pipeline = FeatureUnion(transformer_list=[\n",
    "    (\"num_pipeline\", num_pipeline),\n",
    "    (\"cat_pipeline\", cat_pipeline)])\n",
    "    \n",
    "    X=pd.DataFrame(preprocess_pipeline.fit_transform(df), columns=nums+cats)\n",
    "    \n",
    "    return X"
   ]
  },
  {
   "cell_type": "code",
   "execution_count": 177,
   "metadata": {},
   "outputs": [],
   "source": [
    "categorical = [\"Location\", \"Fuel_Type\", \"Transmission\", \"Owner_Type\"]\n",
    "numerical = [\"Year\", \"Kilometers_Driven\", \"Mileage\", \"Engine\", \"Power\", \"Seats\"]"
   ]
  },
  {
   "cell_type": "code",
   "execution_count": 265,
   "metadata": {},
   "outputs": [],
   "source": [
    "X_data = pipeline(df,numerical,categorical)"
   ]
  },
  {
   "cell_type": "code",
   "execution_count": 267,
   "metadata": {},
   "outputs": [
    {
     "data": {
      "text/html": [
       "<div>\n",
       "<style scoped>\n",
       "    .dataframe tbody tr th:only-of-type {\n",
       "        vertical-align: middle;\n",
       "    }\n",
       "\n",
       "    .dataframe tbody tr th {\n",
       "        vertical-align: top;\n",
       "    }\n",
       "\n",
       "    .dataframe thead th {\n",
       "        text-align: right;\n",
       "    }\n",
       "</style>\n",
       "<table border=\"1\" class=\"dataframe\">\n",
       "  <thead>\n",
       "    <tr style=\"text-align: right;\">\n",
       "      <th></th>\n",
       "      <th>Year</th>\n",
       "      <th>Kilometers_Driven</th>\n",
       "      <th>Mileage</th>\n",
       "      <th>Engine</th>\n",
       "      <th>Power</th>\n",
       "      <th>Seats</th>\n",
       "      <th>Location</th>\n",
       "      <th>Fuel_Type</th>\n",
       "      <th>Transmission</th>\n",
       "      <th>Owner_Type</th>\n",
       "    </tr>\n",
       "  </thead>\n",
       "  <tbody>\n",
       "    <tr>\n",
       "      <th>0</th>\n",
       "      <td>-1.027139</td>\n",
       "      <td>0.145315</td>\n",
       "      <td>1.989999</td>\n",
       "      <td>-1.039653</td>\n",
       "      <td>-1.035066</td>\n",
       "      <td>-0.348180</td>\n",
       "      <td>9.0</td>\n",
       "      <td>0.0</td>\n",
       "      <td>1.0</td>\n",
       "      <td>0.0</td>\n",
       "    </tr>\n",
       "    <tr>\n",
       "      <th>1</th>\n",
       "      <td>0.502161</td>\n",
       "      <td>-0.194369</td>\n",
       "      <td>0.320456</td>\n",
       "      <td>-0.065515</td>\n",
       "      <td>0.243242</td>\n",
       "      <td>-0.348180</td>\n",
       "      <td>10.0</td>\n",
       "      <td>1.0</td>\n",
       "      <td>1.0</td>\n",
       "      <td>0.0</td>\n",
       "    </tr>\n",
       "    <tr>\n",
       "      <th>2</th>\n",
       "      <td>-0.721279</td>\n",
       "      <td>-0.139581</td>\n",
       "      <td>-0.033690</td>\n",
       "      <td>-0.704376</td>\n",
       "      <td>-0.461293</td>\n",
       "      <td>-0.348180</td>\n",
       "      <td>2.0</td>\n",
       "      <td>4.0</td>\n",
       "      <td>1.0</td>\n",
       "      <td>0.0</td>\n",
       "    </tr>\n",
       "    <tr>\n",
       "      <th>3</th>\n",
       "      <td>-0.415419</td>\n",
       "      <td>0.309678</td>\n",
       "      <td>0.585463</td>\n",
       "      <td>-0.622642</td>\n",
       "      <td>-0.460166</td>\n",
       "      <td>2.142271</td>\n",
       "      <td>2.0</td>\n",
       "      <td>1.0</td>\n",
       "      <td>1.0</td>\n",
       "      <td>0.0</td>\n",
       "    </tr>\n",
       "    <tr>\n",
       "      <th>4</th>\n",
       "      <td>-0.109559</td>\n",
       "      <td>-0.197985</td>\n",
       "      <td>-0.756436</td>\n",
       "      <td>0.578351</td>\n",
       "      <td>0.517541</td>\n",
       "      <td>-0.348180</td>\n",
       "      <td>3.0</td>\n",
       "      <td>1.0</td>\n",
       "      <td>0.0</td>\n",
       "      <td>2.0</td>\n",
       "    </tr>\n",
       "    <tr>\n",
       "      <th>...</th>\n",
       "      <td>...</td>\n",
       "      <td>...</td>\n",
       "      <td>...</td>\n",
       "      <td>...</td>\n",
       "      <td>...</td>\n",
       "      <td>...</td>\n",
       "      <td>...</td>\n",
       "      <td>...</td>\n",
       "      <td>...</td>\n",
       "      <td>...</td>\n",
       "    </tr>\n",
       "    <tr>\n",
       "      <th>6014</th>\n",
       "      <td>0.196301</td>\n",
       "      <td>-0.343775</td>\n",
       "      <td>2.423647</td>\n",
       "      <td>-0.622642</td>\n",
       "      <td>-0.737471</td>\n",
       "      <td>-0.348180</td>\n",
       "      <td>4.0</td>\n",
       "      <td>1.0</td>\n",
       "      <td>1.0</td>\n",
       "      <td>0.0</td>\n",
       "    </tr>\n",
       "    <tr>\n",
       "      <th>6015</th>\n",
       "      <td>0.502161</td>\n",
       "      <td>0.452126</td>\n",
       "      <td>1.459986</td>\n",
       "      <td>-0.836152</td>\n",
       "      <td>-0.793833</td>\n",
       "      <td>-0.348180</td>\n",
       "      <td>6.0</td>\n",
       "      <td>1.0</td>\n",
       "      <td>1.0</td>\n",
       "      <td>0.0</td>\n",
       "    </tr>\n",
       "    <tr>\n",
       "      <th>6016</th>\n",
       "      <td>-0.415419</td>\n",
       "      <td>-0.040963</td>\n",
       "      <td>-1.045535</td>\n",
       "      <td>1.462415</td>\n",
       "      <td>-0.023542</td>\n",
       "      <td>3.387496</td>\n",
       "      <td>6.0</td>\n",
       "      <td>1.0</td>\n",
       "      <td>1.0</td>\n",
       "      <td>2.0</td>\n",
       "    </tr>\n",
       "    <tr>\n",
       "      <th>6017</th>\n",
       "      <td>-0.109559</td>\n",
       "      <td>-0.139581</td>\n",
       "      <td>0.134951</td>\n",
       "      <td>-1.039653</td>\n",
       "      <td>-0.867105</td>\n",
       "      <td>-0.348180</td>\n",
       "      <td>8.0</td>\n",
       "      <td>4.0</td>\n",
       "      <td>1.0</td>\n",
       "      <td>0.0</td>\n",
       "    </tr>\n",
       "    <tr>\n",
       "      <th>6018</th>\n",
       "      <td>-0.721279</td>\n",
       "      <td>-0.128624</td>\n",
       "      <td>1.710538</td>\n",
       "      <td>-1.143072</td>\n",
       "      <td>-1.045587</td>\n",
       "      <td>-0.348180</td>\n",
       "      <td>5.0</td>\n",
       "      <td>1.0</td>\n",
       "      <td>1.0</td>\n",
       "      <td>0.0</td>\n",
       "    </tr>\n",
       "  </tbody>\n",
       "</table>\n",
       "<p>6019 rows × 10 columns</p>\n",
       "</div>"
      ],
      "text/plain": [
       "          Year  Kilometers_Driven   Mileage    Engine     Power     Seats  \\\n",
       "0    -1.027139           0.145315  1.989999 -1.039653 -1.035066 -0.348180   \n",
       "1     0.502161          -0.194369  0.320456 -0.065515  0.243242 -0.348180   \n",
       "2    -0.721279          -0.139581 -0.033690 -0.704376 -0.461293 -0.348180   \n",
       "3    -0.415419           0.309678  0.585463 -0.622642 -0.460166  2.142271   \n",
       "4    -0.109559          -0.197985 -0.756436  0.578351  0.517541 -0.348180   \n",
       "...        ...                ...       ...       ...       ...       ...   \n",
       "6014  0.196301          -0.343775  2.423647 -0.622642 -0.737471 -0.348180   \n",
       "6015  0.502161           0.452126  1.459986 -0.836152 -0.793833 -0.348180   \n",
       "6016 -0.415419          -0.040963 -1.045535  1.462415 -0.023542  3.387496   \n",
       "6017 -0.109559          -0.139581  0.134951 -1.039653 -0.867105 -0.348180   \n",
       "6018 -0.721279          -0.128624  1.710538 -1.143072 -1.045587 -0.348180   \n",
       "\n",
       "      Location  Fuel_Type  Transmission  Owner_Type  \n",
       "0          9.0        0.0           1.0         0.0  \n",
       "1         10.0        1.0           1.0         0.0  \n",
       "2          2.0        4.0           1.0         0.0  \n",
       "3          2.0        1.0           1.0         0.0  \n",
       "4          3.0        1.0           0.0         2.0  \n",
       "...        ...        ...           ...         ...  \n",
       "6014       4.0        1.0           1.0         0.0  \n",
       "6015       6.0        1.0           1.0         0.0  \n",
       "6016       6.0        1.0           1.0         2.0  \n",
       "6017       8.0        4.0           1.0         0.0  \n",
       "6018       5.0        1.0           1.0         0.0  \n",
       "\n",
       "[6019 rows x 10 columns]"
      ]
     },
     "execution_count": 267,
     "metadata": {},
     "output_type": "execute_result"
    }
   ],
   "source": [
    "X_data"
   ]
  },
  {
   "cell_type": "code",
   "execution_count": 269,
   "metadata": {},
   "outputs": [],
   "source": [
    "y_data = df['Price']"
   ]
  },
  {
   "cell_type": "markdown",
   "metadata": {},
   "source": [
    "* **데이터 분할**"
   ]
  },
  {
   "cell_type": "code",
   "execution_count": 316,
   "metadata": {},
   "outputs": [],
   "source": [
    "from sklearn.model_selection import train_test_split\n",
    "\n",
    "X_train,X_test,y_train,y_test=train_test_split(X_data, y_data, test_size=0.2,random_state=0)\n",
    "\n",
    "# X_train = np.asarray(X_train)\n",
    "# y_train = np.asarray(y_train)\n",
    "# X_test = np.asarray(X_test)\n",
    "# y_test = np.asarray(y_test)"
   ]
  },
  {
   "cell_type": "code",
   "execution_count": 317,
   "metadata": {},
   "outputs": [
    {
     "name": "stdout",
     "output_type": "stream",
     "text": [
      "Train data shape: (4815, 10)\n",
      "Test data shape: (1204, 10)\n"
     ]
    }
   ],
   "source": [
    "print('Train data shape: {0}'.format(X_train.shape))\n",
    "print('Test data shape: {0}'.format(X_test.shape))"
   ]
  },
  {
   "cell_type": "markdown",
   "metadata": {},
   "source": [
    "## **회귀분석의 오차 가정 확인**"
   ]
  },
  {
   "cell_type": "code",
   "execution_count": 272,
   "metadata": {},
   "outputs": [],
   "source": [
    "import scipy as sp\n",
    "import scipy.stats as stats\n",
    "\n",
    "import statsmodels.api as sm\n",
    "from statsmodels.formula.api import ols\n",
    "\n",
    "from sklearn.metrics import mean_squared_error,r2_score,mean_absolute_error"
   ]
  },
  {
   "cell_type": "code",
   "execution_count": 273,
   "metadata": {},
   "outputs": [],
   "source": [
    "X_train=sm.add_constant(X_train) #beta_0 값이 될 변수 만들기\n",
    "model=sm.OLS(y_train,X_train,axis=1)\n",
    "trained_model=model.fit()"
   ]
  },
  {
   "cell_type": "markdown",
   "metadata": {},
   "source": [
    "### 1. 선형성"
   ]
  },
  {
   "cell_type": "code",
   "execution_count": 274,
   "metadata": {},
   "outputs": [
    {
     "data": {
      "text/plain": [
       "Text(0, 0.5, 'residuals')"
      ]
     },
     "execution_count": 274,
     "metadata": {},
     "output_type": "execute_result"
    },
    {
     "data": {
      "image/png": "[encoded data removed]",
      "text/plain": [
       "<Figure size 432x288 with 1 Axes>"
      ]
     },
     "metadata": {
      "needs_background": "light"
     },
     "output_type": "display_data"
    }
   ],
   "source": [
    "fitted = trained_model.fittedvalues\n",
    "\n",
    "sns.regplot(fitted, residuals, lowess=True, line_kws={'color': 'red'})\n",
    "plt.plot([fitted.min(), fitted.max()], [0,0], '--')\n",
    "plt.xlabel(\"fitted values\")\n",
    "plt.ylabel(\"residuals\")"
   ]
  },
  {
   "cell_type": "markdown",
   "metadata": {},
   "source": [
    "**잔차의 추세(빨간 실선)가 점선에서 크게 벗어나지 않기 때문에 선형성이 있다.**"
   ]
  },
  {
   "cell_type": "markdown",
   "metadata": {},
   "source": [
    "### 2. 정규성"
   ]
  },
  {
   "cell_type": "code",
   "execution_count": 275,
   "metadata": {},
   "outputs": [
    {
     "data": {
      "text/plain": [
       "[<matplotlib.lines.Line2D at 0x1215ad290>]"
      ]
     },
     "execution_count": 275,
     "metadata": {},
     "output_type": "execute_result"
    },
    {
     "data": {
      "image/png": "[encoded data removed]",
      "text/plain": [
       "<Figure size 432x288 with 1 Axes>"
      ]
     },
     "metadata": {
      "needs_background": "light"
     },
     "output_type": "display_data"
    }
   ],
   "source": [
    "residuals=trained_model.resid\n",
    "sr = scipy.stats.zscore(residuals)\n",
    "(x, y), _ = stats.probplot(sr)\n",
    "sns.scatterplot(x, y)\n",
    "plt.plot([-3, 3], [-3, 3], '--', color='red')"
   ]
  },
  {
   "cell_type": "code",
   "execution_count": 276,
   "metadata": {},
   "outputs": [
    {
     "data": {
      "text/plain": [
       "0.0"
      ]
     },
     "execution_count": 276,
     "metadata": {},
     "output_type": "execute_result"
    }
   ],
   "source": [
    "scipy.stats.shapiro(residuals)[1]"
   ]
  },
  {
   "cell_type": "markdown",
   "metadata": {},
   "source": [
    "**파란색 점들이 빨간색 점선에 크게 벗어나지 않고 형성되고 샤피로 검정의 유의수준이 0.05보다 작기 때문에 오차의 정규성은 성립한다.**"
   ]
  },
  {
   "cell_type": "markdown",
   "metadata": {},
   "source": [
    "### 3. 등분산성"
   ]
  },
  {
   "cell_type": "code",
   "execution_count": 277,
   "metadata": {},
   "outputs": [
    {
     "data": {
      "text/plain": [
       "(-1.0, 4.0)"
      ]
     },
     "execution_count": 277,
     "metadata": {},
     "output_type": "execute_result"
    },
    {
     "data": {
      "image/png": "[encoded data removed]",
      "text/plain": [
       "<Figure size 432x288 with 1 Axes>"
      ]
     },
     "metadata": {
      "needs_background": "light"
     },
     "output_type": "display_data"
    }
   ],
   "source": [
    "sns.regplot(fitted, np.sqrt(np.abs(sr)), lowess=True, line_kws={'color':'red'})\n",
    "plt.xlim(-2,30)\n",
    "plt.ylim(-1,4)"
   ]
  },
  {
   "cell_type": "markdown",
   "metadata": {},
   "source": [
    "**빨간색 실선이 완벽하진 않지만 수평선에 가까우므로 등분산성이 있다.**"
   ]
  },
  {
   "cell_type": "markdown",
   "metadata": {},
   "source": [
    "### 4. 독립성"
   ]
  },
  {
   "cell_type": "code",
   "execution_count": 278,
   "metadata": {},
   "outputs": [
    {
     "data": {
      "text/html": [
       "<table class=\"simpletable\">\n",
       "<caption>OLS Regression Results</caption>\n",
       "<tr>\n",
       "  <th>Dep. Variable:</th>          <td>Price</td>      <th>  R-squared:         </th> <td>   0.694</td> \n",
       "</tr>\n",
       "<tr>\n",
       "  <th>Model:</th>                   <td>OLS</td>       <th>  Adj. R-squared:    </th> <td>   0.693</td> \n",
       "</tr>\n",
       "<tr>\n",
       "  <th>Method:</th>             <td>Least Squares</td>  <th>  F-statistic:       </th> <td>   1089.</td> \n",
       "</tr>\n",
       "<tr>\n",
       "  <th>Date:</th>             <td>Tue, 03 Aug 2021</td> <th>  Prob (F-statistic):</th>  <td>  0.00</td>  \n",
       "</tr>\n",
       "<tr>\n",
       "  <th>Time:</th>                 <td>14:43:46</td>     <th>  Log-Likelihood:    </th> <td> -15634.</td> \n",
       "</tr>\n",
       "<tr>\n",
       "  <th>No. Observations:</th>      <td>  4815</td>      <th>  AIC:               </th> <td>3.129e+04</td>\n",
       "</tr>\n",
       "<tr>\n",
       "  <th>Df Residuals:</th>          <td>  4804</td>      <th>  BIC:               </th> <td>3.136e+04</td>\n",
       "</tr>\n",
       "<tr>\n",
       "  <th>Df Model:</th>              <td>    10</td>      <th>                     </th>     <td> </td>    \n",
       "</tr>\n",
       "<tr>\n",
       "  <th>Covariance Type:</th>      <td>nonrobust</td>    <th>                     </th>     <td> </td>    \n",
       "</tr>\n",
       "</table>\n",
       "<table class=\"simpletable\">\n",
       "<tr>\n",
       "          <td></td>             <th>coef</th>     <th>std err</th>      <th>t</th>      <th>P>|t|</th>  <th>[0.025</th>    <th>0.975]</th>  \n",
       "</tr>\n",
       "<tr>\n",
       "  <th>const</th>             <td>   14.1900</td> <td>    0.329</td> <td>   43.114</td> <td> 0.000</td> <td>   13.545</td> <td>   14.835</td>\n",
       "</tr>\n",
       "<tr>\n",
       "  <th>Year</th>              <td>    3.3352</td> <td>    0.106</td> <td>   31.325</td> <td> 0.000</td> <td>    3.126</td> <td>    3.544</td>\n",
       "</tr>\n",
       "<tr>\n",
       "  <th>Kilometers_Driven</th> <td>    0.1198</td> <td>    0.083</td> <td>    1.437</td> <td> 0.151</td> <td>   -0.044</td> <td>    0.283</td>\n",
       "</tr>\n",
       "<tr>\n",
       "  <th>Mileage</th>           <td>   -0.5432</td> <td>    0.162</td> <td>   -3.349</td> <td> 0.001</td> <td>   -0.861</td> <td>   -0.225</td>\n",
       "</tr>\n",
       "<tr>\n",
       "  <th>Engine</th>            <td>    1.1995</td> <td>    0.257</td> <td>    4.659</td> <td> 0.000</td> <td>    0.695</td> <td>    1.704</td>\n",
       "</tr>\n",
       "<tr>\n",
       "  <th>Power</th>             <td>    6.3665</td> <td>    0.226</td> <td>   28.162</td> <td> 0.000</td> <td>    5.923</td> <td>    6.810</td>\n",
       "</tr>\n",
       "<tr>\n",
       "  <th>Seats</th>             <td>   -1.1019</td> <td>    0.123</td> <td>   -8.933</td> <td> 0.000</td> <td>   -1.344</td> <td>   -0.860</td>\n",
       "</tr>\n",
       "<tr>\n",
       "  <th>Location</th>          <td>   -0.2318</td> <td>    0.031</td> <td>   -7.586</td> <td> 0.000</td> <td>   -0.292</td> <td>   -0.172</td>\n",
       "</tr>\n",
       "<tr>\n",
       "  <th>Fuel_Type</th>         <td>   -0.6572</td> <td>    0.086</td> <td>   -7.678</td> <td> 0.000</td> <td>   -0.825</td> <td>   -0.489</td>\n",
       "</tr>\n",
       "<tr>\n",
       "  <th>Transmission</th>      <td>   -2.5672</td> <td>    0.272</td> <td>   -9.449</td> <td> 0.000</td> <td>   -3.100</td> <td>   -2.035</td>\n",
       "</tr>\n",
       "<tr>\n",
       "  <th>Owner_Type</th>        <td>   -0.0942</td> <td>    0.120</td> <td>   -0.787</td> <td> 0.431</td> <td>   -0.329</td> <td>    0.140</td>\n",
       "</tr>\n",
       "</table>\n",
       "<table class=\"simpletable\">\n",
       "<tr>\n",
       "  <th>Omnibus:</th>       <td>3788.860</td> <th>  Durbin-Watson:     </th>  <td>   1.977</td> \n",
       "</tr>\n",
       "<tr>\n",
       "  <th>Prob(Omnibus):</th>  <td> 0.000</td>  <th>  Jarque-Bera (JB):  </th> <td>365091.846</td>\n",
       "</tr>\n",
       "<tr>\n",
       "  <th>Skew:</th>           <td> 3.101</td>  <th>  Prob(JB):          </th>  <td>    0.00</td> \n",
       "</tr>\n",
       "<tr>\n",
       "  <th>Kurtosis:</th>       <td>45.205</td>  <th>  Cond. No.          </th>  <td>    29.5</td> \n",
       "</tr>\n",
       "</table><br/><br/>Notes:<br/>[1] Standard Errors assume that the covariance matrix of the errors is correctly specified."
      ],
      "text/plain": [
       "<class 'statsmodels.iolib.summary.Summary'>\n",
       "\"\"\"\n",
       "                            OLS Regression Results                            \n",
       "==============================================================================\n",
       "Dep. Variable:                  Price   R-squared:                       0.694\n",
       "Model:                            OLS   Adj. R-squared:                  0.693\n",
       "Method:                 Least Squares   F-statistic:                     1089.\n",
       "Date:                Tue, 03 Aug 2021   Prob (F-statistic):               0.00\n",
       "Time:                        14:43:46   Log-Likelihood:                -15634.\n",
       "No. Observations:                4815   AIC:                         3.129e+04\n",
       "Df Residuals:                    4804   BIC:                         3.136e+04\n",
       "Df Model:                          10                                         \n",
       "Covariance Type:            nonrobust                                         \n",
       "=====================================================================================\n",
       "                        coef    std err          t      P>|t|      [0.025      0.975]\n",
       "-------------------------------------------------------------------------------------\n",
       "const                14.1900      0.329     43.114      0.000      13.545      14.835\n",
       "Year                  3.3352      0.106     31.325      0.000       3.126       3.544\n",
       "Kilometers_Driven     0.1198      0.083      1.437      0.151      -0.044       0.283\n",
       "Mileage              -0.5432      0.162     -3.349      0.001      -0.861      -0.225\n",
       "Engine                1.1995      0.257      4.659      0.000       0.695       1.704\n",
       "Power                 6.3665      0.226     28.162      0.000       5.923       6.810\n",
       "Seats                -1.1019      0.123     -8.933      0.000      -1.344      -0.860\n",
       "Location             -0.2318      0.031     -7.586      0.000      -0.292      -0.172\n",
       "Fuel_Type            -0.6572      0.086     -7.678      0.000      -0.825      -0.489\n",
       "Transmission         -2.5672      0.272     -9.449      0.000      -3.100      -2.035\n",
       "Owner_Type           -0.0942      0.120     -0.787      0.431      -0.329       0.140\n",
       "==============================================================================\n",
       "Omnibus:                     3788.860   Durbin-Watson:                   1.977\n",
       "Prob(Omnibus):                  0.000   Jarque-Bera (JB):           365091.846\n",
       "Skew:                           3.101   Prob(JB):                         0.00\n",
       "Kurtosis:                      45.205   Cond. No.                         29.5\n",
       "==============================================================================\n",
       "\n",
       "Notes:\n",
       "[1] Standard Errors assume that the covariance matrix of the errors is correctly specified.\n",
       "\"\"\""
      ]
     },
     "execution_count": 278,
     "metadata": {},
     "output_type": "execute_result"
    }
   ],
   "source": [
    "trained_model.summary()"
   ]
  },
  {
   "cell_type": "markdown",
   "metadata": {},
   "source": [
    "**Durbin-Watson: 1.977로 2에 근접한 값이므로 독립성을 만족한다.**"
   ]
  },
  {
   "cell_type": "markdown",
   "metadata": {},
   "source": [
    "R-squared: 0.694"
   ]
  },
  {
   "cell_type": "markdown",
   "metadata": {},
   "source": [
    "* **p-value가 0.05보다 큰 변수 제거**"
   ]
  },
  {
   "cell_type": "code",
   "execution_count": 318,
   "metadata": {},
   "outputs": [
    {
     "name": "stdout",
     "output_type": "stream",
     "text": [
      "(4815, 8)\n",
      "(1204, 8)\n"
     ]
    }
   ],
   "source": [
    "X_train = X_train.drop([\"Kilometers_Driven\",\"Owner_Type\"],axis=1)\n",
    "X_test = X_test.drop([\"Kilometers_Driven\",\"Owner_Type\"],axis=1)\n",
    "print(X_train.shape)\n",
    "print(X_test.shape)"
   ]
  },
  {
   "cell_type": "code",
   "execution_count": 280,
   "metadata": {},
   "outputs": [
    {
     "name": "stdout",
     "output_type": "stream",
     "text": [
      "                            OLS Regression Results                            \n",
      "==============================================================================\n",
      "Dep. Variable:                  Price   R-squared:                       0.694\n",
      "Model:                            OLS   Adj. R-squared:                  0.693\n",
      "Method:                 Least Squares   F-statistic:                     1360.\n",
      "Date:                Tue, 03 Aug 2021   Prob (F-statistic):               0.00\n",
      "Time:                        14:44:18   Log-Likelihood:                -15636.\n",
      "No. Observations:                4815   AIC:                         3.129e+04\n",
      "Df Residuals:                    4806   BIC:                         3.135e+04\n",
      "Df Model:                           8                                         \n",
      "Covariance Type:            nonrobust                                         \n",
      "================================================================================\n",
      "                   coef    std err          t      P>|t|      [0.025      0.975]\n",
      "--------------------------------------------------------------------------------\n",
      "const           14.1618      0.324     43.767      0.000      13.527      14.796\n",
      "Year             3.3438      0.098     33.983      0.000       3.151       3.537\n",
      "Mileage         -0.5389      0.162     -3.323      0.001      -0.857      -0.221\n",
      "Engine           1.2162      0.257      4.728      0.000       0.712       1.720\n",
      "Power            6.3577      0.226     28.130      0.000       5.915       6.801\n",
      "Seats           -1.0992      0.123     -8.911      0.000      -1.341      -0.857\n",
      "Location        -0.2318      0.031     -7.599      0.000      -0.292      -0.172\n",
      "Fuel_Type       -0.6638      0.085     -7.770      0.000      -0.831      -0.496\n",
      "Transmission    -2.5544      0.272     -9.405      0.000      -3.087      -2.022\n",
      "==============================================================================\n",
      "Omnibus:                     3786.690   Durbin-Watson:                   1.978\n",
      "Prob(Omnibus):                  0.000   Jarque-Bera (JB):           363778.893\n",
      "Skew:                           3.100   Prob(JB):                         0.00\n",
      "Kurtosis:                      45.128   Cond. No.                         29.2\n",
      "==============================================================================\n",
      "\n",
      "Notes:\n",
      "[1] Standard Errors assume that the covariance matrix of the errors is correctly specified.\n"
     ]
    }
   ],
   "source": [
    "model=sm.OLS(y_train,X_train.drop([\"Kilometers_Driven\",\"Owner_Type\"],axis=1))\n",
    "model2=model.fit()\n",
    "print(model2.summary())"
   ]
  },
  {
   "cell_type": "markdown",
   "metadata": {},
   "source": [
    "R-squared: 0.694 <br>\n",
    "성능에 변화는 없음."
   ]
  },
  {
   "cell_type": "markdown",
   "metadata": {},
   "source": [
    "## **다중공선성 확인**"
   ]
  },
  {
   "cell_type": "code",
   "execution_count": 282,
   "metadata": {},
   "outputs": [
    {
     "data": {
      "text/html": [
       "<div>\n",
       "<style scoped>\n",
       "    .dataframe tbody tr th:only-of-type {\n",
       "        vertical-align: middle;\n",
       "    }\n",
       "\n",
       "    .dataframe tbody tr th {\n",
       "        vertical-align: top;\n",
       "    }\n",
       "\n",
       "    .dataframe thead th {\n",
       "        text-align: right;\n",
       "    }\n",
       "</style>\n",
       "<table border=\"1\" class=\"dataframe\">\n",
       "  <thead>\n",
       "    <tr style=\"text-align: right;\">\n",
       "      <th></th>\n",
       "      <th>Year</th>\n",
       "      <th>Kilometers_Driven</th>\n",
       "      <th>Mileage</th>\n",
       "      <th>Engine</th>\n",
       "      <th>Power</th>\n",
       "      <th>Seats</th>\n",
       "      <th>Location</th>\n",
       "      <th>Fuel_Type</th>\n",
       "      <th>Transmission</th>\n",
       "      <th>Owner_Type</th>\n",
       "    </tr>\n",
       "  </thead>\n",
       "  <tbody>\n",
       "    <tr>\n",
       "      <th>Year</th>\n",
       "      <td>1.000000</td>\n",
       "      <td>-0.173048</td>\n",
       "      <td>0.291291</td>\n",
       "      <td>-0.051712</td>\n",
       "      <td>0.013895</td>\n",
       "      <td>0.011795</td>\n",
       "      <td>-0.020117</td>\n",
       "      <td>-0.129526</td>\n",
       "      <td>-0.097059</td>\n",
       "      <td>-0.386160</td>\n",
       "    </tr>\n",
       "    <tr>\n",
       "      <th>Kilometers_Driven</th>\n",
       "      <td>-0.173048</td>\n",
       "      <td>1.000000</td>\n",
       "      <td>-0.064275</td>\n",
       "      <td>0.091029</td>\n",
       "      <td>0.033419</td>\n",
       "      <td>0.084163</td>\n",
       "      <td>-0.042751</td>\n",
       "      <td>-0.102953</td>\n",
       "      <td>0.025663</td>\n",
       "      <td>0.079924</td>\n",
       "    </tr>\n",
       "    <tr>\n",
       "      <th>Mileage</th>\n",
       "      <td>0.291291</td>\n",
       "      <td>-0.064275</td>\n",
       "      <td>1.000000</td>\n",
       "      <td>-0.639867</td>\n",
       "      <td>-0.548585</td>\n",
       "      <td>-0.345550</td>\n",
       "      <td>0.010125</td>\n",
       "      <td>-0.153273</td>\n",
       "      <td>0.358682</td>\n",
       "      <td>-0.146051</td>\n",
       "    </tr>\n",
       "    <tr>\n",
       "      <th>Engine</th>\n",
       "      <td>-0.051712</td>\n",
       "      <td>0.091029</td>\n",
       "      <td>-0.639867</td>\n",
       "      <td>1.000000</td>\n",
       "      <td>0.859020</td>\n",
       "      <td>0.397366</td>\n",
       "      <td>-0.078302</td>\n",
       "      <td>-0.401013</td>\n",
       "      <td>-0.499082</td>\n",
       "      <td>0.048520</td>\n",
       "    </tr>\n",
       "    <tr>\n",
       "      <th>Power</th>\n",
       "      <td>0.013895</td>\n",
       "      <td>0.033419</td>\n",
       "      <td>-0.548585</td>\n",
       "      <td>0.859020</td>\n",
       "      <td>1.000000</td>\n",
       "      <td>0.100559</td>\n",
       "      <td>-0.064933</td>\n",
       "      <td>-0.263771</td>\n",
       "      <td>-0.638835</td>\n",
       "      <td>0.028608</td>\n",
       "    </tr>\n",
       "    <tr>\n",
       "      <th>Seats</th>\n",
       "      <td>0.011795</td>\n",
       "      <td>0.084163</td>\n",
       "      <td>-0.345550</td>\n",
       "      <td>0.397366</td>\n",
       "      <td>0.100559</td>\n",
       "      <td>1.000000</td>\n",
       "      <td>-0.037596</td>\n",
       "      <td>-0.297830</td>\n",
       "      <td>0.073794</td>\n",
       "      <td>0.003205</td>\n",
       "    </tr>\n",
       "    <tr>\n",
       "      <th>Location</th>\n",
       "      <td>-0.020117</td>\n",
       "      <td>-0.042751</td>\n",
       "      <td>0.010125</td>\n",
       "      <td>-0.078302</td>\n",
       "      <td>-0.064933</td>\n",
       "      <td>-0.037596</td>\n",
       "      <td>1.000000</td>\n",
       "      <td>0.115048</td>\n",
       "      <td>0.040174</td>\n",
       "      <td>-0.033889</td>\n",
       "    </tr>\n",
       "    <tr>\n",
       "      <th>Fuel_Type</th>\n",
       "      <td>-0.129526</td>\n",
       "      <td>-0.102953</td>\n",
       "      <td>-0.153273</td>\n",
       "      <td>-0.401013</td>\n",
       "      <td>-0.263771</td>\n",
       "      <td>-0.297830</td>\n",
       "      <td>0.115048</td>\n",
       "      <td>1.000000</td>\n",
       "      <td>0.125219</td>\n",
       "      <td>0.043017</td>\n",
       "    </tr>\n",
       "    <tr>\n",
       "      <th>Transmission</th>\n",
       "      <td>-0.097059</td>\n",
       "      <td>0.025663</td>\n",
       "      <td>0.358682</td>\n",
       "      <td>-0.499082</td>\n",
       "      <td>-0.638835</td>\n",
       "      <td>0.073794</td>\n",
       "      <td>0.040174</td>\n",
       "      <td>0.125219</td>\n",
       "      <td>1.000000</td>\n",
       "      <td>0.003002</td>\n",
       "    </tr>\n",
       "    <tr>\n",
       "      <th>Owner_Type</th>\n",
       "      <td>-0.386160</td>\n",
       "      <td>0.079924</td>\n",
       "      <td>-0.146051</td>\n",
       "      <td>0.048520</td>\n",
       "      <td>0.028608</td>\n",
       "      <td>0.003205</td>\n",
       "      <td>-0.033889</td>\n",
       "      <td>0.043017</td>\n",
       "      <td>0.003002</td>\n",
       "      <td>1.000000</td>\n",
       "    </tr>\n",
       "  </tbody>\n",
       "</table>\n",
       "</div>"
      ],
      "text/plain": [
       "                       Year  Kilometers_Driven   Mileage    Engine     Power  \\\n",
       "Year               1.000000          -0.173048  0.291291 -0.051712  0.013895   \n",
       "Kilometers_Driven -0.173048           1.000000 -0.064275  0.091029  0.033419   \n",
       "Mileage            0.291291          -0.064275  1.000000 -0.639867 -0.548585   \n",
       "Engine            -0.051712           0.091029 -0.639867  1.000000  0.859020   \n",
       "Power              0.013895           0.033419 -0.548585  0.859020  1.000000   \n",
       "Seats              0.011795           0.084163 -0.345550  0.397366  0.100559   \n",
       "Location          -0.020117          -0.042751  0.010125 -0.078302 -0.064933   \n",
       "Fuel_Type         -0.129526          -0.102953 -0.153273 -0.401013 -0.263771   \n",
       "Transmission      -0.097059           0.025663  0.358682 -0.499082 -0.638835   \n",
       "Owner_Type        -0.386160           0.079924 -0.146051  0.048520  0.028608   \n",
       "\n",
       "                      Seats  Location  Fuel_Type  Transmission  Owner_Type  \n",
       "Year               0.011795 -0.020117  -0.129526     -0.097059   -0.386160  \n",
       "Kilometers_Driven  0.084163 -0.042751  -0.102953      0.025663    0.079924  \n",
       "Mileage           -0.345550  0.010125  -0.153273      0.358682   -0.146051  \n",
       "Engine             0.397366 -0.078302  -0.401013     -0.499082    0.048520  \n",
       "Power              0.100559 -0.064933  -0.263771     -0.638835    0.028608  \n",
       "Seats              1.000000 -0.037596  -0.297830      0.073794    0.003205  \n",
       "Location          -0.037596  1.000000   0.115048      0.040174   -0.033889  \n",
       "Fuel_Type         -0.297830  0.115048   1.000000      0.125219    0.043017  \n",
       "Transmission       0.073794  0.040174   0.125219      1.000000    0.003002  \n",
       "Owner_Type         0.003205 -0.033889   0.043017      0.003002    1.000000  "
      ]
     },
     "execution_count": 282,
     "metadata": {},
     "output_type": "execute_result"
    }
   ],
   "source": [
    "X_data.corr()"
   ]
  },
  {
   "cell_type": "code",
   "execution_count": 285,
   "metadata": {},
   "outputs": [
    {
     "data": {
      "image/png": "[encoded data removed]",
      "text/plain": [
       "<Figure size 432x288 with 2 Axes>"
      ]
     },
     "metadata": {
      "needs_background": "light"
     },
     "output_type": "display_data"
    }
   ],
   "source": [
    "sns.heatmap(X_data.corr(), annot = True, cmap='Blues')\n",
    "plt.show()"
   ]
  },
  {
   "cell_type": "markdown",
   "metadata": {},
   "source": [
    "power와 Engine의 상관계수가 0.86으로 높은 것을 확인하였다."
   ]
  },
  {
   "cell_type": "code",
   "execution_count": 287,
   "metadata": {},
   "outputs": [
    {
     "data": {
      "image/png": "[encoded data removed]",
      "text/plain": [
       "<Figure size 432x288 with 1 Axes>"
      ]
     },
     "metadata": {
      "needs_background": "light"
     },
     "output_type": "display_data"
    }
   ],
   "source": [
    "sns.scatterplot(x='Power', y='Engine', data=X_data)\n",
    "plt.show()"
   ]
  },
  {
   "cell_type": "markdown",
   "metadata": {},
   "source": [
    "양의 상관관계"
   ]
  },
  {
   "cell_type": "code",
   "execution_count": 291,
   "metadata": {},
   "outputs": [],
   "source": [
    "from statsmodels.stats.outliers_influence import variance_inflation_factor"
   ]
  },
  {
   "cell_type": "code",
   "execution_count": 297,
   "metadata": {},
   "outputs": [
    {
     "data": {
      "text/html": [
       "<div>\n",
       "<style scoped>\n",
       "    .dataframe tbody tr th:only-of-type {\n",
       "        vertical-align: middle;\n",
       "    }\n",
       "\n",
       "    .dataframe tbody tr th {\n",
       "        vertical-align: top;\n",
       "    }\n",
       "\n",
       "    .dataframe thead th {\n",
       "        text-align: right;\n",
       "    }\n",
       "</style>\n",
       "<table border=\"1\" class=\"dataframe\">\n",
       "  <thead>\n",
       "    <tr style=\"text-align: right;\">\n",
       "      <th></th>\n",
       "      <th>VIF Factor</th>\n",
       "      <th>features</th>\n",
       "    </tr>\n",
       "  </thead>\n",
       "  <tbody>\n",
       "    <tr>\n",
       "      <th>0</th>\n",
       "      <td>1.401674</td>\n",
       "      <td>Year</td>\n",
       "    </tr>\n",
       "    <tr>\n",
       "      <th>1</th>\n",
       "      <td>1.052537</td>\n",
       "      <td>Kilometers_Driven</td>\n",
       "    </tr>\n",
       "    <tr>\n",
       "      <th>2</th>\n",
       "      <td>2.946444</td>\n",
       "      <td>Mileage</td>\n",
       "    </tr>\n",
       "    <tr>\n",
       "      <th>3</th>\n",
       "      <td>7.626789</td>\n",
       "      <td>Engine</td>\n",
       "    </tr>\n",
       "    <tr>\n",
       "      <th>4</th>\n",
       "      <td>6.004248</td>\n",
       "      <td>Power</td>\n",
       "    </tr>\n",
       "    <tr>\n",
       "      <th>5</th>\n",
       "      <td>1.853309</td>\n",
       "      <td>Seats</td>\n",
       "    </tr>\n",
       "    <tr>\n",
       "      <th>6</th>\n",
       "      <td>3.583118</td>\n",
       "      <td>Location</td>\n",
       "    </tr>\n",
       "    <tr>\n",
       "      <th>7</th>\n",
       "      <td>5.038132</td>\n",
       "      <td>Fuel_Type</td>\n",
       "    </tr>\n",
       "    <tr>\n",
       "      <th>8</th>\n",
       "      <td>4.518634</td>\n",
       "      <td>Transmission</td>\n",
       "    </tr>\n",
       "    <tr>\n",
       "      <th>9</th>\n",
       "      <td>1.390108</td>\n",
       "      <td>Owner_Type</td>\n",
       "    </tr>\n",
       "  </tbody>\n",
       "</table>\n",
       "</div>"
      ],
      "text/plain": [
       "   VIF Factor           features\n",
       "0    1.401674               Year\n",
       "1    1.052537  Kilometers_Driven\n",
       "2    2.946444            Mileage\n",
       "3    7.626789             Engine\n",
       "4    6.004248              Power\n",
       "5    1.853309              Seats\n",
       "6    3.583118           Location\n",
       "7    5.038132          Fuel_Type\n",
       "8    4.518634       Transmission\n",
       "9    1.390108         Owner_Type"
      ]
     },
     "execution_count": 297,
     "metadata": {},
     "output_type": "execute_result"
    }
   ],
   "source": [
    "vif = pd.DataFrame()\n",
    "vif[\"VIF Factor\"] = [variance_inflation_factor(X_data.values, i) for i in range(X_data.shape[1])]\n",
    "vif[\"features\"] = X_data.columns \n",
    "vif"
   ]
  },
  {
   "cell_type": "markdown",
   "metadata": {},
   "source": [
    "하지만 모든 요소의 VIF가 10보다 작으므로 다중공선성이 존재한다고 하기 어려움."
   ]
  },
  {
   "cell_type": "markdown",
   "metadata": {},
   "source": [
    "## **회귀 분석**"
   ]
  },
  {
   "cell_type": "code",
   "execution_count": 323,
   "metadata": {},
   "outputs": [],
   "source": [
    "from sklearn.linear_model import LinearRegression\n",
    "\n",
    "LR_model = LinearRegression()\n",
    "LR_model.fit(X_train, y_train)\n",
    "\n",
    "LR_train_pred = LR_model.predict(X_train)\n",
    "LR_test_pred = LR_model.predict(X_test)"
   ]
  },
  {
   "cell_type": "code",
   "execution_count": 348,
   "metadata": {},
   "outputs": [
    {
     "data": {
      "image/png": "[encoded data removed]",
      "text/plain": [
       "<Figure size 576x576 with 1 Axes>"
      ]
     },
     "metadata": {
      "needs_background": "light"
     },
     "output_type": "display_data"
    }
   ],
   "source": [
    "plt.figure(figsize=(8,8))\n",
    "\n",
    "plt.plot(y_test, LR_test_pred, '.') # 예측 vs 실제 데이터 plot\n",
    "plt.xlim(-5,25)\n",
    "plt.ylim(-5,25)\n",
    "plt.plot([-5,55],[-5,55],ls=\"--\",c=\"red\")\n",
    "\n",
    "# plt.plot(x, y)\n",
    "plt.xlabel('Actual')\n",
    "plt.ylabel('prediction')\n",
    "plt.title('Linear Regression', fontsize=13)\n",
    "plt.show()"
   ]
  },
  {
   "cell_type": "markdown",
   "metadata": {},
   "source": [
    "### 성능 평가"
   ]
  },
  {
   "cell_type": "code",
   "execution_count": 355,
   "metadata": {},
   "outputs": [],
   "source": [
    "def mean_absolute_percentage_error(y_true,y_pred):\n",
    "    y_true,y_pred=np.array(y_true),np.array(y_pred)\n",
    "    return np.mean(np.abs((y_true-y_pred)/y_true))*100"
   ]
  },
  {
   "cell_type": "code",
   "execution_count": 356,
   "metadata": {},
   "outputs": [
    {
     "name": "stdout",
     "output_type": "stream",
     "text": [
      "* R-squared: 0.71\n",
      "* MSE: 35.35\n",
      "* RMSE: 5.95\n",
      "* MAE: 3.69\n",
      "* MAPE: 73.65\n"
     ]
    }
   ],
   "source": [
    "R_squared = LR_model.score(X_test, y_test)\n",
    "MSE = mean_squared_error(y_test, LR_test_pred)\n",
    "\n",
    "print('* R-squared:', round(R_squared,2))\n",
    "print('* MSE:', round(MSE,2))\n",
    "print('* RMSE:',round(np.sqrt(mean_squared_error(y_test,LR_test_pred)),2))\n",
    "print('* MAE:', round(mean_absolute_error(y_test,LR_test_pred),2))\n",
    "print('* MAPE:', round(mean_absolute_percentage_error(y_test,LR_test_pred),2))"
   ]
  }
 ],
 "metadata": {
  "colab": {
   "collapsed_sections": [],
   "name": "Regression_과제2",
   "provenance": []
  },
  "kernelspec": {
   "display_name": "Python 3",
   "language": "python",
   "name": "python3"
  },
  "language_info": {
   "codemirror_mode": {
    "name": "ipython",
    "version": 3
   },
   "file_extension": ".py",
   "mimetype": "text/x-python",
   "name": "python",
   "nbconvert_exporter": "python",
   "pygments_lexer": "ipython3",
   "version": "3.7.6"
  }
 },
 "nbformat": 4,
 "nbformat_minor": 4
}
